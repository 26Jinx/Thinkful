{
 "cells": [
  {
   "cell_type": "markdown",
   "metadata": {},
   "source": [
    "### Does a new supplement help people sleep better?\n",
    "Versions: Control group will be given placebo while the test group will be given the supplement.\n",
    "\n",
    "Sample: Group of individuals reported to have trouble sleeping. Experimental group is randomly selected to be given\n",
    "the supplement without being told whether it is the supplement or placebo.\n",
    "\n",
    "Hypothesis: The group that was given the supplement will achieve better sleep.\n",
    "\n",
    "Outcomes: We can measure a subjects movement throughout the night to see how well s/he sleeps.\n",
    "\n",
    "Other measured variables: We can track the age group, sex and daytime activity levels to ensure the groups are        similar. Secondary outcomes could be measuring how quickly a subject falls sleep, and how many times s/he wakes up in middle of the night.\n",
    "\n",
    "\n",
    "### Will new uniforms help a gym's business?\n",
    "Versions: Over the course of a month, we can use the new uniforms on 15 randomly selected days.\n",
    "\n",
    "Sample: Since it would be difficult to not which gym members see which uniform, everyone who comes to the gym on new uniform days will be the test group.\n",
    "\n",
    "Hypothesis: New uniforms will increase customer engagement.\n",
    "\n",
    "Outcomes: We can measure the sales numbers from its store front for gym labeled clothing, supplements and new memberships, keeping a close eye on the total number of customers who use the gym on a given day.\n",
    "\n",
    "Other: We can also keep track of the frequency at which customers visit the gym to see if there's an increase between the two rates. (Days with old uniform vs new)\n",
    "\n",
    "### Will a new homepage improve my online exotic pet rental business?\n",
    "Versions: Visitors to the website will randomly be redirected to the new homepage.\n",
    "\n",
    "Sample: Website visitors who are shown the old homepage will be the control group and the users who are redirected will be the experimental group.\n",
    "\n",
    "Hypothesis: New homepage will see more engagement. We can keep track of the number of pet rentals originating from the new homepage.\n",
    "\n",
    "Outcomes: Outcomes will be measured by the number of pet rentals originating from the new homepage. We will also keep track of the customer's gender, age, time of day/week/month to ensure that the two groups are similar.\n",
    "\n",
    "Other: Keeping track of number of clicks or length of stay or knowing whether the user is new or returning customer can be used to measure potential sales.\n",
    "\n",
    "\n",
    "### If I put 'please read' in the email subject will more people read my emails?\n",
    "Versions: Send half of emails with just a regular subject and the other half with 'please read' in the subject line.\n",
    "\n",
    "Sample: The mailing list will be divided randomly in half to be test group to be sent regular subject lines and the experimental group to be sent emails with 'please read' in subject line.\n",
    "\n",
    "Hypothesis: More of the 'please read' recipients will open the email.\n",
    "\n",
    "Outcomes: The outcome will be measured by requesting read receipts from the emails to see which emails are opened at a higher rate. Gender, age, and time of day will have to be recorded to keep the two groups similar in nature.\n",
    "\n",
    "Other: We can measure how quickly the emails are opened.\n",
    "\n"
   ]
  },
  {
   "cell_type": "code",
   "execution_count": null,
   "metadata": {},
   "outputs": [],
   "source": []
  }
 ],
 "metadata": {
  "kernelspec": {
   "display_name": "Python 3",
   "language": "python",
   "name": "python3"
  },
  "language_info": {
   "codemirror_mode": {
    "name": "ipython",
    "version": 3
   },
   "file_extension": ".py",
   "mimetype": "text/x-python",
   "name": "python",
   "nbconvert_exporter": "python",
   "pygments_lexer": "ipython3",
   "version": "3.7.1"
  }
 },
 "nbformat": 4,
 "nbformat_minor": 2
}
