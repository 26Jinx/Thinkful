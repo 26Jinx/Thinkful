{
 "cells": [
  {
   "cell_type": "markdown",
   "metadata": {},
   "source": [
    "#### 1. You work at an e-commerce company that sells three goods: widgets, doodads, and fizzbangs. The head of advertising asks you which they should feature in their new advertising campaign. You have data on individual visitor's sessions (activity on a website, pageviews, and purchases), as well as whether or not those users converted from an advertisement for that session. You also have the cost and price information for the goods.\n",
    "\n",
    "Very first thing to determine would be understanding the purpose of the advertisement feature. Depending whether it is to get rid of an overstock, or to drive sale of a new product, the analysis would be taken in different directions. Let's assume it is to introduce and drive a new product, widgets. The outcome we are hoping for is a purchase, so by looking at the rate at which visitor's make a purchase from an individual session (purchase or no purchase) and cross-reference that with the origination of the website visit itself, we would (at least) be able to tell whether advertising is effective. If it does prove to be effective, then we would drill down further and see what are the conditions under which site visitors make a purchase. Several factors can be observed and analysed such as time of month, time of day, previous purchases, and historical pricing. \n",
    "\n",
    "#### 2. You work at a web design company that offers to build websites for clients. Signups have slowed, and you are tasked with finding out why. The onboarding funnel has three steps: email, and password signup, plan choice, and payment. On a user level you have information on what steps they have completed as well as timestamps for all of those events for the past 3 years. You also have information on marketing spend on a weekly level.\n",
    "\n",
    "Since I am tasked with finding out what the reason is that signups have slowed down, I have to ask two questions: When did the decline start, and how it declined. By asking 'when?', I can try to determine whether the decline was due to an internal or an external factor/s. Is it an issue with the product/services that we offer or is it an issue with a decrease in demand? If it is internal, then we need to look at pricing history and customer reviews around the time of the decline. And how did the signups slow down? Was it a sharp drop or a gradual one? Using the user data from the past 3 years, I would try to figure out how this decline compares to others in the past. Combined with the answer to how it declined will be the method to measure the causal relationship to each of the factors/events. \n",
    "\n",
    "#### 3. You work at a hotel website and currently the website ranks search results by price. For simplicity's sake, let's say it's a website for one city with 100 hotels. You are tasked with proposing a better ranking system. you have session information, price information for the hotels, and whether each hotel is currently available.\n",
    "\n",
    "The question that needs to be answered is, \"What does it mean to be a 'better ranking system'?\" Since we are dealing with hotels, I would say that availability on any given day is what matters the most because as we all learned in Economics 101, if the supply outgrows demand, the lower the price. Of course there may be other reasons why hotel A is more popular (high in demand) than hotel B but since I don't have access to that information I won't consider that as a factor for this proposal. But, since I _do_ have sessions information, I can build a historical model of supply (availability) and demand (rate of website traffic). So any given day, the ranking system will forecast the availability of each hotel and rank them accordingly.\n",
    "\n",
    "\n",
    "#### 4. You work at a social network, and the management is worried about churn (users stopping using the product). You are tasked with finding out if their churn is atypical.  You have three years of data for users with an entry for every time they've logged in, including the timestamps and length of session.\n",
    "\n",
    "I think the only reason management would want to find out if the current churn is atypical is because they see it as an issue which presumably means that the churn rate has increased. First thing to do is take a random sample of the users and see how the churn rate for this group compares to the current churn rate. I can divide it into yearly or if I want to be more accurate, I can create a quarterly sample report. Then, once we determine that it is indeed atypical, we can use the information for each user to see if there is a trend or telltale signs of a typical user who is about to churn so that a churn-saving measure can be deployed at the right times.\n"
   ]
  },
  {
   "cell_type": "code",
   "execution_count": null,
   "metadata": {},
   "outputs": [],
   "source": []
  }
 ],
 "metadata": {
  "kernelspec": {
   "display_name": "Python 3",
   "language": "python",
   "name": "python3"
  },
  "language_info": {
   "codemirror_mode": {
    "name": "ipython",
    "version": 3
   },
   "file_extension": ".py",
   "mimetype": "text/x-python",
   "name": "python",
   "nbconvert_exporter": "python",
   "pygments_lexer": "ipython3",
   "version": "3.7.3"
  }
 },
 "nbformat": 4,
 "nbformat_minor": 2
}
