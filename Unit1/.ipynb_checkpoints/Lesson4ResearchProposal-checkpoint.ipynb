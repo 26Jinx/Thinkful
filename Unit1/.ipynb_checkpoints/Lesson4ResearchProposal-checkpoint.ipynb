{
 "cells": [
  {
   "cell_type": "markdown",
   "metadata": {},
   "source": [
    "### The problem\n",
    "Cheating is running rampant in Miss Jones' class and she has decided that changes need to be made not only to discourage cheating but also to be fair to those students who really try hard to learn and succeed. She has noticed that certain students who aren't known to do that well in assignments seem to get abnormally well in tests. She doesn't want to punish the cheating students, rather, make it difficult to cheat so that they won't choose to take the easy way out."
   ]
  },
  {
   "cell_type": "markdown",
   "metadata": {},
   "source": [
    "### The potential solution\n",
    "By writing three different versions of an exam, and letting the students know this will discourage students from trying to cheat."
   ]
  },
  {
   "cell_type": "markdown",
   "metadata": {},
   "source": [
    "### The method of testing the solution\n",
    "We will first divide the class into two groups: the good students and bad students. This will be done by taking into account the homework assignment scores and weekly pop quiz scores administered over the period of a month but letting the students know ahead of time that the quizzes will not affect their grade and also directing the students to try their best but feel free to leave the answer blank to the questions. The quizzes will be simple in nature, and have two questions: one that is easy to answer that most should be able to answer, and another that is very diffcult that only the top students might be able to answer. The resulting scores will be used to divide the students into top and bottom half.\n",
    "\n",
    "Once the groups are configured, we will take the baseline of those groups by calculating the mean scores of the two groups of students on two regular (one version) exams. Once that is established, we will then randomly administer the A/B/C test exams keeping a close record to make sure the the number of each test is equally distributed in both groups. Students will be notified that there is three versions of the exam. \n",
    "\n",
    "If there is a notable downtick in the score of group B but not in group A, then we will be able to conclude that the A/B/C test method is effective in curbing instances of cheating. Finally, another test can be given but using only one version of the test while telling the students that there still are three different versions. If the mean score levels remain flat from the first A/B/C test then we can confirm that the A/B/C test is indeed effective in discouraging students from cheating. And since we will have the scores for each test for each group, we can also determine whether a certain version of the test is more difficult than another."
   ]
  }
 ],
 "metadata": {
  "kernelspec": {
   "display_name": "Python 3",
   "language": "python",
   "name": "python3"
  },
  "language_info": {
   "codemirror_mode": {
    "name": "ipython",
    "version": 3
   },
   "file_extension": ".py",
   "mimetype": "text/x-python",
   "name": "python",
   "nbconvert_exporter": "python",
   "pygments_lexer": "ipython3",
   "version": "3.7.1"
  }
 },
 "nbformat": 4,
 "nbformat_minor": 2
}
