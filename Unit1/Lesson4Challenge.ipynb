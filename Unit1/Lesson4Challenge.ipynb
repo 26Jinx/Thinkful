{
 "cells": [
  {
   "cell_type": "markdown",
   "metadata": {},
   "source": [
    "1. The issue here is that there is a context bias. The study subjects, the CAPTURED droids, I would imagine isn't too thrilled about being captured. So they would respond more favorably to a suggestion to act on that anger over the statment that encourages trust with the captor. Plus, they're droids, so they could just be programmed to do one task without pledging allegiance to a group. A better study would be to randomize the test subjects to anyone who is currently unaffiliated. \n",
    "\n",
    "2. There is a major assignment to conditions bias at work here, possibly along with Simpson's paradox. Mace Windu was sent to 4 unfriendly planets and may have been able to convert on a higher rate, but he had two things going against him. His sample was already established as having unfavorable views on the Jedi, and it is possible that the planets were much greater in population. If I were the Jedi Council (Jedi Kimse Eeseo, according to reddit?) I would send them out again to similar size planets and with similar views on the Jedi to see who is truly better at the job.\n",
    "\n",
    "3. I would be careful to say that the figures may not necessarily be an indication of satisfaction as it pertains to the job only. There are several factors that would need to be studied. First, the type of people who work in IT vs Human Resources are inherently different in their interests and what it means for them to be \"satisfied.\" A more detailed survey by a random sample from each group will need to be performed. Secondly, while the IT employees are equally distributed in five different countries, HR employees are only in three. So there's bound to be some context bias. In order to combat that, since we can't truly get an equally random sample from each of the groups, we might narrow the scope of the research to only factor in how satisfied employees are with their current position in the company like asking, \"From a scale of 1-5, 5 being the highest, how important do you feel your contributions are to the good of the company?\"\n",
    "\n",
    "4. I would question this conclusion for observer bias. Since the app users are asked to 'opt in,' meaning the choice is up to the individual user, the sample to which they are basing their claim may not be truly a random one. We would need to find out additional details about the user such as gender and age to factor out any sort of bias in the sample.\n",
    "\n",
    "5. In this A/B/C test, there is a possibility that the sampling is not random. There could be some correlation between students who arrive on time, not too early or too late, and performing well in the class/test. Additionally, if the students didn't know that there are three versions of the test, there could have been some cheating that, for some reason caused more of tests A & C students to cheat off of test B which would lead to the result that she got.  Next time, she should shuffle the tests to make it truly random and maybe even compare those results with past exams to see if a version of the test is too easy/hard."
   ]
  },
  {
   "cell_type": "code",
   "execution_count": null,
   "metadata": {},
   "outputs": [],
   "source": []
  }
 ],
 "metadata": {
  "kernelspec": {
   "display_name": "Python 3",
   "language": "python",
   "name": "python3"
  },
  "language_info": {
   "codemirror_mode": {
    "name": "ipython",
    "version": 3
   },
   "file_extension": ".py",
   "mimetype": "text/x-python",
   "name": "python",
   "nbconvert_exporter": "python",
   "pygments_lexer": "ipython3",
   "version": "3.7.1"
  }
 },
 "nbformat": 4,
 "nbformat_minor": 2
}
