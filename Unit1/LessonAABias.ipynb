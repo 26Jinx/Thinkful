{
 "cells": [
  {
   "cell_type": "markdown",
   "metadata": {},
   "source": [
    "### You're testing advertising emails for a bathing suit company and you test one version of the email in February and the other in May.\n",
    "\n",
    "I would think if I am testing advertising emails, it would be to increase sales. But since I sent the different emails at different time of the year, one much closer to summer when presumably more people would be in the market for or pursuaded to purchase a bathing suit, it would be difficult to tell if the increase in sales were due to the advertisement or the season. There is definitely a context bias and possibly observer bias."
   ]
  },
  {
   "cell_type": "markdown",
   "metadata": {},
   "source": [
    "### You open a clinic to treat anxiety and find that the people who visit show a higher rate of anxiety than the general population.\n",
    "\n",
    "This would be like saying people who visited a restaurant had a higher rate of being hungry. If the clinic was packaged to appeal to people suffering from anxiety, it would probably be the most obvious reason for the difference in rate of anxiety. Those who visit the clinic would most definitely not be a random sample. Of course, if we were testing the effectiveness of clinic signage or exposure, this would be a study that shows a positive relationship between clinic visits and clinic advertisement."
   ]
  },
  {
   "cell_type": "markdown",
   "metadata": {},
   "source": [
    "### You launch a new ad billboard based campaign and see an increase in website visits in the first week.\n",
    "\n",
    "With a billboard campaign, it would be difficult to describe the sample (size, demographic) since we don't know who saw the billboard and of those who saw the billboard, who decided to visit the website. Depending on the type of the website, (commerce, informational, etc.) different environmental factors could be the reason for the bump in site visits. I would need to implement a reporting system on the website to see from where the visits are originating."
   ]
  },
  {
   "cell_type": "markdown",
   "metadata": {},
   "source": [
    "### You launch a loyalty program but see no change in visits in the first week.\n",
    "\n",
    "Provided that this was an A/B test, meaning that, of the existing customers, half were randomly selected to participate in the loyalty program, it would be too early to tell if the loyalty program is a success or failure. If this is total length of the study, it would suffer from settings bias. "
   ]
  }
 ],
 "metadata": {
  "kernelspec": {
   "display_name": "Python 3",
   "language": "python",
   "name": "python3"
  },
  "language_info": {
   "codemirror_mode": {
    "name": "ipython",
    "version": 3
   },
   "file_extension": ".py",
   "mimetype": "text/x-python",
   "name": "python",
   "nbconvert_exporter": "python",
   "pygments_lexer": "ipython3",
   "version": "3.7.1"
  }
 },
 "nbformat": 4,
 "nbformat_minor": 2
}
