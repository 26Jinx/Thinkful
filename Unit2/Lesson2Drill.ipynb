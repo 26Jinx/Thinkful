{
 "cells": [
  {
   "cell_type": "markdown",
   "metadata": {},
   "source": [
    "### Regression or Classification?\n",
    "\n",
    "1. The amount a person will spend on a given site in the next 24 months.  \n",
    "Regression: The outcome variable is continuous. It could be any value greater than 0.  \n",
    "\n",
    "\n",
    "2. What color car someone is going to buy.  \n",
    "Classification: Although a color palette is a continuous variable, the colors in which cars are painted are strictly  categorical.\n",
    "\n",
    "\n",
    "3. How many children a family will have.  \n",
    "Either: Just like the cars owned example, while it would be anomalous for a family to have more than, let's say, 10 children, it is not impossible. So, it all depends on what type of outcome is more useful for the study.\n",
    "\n",
    "\n",
    "4. If someone will sign up for a service.  \n",
    "Classification: There are two distinct possibilities: yes or no.\n",
    "\n",
    "\n",
    "5. The number of times someone will get sick in a year.  \n",
    "Either: It could be more useful to have categorical variables as a range of times a person could get sick in a year.\n",
    "\n",
    "\n",
    "6. The probability someone will get sick in the next month.  \n",
    "Classification: There are two possibilities of yes or no.\n",
    "\n",
    "\n",
    "7. Which medicine will work best for a given patient.  \n",
    "Classification: Outcome variable is one from a specified set of test medicines."
   ]
  },
  {
   "cell_type": "code",
   "execution_count": null,
   "metadata": {},
   "outputs": [],
   "source": []
  }
 ],
 "metadata": {
  "kernelspec": {
   "display_name": "Python 3",
   "language": "python",
   "name": "python3"
  },
  "language_info": {
   "codemirror_mode": {
    "name": "ipython",
    "version": 3
   },
   "file_extension": ".py",
   "mimetype": "text/x-python",
   "name": "python",
   "nbconvert_exporter": "python",
   "pygments_lexer": "ipython3",
   "version": "3.7.1"
  }
 },
 "nbformat": 4,
 "nbformat_minor": 2
}
