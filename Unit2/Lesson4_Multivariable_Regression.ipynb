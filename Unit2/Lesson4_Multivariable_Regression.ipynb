{
 "cells": [
  {
   "cell_type": "code",
   "execution_count": 1,
   "metadata": {},
   "outputs": [],
   "source": [
    "%matplotlib inline\n",
    "import numpy as np\n",
    "import pandas as pd\n",
    "import scipy\n",
    "import sklearn\n",
    "import matplotlib.pyplot as plt\n",
    "import seaborn as sns"
   ]
  },
  {
   "cell_type": "code",
   "execution_count": 13,
   "metadata": {},
   "outputs": [
    {
     "data": {
      "text/plain": [
       "Index(['City', 'Population', 'Violent\\ncrime',\n",
       "       'Murder and\\nnonnegligent\\nmanslaughter',\n",
       "       'Rape\\n(revised\\ndefinition)1', 'Rape\\n(legacy\\ndefinition)2',\n",
       "       'Robbery', 'Aggravated\\nassault', 'Property\\ncrime', 'Burglary',\n",
       "       'Larceny-\\ntheft', 'Motor\\nvehicle\\ntheft', 'Arson3'],\n",
       "      dtype='object')"
      ]
     },
     "execution_count": 13,
     "metadata": {},
     "output_type": "execute_result"
    }
   ],
   "source": [
    "# Read excel file in to dataframe\n",
    "crimes_raw = pd.read_excel('table_8_offenses_known_to_law_enforcement_new_york_by_city_2013.xls', header=4)\n",
    "crimes_raw.columns"
   ]
  },
  {
   "cell_type": "code",
   "execution_count": 38,
   "metadata": {},
   "outputs": [
    {
     "data": {
      "text/html": [
       "<div>\n",
       "<style scoped>\n",
       "    .dataframe tbody tr th:only-of-type {\n",
       "        vertical-align: middle;\n",
       "    }\n",
       "\n",
       "    .dataframe tbody tr th {\n",
       "        vertical-align: top;\n",
       "    }\n",
       "\n",
       "    .dataframe thead th {\n",
       "        text-align: right;\n",
       "    }\n",
       "</style>\n",
       "<table border=\"1\" class=\"dataframe\">\n",
       "  <thead>\n",
       "    <tr style=\"text-align: right;\">\n",
       "      <th></th>\n",
       "      <th>city</th>\n",
       "      <th>population</th>\n",
       "      <th>population^2</th>\n",
       "      <th>murder</th>\n",
       "      <th>robbery</th>\n",
       "    </tr>\n",
       "  </thead>\n",
       "  <tbody>\n",
       "    <tr>\n",
       "      <th>0</th>\n",
       "      <td>Adams Village</td>\n",
       "      <td>1861.0</td>\n",
       "      <td>3.463321e+06</td>\n",
       "      <td>0.0</td>\n",
       "      <td>0.0</td>\n",
       "    </tr>\n",
       "    <tr>\n",
       "      <th>1</th>\n",
       "      <td>Addison Town and Village</td>\n",
       "      <td>2577.0</td>\n",
       "      <td>6.640929e+06</td>\n",
       "      <td>0.0</td>\n",
       "      <td>0.0</td>\n",
       "    </tr>\n",
       "    <tr>\n",
       "      <th>2</th>\n",
       "      <td>Akron Village</td>\n",
       "      <td>2846.0</td>\n",
       "      <td>8.099716e+06</td>\n",
       "      <td>0.0</td>\n",
       "      <td>0.0</td>\n",
       "    </tr>\n",
       "    <tr>\n",
       "      <th>3</th>\n",
       "      <td>Albany</td>\n",
       "      <td>97956.0</td>\n",
       "      <td>9.595378e+09</td>\n",
       "      <td>8.0</td>\n",
       "      <td>227.0</td>\n",
       "    </tr>\n",
       "    <tr>\n",
       "      <th>4</th>\n",
       "      <td>Albion Village</td>\n",
       "      <td>6388.0</td>\n",
       "      <td>4.080654e+07</td>\n",
       "      <td>0.0</td>\n",
       "      <td>4.0</td>\n",
       "    </tr>\n",
       "  </tbody>\n",
       "</table>\n",
       "</div>"
      ],
      "text/plain": [
       "                       city  population  population^2  murder  robbery\n",
       "0             Adams Village      1861.0  3.463321e+06     0.0      0.0\n",
       "1  Addison Town and Village      2577.0  6.640929e+06     0.0      0.0\n",
       "2             Akron Village      2846.0  8.099716e+06     0.0      0.0\n",
       "3                    Albany     97956.0  9.595378e+09     8.0    227.0\n",
       "4            Albion Village      6388.0  4.080654e+07     0.0      4.0"
      ]
     },
     "execution_count": 38,
     "metadata": {},
     "output_type": "execute_result"
    }
   ],
   "source": [
    "# Clean the dataframe according to specifications: population, population^2, murder, robbery\n",
    "crimes = pd.DataFrame()\n",
    "\n",
    "crimes['city'] = crimes_raw['City']\n",
    "crimes['population'] = crimes_raw['Population']\n",
    "crimes['population^2'] = (crimes_raw['Population'])**2\n",
    "crimes['murder'] = crimes_raw['Murder and\\nnonnegligent\\nmanslaughter']\n",
    "crimes['robbery'] = crimes_raw['Robbery']\n",
    "    \n",
    "crimes.head()\n"
   ]
  },
  {
   "cell_type": "code",
   "execution_count": 42,
   "metadata": {},
   "outputs": [
    {
     "data": {
      "text/html": [
       "<div>\n",
       "<style scoped>\n",
       "    .dataframe tbody tr th:only-of-type {\n",
       "        vertical-align: middle;\n",
       "    }\n",
       "\n",
       "    .dataframe tbody tr th {\n",
       "        vertical-align: top;\n",
       "    }\n",
       "\n",
       "    .dataframe thead th {\n",
       "        text-align: right;\n",
       "    }\n",
       "</style>\n",
       "<table border=\"1\" class=\"dataframe\">\n",
       "  <thead>\n",
       "    <tr style=\"text-align: right;\">\n",
       "      <th></th>\n",
       "      <th>city</th>\n",
       "      <th>population</th>\n",
       "      <th>population^2</th>\n",
       "      <th>murder</th>\n",
       "      <th>robbery</th>\n",
       "    </tr>\n",
       "  </thead>\n",
       "  <tbody>\n",
       "    <tr>\n",
       "      <th>0</th>\n",
       "      <td>Adams Village</td>\n",
       "      <td>1861.0</td>\n",
       "      <td>3.463321e+06</td>\n",
       "      <td>False</td>\n",
       "      <td>False</td>\n",
       "    </tr>\n",
       "    <tr>\n",
       "      <th>1</th>\n",
       "      <td>Addison Town and Village</td>\n",
       "      <td>2577.0</td>\n",
       "      <td>6.640929e+06</td>\n",
       "      <td>False</td>\n",
       "      <td>False</td>\n",
       "    </tr>\n",
       "    <tr>\n",
       "      <th>2</th>\n",
       "      <td>Akron Village</td>\n",
       "      <td>2846.0</td>\n",
       "      <td>8.099716e+06</td>\n",
       "      <td>False</td>\n",
       "      <td>False</td>\n",
       "    </tr>\n",
       "    <tr>\n",
       "      <th>3</th>\n",
       "      <td>Albany</td>\n",
       "      <td>97956.0</td>\n",
       "      <td>9.595378e+09</td>\n",
       "      <td>True</td>\n",
       "      <td>True</td>\n",
       "    </tr>\n",
       "    <tr>\n",
       "      <th>4</th>\n",
       "      <td>Albion Village</td>\n",
       "      <td>6388.0</td>\n",
       "      <td>4.080654e+07</td>\n",
       "      <td>False</td>\n",
       "      <td>True</td>\n",
       "    </tr>\n",
       "  </tbody>\n",
       "</table>\n",
       "</div>"
      ],
      "text/plain": [
       "                       city  population  population^2  murder  robbery\n",
       "0             Adams Village      1861.0  3.463321e+06   False    False\n",
       "1  Addison Town and Village      2577.0  6.640929e+06   False    False\n",
       "2             Akron Village      2846.0  8.099716e+06   False    False\n",
       "3                    Albany     97956.0  9.595378e+09    True     True\n",
       "4            Albion Village      6388.0  4.080654e+07   False     True"
      ]
     },
     "execution_count": 42,
     "metadata": {},
     "output_type": "execute_result"
    }
   ],
   "source": [
    "# Now let's format the murder and robbery columns to a boolean\n",
    "crimes['murder'] = crimes.apply(lambda row: True if row['murder'] > 0 else False, axis=1)\n",
    "crimes['robbery'] = crimes.apply(lambda row: True if row['robbery'] > 0 else False, axis=1)\n",
    "\n",
    "crimes.head()"
   ]
  },
  {
   "cell_type": "code",
   "execution_count": 45,
   "metadata": {},
   "outputs": [
    {
     "data": {
      "image/png": "[encoded data removed]",
      "text/plain": [
       "<Figure size 1296x432 with 1 Axes>"
      ]
     },
     "metadata": {},
     "output_type": "display_data"
    }
   ],
   "source": [
    "f, axes = plt.subplots(figsize=(18, 6))\n",
    "sns.set(style='white')\n",
    "sns.despine()\n",
    "sns.boxplot(x=crimes['population'])\n",
    "\n",
    "plt.show()"
   ]
  },
  {
   "cell_type": "markdown",
   "metadata": {},
   "source": [
    "#### Looks like we have a pretty significant outlier in our data. Let's find out which datapoint/s is causing this."
   ]
  },
  {
   "cell_type": "code",
   "execution_count": 48,
   "metadata": {},
   "outputs": [
    {
     "data": {
      "text/plain": [
       "count    3.480000e+02\n",
       "mean     4.003763e+04\n",
       "std      4.500374e+05\n",
       "min      5.260000e+02\n",
       "25%      3.003000e+03\n",
       "50%      7.233500e+03\n",
       "75%      1.842750e+04\n",
       "max      8.396126e+06\n",
       "Name: population, dtype: float64"
      ]
     },
     "execution_count": 48,
     "metadata": {},
     "output_type": "execute_result"
    }
   ],
   "source": [
    "crimes['population'].describe()"
   ]
  },
  {
   "cell_type": "markdown",
   "metadata": {},
   "source": [
    "#### So the population ranges from 526 to 8.3 million. But the mean is around 4000 so let's dig deaper."
   ]
  },
  {
   "cell_type": "code",
   "execution_count": 52,
   "metadata": {},
   "outputs": [
    {
     "name": "stdout",
     "output_type": "stream",
     "text": [
      "216\n",
      "city               New York\n",
      "population      8.39613e+06\n",
      "population^2    7.04949e+13\n",
      "murder                 True\n",
      "robbery                True\n",
      "Name: 216, dtype: object\n"
     ]
    }
   ],
   "source": [
    "# First let's find the row that contains the max population value\n",
    "print(crimes['population'].idxmax())\n",
    "print(crimes.iloc[216])"
   ]
  },
  {
   "cell_type": "markdown",
   "metadata": {},
   "source": [
    "#### Let's see the top 5 populous cities while we are at it."
   ]
  },
  {
   "cell_type": "code",
   "execution_count": 67,
   "metadata": {},
   "outputs": [
    {
     "name": "stdout",
     "output_type": "stream",
     "text": [
      "                                                  city  population  \\\n",
      "216                                           New York   8396126.0   \n",
      "35                                             Buffalo    258789.0   \n",
      "272                                          Rochester    210562.0   \n",
      "346                                            Yonkers    199134.0   \n",
      "310                                           Syracuse    143834.0   \n",
      "7                                         Amherst Town    118296.0   \n",
      "3                                               Albany     97956.0   \n",
      "126                                        Greece Town     96667.0   \n",
      "267                                        Ramapo Town     87204.0   \n",
      "57                                     Clarkstown Town     80705.0   \n",
      "214                                       New Rochelle     78800.0   \n",
      "53                                    Cheektowaga Town     78361.0   \n",
      "62                                        Colonie Town     78215.0   \n",
      "206                                       Mount Vernon     68071.0   \n",
      "285                                        Schenectady     66041.0   \n",
      "321                                              Utica     61686.0   \n",
      "314                                     Tonawanda Town     58082.0   \n",
      "340                                       White Plains     57559.0   \n",
      "140                                  Hempstead Village     55198.0   \n",
      "152                                   Irondequoit Town     51506.0   \n",
      "301                                   Southampton Town     50603.0   \n",
      "315                                               Troy     49898.0   \n",
      "218                                      Niagara Falls     49574.0   \n",
      "22                                          Binghamton     46304.0   \n",
      "134                                       Hamburg Town     45535.0   \n",
      "338                                   West Seneca Town     44821.0   \n",
      "127                                    Greenburgh Town     44787.0   \n",
      "263                                  Poughkeepsie Town     43866.0   \n",
      "334                           Webster Town and Village     43777.0   \n",
      "108                                   Freeport Village     43214.0   \n",
      "..                                                 ...         ...   \n",
      "208                                    New Berlin Town      1622.0   \n",
      "258                             Port Dickinson Village      1602.0   \n",
      "128                                     Greene Village      1553.0   \n",
      "295                                Shortsville Village      1437.0   \n",
      "242                                     Oxford Village      1433.0   \n",
      "149                             Huntington Bay Village      1428.0   \n",
      "23                                         Black River      1410.0   \n",
      "238                                   Oriskany Village      1385.0   \n",
      "293                                  Sherburne Village      1351.0   \n",
      "157                                     Jordan Village      1350.0   \n",
      "256                                 Port Byron Village      1274.0   \n",
      "200                                    Moravia Village      1263.0   \n",
      "34                                  Brownville Village      1174.0   \n",
      "77                                      Dexter Village      1122.0   \n",
      "87                                East Hampton Village      1104.0   \n",
      "227                                 Northville Village      1097.0   \n",
      "25                                     Bolivar Village      1022.0   \n",
      "260                                  Portville Village       997.0   \n",
      "48                                 Cattaraugus Village       980.0   \n",
      "266                                     Quogue Village       977.0   \n",
      "287                                  Schoharie Village       872.0   \n",
      "344                                  Woodridge Village       829.0   \n",
      "44                                Cape Vincent Village       762.0   \n",
      "12                                   Asharoken Village       658.0   \n",
      "136                               Hammondsport Village       656.0   \n",
      "319                                Tuxedo Park Village       615.0   \n",
      "118                                  Glen Park Village       526.0   \n",
      "348  1 The figures shown in this column for the off...         NaN   \n",
      "349  2 The figures shown in this column for the off...         NaN   \n",
      "350  3 The FBI does not publish arson data unless i...         NaN   \n",
      "\n",
      "     population^2  murder  robbery  \n",
      "216  7.049493e+13    True     True  \n",
      "35   6.697175e+10    True     True  \n",
      "272  4.433636e+10    True     True  \n",
      "346  3.965435e+10    True     True  \n",
      "310  2.068822e+10    True     True  \n",
      "7    1.399394e+10    True     True  \n",
      "3    9.595378e+09    True     True  \n",
      "126  9.344509e+09   False     True  \n",
      "267  7.604538e+09    True     True  \n",
      "57   6.513297e+09   False     True  \n",
      "214  6.209440e+09   False     True  \n",
      "53   6.140446e+09   False     True  \n",
      "62   6.117586e+09   False     True  \n",
      "206  4.633661e+09    True     True  \n",
      "285  4.361414e+09    True     True  \n",
      "321  3.805163e+09    True     True  \n",
      "314  3.373519e+09    True     True  \n",
      "340  3.313038e+09    True     True  \n",
      "140  3.046819e+09    True     True  \n",
      "152  2.652868e+09    True     True  \n",
      "301  2.560664e+09   False     True  \n",
      "315  2.489810e+09    True     True  \n",
      "218  2.457581e+09    True     True  \n",
      "22   2.144060e+09    True     True  \n",
      "134  2.073436e+09    True     True  \n",
      "338  2.008922e+09    True     True  \n",
      "127  2.005875e+09    True     True  \n",
      "263  1.924226e+09    True     True  \n",
      "334  1.916426e+09   False     True  \n",
      "108  1.867450e+09   False     True  \n",
      "..            ...     ...      ...  \n",
      "208  2.630884e+06   False    False  \n",
      "258  2.566404e+06   False    False  \n",
      "128  2.411809e+06   False    False  \n",
      "295  2.064969e+06   False    False  \n",
      "242  2.053489e+06   False     True  \n",
      "149  2.039184e+06   False    False  \n",
      "23   1.988100e+06   False    False  \n",
      "238  1.918225e+06   False    False  \n",
      "293  1.825201e+06   False    False  \n",
      "157  1.822500e+06   False    False  \n",
      "256  1.623076e+06   False    False  \n",
      "200  1.595169e+06   False    False  \n",
      "34   1.378276e+06   False    False  \n",
      "77   1.258884e+06   False    False  \n",
      "87   1.218816e+06   False    False  \n",
      "227  1.203409e+06   False    False  \n",
      "25   1.044484e+06   False    False  \n",
      "260  9.940090e+05   False    False  \n",
      "48   9.604000e+05   False    False  \n",
      "266  9.545290e+05   False    False  \n",
      "287  7.603840e+05   False    False  \n",
      "344  6.872410e+05   False    False  \n",
      "44   5.806440e+05   False    False  \n",
      "12   4.329640e+05   False    False  \n",
      "136  4.303360e+05   False    False  \n",
      "319  3.782250e+05   False    False  \n",
      "118  2.766760e+05   False    False  \n",
      "348           NaN   False    False  \n",
      "349           NaN   False    False  \n",
      "350           NaN   False    False  \n",
      "\n",
      "[351 rows x 5 columns]\n"
     ]
    }
   ],
   "source": [
    "top_pop = crimes.sort_values(['population'], ascending=False).groupby('population')\n",
    "print(top_pop.head())"
   ]
  },
  {
   "cell_type": "markdown",
   "metadata": {},
   "source": [
    "#### Population drops off significantly from position 1 to 2. Let's remove the NYC data and see if the box plot becomes more readable."
   ]
  },
  {
   "cell_type": "code",
   "execution_count": 69,
   "metadata": {},
   "outputs": [
    {
     "data": {
      "text/html": [
       "<div>\n",
       "<style scoped>\n",
       "    .dataframe tbody tr th:only-of-type {\n",
       "        vertical-align: middle;\n",
       "    }\n",
       "\n",
       "    .dataframe tbody tr th {\n",
       "        vertical-align: top;\n",
       "    }\n",
       "\n",
       "    .dataframe thead th {\n",
       "        text-align: right;\n",
       "    }\n",
       "</style>\n",
       "<table border=\"1\" class=\"dataframe\">\n",
       "  <thead>\n",
       "    <tr style=\"text-align: right;\">\n",
       "      <th></th>\n",
       "      <th>population</th>\n",
       "      <th>population^2</th>\n",
       "    </tr>\n",
       "  </thead>\n",
       "  <tbody>\n",
       "    <tr>\n",
       "      <th>count</th>\n",
       "      <td>347.000000</td>\n",
       "      <td>3.470000e+02</td>\n",
       "    </tr>\n",
       "    <tr>\n",
       "      <th>mean</th>\n",
       "      <td>15956.685879</td>\n",
       "      <td>9.858407e+08</td>\n",
       "    </tr>\n",
       "    <tr>\n",
       "      <th>std</th>\n",
       "      <td>27080.218837</td>\n",
       "      <td>5.067232e+09</td>\n",
       "    </tr>\n",
       "    <tr>\n",
       "      <th>min</th>\n",
       "      <td>526.000000</td>\n",
       "      <td>2.766760e+05</td>\n",
       "    </tr>\n",
       "    <tr>\n",
       "      <th>25%</th>\n",
       "      <td>2997.000000</td>\n",
       "      <td>8.982153e+06</td>\n",
       "    </tr>\n",
       "    <tr>\n",
       "      <th>50%</th>\n",
       "      <td>7187.000000</td>\n",
       "      <td>5.165297e+07</td>\n",
       "    </tr>\n",
       "    <tr>\n",
       "      <th>75%</th>\n",
       "      <td>18160.500000</td>\n",
       "      <td>3.298042e+08</td>\n",
       "    </tr>\n",
       "    <tr>\n",
       "      <th>max</th>\n",
       "      <td>258789.000000</td>\n",
       "      <td>6.697175e+10</td>\n",
       "    </tr>\n",
       "  </tbody>\n",
       "</table>\n",
       "</div>"
      ],
      "text/plain": [
       "          population  population^2\n",
       "count     347.000000  3.470000e+02\n",
       "mean    15956.685879  9.858407e+08\n",
       "std     27080.218837  5.067232e+09\n",
       "min       526.000000  2.766760e+05\n",
       "25%      2997.000000  8.982153e+06\n",
       "50%      7187.000000  5.165297e+07\n",
       "75%     18160.500000  3.298042e+08\n",
       "max    258789.000000  6.697175e+10"
      ]
     },
     "execution_count": 69,
     "metadata": {},
     "output_type": "execute_result"
    }
   ],
   "source": [
    "crimes_no_nyc = crimes.drop([216])\n",
    "crimes_no_nyc.describe()"
   ]
  },
  {
   "cell_type": "code",
   "execution_count": 70,
   "metadata": {},
   "outputs": [
    {
     "data": {
      "image/png": "[encoded data removed]",
      "text/plain": [
       "<Figure size 1296x432 with 1 Axes>"
      ]
     },
     "metadata": {},
     "output_type": "display_data"
    }
   ],
   "source": [
    "f, axes = plt.subplots(figsize=(18, 6))\n",
    "sns.set(style='white')\n",
    "sns.despine()\n",
    "sns.boxplot(x=crimes_no_nyc['population'])\n",
    "\n",
    "plt.show()"
   ]
  },
  {
   "cell_type": "code",
   "execution_count": null,
   "metadata": {},
   "outputs": [],
   "source": []
  }
 ],
 "metadata": {
  "kernelspec": {
   "display_name": "Python 3",
   "language": "python",
   "name": "python3"
  },
  "language_info": {
   "codemirror_mode": {
    "name": "ipython",
    "version": 3
   },
   "file_extension": ".py",
   "mimetype": "text/x-python",
   "name": "python",
   "nbconvert_exporter": "python",
   "pygments_lexer": "ipython3",
   "version": "3.7.2"
  }
 },
 "nbformat": 4,
 "nbformat_minor": 2
}
