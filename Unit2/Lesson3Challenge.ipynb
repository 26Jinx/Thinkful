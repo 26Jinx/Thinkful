{
 "cells": [
  {
   "cell_type": "code",
   "execution_count": 49,
   "metadata": {},
   "outputs": [],
   "source": [
    "%matplotlib inline\n",
    "import numpy as np\n",
    "import pandas as pd\n",
    "import scipy\n",
    "import sklearn\n",
    "import matplotlib.pyplot as plt\n",
    "import seaborn as sns"
   ]
  },
  {
   "cell_type": "markdown",
   "metadata": {},
   "source": [
    "# Lesson 3 Challenge starts at \"HERE\""
   ]
  },
  {
   "cell_type": "markdown",
   "metadata": {},
   "source": [
    "### Let's build a Naïve-Bayes model using a sample of Yelp reviews."
   ]
  },
  {
   "cell_type": "code",
   "execution_count": 2,
   "metadata": {},
   "outputs": [
    {
     "data": {
      "text/html": [
       "<div>\n",
       "<style scoped>\n",
       "    .dataframe tbody tr th:only-of-type {\n",
       "        vertical-align: middle;\n",
       "    }\n",
       "\n",
       "    .dataframe tbody tr th {\n",
       "        vertical-align: top;\n",
       "    }\n",
       "\n",
       "    .dataframe thead th {\n",
       "        text-align: right;\n",
       "    }\n",
       "</style>\n",
       "<table border=\"1\" class=\"dataframe\">\n",
       "  <thead>\n",
       "    <tr style=\"text-align: right;\">\n",
       "      <th></th>\n",
       "      <th>review</th>\n",
       "      <th>favorable</th>\n",
       "    </tr>\n",
       "  </thead>\n",
       "  <tbody>\n",
       "    <tr>\n",
       "      <th>0</th>\n",
       "      <td>Wow... Loved this place.</td>\n",
       "      <td>1</td>\n",
       "    </tr>\n",
       "    <tr>\n",
       "      <th>1</th>\n",
       "      <td>Crust is not good.</td>\n",
       "      <td>0</td>\n",
       "    </tr>\n",
       "    <tr>\n",
       "      <th>2</th>\n",
       "      <td>Not tasty and the texture was just nasty.</td>\n",
       "      <td>0</td>\n",
       "    </tr>\n",
       "    <tr>\n",
       "      <th>3</th>\n",
       "      <td>Stopped by during the late May bank holiday of...</td>\n",
       "      <td>1</td>\n",
       "    </tr>\n",
       "    <tr>\n",
       "      <th>4</th>\n",
       "      <td>The selection on the menu was great and so wer...</td>\n",
       "      <td>1</td>\n",
       "    </tr>\n",
       "  </tbody>\n",
       "</table>\n",
       "</div>"
      ],
      "text/plain": [
       "                                              review  favorable\n",
       "0                           Wow... Loved this place.          1\n",
       "1                                 Crust is not good.          0\n",
       "2          Not tasty and the texture was just nasty.          0\n",
       "3  Stopped by during the late May bank holiday of...          1\n",
       "4  The selection on the menu was great and so wer...          1"
      ]
     },
     "execution_count": 2,
     "metadata": {},
     "output_type": "execute_result"
    }
   ],
   "source": [
    "# Read yelp reviews txt file\n",
    "reviews = pd.read_csv('yelp_labelled.txt', delimiter='\\t', header=None)\n",
    "reviews.columns = ['review', 'favorable']\n",
    "reviews.head()"
   ]
  },
  {
   "cell_type": "markdown",
   "metadata": {},
   "source": [
    "#### I am going to see if certain good words and bad words are reliable predictors of reviews. I am going to start by defining two different dictionaries to analyze the reviews in the dataset."
   ]
  },
  {
   "cell_type": "code",
   "execution_count": 117,
   "metadata": {},
   "outputs": [],
   "source": [
    "# Build features by looking for reviews that contain certain words\n",
    "good_words = []\n",
    "bad_words = []\n",
    "\n",
    "# Words indicative of each review category\n",
    "good_words = ['loved', 'was good', 'great', 'recommended', 'beautiful', 'friendly', 'delight', 'amazing', 'awesome', 'excellent', 'will return']\n",
    "bad_words = ['not good', 'nasty', 'angry', 'overpriced', 'disgusted', 'slow', 'sick', 'suck', 'bad', 'disappointing', 'gross', 'rude']\n",
    "\n",
    "# Function to select review to be favorable or unfavorable\n",
    "def feature_selector(df, feature_dict):\n",
    "    \n",
    "    for word in feature_dict:\n",
    "        df[str(word)] = (df.review.str.contains(' ' + str(word) + ' ', case=False))\n",
    "    \n",
    "    return\n",
    "\n",
    "# Run function with each dictionary\n",
    "feature_selector(reviews, good_words)\n",
    "feature_selector(reviews, bad_words)\n"
   ]
  },
  {
   "cell_type": "markdown",
   "metadata": {},
   "source": [
    "#### Let's modify the 'favorable' column into Boolean from numeric values (0 or 1)."
   ]
  },
  {
   "cell_type": "code",
   "execution_count": 4,
   "metadata": {},
   "outputs": [
    {
     "data": {
      "text/html": [
       "<div>\n",
       "<style scoped>\n",
       "    .dataframe tbody tr th:only-of-type {\n",
       "        vertical-align: middle;\n",
       "    }\n",
       "\n",
       "    .dataframe tbody tr th {\n",
       "        vertical-align: top;\n",
       "    }\n",
       "\n",
       "    .dataframe thead th {\n",
       "        text-align: right;\n",
       "    }\n",
       "</style>\n",
       "<table border=\"1\" class=\"dataframe\">\n",
       "  <thead>\n",
       "    <tr style=\"text-align: right;\">\n",
       "      <th></th>\n",
       "      <th>review</th>\n",
       "      <th>favorable</th>\n",
       "      <th>loved</th>\n",
       "      <th>was good</th>\n",
       "      <th>great</th>\n",
       "      <th>recommended</th>\n",
       "      <th>beautiful</th>\n",
       "      <th>friendly</th>\n",
       "      <th>delight</th>\n",
       "      <th>amazing</th>\n",
       "      <th>...</th>\n",
       "      <th>angry</th>\n",
       "      <th>overpriced</th>\n",
       "      <th>disgusted</th>\n",
       "      <th>slow</th>\n",
       "      <th>sick</th>\n",
       "      <th>suck</th>\n",
       "      <th>bad</th>\n",
       "      <th>disappointing</th>\n",
       "      <th>gross</th>\n",
       "      <th>rude</th>\n",
       "    </tr>\n",
       "  </thead>\n",
       "  <tbody>\n",
       "    <tr>\n",
       "      <th>0</th>\n",
       "      <td>Wow... Loved this place.</td>\n",
       "      <td>True</td>\n",
       "      <td>True</td>\n",
       "      <td>False</td>\n",
       "      <td>False</td>\n",
       "      <td>False</td>\n",
       "      <td>False</td>\n",
       "      <td>False</td>\n",
       "      <td>False</td>\n",
       "      <td>False</td>\n",
       "      <td>...</td>\n",
       "      <td>False</td>\n",
       "      <td>False</td>\n",
       "      <td>False</td>\n",
       "      <td>False</td>\n",
       "      <td>False</td>\n",
       "      <td>False</td>\n",
       "      <td>False</td>\n",
       "      <td>False</td>\n",
       "      <td>False</td>\n",
       "      <td>False</td>\n",
       "    </tr>\n",
       "    <tr>\n",
       "      <th>1</th>\n",
       "      <td>Crust is not good.</td>\n",
       "      <td>False</td>\n",
       "      <td>False</td>\n",
       "      <td>False</td>\n",
       "      <td>False</td>\n",
       "      <td>False</td>\n",
       "      <td>False</td>\n",
       "      <td>False</td>\n",
       "      <td>False</td>\n",
       "      <td>False</td>\n",
       "      <td>...</td>\n",
       "      <td>False</td>\n",
       "      <td>False</td>\n",
       "      <td>False</td>\n",
       "      <td>False</td>\n",
       "      <td>False</td>\n",
       "      <td>False</td>\n",
       "      <td>False</td>\n",
       "      <td>False</td>\n",
       "      <td>False</td>\n",
       "      <td>False</td>\n",
       "    </tr>\n",
       "    <tr>\n",
       "      <th>2</th>\n",
       "      <td>Not tasty and the texture was just nasty.</td>\n",
       "      <td>False</td>\n",
       "      <td>False</td>\n",
       "      <td>False</td>\n",
       "      <td>False</td>\n",
       "      <td>False</td>\n",
       "      <td>False</td>\n",
       "      <td>False</td>\n",
       "      <td>False</td>\n",
       "      <td>False</td>\n",
       "      <td>...</td>\n",
       "      <td>False</td>\n",
       "      <td>False</td>\n",
       "      <td>False</td>\n",
       "      <td>False</td>\n",
       "      <td>False</td>\n",
       "      <td>False</td>\n",
       "      <td>False</td>\n",
       "      <td>False</td>\n",
       "      <td>False</td>\n",
       "      <td>False</td>\n",
       "    </tr>\n",
       "    <tr>\n",
       "      <th>3</th>\n",
       "      <td>Stopped by during the late May bank holiday of...</td>\n",
       "      <td>True</td>\n",
       "      <td>True</td>\n",
       "      <td>False</td>\n",
       "      <td>False</td>\n",
       "      <td>False</td>\n",
       "      <td>False</td>\n",
       "      <td>False</td>\n",
       "      <td>False</td>\n",
       "      <td>False</td>\n",
       "      <td>...</td>\n",
       "      <td>False</td>\n",
       "      <td>False</td>\n",
       "      <td>False</td>\n",
       "      <td>False</td>\n",
       "      <td>False</td>\n",
       "      <td>False</td>\n",
       "      <td>False</td>\n",
       "      <td>False</td>\n",
       "      <td>False</td>\n",
       "      <td>False</td>\n",
       "    </tr>\n",
       "    <tr>\n",
       "      <th>4</th>\n",
       "      <td>The selection on the menu was great and so wer...</td>\n",
       "      <td>True</td>\n",
       "      <td>False</td>\n",
       "      <td>False</td>\n",
       "      <td>True</td>\n",
       "      <td>False</td>\n",
       "      <td>False</td>\n",
       "      <td>False</td>\n",
       "      <td>False</td>\n",
       "      <td>False</td>\n",
       "      <td>...</td>\n",
       "      <td>False</td>\n",
       "      <td>False</td>\n",
       "      <td>False</td>\n",
       "      <td>False</td>\n",
       "      <td>False</td>\n",
       "      <td>False</td>\n",
       "      <td>False</td>\n",
       "      <td>False</td>\n",
       "      <td>False</td>\n",
       "      <td>False</td>\n",
       "    </tr>\n",
       "  </tbody>\n",
       "</table>\n",
       "<p>5 rows × 25 columns</p>\n",
       "</div>"
      ],
      "text/plain": [
       "                                              review  favorable  loved  \\\n",
       "0                           Wow... Loved this place.       True   True   \n",
       "1                                 Crust is not good.      False  False   \n",
       "2          Not tasty and the texture was just nasty.      False  False   \n",
       "3  Stopped by during the late May bank holiday of...       True   True   \n",
       "4  The selection on the menu was great and so wer...       True  False   \n",
       "\n",
       "   was good  great  recommended  beautiful  friendly  delight  amazing  ...  \\\n",
       "0     False  False        False      False     False    False    False  ...   \n",
       "1     False  False        False      False     False    False    False  ...   \n",
       "2     False  False        False      False     False    False    False  ...   \n",
       "3     False  False        False      False     False    False    False  ...   \n",
       "4     False   True        False      False     False    False    False  ...   \n",
       "\n",
       "   angry  overpriced  disgusted   slow   sick   suck    bad  disappointing  \\\n",
       "0  False       False      False  False  False  False  False          False   \n",
       "1  False       False      False  False  False  False  False          False   \n",
       "2  False       False      False  False  False  False  False          False   \n",
       "3  False       False      False  False  False  False  False          False   \n",
       "4  False       False      False  False  False  False  False          False   \n",
       "\n",
       "   gross   rude  \n",
       "0  False  False  \n",
       "1  False  False  \n",
       "2  False  False  \n",
       "3  False  False  \n",
       "4  False  False  \n",
       "\n",
       "[5 rows x 25 columns]"
      ]
     },
     "execution_count": 4,
     "metadata": {},
     "output_type": "execute_result"
    }
   ],
   "source": [
    "# Change the 'favorable' column into Boolean\n",
    "reviews['favorable'] = (reviews['favorable'] == 1)\n",
    "reviews.head()"
   ]
  },
  {
   "cell_type": "code",
   "execution_count": 5,
   "metadata": {
    "scrolled": false
   },
   "outputs": [
    {
     "data": {
      "text/plain": [
       "<matplotlib.axes._subplots.AxesSubplot at 0x127ca5160>"
      ]
     },
     "execution_count": 5,
     "metadata": {},
     "output_type": "execute_result"
    },
    {
     "data": {
      "image/png": "[encoded data removed]",
      "text/plain": [
       "<Figure size 576x576 with 2 Axes>"
      ]
     },
     "metadata": {
      "needs_background": "light"
     },
     "output_type": "display_data"
    }
   ],
   "source": [
    "# Plot heatmap of correlation coefficients between features\n",
    "f, ax = plt.subplots(figsize=(8, 8))\n",
    "sns.heatmap(reviews.corr(), cmap=\"BuPu\", square=True)"
   ]
  },
  {
   "cell_type": "markdown",
   "metadata": {},
   "source": [
    "#### The heatmap shows each feature independence. 'Gross'-'sick', and 'excelllent'-'beautiful' pairs show higher than average correlation. "
   ]
  },
  {
   "cell_type": "code",
   "execution_count": 6,
   "metadata": {},
   "outputs": [],
   "source": [
    "# We need to specify the outcomes(target) and input(data)\n",
    "yelp_target = reviews['favorable']\n",
    "yelp_data_1 = reviews[good_words + bad_words]\n"
   ]
  },
  {
   "cell_type": "code",
   "execution_count": 21,
   "metadata": {},
   "outputs": [
    {
     "name": "stdout",
     "output_type": "stream",
     "text": [
      "Number of mislabeled points out of a total 1000 points : 417\n"
     ]
    }
   ],
   "source": [
    "# Our data is binary / boolean, so we're importing the Bernoulli classifier.\n",
    "from sklearn.naive_bayes import BernoulliNB\n",
    "\n",
    "# Instantiate our model and store it in a new variable.\n",
    "bnb = BernoulliNB()\n",
    "\n",
    "# Fit our model to the data.\n",
    "bnb.fit(yelp_data_1, yelp_target)\n",
    "\n",
    "# Classify, storing the result in a new variable.\n",
    "y_pred_yelp_1 = bnb.predict(yelp_data_1)\n",
    "\n",
    "# Display our results.\n",
    "print(\"Number of mislabeled points out of a total {} points : {}\".format(\n",
    "    yelp_data_1.shape[0],\n",
    "    (yelp_target != y_pred_yelp_1).sum()\n",
    "))"
   ]
  },
  {
   "cell_type": "markdown",
   "metadata": {},
   "source": [
    "#### This model was incorrect 417 times, meaning a model accuracy of 58.3%  Now I want to apply the same model to another survey to see how it translates, if at all. "
   ]
  },
  {
   "cell_type": "code",
   "execution_count": 8,
   "metadata": {},
   "outputs": [
    {
     "data": {
      "text/html": [
       "<div>\n",
       "<style scoped>\n",
       "    .dataframe tbody tr th:only-of-type {\n",
       "        vertical-align: middle;\n",
       "    }\n",
       "\n",
       "    .dataframe tbody tr th {\n",
       "        vertical-align: top;\n",
       "    }\n",
       "\n",
       "    .dataframe thead th {\n",
       "        text-align: right;\n",
       "    }\n",
       "</style>\n",
       "<table border=\"1\" class=\"dataframe\">\n",
       "  <thead>\n",
       "    <tr style=\"text-align: right;\">\n",
       "      <th></th>\n",
       "      <th>review</th>\n",
       "      <th>favorable</th>\n",
       "    </tr>\n",
       "  </thead>\n",
       "  <tbody>\n",
       "    <tr>\n",
       "      <th>0</th>\n",
       "      <td>A very, very, very slow-moving, aimless movie ...</td>\n",
       "      <td>False</td>\n",
       "    </tr>\n",
       "    <tr>\n",
       "      <th>1</th>\n",
       "      <td>Not sure who was more lost - the flat characte...</td>\n",
       "      <td>False</td>\n",
       "    </tr>\n",
       "    <tr>\n",
       "      <th>2</th>\n",
       "      <td>Attempting artiness with black &amp; white and cle...</td>\n",
       "      <td>False</td>\n",
       "    </tr>\n",
       "    <tr>\n",
       "      <th>3</th>\n",
       "      <td>Very little music or anything to speak of.</td>\n",
       "      <td>False</td>\n",
       "    </tr>\n",
       "    <tr>\n",
       "      <th>4</th>\n",
       "      <td>The best scene in the movie was when Gerardo i...</td>\n",
       "      <td>True</td>\n",
       "    </tr>\n",
       "  </tbody>\n",
       "</table>\n",
       "</div>"
      ],
      "text/plain": [
       "                                              review  favorable\n",
       "0  A very, very, very slow-moving, aimless movie ...      False\n",
       "1  Not sure who was more lost - the flat characte...      False\n",
       "2  Attempting artiness with black & white and cle...      False\n",
       "3       Very little music or anything to speak of.        False\n",
       "4  The best scene in the movie was when Gerardo i...       True"
      ]
     },
     "execution_count": 8,
     "metadata": {},
     "output_type": "execute_result"
    }
   ],
   "source": [
    "# Let's first read the imdb dataset\n",
    "imdb = pd.read_csv('imdb_labelled.txt', delimiter='\\t', header=None)\n",
    "\n",
    "# Name columns\n",
    "imdb.columns = ['review', 'favorable']\n",
    "\n",
    "# Change favorable column into Boolean\n",
    "imdb['favorable'] = (imdb['favorable'] == 1)\n",
    "\n",
    "imdb.head()"
   ]
  },
  {
   "cell_type": "code",
   "execution_count": 9,
   "metadata": {},
   "outputs": [],
   "source": [
    "# Run function with each dictionary\n",
    "feature_selector(imdb, good_words)\n",
    "feature_selector(imdb, bad_words)"
   ]
  },
  {
   "cell_type": "code",
   "execution_count": 10,
   "metadata": {},
   "outputs": [
    {
     "data": {
      "text/plain": [
       "<matplotlib.axes._subplots.AxesSubplot at 0x12a125748>"
      ]
     },
     "execution_count": 10,
     "metadata": {},
     "output_type": "execute_result"
    },
    {
     "data": {
      "image/png": "[encoded data removed]",
      "text/plain": [
       "<Figure size 576x576 with 2 Axes>"
      ]
     },
     "metadata": {
      "needs_background": "light"
     },
     "output_type": "display_data"
    }
   ],
   "source": [
    "# Plot heatmap of correlation coefficients between features\n",
    "f, ax = plt.subplots(figsize=(8, 8))\n",
    "sns.heatmap(imdb.corr(), cmap=\"BuPu\", square=True)"
   ]
  },
  {
   "cell_type": "markdown",
   "metadata": {},
   "source": [
    "#### This doesn't look too promising as there are several words that don't appear in the dataset."
   ]
  },
  {
   "cell_type": "code",
   "execution_count": 11,
   "metadata": {},
   "outputs": [
    {
     "name": "stdout",
     "output_type": "stream",
     "text": [
      "Number of mislabeled points out of a total 748 points : 332\n"
     ]
    }
   ],
   "source": [
    "# We need to specify the outcomes(target) and input(data)\n",
    "imdb_target = imdb['favorable']\n",
    "imdb_data_1 = imdb[good_words + bad_words]\n",
    "\n",
    "# Our data is binary / boolean, so we're importing the Bernoulli classifier.\n",
    "from sklearn.naive_bayes import BernoulliNB\n",
    "\n",
    "# Instantiate our model and store it in a new variable.\n",
    "bnb = BernoulliNB()\n",
    "\n",
    "# Fit our model to the data.\n",
    "bnb.fit(imdb_data_1, imdb_target)\n",
    "\n",
    "# Classify, storing the result in a new variable.\n",
    "y_pred_imdb_1 = bnb.predict(imdb_data_1)\n",
    "\n",
    "# Display our results.\n",
    "print(\"Number of mislabeled points out of a total {} points : {}\".format(\n",
    "    imdb_data_1.shape[0],\n",
    "    (imdb_target != y_pred_imdb_1).sum()\n",
    "))"
   ]
  },
  {
   "cell_type": "markdown",
   "metadata": {},
   "source": [
    "#### We got 332 out of 748 wrong, so the accuracy is only 55.6%"
   ]
  },
  {
   "cell_type": "markdown",
   "metadata": {},
   "source": [
    "#### Let's trying adding a few more words to see if we can improve this figure and check back to see if it help the Yelp dataset."
   ]
  },
  {
   "cell_type": "code",
   "execution_count": 118,
   "metadata": {},
   "outputs": [],
   "source": [
    "good_words.extend(['hilarious', 'enjoyed', 'terrific', 'fresh', '10/10', 'two thumbs up'])\n",
    "bad_words.extend(['aimless', 'lost', 'poor','wasted', 'low budget', 'predictable', 'lazy'])"
   ]
  },
  {
   "cell_type": "markdown",
   "metadata": {},
   "source": [
    "####  First IMDB:"
   ]
  },
  {
   "cell_type": "code",
   "execution_count": 13,
   "metadata": {},
   "outputs": [
    {
     "name": "stdout",
     "output_type": "stream",
     "text": [
      "Number of mislabeled points out of a total 748 points : 317\n"
     ]
    }
   ],
   "source": [
    "feature_selector(imdb, good_words)\n",
    "feature_selector(imdb, bad_words)\n",
    "\n",
    "# We need to specify the outcomes(target) and input(data)\n",
    "imdb_target = imdb['favorable']\n",
    "imdb_data_2 = imdb[good_words + bad_words]\n",
    "\n",
    "# Our data is binary / boolean, so we're importing the Bernoulli classifier.\n",
    "from sklearn.naive_bayes import BernoulliNB\n",
    "\n",
    "# Instantiate our model and store it in a new variable.\n",
    "bnb = BernoulliNB()\n",
    "\n",
    "# Fit our model to the data.\n",
    "bnb.fit(imdb_data_2, imdb_target)\n",
    "\n",
    "# Classify, storing the result in a new variable.\n",
    "y_pred_imdb_2 = bnb.predict(imdb_data_2)\n",
    "\n",
    "# Display our results.\n",
    "print(\"Number of mislabeled points out of a total {} points : {}\".format(\n",
    "    imdb_data_2.shape[0],\n",
    "    (imdb_target != y_pred_imdb_2).sum()\n",
    "))"
   ]
  },
  {
   "cell_type": "markdown",
   "metadata": {},
   "source": [
    "####  Added words were marginally better at 58.4%"
   ]
  },
  {
   "cell_type": "markdown",
   "metadata": {},
   "source": [
    "####  Let's try it on Yelp:"
   ]
  },
  {
   "cell_type": "code",
   "execution_count": 14,
   "metadata": {},
   "outputs": [
    {
     "name": "stdout",
     "output_type": "stream",
     "text": [
      "Number of mislabeled points out of a total 1000 points : 405\n"
     ]
    }
   ],
   "source": [
    "feature_selector(reviews, good_words)\n",
    "feature_selector(reviews, bad_words)\n",
    "\n",
    "# We need to specify the outcomes(target) and input(data)\n",
    "yelp_target = reviews['favorable']\n",
    "yelp_data_2 = reviews[good_words + bad_words]\n",
    "\n",
    "# Our data is binary / boolean, so we're importing the Bernoulli classifier.\n",
    "from sklearn.naive_bayes import BernoulliNB\n",
    "\n",
    "# Instantiate our model and store it in a new variable.\n",
    "bnb = BernoulliNB()\n",
    "\n",
    "# Fit our model to the data.\n",
    "bnb.fit(yelp_data_2, yelp_target)\n",
    "\n",
    "# Classify, storing the result in a new variable.\n",
    "y_pred_yelp_2 = bnb.predict(yelp_data_2)\n",
    "\n",
    "# Display our results.\n",
    "print(\"Number of mislabeled points out of a total {} points : {}\".format(\n",
    "    yelp_data_2.shape[0],\n",
    "    (yelp_target != y_pred_yelp_2).sum()\n",
    "))"
   ]
  },
  {
   "cell_type": "markdown",
   "metadata": {},
   "source": [
    "#### That actually made it slightly better, increasing the accuracy to 59.5% from 58.3% The deltas for the two datasets after adding to the dictionary using the IMDB reviews were a increase of 1.2% for Yelp and an increase of 3.2% for IMDB."
   ]
  },
  {
   "cell_type": "markdown",
   "metadata": {},
   "source": [
    "# HERE "
   ]
  },
  {
   "cell_type": "markdown",
   "metadata": {},
   "source": [
    "### Let's start by creating the confusion matrix."
   ]
  },
  {
   "cell_type": "code",
   "execution_count": 152,
   "metadata": {
    "scrolled": true
   },
   "outputs": [
    {
     "name": "stdout",
     "output_type": "stream",
     "text": [
      "[0.6  0.57 0.59 0.53 0.56 0.56 0.65 0.59 0.57 0.59]\n",
      "[[497   3]\n",
      " [414  86]]\n",
      "Sensitivity:  0.5455543358946213\n",
      "Specifity:  0.172\n"
     ]
    }
   ],
   "source": [
    "from sklearn.model_selection import cross_val_score\n",
    "from sklearn.metrics import confusion_matrix\n",
    "\n",
    "# For Yelp Model\n",
    "cvs_yelp_1 = cross_val_score(bnb, yelp_data_1, yelp_target, cv=10)\n",
    "print(cvs_yelp_1)\n",
    "cm_yelp_1 = confusion_matrix(yelp_target, y_pred_yelp_1)\n",
    "print(cm_yelp_1)\n",
    "\n",
    "# Find the sensitivity (TPos/sum(TPos and FPos)) and specificity(TNeg/sum(TNeg and FNeg))\n",
    "sens_yelp_1 = cm_yelp_1[0, 0]/sum(cm_yelp_1[0])\n",
    "print('Sensitivity: ', sens_yelp_1)\n",
    "\n",
    "spec_yelp_1 = cm_yelp_1[1,1]/sum(cm_yelp_1[1])\n",
    "print('Specifity: ', spec_yelp_1)"
   ]
  },
  {
   "cell_type": "markdown",
   "metadata": {},
   "source": [
    "#### The first set of features were very good at identifying positive reviews (99.4%), but it was woeful in detecting negative reviews (17.2%). There doesn't seem to be any overfitting since the cross validation scores are right around 58%. Now let's try to figure out which of the classifiers are most accurate and which can be discarded."
   ]
  },
  {
   "cell_type": "code",
   "execution_count": 16,
   "metadata": {},
   "outputs": [
    {
     "name": "stdout",
     "output_type": "stream",
     "text": [
      "[0.52631579 0.53947368 0.54666667 0.57333333 0.56       0.57333333\n",
      " 0.52702703 0.55405405 0.5        0.58108108]\n",
      "[[ 34 328]\n",
      " [  4 382]]\n",
      "Sensitivity:  0.09392265193370165\n",
      "Specifity:  0.9896373056994818\n"
     ]
    }
   ],
   "source": [
    "# Now the first IMDB Model\n",
    "cvs_imdb_1 = cross_val_score(bnb, imdb_data_1, imdb_target, cv=10)\n",
    "print(cvs_imdb_1)\n",
    "cm_imdb_1 = confusion_matrix(imdb_target, y_pred_imdb_1)\n",
    "print(cm_imdb_1)\n",
    "\n",
    "# Find the sensitivity (TPos/sum(TPos and FPos)) and specificity(TNeg/sum(TNeg and FNeg))\n",
    "sens_imdb_1 = cm_imdb_1[0, 0]/sum(cm_imdb_1[0])\n",
    "print('Sensitivity: ', sens_imdb_1)\n",
    "\n",
    "spec_imdb_1 = cm_imdb_1[1,1]/sum(cm_imdb_1[1])\n",
    "print('Specifity: ', spec_imdb_1)"
   ]
  },
  {
   "cell_type": "markdown",
   "metadata": {},
   "source": [
    "#### Classifier used on the IMDB dataset shows the opposite trend: it identified positive reviews at only 9.3% while identifying negative reviews at 99.0%"
   ]
  },
  {
   "cell_type": "code",
   "execution_count": 17,
   "metadata": {},
   "outputs": [
    {
     "name": "stdout",
     "output_type": "stream",
     "text": [
      "[0.61 0.57 0.6  0.56 0.58 0.58 0.66 0.59 0.56 0.62]\n",
      "[[496   4]\n",
      " [401  99]]\n",
      "Sensitivity:  0.992\n",
      "Specifity:  0.198\n"
     ]
    }
   ],
   "source": [
    "# Let's see the numbers for the extended classfier on both datasets.\n",
    "\n",
    "# For Yelp Model\n",
    "cvs_yelp_2 = cross_val_score(bnb, yelp_data_2, yelp_target, cv=10)\n",
    "print(cvs_yelp_2)\n",
    "cm_yelp_2 = confusion_matrix(yelp_target, y_pred_yelp_2)\n",
    "print(cm_yelp_2)\n",
    "\n",
    "# Find the sensitivity (TPos/sum(TPos and FPos)) and specificity(TNeg/sum(TNeg and FNeg))\n",
    "sens_yelp_2 = cm_yelp_2[0, 0]/sum(cm_yelp_2[0])\n",
    "print('Sensitivity: ', sens_yelp_2)\n",
    "\n",
    "spec_yelp_2 = cm_yelp_2[1,1]/sum(cm_yelp_2[1])\n",
    "print('Specifity: ', spec_yelp_2)\n"
   ]
  },
  {
   "cell_type": "code",
   "execution_count": 56,
   "metadata": {},
   "outputs": [
    {
     "name": "stdout",
     "output_type": "stream",
     "text": [
      "[0.55263158 0.53947368 0.54666667 0.57333333 0.62666667 0.56\n",
      " 0.54054054 0.59459459 0.5        0.58108108]\n",
      "[[ 49 313]\n",
      " [  4 382]]\n",
      "Sensitivity:  0.13535911602209943\n",
      "Specifity:  0.9896373056994818\n"
     ]
    }
   ],
   "source": [
    "cvs_imdb_2 = cross_val_score(bnb, imdb_data_2, imdb_target, cv=10)\n",
    "print(cvs_imdb_2)\n",
    "cm_imdb_2 = confusion_matrix(imdb_target, y_pred_imdb_2)\n",
    "print(cm_imdb_2)\n",
    "\n",
    "# Find the sensitivity (TPos/sum(TPos and FPos)) and specificity(TNeg/sum(TNeg and FNeg))\n",
    "sens_imdb_2 = cm_imdb_2[0, 0]/sum(cm_imdb_2[0])\n",
    "print('Sensitivity: ', sens_imdb_2)\n",
    "\n",
    "spec_imdb_2 = cm_imdb_2[1,1]/sum(cm_imdb_2[1])\n",
    "print('Specifity: ', spec_imdb_2)"
   ]
  },
  {
   "cell_type": "code",
   "execution_count": 19,
   "metadata": {},
   "outputs": [
    {
     "data": {
      "text/html": [
       "<div>\n",
       "<style scoped>\n",
       "    .dataframe tbody tr th:only-of-type {\n",
       "        vertical-align: middle;\n",
       "    }\n",
       "\n",
       "    .dataframe tbody tr th {\n",
       "        vertical-align: top;\n",
       "    }\n",
       "\n",
       "    .dataframe thead th {\n",
       "        text-align: right;\n",
       "    }\n",
       "</style>\n",
       "<table border=\"1\" class=\"dataframe\">\n",
       "  <thead>\n",
       "    <tr style=\"text-align: right;\">\n",
       "      <th></th>\n",
       "      <th>Test Set</th>\n",
       "      <th>Measure</th>\n",
       "      <th>Class 1</th>\n",
       "      <th>Class 2</th>\n",
       "    </tr>\n",
       "  </thead>\n",
       "  <tbody>\n",
       "    <tr>\n",
       "      <th>0</th>\n",
       "      <td>Yelp</td>\n",
       "      <td>Sensitivity</td>\n",
       "      <td>0.994000</td>\n",
       "      <td>0.992000</td>\n",
       "    </tr>\n",
       "    <tr>\n",
       "      <th>1</th>\n",
       "      <td></td>\n",
       "      <td>Specificify</td>\n",
       "      <td>0.172000</td>\n",
       "      <td>0.198000</td>\n",
       "    </tr>\n",
       "    <tr>\n",
       "      <th>2</th>\n",
       "      <td>IMDB</td>\n",
       "      <td>Sensitivity</td>\n",
       "      <td>0.093923</td>\n",
       "      <td>0.135359</td>\n",
       "    </tr>\n",
       "    <tr>\n",
       "      <th>3</th>\n",
       "      <td></td>\n",
       "      <td>Specificity</td>\n",
       "      <td>0.989637</td>\n",
       "      <td>0.989637</td>\n",
       "    </tr>\n",
       "  </tbody>\n",
       "</table>\n",
       "</div>"
      ],
      "text/plain": [
       "  Test Set      Measure   Class 1   Class 2\n",
       "0     Yelp  Sensitivity  0.994000  0.992000\n",
       "1           Specificify  0.172000  0.198000\n",
       "2     IMDB  Sensitivity  0.093923  0.135359\n",
       "3           Specificity  0.989637  0.989637"
      ]
     },
     "execution_count": 19,
     "metadata": {},
     "output_type": "execute_result"
    }
   ],
   "source": [
    "# Let's create a dataframe to see the figures side by side\n",
    "numbers = {'Test Set': ['Yelp', '', 'IMDB', ''], \n",
    "           'Measure': ['Sensitivity', 'Specificify', 'Sensitivity', 'Specificity'],\n",
    "           'Class 1': [sens_yelp_1, spec_yelp_1, sens_imdb_1, spec_imdb_1],\n",
    "           'Class 2': [sens_yelp_2, spec_yelp_2, sens_imdb_2, spec_imdb_2]\n",
    "          }\n",
    "\n",
    "df = pd.DataFrame(numbers)\n",
    "df"
   ]
  },
  {
   "cell_type": "markdown",
   "metadata": {},
   "source": [
    "#### Let's modify the classifiers to see if we can improve on these metrics. Since the Yelp reviews classifier has trouble predicting negative reviews, let's modify the 'bad_words' dictionary to see if we can improve the accuracy."
   ]
  },
  {
   "cell_type": "code",
   "execution_count": 119,
   "metadata": {},
   "outputs": [
    {
     "name": "stdout",
     "output_type": "stream",
     "text": [
      "['not good', 'nasty', 'angry', 'overpriced', 'disgusted', 'slow', 'sick', 'suck', 'bad', 'disappointing', 'gross', 'rude', 'aimless', 'lost', 'poor', 'wasted', 'low budget', 'predictable', 'lazy']\n"
     ]
    }
   ],
   "source": [
    "# Let's see again what our features are.\n",
    "print(bad_words)"
   ]
  },
  {
   "cell_type": "code",
   "execution_count": 120,
   "metadata": {},
   "outputs": [
    {
     "name": "stdout",
     "output_type": "stream",
     "text": [
      "not good: 1\n",
      "nasty: 1\n",
      "angry: 1\n",
      "overpriced: 2\n",
      "disgusted: 1\n",
      "slow: 6\n",
      "sick: 3\n",
      "suck: 0\n",
      "bad: 9\n",
      "disappointing: 2\n",
      "gross: 0\n",
      "rude: 4\n",
      "aimless: 0\n",
      "lost: 2\n",
      "poor: 5\n",
      "wasted: 1\n",
      "low budget: 0\n",
      "predictable: 0\n",
      "lazy: 0\n"
     ]
    }
   ],
   "source": [
    "# Let's first get rid of words that aren't useful\n",
    "for word in bad_words:\n",
    "    print(word + ': ' + str(len(reviews[reviews[word] == True])))"
   ]
  },
  {
   "cell_type": "code",
   "execution_count": 121,
   "metadata": {},
   "outputs": [
    {
     "name": "stdout",
     "output_type": "stream",
     "text": [
      "nasty: 1\n",
      "overpriced: 2\n",
      "slow: 6\n",
      "sick: 3\n",
      "bad: 9\n",
      "disappointing: 2\n",
      "rude: 4\n",
      "lost: 2\n",
      "poor: 5\n",
      "low budget: 0\n",
      "lazy: 0\n"
     ]
    }
   ],
   "source": [
    "# Let's get rid of useless features (0s and 1s)\n",
    "for word in bad_words:\n",
    "    if len(reviews[reviews[word] == True]) < 2:\n",
    "        bad_words.remove(word)        \n",
    "        \n",
    "for word in bad_words:\n",
    "    print(word + ': ' + str(len(reviews[reviews[word] == True])))"
   ]
  },
  {
   "cell_type": "code",
   "execution_count": 122,
   "metadata": {},
   "outputs": [
    {
     "name": "stdout",
     "output_type": "stream",
     "text": [
      "[0.61 0.57 0.6  0.56 0.58 0.58 0.66 0.59 0.56 0.62]\n",
      "[[496   4]\n",
      " [401  99]]\n"
     ]
    }
   ],
   "source": [
    "# Let's test the new 'bad_words' features set\n",
    "\n",
    "# First implement new dictionary\n",
    "feature_selector(reviews, bad_words)\n",
    "\n",
    "# Create new test data\n",
    "yelp_data_3 = reviews[good_words + bad_words]\n",
    "\n",
    "# Fit our model to the data.\n",
    "bnb.fit(yelp_data_3, yelp_target)\n",
    "\n",
    "# Classify, storing the result in a new variable.\n",
    "y_pred_yelp_3 = bnb.predict(yelp_data_3)\n",
    "\n",
    "cvs_yelp_3 = cross_val_score(bnb, yelp_data_3, yelp_target, cv=10)\n",
    "print(cvs_yelp_3)\n",
    "cm_yelp_3 = confusion_matrix(yelp_target, y_pred_yelp_3)\n",
    "print(cm_yelp_3)"
   ]
  },
  {
   "cell_type": "code",
   "execution_count": 124,
   "metadata": {},
   "outputs": [
    {
     "name": "stdout",
     "output_type": "stream",
     "text": [
      "['nasty', 'overpriced', 'slow', 'sick', 'bad', 'disappointing', 'rude', 'lost', 'poor', 'low budget', 'lazy', \"won't\", 'not', 'waited', 'disappointed', 'never']\n"
     ]
    }
   ],
   "source": [
    "# Now to add new features\n",
    "bad_words.extend(['won\\'t', 'not', 'waited', 'disappointed', 'never'])\n",
    "print(bad_words)"
   ]
  },
  {
   "cell_type": "code",
   "execution_count": 125,
   "metadata": {},
   "outputs": [
    {
     "name": "stdout",
     "output_type": "stream",
     "text": [
      "[0.65 0.63 0.69 0.57 0.62 0.65 0.67 0.63 0.62 0.6 ]\n",
      "[[158 342]\n",
      " [ 22 478]]\n"
     ]
    }
   ],
   "source": [
    "# Rinse and Repeat\n",
    "# First implement new dictionary\n",
    "feature_selector(reviews, bad_words)\n",
    "\n",
    "# Create new test data\n",
    "yelp_data_4 = reviews[good_words + bad_words]\n",
    "\n",
    "# Fit our model to the data.\n",
    "bnb.fit(yelp_data_4, yelp_target)\n",
    "\n",
    "# Classify, storing the result in a new variable.\n",
    "y_pred_yelp_4 = bnb.predict(yelp_data_4)\n",
    "\n",
    "cvs_yelp_4 = cross_val_score(bnb, yelp_data_4, yelp_target, cv=10)\n",
    "print(cvs_yelp_4)\n",
    "cm_yelp_4 = confusion_matrix(yelp_target, y_pred_yelp_4)\n",
    "print(cm_yelp_4)"
   ]
  },
  {
   "cell_type": "code",
   "execution_count": 127,
   "metadata": {},
   "outputs": [
    {
     "name": "stdout",
     "output_type": "stream",
     "text": [
      "Sensitivity:  0.316\n",
      "Specifity:  0.956\n"
     ]
    }
   ],
   "source": [
    "# Find the sensitivity (TPos/sum(TPos and FPos)) and specificity(TNeg/sum(TNeg and FNeg))\n",
    "sens_yelp_4 = cm_yelp_4[0, 0]/sum(cm_yelp_4[0])\n",
    "print('Sensitivity: ', sens_yelp_4)\n",
    "\n",
    "spec_yelp_4 = cm_yelp_4[1,1]/sum(cm_yelp_4[1])\n",
    "print('Specifity: ', spec_yelp_4)"
   ]
  },
  {
   "cell_type": "markdown",
   "metadata": {},
   "source": [
    "#### So it looks like that worked a lot better for detecting unfavorable reviews at the cost of detecting positive reviews. Let's see if we can do something about that."
   ]
  },
  {
   "cell_type": "code",
   "execution_count": 128,
   "metadata": {},
   "outputs": [
    {
     "name": "stdout",
     "output_type": "stream",
     "text": [
      "['loved', 'was good', 'great', 'recommended', 'beautiful', 'friendly', 'delight', 'amazing', 'awesome', 'excellent', 'will return', 'hilarious', 'enjoyed', 'terrific', 'fresh', '10/10', 'two thumbs up']\n"
     ]
    }
   ],
   "source": [
    "print(good_words)"
   ]
  },
  {
   "cell_type": "code",
   "execution_count": 155,
   "metadata": {},
   "outputs": [
    {
     "name": "stdout",
     "output_type": "stream",
     "text": [
      "great: 38\n",
      "beautiful: 2\n",
      "friendly: 18\n",
      "amazing: 7\n",
      "awesome: 7\n",
      "excellent: 8\n",
      "hilarious: 0\n",
      "enjoyed: 5\n",
      "fresh: 9\n",
      "two thumbs up: 0\n",
      "best: 15\n",
      "delicious: 4\n",
      "favorite: 1\n",
      "perfect: 7\n",
      "happy: 8\n",
      "love: 16\n",
      "good: 56\n"
     ]
    }
   ],
   "source": [
    "for word in good_words:\n",
    "    print(word + ': ' + str(len(reviews[reviews[word] == True])))\n",
    "    \n"
   ]
  },
  {
   "cell_type": "code",
   "execution_count": 130,
   "metadata": {},
   "outputs": [
    {
     "name": "stdout",
     "output_type": "stream",
     "text": [
      "['loved', 'was good', 'great', 'beautiful', 'friendly', 'amazing', 'awesome', 'excellent', 'hilarious', 'enjoyed', 'fresh', 'two thumbs up']\n"
     ]
    }
   ],
   "source": [
    "for word in good_words:\n",
    "    if len(reviews[reviews[word] == True]) < 2:\n",
    "        good_words.remove(word)\n",
    "        \n",
    "print(good_words)"
   ]
  },
  {
   "cell_type": "code",
   "execution_count": 147,
   "metadata": {},
   "outputs": [],
   "source": [
    "# Now to add some new words\n",
    "#good_words.extend(['best', 'delicious', 'favorite', 'perfect', 'happy'])\n",
    "\n",
    "# And let's also change 'loved' to 'love' and 'was good' to 'good'\n",
    "#good_words.remove('loved')\n",
    "#good_words.remove('was good')\n",
    "good_words.extend(['love', 'good'])\n"
   ]
  },
  {
   "cell_type": "code",
   "execution_count": 148,
   "metadata": {},
   "outputs": [
    {
     "name": "stdout",
     "output_type": "stream",
     "text": [
      "['great', 'beautiful', 'friendly', 'amazing', 'awesome', 'excellent', 'hilarious', 'enjoyed', 'fresh', 'two thumbs up', 'best', 'delicious', 'favorite', 'perfect', 'happy', 'love', 'good']\n"
     ]
    }
   ],
   "source": [
    "print(good_words)"
   ]
  },
  {
   "cell_type": "code",
   "execution_count": 149,
   "metadata": {},
   "outputs": [
    {
     "name": "stdout",
     "output_type": "stream",
     "text": [
      "[0.61 0.61 0.64 0.64 0.66 0.62 0.73 0.63 0.6  0.69]\n",
      "[[486  14]\n",
      " [340 160]]\n"
     ]
    }
   ],
   "source": [
    "# First implement new dictionary\n",
    "feature_selector(reviews, good_words)\n",
    "\n",
    "# Create new test data\n",
    "yelp_data_5 = reviews[good_words + bad_words]\n",
    "\n",
    "# Fit our model to the data.\n",
    "bnb.fit(yelp_data_5, yelp_target)\n",
    "\n",
    "# Classify, storing the result in a new variable.\n",
    "y_pred_yelp_5 = bnb.predict(yelp_data_5)\n",
    "\n",
    "cvs_yelp_5 = cross_val_score(bnb, yelp_data_5, yelp_target, cv=10)\n",
    "print(cvs_yelp_5)\n",
    "cm_yelp_5 = confusion_matrix(yelp_target, y_pred_yelp_5)\n",
    "print(cm_yelp_5)"
   ]
  },
  {
   "cell_type": "code",
   "execution_count": 150,
   "metadata": {},
   "outputs": [
    {
     "name": "stdout",
     "output_type": "stream",
     "text": [
      "Sensitivity:  0.972\n",
      "Specifity:  0.32\n"
     ]
    }
   ],
   "source": [
    "# Find the sensitivity (TPos/sum(TPos and FPos)) and specificity(TNeg/sum(TNeg and FNeg))\n",
    "sens_yelp_5 = cm_yelp_5[0, 0]/sum(cm_yelp_5[0])\n",
    "print('Sensitivity: ', sens_yelp_5)\n",
    "\n",
    "spec_yelp_5 = cm_yelp_5[1,1]/sum(cm_yelp_5[1])\n",
    "print('Specifity: ', spec_yelp_5)"
   ]
  },
  {
   "cell_type": "markdown",
   "metadata": {},
   "source": [
    "#### Aaaand it swings back to the other side. But we are reducing the number of misclassified reviews from 414 on the first iteration, to 364, then to 354."
   ]
  },
  {
   "cell_type": "code",
   "execution_count": null,
   "metadata": {},
   "outputs": [],
   "source": []
  },
  {
   "cell_type": "code",
   "execution_count": null,
   "metadata": {},
   "outputs": [],
   "source": []
  }
 ],
 "metadata": {
  "kernelspec": {
   "display_name": "Python 3",
   "language": "python",
   "name": "python3"
  },
  "language_info": {
   "codemirror_mode": {
    "name": "ipython",
    "version": 3
   },
   "file_extension": ".py",
   "mimetype": "text/x-python",
   "name": "python",
   "nbconvert_exporter": "python",
   "pygments_lexer": "ipython3",
   "version": "3.7.2"
  }
 },
 "nbformat": 4,
 "nbformat_minor": 2
}
