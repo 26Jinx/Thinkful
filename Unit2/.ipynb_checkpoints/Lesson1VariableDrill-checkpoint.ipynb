{
 "cells": [
  {
   "cell_type": "markdown",
   "metadata": {},
   "source": [
    "## ESS variable type by column\n",
    "\n",
    "cntry - categorical  \n",
    "year - ratio  \n",
    "idno - ordinal  \n",
    "tvtot - ratio  \n",
    "ppltrst - ratio  \n",
    "pplfair - ratio  \n",
    "pplhlp - ratio  \n",
    "happy - ratio  \n",
    "sclmeet - ratio  \n",
    "sclact - ratio  \n",
    "gndr - categorical  \n",
    "agea - ratio  \n",
    "partner - categorical"
   ]
  },
  {
   "cell_type": "code",
   "execution_count": null,
   "metadata": {},
   "outputs": [],
   "source": []
  }
 ],
 "metadata": {
  "kernelspec": {
   "display_name": "Python 3",
   "language": "python",
   "name": "python3"
  },
  "language_info": {
   "codemirror_mode": {
    "name": "ipython",
    "version": 3
   },
   "file_extension": ".py",
   "mimetype": "text/x-python",
   "name": "python",
   "nbconvert_exporter": "python",
   "pygments_lexer": "ipython3",
   "version": "3.7.1"
  }
 },
 "nbformat": 4,
 "nbformat_minor": 2
}
