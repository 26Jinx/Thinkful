{
 "cells": [
  {
   "cell_type": "code",
   "execution_count": 1,
   "metadata": {},
   "outputs": [],
   "source": [
    "%matplotlib inline\n",
    "import numpy as np\n",
    "import pandas as pd\n",
    "import scipy\n",
    "import sklearn\n",
    "import matplotlib.pyplot as plt\n",
    "import seaborn as sns\n",
    "from sklearn import linear_model\n",
    "import math"
   ]
  },
  {
   "cell_type": "code",
   "execution_count": 2,
   "metadata": {},
   "outputs": [
    {
     "data": {
      "text/plain": [
       "Index(['City', 'Population', 'Violent\\ncrime',\n",
       "       'Murder and\\nnonnegligent\\nmanslaughter',\n",
       "       'Rape\\n(revised\\ndefinition)1', 'Rape\\n(legacy\\ndefinition)2',\n",
       "       'Robbery', 'Aggravated\\nassault', 'Property\\ncrime', 'Burglary',\n",
       "       'Larceny-\\ntheft', 'Motor\\nvehicle\\ntheft', 'Arson3'],\n",
       "      dtype='object')"
      ]
     },
     "execution_count": 2,
     "metadata": {},
     "output_type": "execute_result"
    }
   ],
   "source": [
    "# Read excel file in to dataframe\n",
    "crimes_raw = pd.read_excel('table_8_offenses_known_to_law_enforcement_new_york_by_city_2013.xls', header=4)\n",
    "crimes_raw.columns"
   ]
  },
  {
   "cell_type": "code",
   "execution_count": 3,
   "metadata": {},
   "outputs": [
    {
     "data": {
      "text/html": [
       "<div>\n",
       "<style scoped>\n",
       "    .dataframe tbody tr th:only-of-type {\n",
       "        vertical-align: middle;\n",
       "    }\n",
       "\n",
       "    .dataframe tbody tr th {\n",
       "        vertical-align: top;\n",
       "    }\n",
       "\n",
       "    .dataframe thead th {\n",
       "        text-align: right;\n",
       "    }\n",
       "</style>\n",
       "<table border=\"1\" class=\"dataframe\">\n",
       "  <thead>\n",
       "    <tr style=\"text-align: right;\">\n",
       "      <th></th>\n",
       "      <th>city</th>\n",
       "      <th>population</th>\n",
       "      <th>population^2</th>\n",
       "      <th>murder</th>\n",
       "      <th>robbery</th>\n",
       "    </tr>\n",
       "  </thead>\n",
       "  <tbody>\n",
       "    <tr>\n",
       "      <th>0</th>\n",
       "      <td>Adams Village</td>\n",
       "      <td>1861.0</td>\n",
       "      <td>3.463321e+06</td>\n",
       "      <td>0.0</td>\n",
       "      <td>0.0</td>\n",
       "    </tr>\n",
       "    <tr>\n",
       "      <th>1</th>\n",
       "      <td>Addison Town and Village</td>\n",
       "      <td>2577.0</td>\n",
       "      <td>6.640929e+06</td>\n",
       "      <td>0.0</td>\n",
       "      <td>0.0</td>\n",
       "    </tr>\n",
       "    <tr>\n",
       "      <th>2</th>\n",
       "      <td>Akron Village</td>\n",
       "      <td>2846.0</td>\n",
       "      <td>8.099716e+06</td>\n",
       "      <td>0.0</td>\n",
       "      <td>0.0</td>\n",
       "    </tr>\n",
       "    <tr>\n",
       "      <th>3</th>\n",
       "      <td>Albany</td>\n",
       "      <td>97956.0</td>\n",
       "      <td>9.595378e+09</td>\n",
       "      <td>8.0</td>\n",
       "      <td>227.0</td>\n",
       "    </tr>\n",
       "    <tr>\n",
       "      <th>4</th>\n",
       "      <td>Albion Village</td>\n",
       "      <td>6388.0</td>\n",
       "      <td>4.080654e+07</td>\n",
       "      <td>0.0</td>\n",
       "      <td>4.0</td>\n",
       "    </tr>\n",
       "  </tbody>\n",
       "</table>\n",
       "</div>"
      ],
      "text/plain": [
       "                       city  population  population^2  murder  robbery\n",
       "0             Adams Village      1861.0  3.463321e+06     0.0      0.0\n",
       "1  Addison Town and Village      2577.0  6.640929e+06     0.0      0.0\n",
       "2             Akron Village      2846.0  8.099716e+06     0.0      0.0\n",
       "3                    Albany     97956.0  9.595378e+09     8.0    227.0\n",
       "4            Albion Village      6388.0  4.080654e+07     0.0      4.0"
      ]
     },
     "execution_count": 3,
     "metadata": {},
     "output_type": "execute_result"
    }
   ],
   "source": [
    "# Clean the dataframe according to specifications: population, population^2, murder, robbery\n",
    "crimes = pd.DataFrame()\n",
    "\n",
    "crimes['city'] = crimes_raw['City']\n",
    "crimes['population'] = crimes_raw['Population']\n",
    "crimes['population^2'] = (crimes_raw['Population'])**2\n",
    "crimes['murder'] = crimes_raw['Murder and\\nnonnegligent\\nmanslaughter']\n",
    "crimes['robbery'] = crimes_raw['Robbery']\n",
    "    \n",
    "crimes.head()\n"
   ]
  },
  {
   "cell_type": "code",
   "execution_count": 4,
   "metadata": {},
   "outputs": [
    {
     "data": {
      "text/html": [
       "<div>\n",
       "<style scoped>\n",
       "    .dataframe tbody tr th:only-of-type {\n",
       "        vertical-align: middle;\n",
       "    }\n",
       "\n",
       "    .dataframe tbody tr th {\n",
       "        vertical-align: top;\n",
       "    }\n",
       "\n",
       "    .dataframe thead th {\n",
       "        text-align: right;\n",
       "    }\n",
       "</style>\n",
       "<table border=\"1\" class=\"dataframe\">\n",
       "  <thead>\n",
       "    <tr style=\"text-align: right;\">\n",
       "      <th></th>\n",
       "      <th>city</th>\n",
       "      <th>population</th>\n",
       "      <th>population^2</th>\n",
       "      <th>murder</th>\n",
       "      <th>robbery</th>\n",
       "    </tr>\n",
       "  </thead>\n",
       "  <tbody>\n",
       "    <tr>\n",
       "      <th>0</th>\n",
       "      <td>Adams Village</td>\n",
       "      <td>1861.0</td>\n",
       "      <td>3.463321e+06</td>\n",
       "      <td>False</td>\n",
       "      <td>False</td>\n",
       "    </tr>\n",
       "    <tr>\n",
       "      <th>1</th>\n",
       "      <td>Addison Town and Village</td>\n",
       "      <td>2577.0</td>\n",
       "      <td>6.640929e+06</td>\n",
       "      <td>False</td>\n",
       "      <td>False</td>\n",
       "    </tr>\n",
       "    <tr>\n",
       "      <th>2</th>\n",
       "      <td>Akron Village</td>\n",
       "      <td>2846.0</td>\n",
       "      <td>8.099716e+06</td>\n",
       "      <td>False</td>\n",
       "      <td>False</td>\n",
       "    </tr>\n",
       "    <tr>\n",
       "      <th>3</th>\n",
       "      <td>Albany</td>\n",
       "      <td>97956.0</td>\n",
       "      <td>9.595378e+09</td>\n",
       "      <td>True</td>\n",
       "      <td>True</td>\n",
       "    </tr>\n",
       "    <tr>\n",
       "      <th>4</th>\n",
       "      <td>Albion Village</td>\n",
       "      <td>6388.0</td>\n",
       "      <td>4.080654e+07</td>\n",
       "      <td>False</td>\n",
       "      <td>True</td>\n",
       "    </tr>\n",
       "  </tbody>\n",
       "</table>\n",
       "</div>"
      ],
      "text/plain": [
       "                       city  population  population^2  murder  robbery\n",
       "0             Adams Village      1861.0  3.463321e+06   False    False\n",
       "1  Addison Town and Village      2577.0  6.640929e+06   False    False\n",
       "2             Akron Village      2846.0  8.099716e+06   False    False\n",
       "3                    Albany     97956.0  9.595378e+09    True     True\n",
       "4            Albion Village      6388.0  4.080654e+07   False     True"
      ]
     },
     "execution_count": 4,
     "metadata": {},
     "output_type": "execute_result"
    }
   ],
   "source": [
    "# Now let's format the murder and robbery columns to a boolean\n",
    "crimes['murder'] = crimes.apply(lambda row: True if row['murder'] > 0 else False, axis=1)\n",
    "crimes['robbery'] = crimes.apply(lambda row: True if row['robbery'] > 0 else False, axis=1)\n",
    "\n",
    "crimes.head()"
   ]
  },
  {
   "cell_type": "code",
   "execution_count": 5,
   "metadata": {},
   "outputs": [
    {
     "data": {
      "text/plain": [
       "<matplotlib.axes._subplots.AxesSubplot at 0x124d32048>"
      ]
     },
     "execution_count": 5,
     "metadata": {},
     "output_type": "execute_result"
    },
    {
     "data": {
      "image/png": "[encoded data removed]",
      "text/plain": [
       "<Figure size 576x576 with 1 Axes>"
      ]
     },
     "metadata": {
      "needs_background": "light"
     },
     "output_type": "display_data"
    }
   ],
   "source": [
    "f, ax = plt.subplots(figsize=(8, 8))\n",
    "crimes.boxplot(column='population')\n"
   ]
  },
  {
   "cell_type": "markdown",
   "metadata": {},
   "source": [
    "#### Looks like we have a pretty significant outlier in our data. Let's find out which datapoint/s is causing this."
   ]
  },
  {
   "cell_type": "code",
   "execution_count": 6,
   "metadata": {},
   "outputs": [
    {
     "data": {
      "text/plain": [
       "count    3.480000e+02\n",
       "mean     4.003763e+04\n",
       "std      4.500374e+05\n",
       "min      5.260000e+02\n",
       "25%      3.003000e+03\n",
       "50%      7.233500e+03\n",
       "75%      1.842750e+04\n",
       "max      8.396126e+06\n",
       "Name: population, dtype: float64"
      ]
     },
     "execution_count": 6,
     "metadata": {},
     "output_type": "execute_result"
    }
   ],
   "source": [
    "crimes['population'].describe()"
   ]
  },
  {
   "cell_type": "markdown",
   "metadata": {},
   "source": [
    "#### So the population ranges from 526 to 8.3 million. But the mean is around 4000 so let's dig deaper."
   ]
  },
  {
   "cell_type": "code",
   "execution_count": 7,
   "metadata": {},
   "outputs": [
    {
     "name": "stdout",
     "output_type": "stream",
     "text": [
      "city               New York\n",
      "population      8.39613e+06\n",
      "population^2    7.04949e+13\n",
      "murder                 True\n",
      "robbery                True\n",
      "Name: 216, dtype: object\n"
     ]
    }
   ],
   "source": [
    "# First let's find the row that contains the max population value\n",
    "print(crimes.iloc[crimes['population'].idxmax()])"
   ]
  },
  {
   "cell_type": "markdown",
   "metadata": {},
   "source": [
    "#### Population drops off significantly from position 1 to 2. Let's remove the NYC data and see if the box plot becomes more readable."
   ]
  },
  {
   "cell_type": "code",
   "execution_count": 8,
   "metadata": {},
   "outputs": [
    {
     "data": {
      "text/html": [
       "<div>\n",
       "<style scoped>\n",
       "    .dataframe tbody tr th:only-of-type {\n",
       "        vertical-align: middle;\n",
       "    }\n",
       "\n",
       "    .dataframe tbody tr th {\n",
       "        vertical-align: top;\n",
       "    }\n",
       "\n",
       "    .dataframe thead th {\n",
       "        text-align: right;\n",
       "    }\n",
       "</style>\n",
       "<table border=\"1\" class=\"dataframe\">\n",
       "  <thead>\n",
       "    <tr style=\"text-align: right;\">\n",
       "      <th></th>\n",
       "      <th>population</th>\n",
       "      <th>population^2</th>\n",
       "    </tr>\n",
       "  </thead>\n",
       "  <tbody>\n",
       "    <tr>\n",
       "      <th>count</th>\n",
       "      <td>347.000000</td>\n",
       "      <td>3.470000e+02</td>\n",
       "    </tr>\n",
       "    <tr>\n",
       "      <th>mean</th>\n",
       "      <td>15956.685879</td>\n",
       "      <td>9.858407e+08</td>\n",
       "    </tr>\n",
       "    <tr>\n",
       "      <th>std</th>\n",
       "      <td>27080.218837</td>\n",
       "      <td>5.067232e+09</td>\n",
       "    </tr>\n",
       "    <tr>\n",
       "      <th>min</th>\n",
       "      <td>526.000000</td>\n",
       "      <td>2.766760e+05</td>\n",
       "    </tr>\n",
       "    <tr>\n",
       "      <th>25%</th>\n",
       "      <td>2997.000000</td>\n",
       "      <td>8.982153e+06</td>\n",
       "    </tr>\n",
       "    <tr>\n",
       "      <th>50%</th>\n",
       "      <td>7187.000000</td>\n",
       "      <td>5.165297e+07</td>\n",
       "    </tr>\n",
       "    <tr>\n",
       "      <th>75%</th>\n",
       "      <td>18160.500000</td>\n",
       "      <td>3.298042e+08</td>\n",
       "    </tr>\n",
       "    <tr>\n",
       "      <th>max</th>\n",
       "      <td>258789.000000</td>\n",
       "      <td>6.697175e+10</td>\n",
       "    </tr>\n",
       "  </tbody>\n",
       "</table>\n",
       "</div>"
      ],
      "text/plain": [
       "          population  population^2\n",
       "count     347.000000  3.470000e+02\n",
       "mean    15956.685879  9.858407e+08\n",
       "std     27080.218837  5.067232e+09\n",
       "min       526.000000  2.766760e+05\n",
       "25%      2997.000000  8.982153e+06\n",
       "50%      7187.000000  5.165297e+07\n",
       "75%     18160.500000  3.298042e+08\n",
       "max    258789.000000  6.697175e+10"
      ]
     },
     "execution_count": 8,
     "metadata": {},
     "output_type": "execute_result"
    }
   ],
   "source": [
    "crimes_no_nyc = crimes.drop([216])\n",
    "crimes_no_nyc.describe()"
   ]
  },
  {
   "cell_type": "code",
   "execution_count": 9,
   "metadata": {},
   "outputs": [
    {
     "data": {
      "text/plain": [
       "<matplotlib.axes._subplots.AxesSubplot at 0x124ce9978>"
      ]
     },
     "execution_count": 9,
     "metadata": {},
     "output_type": "execute_result"
    },
    {
     "data": {
      "image/png": "[encoded data removed]",
      "text/plain": [
       "<Figure size 576x576 with 1 Axes>"
      ]
     },
     "metadata": {
      "needs_background": "light"
     },
     "output_type": "display_data"
    }
   ],
   "source": [
    "f, ax = plt.subplots(figsize=(8, 8))\n",
    "crimes_no_nyc.boxplot(column='population')\n",
    "# QUESTION: What is the difference between above method and plt.boxplot(df[crimes_no_nyc].population)"
   ]
  },
  {
   "cell_type": "markdown",
   "metadata": {},
   "source": [
    "#### Yay! More outliers. Let's see what happens when we group these outliers with the NYC data."
   ]
  },
  {
   "cell_type": "code",
   "execution_count": 10,
   "metadata": {},
   "outputs": [
    {
     "name": "stdout",
     "output_type": "stream",
     "text": [
      "40905.75\n"
     ]
    }
   ],
   "source": [
    "# First calculate figure for upper whisker\n",
    "# since whiskers are 1.5*IQR\n",
    "q1 = crimes_no_nyc['population'].quantile(.25)\n",
    "q3 = crimes_no_nyc['population'].quantile(.75)\n",
    "\n",
    "upper_whisker = q3+(1.5*(q3-q1))\n",
    "print(upper_whisker)"
   ]
  },
  {
   "cell_type": "code",
   "execution_count": 11,
   "metadata": {},
   "outputs": [
    {
     "name": "stdout",
     "output_type": "stream",
     "text": [
      "                city  population  population^2  murder  robbery\n",
      "3             Albany     97956.0  9.595378e+09    True     True\n",
      "7       Amherst Town    118296.0  1.399394e+10    True     True\n",
      "22        Binghamton     46304.0  2.144060e+09    True     True\n",
      "35           Buffalo    258789.0  6.697175e+10    True     True\n",
      "53  Cheektowaga Town     78361.0  6.140446e+09   False     True\n",
      "(30, 5)\n"
     ]
    }
   ],
   "source": [
    "# Now move cities with population greater than upper whisker to a separate dataframe\n",
    "crimes_big_cities = crimes[crimes['population'] > 40906]\n",
    "print(crimes_big_cities.head())\n",
    "print(crimes_big_cities.shape)"
   ]
  },
  {
   "cell_type": "code",
   "execution_count": 12,
   "metadata": {},
   "outputs": [
    {
     "name": "stdout",
     "output_type": "stream",
     "text": [
      "                       city  population  population^2  murder  robbery\n",
      "0             Adams Village      1861.0     3463321.0   False    False\n",
      "1  Addison Town and Village      2577.0     6640929.0   False    False\n",
      "2             Akron Village      2846.0     8099716.0   False    False\n",
      "4            Albion Village      6388.0    40806544.0   False     True\n",
      "5            Alfred Village      4089.0    16719921.0   False     True\n",
      "(318, 5)\n"
     ]
    }
   ],
   "source": [
    "# And move cities with population smaller than upper whisker to a separate dataframe\n",
    "crimes_small_cities = crimes[crimes['population'] < 40906]\n",
    "print(crimes_small_cities.head())\n",
    "print(crimes_small_cities.shape)"
   ]
  },
  {
   "cell_type": "code",
   "execution_count": 13,
   "metadata": {},
   "outputs": [
    {
     "data": {
      "text/plain": [
       "<matplotlib.axes._subplots.AxesSubplot at 0x127025fd0>"
      ]
     },
     "execution_count": 13,
     "metadata": {},
     "output_type": "execute_result"
    },
    {
     "data": {
      "image/png": "[encoded data removed]",
      "text/plain": [
       "<Figure size 576x576 with 1 Axes>"
      ]
     },
     "metadata": {
      "needs_background": "light"
     },
     "output_type": "display_data"
    }
   ],
   "source": [
    "# Plot both sets\n",
    "f, axes = plt.subplots(figsize=[8, 8])\n",
    "crimes_small_cities.boxplot(column='population')"
   ]
  },
  {
   "cell_type": "markdown",
   "metadata": {},
   "source": [
    "#### Looks like if we keep going down this rabbit hole, we are just going to be slicing the data into thinner and thinner pieces. It could be useful to divide the data into 3-4 different categories according to the population. But for now we will just exclude NYC since the number is so much greater that plots become meaningless and indistinguishable. And we can safely assume that a city similar to the size of NYC will definitely have at least one murder and at least one robbery in a year."
   ]
  },
  {
   "cell_type": "code",
   "execution_count": 14,
   "metadata": {},
   "outputs": [
    {
     "data": {
      "text/html": [
       "<div>\n",
       "<style scoped>\n",
       "    .dataframe tbody tr th:only-of-type {\n",
       "        vertical-align: middle;\n",
       "    }\n",
       "\n",
       "    .dataframe tbody tr th {\n",
       "        vertical-align: top;\n",
       "    }\n",
       "\n",
       "    .dataframe thead th {\n",
       "        text-align: right;\n",
       "    }\n",
       "</style>\n",
       "<table border=\"1\" class=\"dataframe\">\n",
       "  <thead>\n",
       "    <tr style=\"text-align: right;\">\n",
       "      <th></th>\n",
       "      <th>city</th>\n",
       "      <th>population</th>\n",
       "      <th>population^2</th>\n",
       "      <th>murder</th>\n",
       "      <th>robbery</th>\n",
       "      <th>crime_type</th>\n",
       "    </tr>\n",
       "  </thead>\n",
       "  <tbody>\n",
       "    <tr>\n",
       "      <th>0</th>\n",
       "      <td>Adams Village</td>\n",
       "      <td>1861.0</td>\n",
       "      <td>3.463321e+06</td>\n",
       "      <td>False</td>\n",
       "      <td>False</td>\n",
       "      <td>none</td>\n",
       "    </tr>\n",
       "    <tr>\n",
       "      <th>1</th>\n",
       "      <td>Addison Town and Village</td>\n",
       "      <td>2577.0</td>\n",
       "      <td>6.640929e+06</td>\n",
       "      <td>False</td>\n",
       "      <td>False</td>\n",
       "      <td>none</td>\n",
       "    </tr>\n",
       "    <tr>\n",
       "      <th>2</th>\n",
       "      <td>Akron Village</td>\n",
       "      <td>2846.0</td>\n",
       "      <td>8.099716e+06</td>\n",
       "      <td>False</td>\n",
       "      <td>False</td>\n",
       "      <td>none</td>\n",
       "    </tr>\n",
       "    <tr>\n",
       "      <th>3</th>\n",
       "      <td>Albany</td>\n",
       "      <td>97956.0</td>\n",
       "      <td>9.595378e+09</td>\n",
       "      <td>True</td>\n",
       "      <td>True</td>\n",
       "      <td>both</td>\n",
       "    </tr>\n",
       "    <tr>\n",
       "      <th>4</th>\n",
       "      <td>Albion Village</td>\n",
       "      <td>6388.0</td>\n",
       "      <td>4.080654e+07</td>\n",
       "      <td>False</td>\n",
       "      <td>True</td>\n",
       "      <td>robbery</td>\n",
       "    </tr>\n",
       "    <tr>\n",
       "      <th>5</th>\n",
       "      <td>Alfred Village</td>\n",
       "      <td>4089.0</td>\n",
       "      <td>1.671992e+07</td>\n",
       "      <td>False</td>\n",
       "      <td>True</td>\n",
       "      <td>robbery</td>\n",
       "    </tr>\n",
       "    <tr>\n",
       "      <th>6</th>\n",
       "      <td>Allegany Village</td>\n",
       "      <td>1781.0</td>\n",
       "      <td>3.171961e+06</td>\n",
       "      <td>False</td>\n",
       "      <td>False</td>\n",
       "      <td>none</td>\n",
       "    </tr>\n",
       "    <tr>\n",
       "      <th>7</th>\n",
       "      <td>Amherst Town</td>\n",
       "      <td>118296.0</td>\n",
       "      <td>1.399394e+10</td>\n",
       "      <td>True</td>\n",
       "      <td>True</td>\n",
       "      <td>both</td>\n",
       "    </tr>\n",
       "    <tr>\n",
       "      <th>8</th>\n",
       "      <td>Amityville Village</td>\n",
       "      <td>9519.0</td>\n",
       "      <td>9.061136e+07</td>\n",
       "      <td>False</td>\n",
       "      <td>True</td>\n",
       "      <td>robbery</td>\n",
       "    </tr>\n",
       "    <tr>\n",
       "      <th>9</th>\n",
       "      <td>Amsterdam</td>\n",
       "      <td>18182.0</td>\n",
       "      <td>3.305851e+08</td>\n",
       "      <td>False</td>\n",
       "      <td>True</td>\n",
       "      <td>robbery</td>\n",
       "    </tr>\n",
       "  </tbody>\n",
       "</table>\n",
       "</div>"
      ],
      "text/plain": [
       "                       city  population  population^2  murder  robbery  \\\n",
       "0             Adams Village      1861.0  3.463321e+06   False    False   \n",
       "1  Addison Town and Village      2577.0  6.640929e+06   False    False   \n",
       "2             Akron Village      2846.0  8.099716e+06   False    False   \n",
       "3                    Albany     97956.0  9.595378e+09    True     True   \n",
       "4            Albion Village      6388.0  4.080654e+07   False     True   \n",
       "5            Alfred Village      4089.0  1.671992e+07   False     True   \n",
       "6          Allegany Village      1781.0  3.171961e+06   False    False   \n",
       "7              Amherst Town    118296.0  1.399394e+10    True     True   \n",
       "8        Amityville Village      9519.0  9.061136e+07   False     True   \n",
       "9                 Amsterdam     18182.0  3.305851e+08   False     True   \n",
       "\n",
       "  crime_type  \n",
       "0       none  \n",
       "1       none  \n",
       "2       none  \n",
       "3       both  \n",
       "4    robbery  \n",
       "5    robbery  \n",
       "6       none  \n",
       "7       both  \n",
       "8    robbery  \n",
       "9    robbery  "
      ]
     },
     "execution_count": 14,
     "metadata": {},
     "output_type": "execute_result"
    }
   ],
   "source": [
    "# Make another column to make plotting a little easier\n",
    "crimes.loc[(crimes['murder'] == True), 'crime_type'] = 'murder'\n",
    "crimes.loc[crimes['robbery'] == True, 'crime_type'] = 'robbery'\n",
    "crimes.loc[(crimes['robbery'] == True) & (crimes['murder'] == True), 'crime_type'] = 'both'\n",
    "crimes.loc[(crimes['murder'] == False) & (crimes['robbery'] == False), 'crime_type'] = 'none'\n",
    "\n",
    "# Now copy to crimes_no_nyc\n",
    "crimes_no_nyc = crimes.drop([216])\n",
    "crimes_no_nyc.head(10)"
   ]
  },
  {
   "cell_type": "code",
   "execution_count": 15,
   "metadata": {},
   "outputs": [
    {
     "data": {
      "image/png": "[encoded data removed]",
      "text/plain": [
       "<Figure size 576x576 with 1 Axes>"
      ]
     },
     "metadata": {},
     "output_type": "display_data"
    }
   ],
   "source": [
    "# Let's make a scatter plot to see the relationships between the variables\n",
    "sns.set(style='whitegrid')\n",
    "sns.catplot(x='crime_type', y='population', data=crimes_no_nyc, order=['none', 'robbery', 'murder', 'both'], height=8)\n",
    "plt.show()"
   ]
  },
  {
   "cell_type": "markdown",
   "metadata": {},
   "source": [
    "#### But since what we actually want is to predict property crimes, let's change up the data a little bit."
   ]
  },
  {
   "cell_type": "code",
   "execution_count": 16,
   "metadata": {},
   "outputs": [],
   "source": [
    "# First, let's include property crimes figures. This will be our outcome variable.\n",
    "# And I want to leave the murder and robbery columns as continuous\n",
    "crimes['property_crimes'] = crimes_raw['Property\\ncrime']\n",
    "crimes['murder'] = crimes_raw['Murder and\\nnonnegligent\\nmanslaughter']\n",
    "crimes['robbery'] = crimes_raw['Robbery']\n",
    "crimes.head()\n",
    "\n",
    "crimes_no_nyc = crimes.drop([216])"
   ]
  },
  {
   "cell_type": "markdown",
   "metadata": {},
   "source": [
    "#### Let's fit our data into a linear regression model"
   ]
  },
  {
   "cell_type": "code",
   "execution_count": 17,
   "metadata": {},
   "outputs": [
    {
     "data": {
      "text/html": [
       "<div>\n",
       "<style scoped>\n",
       "    .dataframe tbody tr th:only-of-type {\n",
       "        vertical-align: middle;\n",
       "    }\n",
       "\n",
       "    .dataframe tbody tr th {\n",
       "        vertical-align: top;\n",
       "    }\n",
       "\n",
       "    .dataframe thead th {\n",
       "        text-align: right;\n",
       "    }\n",
       "</style>\n",
       "<table border=\"1\" class=\"dataframe\">\n",
       "  <thead>\n",
       "    <tr style=\"text-align: right;\">\n",
       "      <th></th>\n",
       "      <th>population</th>\n",
       "      <th>population^2</th>\n",
       "      <th>murder</th>\n",
       "      <th>robbery</th>\n",
       "      <th>property_crimes</th>\n",
       "    </tr>\n",
       "  </thead>\n",
       "  <tbody>\n",
       "    <tr>\n",
       "      <th>count</th>\n",
       "      <td>347.000000</td>\n",
       "      <td>3.470000e+02</td>\n",
       "      <td>347.000000</td>\n",
       "      <td>347.000000</td>\n",
       "      <td>347.000000</td>\n",
       "    </tr>\n",
       "    <tr>\n",
       "      <th>mean</th>\n",
       "      <td>15956.685879</td>\n",
       "      <td>9.858407e+08</td>\n",
       "      <td>0.605187</td>\n",
       "      <td>17.867435</td>\n",
       "      <td>385.752161</td>\n",
       "    </tr>\n",
       "    <tr>\n",
       "      <th>std</th>\n",
       "      <td>27080.218837</td>\n",
       "      <td>5.067232e+09</td>\n",
       "      <td>3.707090</td>\n",
       "      <td>94.972492</td>\n",
       "      <td>1034.369072</td>\n",
       "    </tr>\n",
       "    <tr>\n",
       "      <th>min</th>\n",
       "      <td>526.000000</td>\n",
       "      <td>2.766760e+05</td>\n",
       "      <td>0.000000</td>\n",
       "      <td>0.000000</td>\n",
       "      <td>0.000000</td>\n",
       "    </tr>\n",
       "    <tr>\n",
       "      <th>25%</th>\n",
       "      <td>2997.000000</td>\n",
       "      <td>8.982153e+06</td>\n",
       "      <td>0.000000</td>\n",
       "      <td>0.000000</td>\n",
       "      <td>40.000000</td>\n",
       "    </tr>\n",
       "    <tr>\n",
       "      <th>50%</th>\n",
       "      <td>7187.000000</td>\n",
       "      <td>5.165297e+07</td>\n",
       "      <td>0.000000</td>\n",
       "      <td>1.000000</td>\n",
       "      <td>112.000000</td>\n",
       "    </tr>\n",
       "    <tr>\n",
       "      <th>75%</th>\n",
       "      <td>18160.500000</td>\n",
       "      <td>3.298042e+08</td>\n",
       "      <td>0.000000</td>\n",
       "      <td>5.000000</td>\n",
       "      <td>340.500000</td>\n",
       "    </tr>\n",
       "    <tr>\n",
       "      <th>max</th>\n",
       "      <td>258789.000000</td>\n",
       "      <td>6.697175e+10</td>\n",
       "      <td>47.000000</td>\n",
       "      <td>1322.000000</td>\n",
       "      <td>12491.000000</td>\n",
       "    </tr>\n",
       "  </tbody>\n",
       "</table>\n",
       "</div>"
      ],
      "text/plain": [
       "          population  population^2      murder      robbery  property_crimes\n",
       "count     347.000000  3.470000e+02  347.000000   347.000000       347.000000\n",
       "mean    15956.685879  9.858407e+08    0.605187    17.867435       385.752161\n",
       "std     27080.218837  5.067232e+09    3.707090    94.972492      1034.369072\n",
       "min       526.000000  2.766760e+05    0.000000     0.000000         0.000000\n",
       "25%      2997.000000  8.982153e+06    0.000000     0.000000        40.000000\n",
       "50%      7187.000000  5.165297e+07    0.000000     1.000000       112.000000\n",
       "75%     18160.500000  3.298042e+08    0.000000     5.000000       340.500000\n",
       "max    258789.000000  6.697175e+10   47.000000  1322.000000     12491.000000"
      ]
     },
     "execution_count": 17,
     "metadata": {},
     "output_type": "execute_result"
    }
   ],
   "source": [
    "crimes_no_nyc.describe()"
   ]
  },
  {
   "cell_type": "code",
   "execution_count": 18,
   "metadata": {},
   "outputs": [
    {
     "data": {
      "text/plain": [
       "(350, 7)"
      ]
     },
     "execution_count": 18,
     "metadata": {},
     "output_type": "execute_result"
    }
   ],
   "source": [
    "crimes_no_nyc.shape"
   ]
  },
  {
   "cell_type": "code",
   "execution_count": 19,
   "metadata": {},
   "outputs": [
    {
     "data": {
      "text/html": [
       "<div>\n",
       "<style scoped>\n",
       "    .dataframe tbody tr th:only-of-type {\n",
       "        vertical-align: middle;\n",
       "    }\n",
       "\n",
       "    .dataframe tbody tr th {\n",
       "        vertical-align: top;\n",
       "    }\n",
       "\n",
       "    .dataframe thead th {\n",
       "        text-align: right;\n",
       "    }\n",
       "</style>\n",
       "<table border=\"1\" class=\"dataframe\">\n",
       "  <thead>\n",
       "    <tr style=\"text-align: right;\">\n",
       "      <th></th>\n",
       "      <th>city</th>\n",
       "      <th>population</th>\n",
       "      <th>population^2</th>\n",
       "      <th>murder</th>\n",
       "      <th>robbery</th>\n",
       "      <th>crime_type</th>\n",
       "      <th>property_crimes</th>\n",
       "    </tr>\n",
       "  </thead>\n",
       "  <tbody>\n",
       "    <tr>\n",
       "      <th>348</th>\n",
       "      <td>1 The figures shown in this column for the off...</td>\n",
       "      <td>NaN</td>\n",
       "      <td>NaN</td>\n",
       "      <td>NaN</td>\n",
       "      <td>NaN</td>\n",
       "      <td>none</td>\n",
       "      <td>NaN</td>\n",
       "    </tr>\n",
       "    <tr>\n",
       "      <th>349</th>\n",
       "      <td>2 The figures shown in this column for the off...</td>\n",
       "      <td>NaN</td>\n",
       "      <td>NaN</td>\n",
       "      <td>NaN</td>\n",
       "      <td>NaN</td>\n",
       "      <td>none</td>\n",
       "      <td>NaN</td>\n",
       "    </tr>\n",
       "    <tr>\n",
       "      <th>350</th>\n",
       "      <td>3 The FBI does not publish arson data unless i...</td>\n",
       "      <td>NaN</td>\n",
       "      <td>NaN</td>\n",
       "      <td>NaN</td>\n",
       "      <td>NaN</td>\n",
       "      <td>none</td>\n",
       "      <td>NaN</td>\n",
       "    </tr>\n",
       "  </tbody>\n",
       "</table>\n",
       "</div>"
      ],
      "text/plain": [
       "                                                  city  population  \\\n",
       "348  1 The figures shown in this column for the off...         NaN   \n",
       "349  2 The figures shown in this column for the off...         NaN   \n",
       "350  3 The FBI does not publish arson data unless i...         NaN   \n",
       "\n",
       "     population^2  murder  robbery crime_type  property_crimes  \n",
       "348           NaN     NaN      NaN       none              NaN  \n",
       "349           NaN     NaN      NaN       none              NaN  \n",
       "350           NaN     NaN      NaN       none              NaN  "
      ]
     },
     "execution_count": 19,
     "metadata": {},
     "output_type": "execute_result"
    }
   ],
   "source": [
    "crimes_no_nyc[crimes_no_nyc.isnull().any(axis=1)]"
   ]
  },
  {
   "cell_type": "code",
   "execution_count": 57,
   "metadata": {},
   "outputs": [],
   "source": [
    "regr = linear_model.LinearRegression()\n",
    "Y = crimes_no_nyc[~crimes_no_nyc.isnull().any(axis=1)]['property_crimes'].values.reshape(-1, 1)\n",
    "X1 = crimes_no_nyc[~crimes_no_nyc.isnull().any(axis=1)][['population', 'population^2', 'murder', 'robbery']]\n",
    "regr1 = regr.fit(X1, Y)"
   ]
  },
  {
   "cell_type": "code",
   "execution_count": 58,
   "metadata": {},
   "outputs": [
    {
     "data": {
      "text/html": [
       "<div>\n",
       "<style scoped>\n",
       "    .dataframe tbody tr th:only-of-type {\n",
       "        vertical-align: middle;\n",
       "    }\n",
       "\n",
       "    .dataframe tbody tr th {\n",
       "        vertical-align: top;\n",
       "    }\n",
       "\n",
       "    .dataframe thead th {\n",
       "        text-align: right;\n",
       "    }\n",
       "</style>\n",
       "<table border=\"1\" class=\"dataframe\">\n",
       "  <thead>\n",
       "    <tr style=\"text-align: right;\">\n",
       "      <th></th>\n",
       "      <th>R-sqr</th>\n",
       "      <th>b1</th>\n",
       "      <th>b2</th>\n",
       "      <th>b3</th>\n",
       "      <th>b4</th>\n",
       "      <th>intercept</th>\n",
       "    </tr>\n",
       "  </thead>\n",
       "  <tbody>\n",
       "    <tr>\n",
       "      <th>0</th>\n",
       "      <td>0.939283</td>\n",
       "      <td>0.020552</td>\n",
       "      <td>-7.194683e-08</td>\n",
       "      <td>102.643383</td>\n",
       "      <td>5.130014</td>\n",
       "      <td>-25.039858</td>\n",
       "    </tr>\n",
       "  </tbody>\n",
       "</table>\n",
       "</div>"
      ],
      "text/plain": [
       "      R-sqr        b1            b2          b3        b4  intercept\n",
       "0  0.939283  0.020552 -7.194683e-08  102.643383  5.130014 -25.039858"
      ]
     },
     "execution_count": 58,
     "metadata": {},
     "output_type": "execute_result"
    }
   ],
   "source": [
    "# Coefficients\n",
    "coef1 = regr1.coef_\n",
    "\n",
    "# Intercept\n",
    "intercept1 = regr1.intercept_\n",
    "\n",
    "# R-Squared\n",
    "score1 = regr1.score(X1, Y)\n",
    "\n",
    "stats = {'intercept': intercept1[0],\n",
    "           'b1': coef1[0][0],\n",
    "           'b2': coef1[0][1],\n",
    "           'b3': coef1[0][2],\n",
    "           'b4': coef1[0][3],\n",
    "           'R-sqr': score1},\n",
    "            \n",
    "math = pd.DataFrame(stats)\n",
    "math"
   ]
  },
  {
   "cell_type": "markdown",
   "metadata": {},
   "source": [
    "#### R-squared value shows that this model can explain about 94% of our data. and it looks like the number of robberies is the biggest indicator in predicting property crimes in this model. The intercept in our model is a negative number, meaning there is a threshold of combinations of our features after which property crime will start occurring."
   ]
  },
  {
   "cell_type": "code",
   "execution_count": 63,
   "metadata": {},
   "outputs": [
    {
     "data": {
      "image/png": "[encoded data removed]",
      "text/plain": [
       "<Figure size 1080x1080 with 4 Axes>"
      ]
     },
     "metadata": {},
     "output_type": "display_data"
    }
   ],
   "source": [
    "f, axes = plt.subplots(2, 2, figsize=(15, 15), sharey=True)\n",
    "sns.set(style='darkgrid')\n",
    "sns.despine()\n",
    "\n",
    "data = crimes_no_nyc\n",
    "y = 'property_crimes'\n",
    "x1 = 'population'\n",
    "x2 = 'population^2'\n",
    "x3 = 'murder'\n",
    "x4 = 'robbery'\n",
    "\n",
    "ax1 = axes[0, 0]\n",
    "ax1 = sns.scatterplot(x=x1, y=y, data=data, ax=ax1, color='skyblue')\n",
    "\n",
    "ax2 = axes[0, 1]\n",
    "ax2 = sns.scatterplot(x=x2, y=y, data=data, ax=ax2, color='darkblue')\n",
    "\n",
    "ax3 = axes[1, 0]\n",
    "ax3 = sns.scatterplot(x=x3, y=y, data=data, ax=ax3, color='red')\n",
    "\n",
    "ax4 = axes[1, 1]\n",
    "ax4 = sns.scatterplot(x=x4, y=y, data=data, ax=ax4, color='orange')\n",
    "\n",
    "plt.show()"
   ]
  },
  {
   "cell_type": "markdown",
   "metadata": {},
   "source": [
    "### Checking Linearity"
   ]
  },
  {
   "cell_type": "markdown",
   "metadata": {},
   "source": [
    "#### I want to see if I can make these plots a little more linear."
   ]
  },
  {
   "cell_type": "code",
   "execution_count": 30,
   "metadata": {},
   "outputs": [
    {
     "data": {
      "image/png": "[encoded data removed]",
      "text/plain": [
       "<Figure size 1080x504 with 2 Axes>"
      ]
     },
     "metadata": {},
     "output_type": "display_data"
    }
   ],
   "source": [
    "# For robbery column\n",
    "crimes_no_nyc['rob_sqrt'] = np.sqrt(crimes_no_nyc['robbery'])\n",
    "crimes_no_nyc['rob_cbrt'] = np.cbrt(crimes_no_nyc['robbery'])\n",
    "\n",
    "f, axes = plt.subplots(1, 2, figsize=(15, 7))\n",
    "\n",
    "ax1 = axes[0]\n",
    "ax1 = sns.scatterplot(x='rob_sqrt', y=y, data=data, ax=ax1, color='orange')\n",
    "\n",
    "ax2 = axes[1]\n",
    "ax2 = sns.scatterplot(x='rob_cbrt', y=y, data=data, ax=ax2, color='orange')\n",
    "\n",
    "plt.show()"
   ]
  },
  {
   "cell_type": "markdown",
   "metadata": {},
   "source": [
    "#### I think square root value is the lucky winner."
   ]
  },
  {
   "cell_type": "code",
   "execution_count": 31,
   "metadata": {},
   "outputs": [
    {
     "data": {
      "image/png": "[encoded data removed]",
      "text/plain": [
       "<Figure size 1080x1080 with 4 Axes>"
      ]
     },
     "metadata": {},
     "output_type": "display_data"
    }
   ],
   "source": [
    "# Let's try plotting again\n",
    "f, axes = plt.subplots(2, 2, figsize=(15, 15), sharey=True)\n",
    "sns.set(style='darkgrid')\n",
    "sns.despine()\n",
    "\n",
    "ax1 = axes[0, 0]\n",
    "ax1 = sns.scatterplot(x=x1, y=y, data=data, ax=ax1, color='skyblue')\n",
    "\n",
    "ax2 = axes[0, 1]\n",
    "ax2 = sns.scatterplot(x=x2, y=y, data=data, ax=ax2, color='darkblue')\n",
    "\n",
    "ax3 = axes[1, 0]\n",
    "ax3 = sns.scatterplot(x=x3, y=y, data=data, ax=ax3, color='red')\n",
    "\n",
    "ax4 = axes[1, 1]\n",
    "ax4 = sns.scatterplot(x='rob_sqrt', y=y, data=data, ax=ax4, color='orange')\n",
    "\n",
    "plt.show()"
   ]
  },
  {
   "cell_type": "markdown",
   "metadata": {},
   "source": [
    "#### Ahh, that looks better. Now let's check the stats again with improved features."
   ]
  },
  {
   "cell_type": "code",
   "execution_count": 54,
   "metadata": {},
   "outputs": [],
   "source": [
    "regr = linear_model.LinearRegression()\n",
    "Y = crimes_no_nyc[~crimes_no_nyc.isnull().any(axis=1)]['property_crimes'].values.reshape(-1, 1)\n",
    "X2 = crimes_no_nyc[~crimes_no_nyc.isnull().any(axis=1)][['population', 'population^2', 'murder', 'rob_sqrt']]\n",
    "regr2 = regr.fit(X2, Y)"
   ]
  },
  {
   "cell_type": "code",
   "execution_count": 55,
   "metadata": {},
   "outputs": [
    {
     "data": {
      "text/html": [
       "<div>\n",
       "<style scoped>\n",
       "    .dataframe tbody tr th:only-of-type {\n",
       "        vertical-align: middle;\n",
       "    }\n",
       "\n",
       "    .dataframe tbody tr th {\n",
       "        vertical-align: top;\n",
       "    }\n",
       "\n",
       "    .dataframe thead th {\n",
       "        text-align: right;\n",
       "    }\n",
       "</style>\n",
       "<table border=\"1\" class=\"dataframe\">\n",
       "  <thead>\n",
       "    <tr style=\"text-align: right;\">\n",
       "      <th></th>\n",
       "      <th>R-sqr</th>\n",
       "      <th>b1</th>\n",
       "      <th>b2</th>\n",
       "      <th>b3</th>\n",
       "      <th>b4</th>\n",
       "      <th>intercept</th>\n",
       "    </tr>\n",
       "  </thead>\n",
       "  <tbody>\n",
       "    <tr>\n",
       "      <th>0</th>\n",
       "      <td>0.939283</td>\n",
       "      <td>0.020552</td>\n",
       "      <td>-7.194683e-08</td>\n",
       "      <td>102.643383</td>\n",
       "      <td>5.130014</td>\n",
       "      <td>-25.039858</td>\n",
       "    </tr>\n",
       "    <tr>\n",
       "      <th>0</th>\n",
       "      <td>0.939283</td>\n",
       "      <td>0.014304</td>\n",
       "      <td>-1.518193e-08</td>\n",
       "      <td>152.785107</td>\n",
       "      <td>51.217432</td>\n",
       "      <td>-21.164177</td>\n",
       "    </tr>\n",
       "  </tbody>\n",
       "</table>\n",
       "</div>"
      ],
      "text/plain": [
       "      R-sqr        b1            b2          b3         b4  intercept\n",
       "0  0.939283  0.020552 -7.194683e-08  102.643383   5.130014 -25.039858\n",
       "0  0.939283  0.014304 -1.518193e-08  152.785107  51.217432 -21.164177"
      ]
     },
     "execution_count": 55,
     "metadata": {},
     "output_type": "execute_result"
    }
   ],
   "source": [
    "# Coefficients\n",
    "coef2 = regr2.coef_\n",
    "\n",
    "# Intercept\n",
    "intercept2 = regr2.intercept_\n",
    "\n",
    "# R-Squared\n",
    "score2 = regr2.score(X2, Y)\n",
    "\n",
    "stats2 = {'intercept': intercept2[0],\n",
    "           'b1': coef2[0][0],\n",
    "           'b2': coef2[0][1],\n",
    "           'b3': coef2[0][2],\n",
    "           'b4': coef2[0][3],\n",
    "           'R-sqr': score1},\n",
    "\n",
    "math2 = pd.DataFrame(stats2)\n",
    "math.append(math2)\n"
   ]
  },
  {
   "cell_type": "markdown",
   "metadata": {},
   "source": [
    "### Multivariate Normality"
   ]
  },
  {
   "cell_type": "code",
   "execution_count": 59,
   "metadata": {},
   "outputs": [
    {
     "data": {
      "image/png": "[encoded data removed]",
      "text/plain": [
       "<Figure size 432x288 with 1 Axes>"
      ]
     },
     "metadata": {},
     "output_type": "display_data"
    }
   ],
   "source": [
    "# Extract predicted values.\n",
    "predicted = regr2.predict(X2).ravel()\n",
    "actual = crimes_no_nyc[~crimes_no_nyc.isnull().any(axis=1)]['property_crimes']\n",
    "\n",
    "# Calculate the error, also called the residual.\n",
    "residual = actual - predicted\n",
    "\n",
    "# This looks a bit concerning.\n",
    "plt.hist(residual)\n",
    "plt.title('Residual counts')\n",
    "plt.xlabel('Residual')\n",
    "plt.ylabel('Count')\n",
    "plt.show()"
   ]
  },
  {
   "cell_type": "markdown",
   "metadata": {},
   "source": [
    "#### That looks pretty darn close to a normal distribution."
   ]
  },
  {
   "cell_type": "markdown",
   "metadata": {},
   "source": [
    "### Homoscedacity: checking to see if the error terms are consistently distributed"
   ]
  },
  {
   "cell_type": "code",
   "execution_count": 60,
   "metadata": {},
   "outputs": [
    {
     "data": {
      "image/png": "[encoded data removed]",
      "text/plain": [
       "<Figure size 432x288 with 1 Axes>"
      ]
     },
     "metadata": {},
     "output_type": "display_data"
    }
   ],
   "source": [
    "plt.scatter(predicted, residual)\n",
    "plt.xlabel('Predicted')\n",
    "plt.ylabel('Residual')\n",
    "plt.axhline(y=0)\n",
    "plt.title('Residual vs. Predicted')\n",
    "plt.show()"
   ]
  },
  {
   "cell_type": "markdown",
   "metadata": {},
   "source": [
    "#### Hmm... this doesn't look good. There are a few outliers that may need to be dealt with."
   ]
  },
  {
   "cell_type": "markdown",
   "metadata": {},
   "source": [
    "### Low multicolinearity"
   ]
  },
  {
   "cell_type": "code",
   "execution_count": 62,
   "metadata": {},
   "outputs": [
    {
     "data": {
      "text/html": [
       "<div>\n",
       "<style scoped>\n",
       "    .dataframe tbody tr th:only-of-type {\n",
       "        vertical-align: middle;\n",
       "    }\n",
       "\n",
       "    .dataframe tbody tr th {\n",
       "        vertical-align: top;\n",
       "    }\n",
       "\n",
       "    .dataframe thead th {\n",
       "        text-align: right;\n",
       "    }\n",
       "</style>\n",
       "<table border=\"1\" class=\"dataframe\">\n",
       "  <thead>\n",
       "    <tr style=\"text-align: right;\">\n",
       "      <th></th>\n",
       "      <th>population</th>\n",
       "      <th>population^2</th>\n",
       "      <th>murder</th>\n",
       "      <th>rob_sqrt</th>\n",
       "    </tr>\n",
       "  </thead>\n",
       "  <tbody>\n",
       "    <tr>\n",
       "      <th>population</th>\n",
       "      <td>1.000000</td>\n",
       "      <td>0.888582</td>\n",
       "      <td>0.756401</td>\n",
       "      <td>0.888661</td>\n",
       "    </tr>\n",
       "    <tr>\n",
       "      <th>population^2</th>\n",
       "      <td>0.888582</td>\n",
       "      <td>1.000000</td>\n",
       "      <td>0.883650</td>\n",
       "      <td>0.815992</td>\n",
       "    </tr>\n",
       "    <tr>\n",
       "      <th>murder</th>\n",
       "      <td>0.756401</td>\n",
       "      <td>0.883650</td>\n",
       "      <td>1.000000</td>\n",
       "      <td>0.820394</td>\n",
       "    </tr>\n",
       "    <tr>\n",
       "      <th>rob_sqrt</th>\n",
       "      <td>0.888661</td>\n",
       "      <td>0.815992</td>\n",
       "      <td>0.820394</td>\n",
       "      <td>1.000000</td>\n",
       "    </tr>\n",
       "  </tbody>\n",
       "</table>\n",
       "</div>"
      ],
      "text/plain": [
       "              population  population^2    murder  rob_sqrt\n",
       "population      1.000000      0.888582  0.756401  0.888661\n",
       "population^2    0.888582      1.000000  0.883650  0.815992\n",
       "murder          0.756401      0.883650  1.000000  0.820394\n",
       "rob_sqrt        0.888661      0.815992  0.820394  1.000000"
      ]
     },
     "metadata": {},
     "output_type": "display_data"
    }
   ],
   "source": [
    "# Check correlation\n",
    "correlation_matrix = X2.corr()\n",
    "display(correlation_matrix)"
   ]
  },
  {
   "cell_type": "markdown",
   "metadata": {},
   "source": [
    "#### Those are some very high correlations. "
   ]
  },
  {
   "cell_type": "code",
   "execution_count": null,
   "metadata": {},
   "outputs": [],
   "source": []
  }
 ],
 "metadata": {
  "kernelspec": {
   "display_name": "Python 3",
   "language": "python",
   "name": "python3"
  },
  "language_info": {
   "codemirror_mode": {
    "name": "ipython",
    "version": 3
   },
   "file_extension": ".py",
   "mimetype": "text/x-python",
   "name": "python",
   "nbconvert_exporter": "python",
   "pygments_lexer": "ipython3",
   "version": "3.7.2"
  }
 },
 "nbformat": 4,
 "nbformat_minor": 2
}
