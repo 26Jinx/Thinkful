{
 "cells": [
  {
   "cell_type": "markdown",
   "metadata": {},
   "source": [
    "1. What is the 1994 rate of juvenile delinquency in the U.S.?  \n",
    "Bad question - The answer to this question only provides insight to just this variable.  \n",
    "Better question - 'Will juvenile delinquency lead to higher crime rates in the first 5 years of adulthood?'\n",
    "\n",
    "\n",
    "2. What can we do to reduce juvenile delinquency in the U.S.?  \n",
    "Good question - We can analyze the intervariable relationships between juvenile delinquency rates to various factors to see which affects the delinqency rate most heavily and devise a answer to this question.   \n",
    "\n",
    "\n",
    "3. Does education play a role in reducing juvenile delinquents' return to crime?  \n",
    "Good question - Similar to the question above, the education variable can be studied to see if improving educational programs can decrease the rate at which the past deliquents return to crime.  \n",
    "\n",
    "\n",
    "4. How many customers does AT&T currently serve in Washington, DC?  \n",
    "Bad question - Only serves to characterize a variable. Might need to be put in context of another variable to make a prediction or an estimation.    \n",
    "Better question - 'How many AT&T customers in the Washington D.C. area will leave for a different carrier in the next quarter?'\n",
    "\n",
    "\n",
    "5. What factors lead consumers to choose AT&T over other service providers?  \n",
    "Good question - We can devise a plan to reduce customer churn and bring in more new customers based on the answer to this question.\n",
    "\n",
    "\n",
    "6. How can AT&T attract more customers?  \n",
    "Good question - This is a broader question than the last, but in answering this question, we can figure out which factors are the most effective in attracting more customers and commit more resources in those areas.\n",
    "\n",
    "\n",
    "7. Why did the Challenger Shuttle explode?  \n",
    "Bad question - While it is a good investigative question, we want to do more than just figure out the cause.  \n",
    "Better question - 'What measures can we take to minimize the probability of another catastrophic failure?'\n",
    "\n",
    "\n",
    "8. Which genes are associated with increased risk of breast cancer?  \n",
    "Bad question - Very similar to the last question. We just need to ask a more predictive question.\n",
    "Better question - 'Which preventive measures will be most effective for patient A who tested positive for a cancer-causing gene to decrease the risk of breast cancer?'\n",
    "\n",
    "\n",
    "9. Is it better to read to children at night or in the morning?  \n",
    "Good question - In answering this question, we can understand the affect time of day has on a child's ability to learn (or the ability to get a better night's rest, depending on the choice of desired outome) and predict the improvement in child's performance.\n",
    "\n",
    "\n",
    "10. How does Google’s search algorithm work?  \n",
    "Bad question - The answer only explains the variable, and isn't predictive in nature.  \n",
    "Better question - 'Does Google's search algorithm improve in accuracy over time for a single user?'\n"
   ]
  },
  {
   "cell_type": "code",
   "execution_count": null,
   "metadata": {},
   "outputs": [],
   "source": []
  }
 ],
 "metadata": {
  "kernelspec": {
   "display_name": "Python 3",
   "language": "python",
   "name": "python3"
  },
  "language_info": {
   "codemirror_mode": {
    "name": "ipython",
    "version": 3
   },
   "file_extension": ".py",
   "mimetype": "text/x-python",
   "name": "python",
   "nbconvert_exporter": "python",
   "pygments_lexer": "ipython3",
   "version": "3.7.1"
  }
 },
 "nbformat": 4,
 "nbformat_minor": 2
}
