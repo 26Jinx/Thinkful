{
 "cells": [
  {
   "cell_type": "markdown",
   "metadata": {},
   "source": [
    "#1(by hand) Mean: 9.86, Median: 10, Mode: 8, Variance: 7.47, StdDev: 2.73, StdErr: 1.03"
   ]
  },
  {
   "cell_type": "code",
   "execution_count": 59,
   "metadata": {},
   "outputs": [
    {
     "data": {
      "text/plain": [
       "{'mean': 9.857142857142858,\n",
       " 'median': 10.0,\n",
       " 'mode': 8,\n",
       " 'variance': 7.476190476190475,\n",
       " 'stddev': 2.734262327610589,\n",
       " 'stderr': 1.0334540197243192}"
      ]
     },
     "execution_count": 59,
     "metadata": {},
     "output_type": "execute_result"
    }
   ],
   "source": [
    "import pandas as pd\n",
    "import numpy as np\n",
    "import statistics as st\n",
    "\n",
    "results = {}\n",
    "df = pd.DataFrame()\n",
    "df['age'] = [14, 12, 11, 10, 8, 6, 8]\n",
    "\n",
    "def get_mode(list):\n",
    "    try: \n",
    "        return st.mode(list)\n",
    "    except:\n",
    "        pass\n",
    "\n",
    "results['mean'] = np.mean(df['age'])\n",
    "results['median'] = np.median(df['age'])\n",
    "results['mode'] = get_mode(df['age'])\n",
    "results['variance'] = df['age'].var()\n",
    "results['stddev'] = np.std(df['age'], ddof=1)\n",
    "results['stderr'] = results['stddev'] / np.sqrt(len(df['age']))\n",
    "results\n"
   ]
  },
  {
   "cell_type": "markdown",
   "metadata": {},
   "source": [
    "#2 I would use the median for estimating the central tendency since we are talking about ages in whole numbers and the median is not far from the mean."
   ]
  },
  {
   "cell_type": "markdown",
   "metadata": {},
   "source": [
    "#3 Cindy age is now 7\n",
    "Mean: 10, Median: 10, Mode: 8, Variance: 6.33, StdDev: 2.51, StdErr: 0.95\n",
    "Every figure changes except median and mode."
   ]
  },
  {
   "cell_type": "code",
   "execution_count": 60,
   "metadata": {},
   "outputs": [
    {
     "data": {
      "text/plain": [
       "{'mean': 10.0,\n",
       " 'median': 10.0,\n",
       " 'mode': 8,\n",
       " 'variance': 6.333333333333333,\n",
       " 'stddev': 2.516611478423583,\n",
       " 'stderr': 0.9511897312113418}"
      ]
     },
     "execution_count": 60,
     "metadata": {},
     "output_type": "execute_result"
    }
   ],
   "source": [
    "df['age'][5] += 1\n",
    "\n",
    "results['mean'] = np.mean(df['age'])\n",
    "results['median'] = np.median(df['age'])\n",
    "results['mode'] = get_mode(df['age'])\n",
    "results['variance'] = df['age'].var()\n",
    "results['stddev'] = np.std(df['age'], ddof=1)\n",
    "results['stderr'] = results['stddev'] / np.sqrt(len(df['age']))\n",
    "results"
   ]
  },
  {
   "cell_type": "markdown",
   "metadata": {},
   "source": [
    "#4 Oliver(8yo) is replaced by Jessica(1yo)\n",
    "Mean: 9, Median: 10, Mode: no mode, Variance: 18, StdDev: 4.24, StdErr: 1.60"
   ]
  },
  {
   "cell_type": "code",
   "execution_count": 75,
   "metadata": {},
   "outputs": [
    {
     "data": {
      "text/plain": [
       "{'mean': 9.0,\n",
       " 'median': 10.0,\n",
       " 'mode': None,\n",
       " 'variance': 18.0,\n",
       " 'stddev': 4.242640687119285,\n",
       " 'stderr': 1.6035674514745462}"
      ]
     },
     "execution_count": 75,
     "metadata": {},
     "output_type": "execute_result"
    }
   ],
   "source": [
    "df['age'][4] = 1\n",
    "\n",
    "results['mean'] = np.mean(df['age'])\n",
    "results['median'] = np.median(df['age'])\n",
    "results['mode'] = get_mode(df['age'])\n",
    "results['variance'] = df['age'].var()\n",
    "results['stddev'] = np.std(df['age'], ddof=1)\n",
    "results['stderr'] = results['stddev'] / np.sqrt(len(df['age']))\n",
    "results"
   ]
  },
  {
   "cell_type": "code",
   "execution_count": 76,
   "metadata": {},
   "outputs": [
    {
     "name": "stdout",
     "output_type": "stream",
     "text": [
      "12%-19% of adult Americans are Brady Bunch fans on the 50th Anniversary of the show.\n"
     ]
    }
   ],
   "source": [
    "df2 = pd.DataFrame()\n",
    "df2['fans'] = [20, 23, 17, 5]\n",
    "\n",
    "results2 = {}\n",
    "results2['mean'] = np.mean(df2['fans'])\n",
    "results2['stderr'] = np.std(df2['fans']) / np.sqrt(len(df2['fans']))\n",
    "results2\n",
    "print('{}%-{}% of adult Americans are Brady Bunch fans on the 50th Anniversary of the show.'\n",
    "      .format(int(results2['mean']-results2['stderr']), int(results2['mean']+results2['stderr'])))"
   ]
  },
  {
   "cell_type": "markdown",
   "metadata": {},
   "source": []
  }
 ],
 "metadata": {
  "kernelspec": {
   "display_name": "Python 3",
   "language": "python",
   "name": "python3"
  },
  "language_info": {
   "codemirror_mode": {
    "name": "ipython",
    "version": 3
   },
   "file_extension": ".py",
   "mimetype": "text/x-python",
   "name": "python",
   "nbconvert_exporter": "python",
   "pygments_lexer": "ipython3",
   "version": "3.7.1"
  }
 },
 "nbformat": 4,
 "nbformat_minor": 2
}
