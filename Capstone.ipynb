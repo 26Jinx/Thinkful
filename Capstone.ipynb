{
 "cells": [
  {
   "cell_type": "markdown",
   "metadata": {},
   "source": [
    "# 4th and Punt: Forgone Conclusion or Missed Opportunity?\n",
    "There is nothing as sure as an NFL head coach's decision when faced with a 4th down deep in your own territory - you punt. There is nothing to think about. Anyone who knows anything about football understands the risk of failing to get enough yardage on 4th down is usually not worth the reward. It's a tale as old as time. But is it still true? I'm going to take a look at this past 2018 NFL season to put this dogmatic theory to the test. "
   ]
  },
  {
   "cell_type": "markdown",
   "metadata": {},
   "source": [
    "## The Playbook\n",
    "The data was gathered from the website __[NFLsavant.com](http://www.nflsavant.com/about.php)__ I chose to only use the data for the most current season to test the larger theory of \"Punt on 4th and long\" on a smaller sample. But we need to first make sure that this is a large enough sample and that there wasn't some sort of yet unknown variable that changed this season's data biased in any way."
   ]
  },
  {
   "cell_type": "markdown",
   "metadata": {},
   "source": [
    "### The Plays\n",
    "In one NFL season, 32 teams duke it out everyweek for 17 weeks, including each team getting a bye week where they don't play a game. So, while the regular season is 17 weeks, each team plays 16 games every year in the regular season. For this analysis, I want to look at the play-by-play data for the season year 2018. Each of the 32 teams play 16 games each, and each week 16 games take place for 16 weeks (17 weeks - 1 bye week) for a total of 256 individual games from which we will extract the plays."
   ]
  },
  {
   "cell_type": "code",
   "execution_count": 31,
   "metadata": {},
   "outputs": [
    {
     "data": {
      "image/png": "[encoded data removed]",
      "text/plain": [
       "<Figure size 1440x504 with 2 Axes>"
      ]
     },
     "metadata": {
      "needs_background": "light"
     },
     "output_type": "display_data"
    }
   ],
   "source": [
    "import pandas as pd\n",
    "import numpy as np\n",
    "import matplotlib.pyplot as plt\n",
    "%matplotlib inline\n",
    "\n",
    "# Read play-by-play data for 2014-2018 seasons and create dataframes\n",
    "df18 = pd.read_csv('pbp-2018.csv')\n",
    "df17 = pd.read_csv('pbp-2017.csv')\n",
    "df16 = pd.read_csv('pbp-2016.csv')\n",
    "df15 = pd.read_csv('pbp-2015.csv')\n",
    "df14 = pd.read_csv('pbp-2014.csv')\n",
    "\n",
    "# Create seasons dataframe list\n",
    "seasons = [df14, df15, df16, df17, df18]\n",
    "\n",
    "# Create a list of total number of plays per game for each game for the 2018 season\n",
    "plays_per_game = df18.groupby('GameId').count()\n",
    "\n",
    "plt.figure(figsize=(20,7))\n",
    "\n",
    "# Histogram of how many plays exist in each game\n",
    "plt.subplot(1, 2, 1)\n",
    "plt.hist(plays_per_game['Down'], alpha=0.7, color='skyblue')\n",
    "plt.title('Distribution of Total Number of Plays per Game')\n",
    "plt.xlabel('Number of Plays')\n",
    "plt.ylabel('Frequency')\n",
    "\n",
    "# Boxplot of frequency of total number of plays in game\n",
    "plt.subplot(1, 2, 2)\n",
    "plt.boxplot(plays_per_game['Down'], vert=False)\n",
    "plt.title('Box plot of Total Number of Plays per Game')\n",
    "plt.xlabel('Number of plays')\n",
    "\n",
    "plt.show()"
   ]
  },
  {
   "cell_type": "markdown",
   "metadata": {},
   "source": [
    "According to the above histogram, most games have around 180 plays in it which makes sense since all games have exactly 60 minutes of play time. The outliers are most likely to be the result of games that go into overtime in which they would receive upto 10 minutes of additional playing time."
   ]
  },
  {
   "cell_type": "code",
   "execution_count": 45,
   "metadata": {},
   "outputs": [
    {
     "name": "stdout",
     "output_type": "stream",
     "text": [
      "For the 2018 season, each game on average had about 177 plays, or about 2.95 plays per minute.\n"
     ]
    }
   ],
   "source": [
    "# Calculate mean of plays per game\n",
    "avg_no_of_plays = plays_per_game['Down'].mean()\n",
    "plays_per_minute = avg_no_of_plays / 60\n",
    "\n",
    "print('For the 2018 season, each game on average had about {} plays, or about {} plays per minute.'.format(int(avg_no_of_plays), round(plays_per_minute, 2)))"
   ]
  },
  {
   "cell_type": "markdown",
   "metadata": {},
   "source": [
    "Calculating the mean shows that, indeed, the average number of plays in each game was right around 177 plays."
   ]
  },
  {
   "cell_type": "markdown",
   "metadata": {},
   "source": [
    "### _Is this data set detailed enough?_"
   ]
  },
  {
   "cell_type": "code",
   "execution_count": 102,
   "metadata": {},
   "outputs": [
    {
     "data": {
      "text/html": [
       "<div>\n",
       "<style scoped>\n",
       "    .dataframe tbody tr th:only-of-type {\n",
       "        vertical-align: middle;\n",
       "    }\n",
       "\n",
       "    .dataframe tbody tr th {\n",
       "        vertical-align: top;\n",
       "    }\n",
       "\n",
       "    .dataframe thead th {\n",
       "        text-align: right;\n",
       "    }\n",
       "</style>\n",
       "<table border=\"1\" class=\"dataframe\">\n",
       "  <thead>\n",
       "    <tr style=\"text-align: right;\">\n",
       "      <th></th>\n",
       "      <th>GameId</th>\n",
       "      <th>GameDate</th>\n",
       "      <th>Quarter</th>\n",
       "      <th>Minute</th>\n",
       "      <th>Second</th>\n",
       "      <th>OffenseTeam</th>\n",
       "      <th>DefenseTeam</th>\n",
       "      <th>Down</th>\n",
       "      <th>ToGo</th>\n",
       "      <th>YardLine</th>\n",
       "      <th>...</th>\n",
       "      <th>IsTwoPointConversion</th>\n",
       "      <th>IsTwoPointConversionSuccessful</th>\n",
       "      <th>RushDirection</th>\n",
       "      <th>YardLineFixed</th>\n",
       "      <th>YardLineDirection</th>\n",
       "      <th>IsPenaltyAccepted</th>\n",
       "      <th>PenaltyTeam</th>\n",
       "      <th>IsNoPlay</th>\n",
       "      <th>PenaltyType</th>\n",
       "      <th>PenaltyYards</th>\n",
       "    </tr>\n",
       "  </thead>\n",
       "  <tbody>\n",
       "    <tr>\n",
       "      <th>0</th>\n",
       "      <td>2018090600</td>\n",
       "      <td>2018-09-06</td>\n",
       "      <td>2</td>\n",
       "      <td>6</td>\n",
       "      <td>9</td>\n",
       "      <td>PHI</td>\n",
       "      <td>ATL</td>\n",
       "      <td>0</td>\n",
       "      <td>0</td>\n",
       "      <td>35</td>\n",
       "      <td>...</td>\n",
       "      <td>0</td>\n",
       "      <td>0</td>\n",
       "      <td>NaN</td>\n",
       "      <td>35</td>\n",
       "      <td>OWN</td>\n",
       "      <td>0</td>\n",
       "      <td>NaN</td>\n",
       "      <td>0</td>\n",
       "      <td>NaN</td>\n",
       "      <td>0</td>\n",
       "    </tr>\n",
       "    <tr>\n",
       "      <th>1</th>\n",
       "      <td>2018090600</td>\n",
       "      <td>2018-09-06</td>\n",
       "      <td>2</td>\n",
       "      <td>0</td>\n",
       "      <td>0</td>\n",
       "      <td>NaN</td>\n",
       "      <td>ATL</td>\n",
       "      <td>0</td>\n",
       "      <td>0</td>\n",
       "      <td>0</td>\n",
       "      <td>...</td>\n",
       "      <td>0</td>\n",
       "      <td>0</td>\n",
       "      <td>NaN</td>\n",
       "      <td>0</td>\n",
       "      <td>OWN</td>\n",
       "      <td>0</td>\n",
       "      <td>NaN</td>\n",
       "      <td>0</td>\n",
       "      <td>NaN</td>\n",
       "      <td>0</td>\n",
       "    </tr>\n",
       "    <tr>\n",
       "      <th>2</th>\n",
       "      <td>2018090600</td>\n",
       "      <td>2018-09-06</td>\n",
       "      <td>3</td>\n",
       "      <td>0</td>\n",
       "      <td>0</td>\n",
       "      <td>NaN</td>\n",
       "      <td>ATL</td>\n",
       "      <td>0</td>\n",
       "      <td>0</td>\n",
       "      <td>0</td>\n",
       "      <td>...</td>\n",
       "      <td>0</td>\n",
       "      <td>0</td>\n",
       "      <td>NaN</td>\n",
       "      <td>0</td>\n",
       "      <td>OWN</td>\n",
       "      <td>0</td>\n",
       "      <td>NaN</td>\n",
       "      <td>0</td>\n",
       "      <td>NaN</td>\n",
       "      <td>0</td>\n",
       "    </tr>\n",
       "    <tr>\n",
       "      <th>3</th>\n",
       "      <td>2018090600</td>\n",
       "      <td>2018-09-06</td>\n",
       "      <td>4</td>\n",
       "      <td>2</td>\n",
       "      <td>19</td>\n",
       "      <td>NaN</td>\n",
       "      <td>ATL</td>\n",
       "      <td>0</td>\n",
       "      <td>0</td>\n",
       "      <td>0</td>\n",
       "      <td>...</td>\n",
       "      <td>0</td>\n",
       "      <td>0</td>\n",
       "      <td>NaN</td>\n",
       "      <td>0</td>\n",
       "      <td>OWN</td>\n",
       "      <td>0</td>\n",
       "      <td>NaN</td>\n",
       "      <td>0</td>\n",
       "      <td>NaN</td>\n",
       "      <td>0</td>\n",
       "    </tr>\n",
       "    <tr>\n",
       "      <th>4</th>\n",
       "      <td>2018090600</td>\n",
       "      <td>2018-09-06</td>\n",
       "      <td>4</td>\n",
       "      <td>1</td>\n",
       "      <td>18</td>\n",
       "      <td>NaN</td>\n",
       "      <td>ATL</td>\n",
       "      <td>0</td>\n",
       "      <td>0</td>\n",
       "      <td>0</td>\n",
       "      <td>...</td>\n",
       "      <td>0</td>\n",
       "      <td>0</td>\n",
       "      <td>NaN</td>\n",
       "      <td>0</td>\n",
       "      <td>OWN</td>\n",
       "      <td>0</td>\n",
       "      <td>NaN</td>\n",
       "      <td>0</td>\n",
       "      <td>NaN</td>\n",
       "      <td>0</td>\n",
       "    </tr>\n",
       "  </tbody>\n",
       "</table>\n",
       "<p>5 rows × 45 columns</p>\n",
       "</div>"
      ],
      "text/plain": [
       "       GameId    GameDate  Quarter  Minute  Second OffenseTeam DefenseTeam  \\\n",
       "0  2018090600  2018-09-06        2       6       9         PHI         ATL   \n",
       "1  2018090600  2018-09-06        2       0       0         NaN         ATL   \n",
       "2  2018090600  2018-09-06        3       0       0         NaN         ATL   \n",
       "3  2018090600  2018-09-06        4       2      19         NaN         ATL   \n",
       "4  2018090600  2018-09-06        4       1      18         NaN         ATL   \n",
       "\n",
       "   Down  ToGo  YardLine      ...       IsTwoPointConversion  \\\n",
       "0     0     0        35      ...                          0   \n",
       "1     0     0         0      ...                          0   \n",
       "2     0     0         0      ...                          0   \n",
       "3     0     0         0      ...                          0   \n",
       "4     0     0         0      ...                          0   \n",
       "\n",
       "   IsTwoPointConversionSuccessful  RushDirection  YardLineFixed  \\\n",
       "0                               0            NaN             35   \n",
       "1                               0            NaN              0   \n",
       "2                               0            NaN              0   \n",
       "3                               0            NaN              0   \n",
       "4                               0            NaN              0   \n",
       "\n",
       "  YardLineDirection  IsPenaltyAccepted  PenaltyTeam  IsNoPlay  PenaltyType  \\\n",
       "0               OWN                  0          NaN         0          NaN   \n",
       "1               OWN                  0          NaN         0          NaN   \n",
       "2               OWN                  0          NaN         0          NaN   \n",
       "3               OWN                  0          NaN         0          NaN   \n",
       "4               OWN                  0          NaN         0          NaN   \n",
       "\n",
       "   PenaltyYards  \n",
       "0             0  \n",
       "1             0  \n",
       "2             0  \n",
       "3             0  \n",
       "4             0  \n",
       "\n",
       "[5 rows x 45 columns]"
      ]
     },
     "execution_count": 102,
     "metadata": {},
     "output_type": "execute_result"
    }
   ],
   "source": [
    "df18.head()"
   ]
  },
  {
   "cell_type": "markdown",
   "metadata": {},
   "source": [
    "This is a detailed account of the season and includes the following statistics:"
   ]
  },
  {
   "cell_type": "code",
   "execution_count": 18,
   "metadata": {},
   "outputs": [
    {
     "data": {
      "text/plain": [
       "Index(['GameId', 'GameDate', 'Quarter', 'Minute', 'Second', 'OffenseTeam',\n",
       "       'DefenseTeam', 'Down', 'ToGo', 'YardLine', 'Unnamed: 10',\n",
       "       'SeriesFirstDown', 'Unnamed: 12', 'NextScore', 'Description', 'TeamWin',\n",
       "       'Unnamed: 16', 'Unnamed: 17', 'SeasonYear', 'Yards', 'Formation',\n",
       "       'PlayType', 'IsRush', 'IsPass', 'IsIncomplete', 'IsTouchdown',\n",
       "       'PassType', 'IsSack', 'IsChallenge', 'IsChallengeReversed',\n",
       "       'Challenger', 'IsMeasurement', 'IsInterception', 'IsFumble',\n",
       "       'IsPenalty', 'IsTwoPointConversion', 'IsTwoPointConversionSuccessful',\n",
       "       'RushDirection', 'YardLineFixed', 'YardLineDirection',\n",
       "       'IsPenaltyAccepted', 'PenaltyTeam', 'IsNoPlay', 'PenaltyType',\n",
       "       'PenaltyYards'],\n",
       "      dtype='object')"
      ]
     },
     "execution_count": 18,
     "metadata": {},
     "output_type": "execute_result"
    }
   ],
   "source": [
    "df18.columns"
   ]
  },
  {
   "cell_type": "markdown",
   "metadata": {},
   "source": [
    "Looking at the columns of the dataset I can see there are a few columns that might need some additional work. A few of the columns seem to be unnamed. Additionally, it might prove helpful to sort the dataset by GameID as currently it is not. I would also need to exclude certain situations where the fourth down play is inconsequential (end of half/game) and therefore will skew the data towards failing a fourth down attempt. Otherwise, the data set does seem to have enough detail to glean the necessary data."
   ]
  },
  {
   "cell_type": "markdown",
   "metadata": {},
   "source": [
    "### _Is it a large enough sample to correctly describe the trends?_"
   ]
  },
  {
   "cell_type": "code",
   "execution_count": 19,
   "metadata": {},
   "outputs": [
    {
     "data": {
      "text/plain": [
       "(45016, 45)"
      ]
     },
     "execution_count": 19,
     "metadata": {},
     "output_type": "execute_result"
    }
   ],
   "source": [
    "df18.shape"
   ]
  },
  {
   "cell_type": "code",
   "execution_count": 37,
   "metadata": {},
   "outputs": [
    {
     "data": {
      "text/plain": [
       "(3764, 45)"
      ]
     },
     "execution_count": 37,
     "metadata": {},
     "output_type": "execute_result"
    }
   ],
   "source": [
    "fourth = df18[df18['Down'] == 4]\n",
    "fourth.shape"
   ]
  },
  {
   "cell_type": "markdown",
   "metadata": {},
   "source": [
    "Out of a total of 45,016 plays recorded in the 2018 season, there were a total of 3,764 fourth down plays. I think it suffices to say that this sample definitely is large enough to describe the trends. And unless NFL coaches decide they want to run option plays all day from the wishbone formation, examining the latest season, I feel, will most closely resemble the future play schemes of next season and therefore has the highest likelihood of correctly predicting the outcomes in future games."
   ]
  },
  {
   "cell_type": "markdown",
   "metadata": {},
   "source": [
    "### _How does this season compare to previous seasons?_"
   ]
  },
  {
   "cell_type": "code",
   "execution_count": 100,
   "metadata": {},
   "outputs": [
    {
     "name": "stdout",
     "output_type": "stream",
     "text": [
      "[45695, 46277, 45951, 45293, 45016]\n",
      "[3953, 4010, 3924, 4048, 3764]\n"
     ]
    }
   ],
   "source": [
    "total = []\n",
    "fourthdown = []\n",
    "\n",
    "# Make a list of number of total and 4th down plays for the past 5 seasons\n",
    "for season in data:\n",
    "    total.append(season.shape[0])\n",
    "    fourthdown.append(season[season['Down'] == 4].shape[0])\n",
    "\n",
    "print(total)\n",
    "print(fourthdown)"
   ]
  },
  {
   "cell_type": "code",
   "execution_count": 128,
   "metadata": {},
   "outputs": [
    {
     "data": {
      "image/png": "[encoded data removed]",
      "text/plain": [
       "<Figure size 1080x360 with 2 Axes>"
      ]
     },
     "metadata": {
      "needs_background": "light"
     },
     "output_type": "display_data"
    }
   ],
   "source": [
    "plt.figure(figsize=(15, 5))\n",
    "\n",
    "# First plot compare the fourth down plays with the total number of plays for each of the past 5 seasons\n",
    "ax = plt.subplot(1, 2, 1)\n",
    "x_pos = np.arange(len(total))\n",
    "x_name = (2014, 2015, 2016, 2017, 2018)\n",
    "width = 0.4\n",
    "plt.ylim(0, 50000)\n",
    "\n",
    "rect1 = ax.bar(y_pos+width/2, total, width, color='skyblue', label='Total')\n",
    "rect2 = ax.bar(y_pos-width/2, fourthdown, width, label='4th Down')\n",
    "\n",
    "ax.set_title('Number of Plays')\n",
    "ax.set_xlabel('Season')\n",
    "ax.set_ylabel('Count')\n",
    "ax.set_xticks(x_pos)\n",
    "ax.set_xticklabels(x_name)\n",
    "ax.legend(loc='center right')\n",
    "\n",
    "for rect in rect1:\n",
    "    height = rect.get_height()\n",
    "    ax.text(rect.get_x(), height*1.01, '{}'.format(height))\n",
    "    \n",
    "for rect in rect2:\n",
    "    height = rect.get_height()\n",
    "    ax.text(rect.get_x(), height*1.1, '{}'.format(height))\n",
    "\n",
    "# Second plot the ratio of fourth down plays to the total number of plays for each season to see if there have been \n",
    "# fluctuations and also to see if the 2018 season is anomalous at a glance.\n",
    "bx = plt.subplot(1, 2, 2)\n",
    "\n",
    "ratio = []\n",
    "for i in range(len(total)):\n",
    "    ratio.append(round(fourthdown[i]/total[i]*100, 2))\n",
    "    \n",
    "plt.plot(ratio, 'bo--')\n",
    "plt.ylim(0, 16)\n",
    "\n",
    "bx.set_title('Percentage of Fourth Down Plays')\n",
    "bx.set_ylabel('Percentage')\n",
    "bx.set_xlabel('Season')\n",
    "bx.set_xticks(x_pos)\n",
    "bx.set_xticklabels(x_name)\n",
    "\n",
    "# Label each point in plot\n",
    "for i in range(len(ratio)):\n",
    "    bx.annotate(ratio[i], xy=(i-0.1, ratio[i]+0.5))\n",
    "\n",
    "plt.show()"
   ]
  },
  {
   "cell_type": "markdown",
   "metadata": {},
   "source": [
    "The ratio of fourth down plays to the total number of plays ran during a season for the last 5 seasons have largely been the same, hovering just a bit above 8 percent. 2018 season, for some reason, has seen less plays than the previous 4 seasons, but as the second plot shows, the percentage doesn't show a remarkable decrease, so using the most current data will suit just fine for the purpose of this research."
   ]
  },
  {
   "cell_type": "markdown",
   "metadata": {},
   "source": [
    "## Scouting Report\n",
    "To punt or not? That isn't necessarily the question we want to answer. Rather, it would make much more sense to see in which situations going for it on 4th down, when traditionally, head coaches normally don't think it to be wise, makes a difference in increasing the chances of winning the game. Because really, winning is the only thing that truly matters despite what our parents told us when we were kids. Obviously, there is myriad of factors (such as the weather, field condition, strength of offense/defense, injuries, etc.) that contribute to the outcome of the game, so this will be a somewhat sterile look into this topic. There are a few questions I would like for the recommendation engine to answer:\n",
    "\n",
    "1. _Will punting DECREASE the chances of the opposing team scoring?_\n",
    "\n",
    "\n",
    "2. _Will NOT punting and attempting to convert on fourth down INCREASE the chances of scoring?_\n",
    "\n",
    "\n",
    "3. _What is the ideal situation in which attempting to convert on fourth down is the BETTER choice?_"
   ]
  },
  {
   "cell_type": "markdown",
   "metadata": {},
   "source": [
    "## The Game Plan\n",
    "1. _Will punting DECREASE the chances of the opposing team scoring?_    \n",
    "In order to tackle this first question, I am going to take a look at scoring drives and the distance in which the scoring team traveled. I'm going to theorize (from spending thousands of hours watching as a fan) that increasing the distance to goal does indeed decrease the chances of the team scoring. Since a punt return is a continuation of the 4th down play, the resulting field position or score will be taken into account as well.\n",
    "\n",
    "\n",
    "2. _Will NOT punting and attempting to convert on fourth down INCREASE the chances of scoring?_  \n",
    "Now there is two distinct outcomes when a team attempts to convert on fourth down: success or failure. I will attempt to compare the probability of scoring from the new field position and see whether there is an increase in the probability and if there is, whether the increase is large enough to warrant taking on the risk of failing. In order to truly compare the worthiness, I will need to also need to describe the chances of the opposing team scoring in the ensuing possession after a failed 4th down attempt.\n",
    "\n",
    "\n",
    "3. _What is the ideal situation in which attempting to convert on fourth down is the BETTER choice?_  \n",
    "Answers to questions 1 & 2 will help me narrow down the circumstances in which attempting to convert on 4th down is the better choice. Since we are only dealing with the resulting outcomes of each play, I am going to answer this question only in terms of the field position and the 'to-go' yardage."
   ]
  },
  {
   "cell_type": "markdown",
   "metadata": {},
   "source": [
    "### Overtime  \n",
    "Since football isn't played on keyboard, or on a level playing field in terms of team strength, home stadium, and weather, I would need to consider additional factors that go into making decisions in real-time. I would like to develop a recommendation tool that scales with the strength of the offense versus the defense to predict the likelyhood of the attempt succeeding given the yardage left to go. I can also add another layer of complexity to recommend the best personnel and formation to maximize the probability. "
   ]
  }
 ],
 "metadata": {
  "kernelspec": {
   "display_name": "Python 3",
   "language": "python",
   "name": "python3"
  },
  "language_info": {
   "codemirror_mode": {
    "name": "ipython",
    "version": 3
   },
   "file_extension": ".py",
   "mimetype": "text/x-python",
   "name": "python",
   "nbconvert_exporter": "python",
   "pygments_lexer": "ipython3",
   "version": "3.7.1"
  }
 },
 "nbformat": 4,
 "nbformat_minor": 2
}
