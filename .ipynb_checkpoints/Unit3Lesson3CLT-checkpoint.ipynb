{
 "cells": [
  {
   "cell_type": "code",
   "execution_count": 2,
   "metadata": {},
   "outputs": [],
   "source": [
    "import numpy as np\n",
    "import pandas as pd\n",
    "import matplotlib.pyplot as plt\n",
    "import scipy\n",
    "%matplotlib inline"
   ]
  },
  {
   "cell_type": "code",
   "execution_count": 11,
   "metadata": {},
   "outputs": [
    {
     "data": {
      "image/png": "[encoded data removed]",
      "text/plain": [
       "<Figure size 432x288 with 1 Axes>"
      ]
     },
     "metadata": {
      "needs_background": "light"
     },
     "output_type": "display_data"
    },
    {
     "name": "stdout",
     "output_type": "stream",
     "text": [
      "Sample 1: mean=2.08, std=1.2781236246936365\n",
      "Sample 2: mean=4.81, std=1.4676171162806735\n"
     ]
    }
   ],
   "source": [
    "pop1 = np.random.binomial(10, 0.2, 10000)\n",
    "pop2 = np.random.binomial(10, 0.5, 10000)\n",
    "\n",
    "sample1 = np.random.choice(pop1, 100, replace=True)\n",
    "sample2 = np.random.choice(pop2, 100, replace=True)\n",
    "\n",
    "plt.hist(sample1, color='pink', alpha=.7, label='Sample 1')\n",
    "plt.hist(sample2, color='black', alpha=.4, label='Sample 2')\n",
    "plt.legend(loc='best')\n",
    "plt.show()\n",
    "\n",
    "mean1 = sample1.mean()\n",
    "mean2 = sample2.mean()\n",
    "std1 = sample1.std()\n",
    "std2 = sample2.std()\n",
    "\n",
    "print('Sample 1: mean={}, std={}'.format(mean1, std1))\n",
    "print('Sample 2: mean={}, std={}'.format(mean2, std2))\n"
   ]
  },
  {
   "cell_type": "code",
   "execution_count": 23,
   "metadata": {},
   "outputs": [
    {
     "data": {
      "image/png": "[encoded data removed]",
      "text/plain": [
       "<Figure size 432x288 with 1 Axes>"
      ]
     },
     "metadata": {
      "needs_background": "light"
     },
     "output_type": "display_data"
    },
    {
     "name": "stdout",
     "output_type": "stream",
     "text": [
      "Sample 1: mean=2.032, std=1.2597523566161726\n",
      "Sample 2: mean=5.084, std=1.597793478519674\n"
     ]
    }
   ],
   "source": [
    "# 1. Increase the size of sample from 100 to 1000.\n",
    "# since we are increasing the sample size, mean and the std should come closer together\n",
    "sample1 = np.random.choice(pop1, 1000, replace=True)\n",
    "sample2 = np.random.choice(pop2, 1000, replace=True)\n",
    "\n",
    "plt.hist(sample1, color='black', alpha=.5, label='Sample 1')\n",
    "plt.hist(sample2, color='blue', alpha=.5, label='Sample 2')\n",
    "plt.legend(loc='best')\n",
    "plt.show()\n",
    "\n",
    "mean1 = sample1.mean()\n",
    "mean2 = sample2.mean()\n",
    "std1 = sample1.std()\n",
    "std2 = sample2.std()\n",
    "\n",
    "print('Sample 1: mean={}, std={}'.format(mean1, std1))\n",
    "print('Sample 2: mean={}, std={}'.format(mean2, std2))"
   ]
  },
  {
   "cell_type": "code",
   "execution_count": 26,
   "metadata": {},
   "outputs": [
    {
     "data": {
      "image/png": "[encoded data removed]",
      "text/plain": [
       "<Figure size 432x288 with 1 Axes>"
      ]
     },
     "metadata": {
      "needs_background": "light"
     },
     "output_type": "display_data"
    },
    {
     "name": "stdout",
     "output_type": "stream",
     "text": [
      "Sample 1: mean=2.1, std=0.8888194417315589\n",
      "Sample 2: mean=4.35, std=1.5256146302392357\n"
     ]
    }
   ],
   "source": [
    "# Decrease sample size to 20\n",
    "sample1 = np.random.choice(pop1, 20, replace=True)\n",
    "sample2 = np.random.choice(pop2, 20, replace=True)\n",
    "\n",
    "plt.hist(sample1, color='red', alpha=.5, label='Sample 1')\n",
    "plt.hist(sample2, color='green', alpha=.5, label='Sample 2')\n",
    "plt.legend(loc='lower right')\n",
    "plt.show()\n",
    "\n",
    "mean1 = sample1.mean()\n",
    "mean2 = sample2.mean()\n",
    "std1 = sample1.std()\n",
    "std2 = sample2.std()\n",
    "\n",
    "print('Sample 1: mean={}, std={}'.format(mean1, std1))\n",
    "print('Sample 2: mean={}, std={}'.format(mean2, std2))"
   ]
  },
  {
   "cell_type": "code",
   "execution_count": 28,
   "metadata": {},
   "outputs": [
    {
     "data": {
      "image/png": "[encoded data removed]",
      "text/plain": [
       "<Figure size 432x288 with 1 Axes>"
      ]
     },
     "metadata": {
      "needs_background": "light"
     },
     "output_type": "display_data"
    },
    {
     "name": "stdout",
     "output_type": "stream",
     "text": [
      "Ttest_indResult(statistic=30.750986353975833, pvalue=2.769798189733998e-170)\n"
     ]
    }
   ],
   "source": [
    "# Change the probability value for pop1 to 0.3\n",
    "pop1 = np.random.binomial(10, 0.3, 10000)\n",
    "pop2 = np.random.binomial(10, 0.5, 10000)\n",
    "\n",
    "# Take new samples\n",
    "sample1 = np.random.choice(pop1, 1000, replace=True)\n",
    "sample2 = np.random.choice(pop2, 1000, replace=True)\n",
    "\n",
    "# Plot histogram\n",
    "plt.hist(sample1, color='orange', alpha=.5, label='Sample 1')\n",
    "plt.hist(sample2, color='green', alpha=.5, label='Sample 2')\n",
    "plt.legend(loc='best')\n",
    "plt.show()\n",
    "\n",
    "# Compute t-statistic and p-value\n",
    "from scipy.stats import ttest_ind\n",
    "print(ttest_ind(sample2, sample1, equal_var=False))"
   ]
  },
  {
   "cell_type": "code",
   "execution_count": 29,
   "metadata": {},
   "outputs": [
    {
     "data": {
      "image/png": "[encoded data removed]",
      "text/plain": [
       "<Figure size 432x288 with 1 Axes>"
      ]
     },
     "metadata": {
      "needs_background": "light"
     },
     "output_type": "display_data"
    },
    {
     "name": "stdout",
     "output_type": "stream",
     "text": [
      "Ttest_indResult(statistic=14.438951510385472, pvalue=5.02277022446841e-45)\n"
     ]
    }
   ],
   "source": [
    "# Change vlue p to 0.4 and try again\n",
    "pop1 = np.random.binomial(10, 0.4, 10000)\n",
    "pop2 = np.random.binomial(10, 0.5, 10000)\n",
    "\n",
    "# Take new samples\n",
    "sample1 = np.random.choice(pop1, 1000, replace=True)\n",
    "sample2 = np.random.choice(pop2, 1000, replace=True)\n",
    "\n",
    "# Plot histogram\n",
    "plt.hist(sample1, color='orange', alpha=.5, label='Sample 1')\n",
    "plt.hist(sample2, color='green', alpha=.5, label='Sample 2')\n",
    "plt.legend(loc='best')\n",
    "plt.show()\n",
    "\n",
    "# Compute t-statistic and p-value\n",
    "from scipy.stats import ttest_ind\n",
    "print(ttest_ind(sample2, sample1, equal_var=False))"
   ]
  },
  {
   "cell_type": "code",
   "execution_count": null,
   "metadata": {},
   "outputs": [],
   "source": []
  }
 ],
 "metadata": {
  "kernelspec": {
   "display_name": "Python 3",
   "language": "python",
   "name": "python3"
  },
  "language_info": {
   "codemirror_mode": {
    "name": "ipython",
    "version": 3
   },
   "file_extension": ".py",
   "mimetype": "text/x-python",
   "name": "python",
   "nbconvert_exporter": "python",
   "pygments_lexer": "ipython3",
   "version": "3.7.1"
  }
 },
 "nbformat": 4,
 "nbformat_minor": 2
}
