{
 "cells": [
  {
   "cell_type": "code",
   "execution_count": 1,
   "metadata": {},
   "outputs": [],
   "source": [
    "import pandas as pd\n",
    "import numpy as np\n",
    "import matplotlib.pyplot as plt\n",
    "import scipy.stats as stats\n",
    "%matplotlib inline"
   ]
  },
  {
   "cell_type": "code",
   "execution_count": 176,
   "metadata": {},
   "outputs": [
    {
     "data": {
      "text/html": [
       "<div>\n",
       "<style scoped>\n",
       "    .dataframe tbody tr th:only-of-type {\n",
       "        vertical-align: middle;\n",
       "    }\n",
       "\n",
       "    .dataframe tbody tr th {\n",
       "        vertical-align: top;\n",
       "    }\n",
       "\n",
       "    .dataframe thead th {\n",
       "        text-align: right;\n",
       "    }\n",
       "</style>\n",
       "<table border=\"1\" class=\"dataframe\">\n",
       "  <thead>\n",
       "    <tr style=\"text-align: right;\">\n",
       "      <th></th>\n",
       "      <th>cntry</th>\n",
       "      <th>idno</th>\n",
       "      <th>year</th>\n",
       "      <th>tvtot</th>\n",
       "      <th>ppltrst</th>\n",
       "      <th>pplfair</th>\n",
       "      <th>pplhlp</th>\n",
       "      <th>happy</th>\n",
       "      <th>sclmeet</th>\n",
       "      <th>sclact</th>\n",
       "      <th>gndr</th>\n",
       "      <th>agea</th>\n",
       "      <th>partner</th>\n",
       "    </tr>\n",
       "  </thead>\n",
       "  <tbody>\n",
       "    <tr>\n",
       "      <th>0</th>\n",
       "      <td>CH</td>\n",
       "      <td>5.0</td>\n",
       "      <td>6</td>\n",
       "      <td>3.0</td>\n",
       "      <td>3.0</td>\n",
       "      <td>10.0</td>\n",
       "      <td>5.0</td>\n",
       "      <td>8.0</td>\n",
       "      <td>5.0</td>\n",
       "      <td>4.0</td>\n",
       "      <td>2.0</td>\n",
       "      <td>60.0</td>\n",
       "      <td>1.0</td>\n",
       "    </tr>\n",
       "    <tr>\n",
       "      <th>1</th>\n",
       "      <td>CH</td>\n",
       "      <td>25.0</td>\n",
       "      <td>6</td>\n",
       "      <td>6.0</td>\n",
       "      <td>5.0</td>\n",
       "      <td>7.0</td>\n",
       "      <td>5.0</td>\n",
       "      <td>9.0</td>\n",
       "      <td>3.0</td>\n",
       "      <td>2.0</td>\n",
       "      <td>2.0</td>\n",
       "      <td>59.0</td>\n",
       "      <td>1.0</td>\n",
       "    </tr>\n",
       "    <tr>\n",
       "      <th>2</th>\n",
       "      <td>CH</td>\n",
       "      <td>26.0</td>\n",
       "      <td>6</td>\n",
       "      <td>1.0</td>\n",
       "      <td>8.0</td>\n",
       "      <td>8.0</td>\n",
       "      <td>8.0</td>\n",
       "      <td>7.0</td>\n",
       "      <td>6.0</td>\n",
       "      <td>3.0</td>\n",
       "      <td>1.0</td>\n",
       "      <td>24.0</td>\n",
       "      <td>2.0</td>\n",
       "    </tr>\n",
       "    <tr>\n",
       "      <th>3</th>\n",
       "      <td>CH</td>\n",
       "      <td>28.0</td>\n",
       "      <td>6</td>\n",
       "      <td>4.0</td>\n",
       "      <td>6.0</td>\n",
       "      <td>6.0</td>\n",
       "      <td>7.0</td>\n",
       "      <td>10.0</td>\n",
       "      <td>6.0</td>\n",
       "      <td>2.0</td>\n",
       "      <td>2.0</td>\n",
       "      <td>64.0</td>\n",
       "      <td>1.0</td>\n",
       "    </tr>\n",
       "    <tr>\n",
       "      <th>4</th>\n",
       "      <td>CH</td>\n",
       "      <td>29.0</td>\n",
       "      <td>6</td>\n",
       "      <td>5.0</td>\n",
       "      <td>6.0</td>\n",
       "      <td>7.0</td>\n",
       "      <td>5.0</td>\n",
       "      <td>8.0</td>\n",
       "      <td>7.0</td>\n",
       "      <td>2.0</td>\n",
       "      <td>2.0</td>\n",
       "      <td>55.0</td>\n",
       "      <td>1.0</td>\n",
       "    </tr>\n",
       "  </tbody>\n",
       "</table>\n",
       "</div>"
      ],
      "text/plain": [
       "  cntry  idno  year  tvtot  ppltrst  pplfair  pplhlp  happy  sclmeet  sclact  \\\n",
       "0    CH   5.0     6    3.0      3.0     10.0     5.0    8.0      5.0     4.0   \n",
       "1    CH  25.0     6    6.0      5.0      7.0     5.0    9.0      3.0     2.0   \n",
       "2    CH  26.0     6    1.0      8.0      8.0     8.0    7.0      6.0     3.0   \n",
       "3    CH  28.0     6    4.0      6.0      6.0     7.0   10.0      6.0     2.0   \n",
       "4    CH  29.0     6    5.0      6.0      7.0     5.0    8.0      7.0     2.0   \n",
       "\n",
       "   gndr  agea  partner  \n",
       "0   2.0  60.0      1.0  \n",
       "1   2.0  59.0      1.0  \n",
       "2   1.0  24.0      2.0  \n",
       "3   2.0  64.0      1.0  \n",
       "4   2.0  55.0      1.0  "
      ]
     },
     "execution_count": 176,
     "metadata": {},
     "output_type": "execute_result"
    }
   ],
   "source": [
    "# import data\n",
    "ess = pd.read_csv('https://raw.githubusercontent.com/Thinkful-Ed/data-201-resources/master/ESS_practice_data/ESSdata_Thinkful.csv')\n",
    "#ess = ess.dropna()\n",
    "#print(ess.isnull().values.any())\n",
    "ess.head()"
   ]
  },
  {
   "cell_type": "markdown",
   "metadata": {},
   "source": [
    "__1. Did people become less trusting from 2012 to 2014? Compute results for each country in the sample.__"
   ]
  },
  {
   "cell_type": "code",
   "execution_count": 177,
   "metadata": {},
   "outputs": [
    {
     "data": {
      "text/html": [
       "<div>\n",
       "<style scoped>\n",
       "    .dataframe tbody tr th:only-of-type {\n",
       "        vertical-align: middle;\n",
       "    }\n",
       "\n",
       "    .dataframe tbody tr th {\n",
       "        vertical-align: top;\n",
       "    }\n",
       "\n",
       "    .dataframe thead th {\n",
       "        text-align: right;\n",
       "    }\n",
       "</style>\n",
       "<table border=\"1\" class=\"dataframe\">\n",
       "  <thead>\n",
       "    <tr style=\"text-align: right;\">\n",
       "      <th></th>\n",
       "      <th></th>\n",
       "      <th>count</th>\n",
       "      <th>mean</th>\n",
       "      <th>std</th>\n",
       "      <th>min</th>\n",
       "      <th>25%</th>\n",
       "      <th>50%</th>\n",
       "      <th>75%</th>\n",
       "      <th>max</th>\n",
       "    </tr>\n",
       "    <tr>\n",
       "      <th>cntry</th>\n",
       "      <th>year</th>\n",
       "      <th></th>\n",
       "      <th></th>\n",
       "      <th></th>\n",
       "      <th></th>\n",
       "      <th></th>\n",
       "      <th></th>\n",
       "      <th></th>\n",
       "      <th></th>\n",
       "    </tr>\n",
       "  </thead>\n",
       "  <tbody>\n",
       "    <tr>\n",
       "      <th rowspan=\"2\" valign=\"top\">CH</th>\n",
       "      <th>6</th>\n",
       "      <td>773.0</td>\n",
       "      <td>5.677878</td>\n",
       "      <td>2.130701</td>\n",
       "      <td>0.0</td>\n",
       "      <td>4.00</td>\n",
       "      <td>6.0</td>\n",
       "      <td>7.0</td>\n",
       "      <td>10.0</td>\n",
       "    </tr>\n",
       "    <tr>\n",
       "      <th>7</th>\n",
       "      <td>773.0</td>\n",
       "      <td>5.751617</td>\n",
       "      <td>2.143888</td>\n",
       "      <td>0.0</td>\n",
       "      <td>5.00</td>\n",
       "      <td>6.0</td>\n",
       "      <td>7.0</td>\n",
       "      <td>10.0</td>\n",
       "    </tr>\n",
       "    <tr>\n",
       "      <th rowspan=\"2\" valign=\"top\">CZ</th>\n",
       "      <th>6</th>\n",
       "      <td>651.0</td>\n",
       "      <td>4.362519</td>\n",
       "      <td>2.409738</td>\n",
       "      <td>0.0</td>\n",
       "      <td>3.00</td>\n",
       "      <td>4.0</td>\n",
       "      <td>6.0</td>\n",
       "      <td>10.0</td>\n",
       "    </tr>\n",
       "    <tr>\n",
       "      <th>7</th>\n",
       "      <td>657.0</td>\n",
       "      <td>4.424658</td>\n",
       "      <td>2.305389</td>\n",
       "      <td>0.0</td>\n",
       "      <td>3.00</td>\n",
       "      <td>5.0</td>\n",
       "      <td>6.0</td>\n",
       "      <td>10.0</td>\n",
       "    </tr>\n",
       "    <tr>\n",
       "      <th rowspan=\"2\" valign=\"top\">DE</th>\n",
       "      <th>6</th>\n",
       "      <td>14.0</td>\n",
       "      <td>5.214286</td>\n",
       "      <td>1.528125</td>\n",
       "      <td>3.0</td>\n",
       "      <td>4.25</td>\n",
       "      <td>5.0</td>\n",
       "      <td>6.5</td>\n",
       "      <td>8.0</td>\n",
       "    </tr>\n",
       "    <tr>\n",
       "      <th>7</th>\n",
       "      <td>14.0</td>\n",
       "      <td>5.357143</td>\n",
       "      <td>2.530039</td>\n",
       "      <td>2.0</td>\n",
       "      <td>3.25</td>\n",
       "      <td>5.5</td>\n",
       "      <td>7.0</td>\n",
       "      <td>10.0</td>\n",
       "    </tr>\n",
       "    <tr>\n",
       "      <th rowspan=\"2\" valign=\"top\">ES</th>\n",
       "      <th>6</th>\n",
       "      <td>1213.0</td>\n",
       "      <td>5.114592</td>\n",
       "      <td>2.183623</td>\n",
       "      <td>0.0</td>\n",
       "      <td>4.00</td>\n",
       "      <td>5.0</td>\n",
       "      <td>7.0</td>\n",
       "      <td>10.0</td>\n",
       "    </tr>\n",
       "    <tr>\n",
       "      <th>7</th>\n",
       "      <td>1211.0</td>\n",
       "      <td>4.895128</td>\n",
       "      <td>2.148165</td>\n",
       "      <td>0.0</td>\n",
       "      <td>3.00</td>\n",
       "      <td>5.0</td>\n",
       "      <td>6.0</td>\n",
       "      <td>10.0</td>\n",
       "    </tr>\n",
       "    <tr>\n",
       "      <th rowspan=\"2\" valign=\"top\">NO</th>\n",
       "      <th>6</th>\n",
       "      <td>730.0</td>\n",
       "      <td>6.649315</td>\n",
       "      <td>1.749868</td>\n",
       "      <td>0.0</td>\n",
       "      <td>5.00</td>\n",
       "      <td>7.0</td>\n",
       "      <td>8.0</td>\n",
       "      <td>10.0</td>\n",
       "    </tr>\n",
       "    <tr>\n",
       "      <th>7</th>\n",
       "      <td>730.0</td>\n",
       "      <td>6.598630</td>\n",
       "      <td>1.811183</td>\n",
       "      <td>0.0</td>\n",
       "      <td>5.00</td>\n",
       "      <td>7.0</td>\n",
       "      <td>8.0</td>\n",
       "      <td>10.0</td>\n",
       "    </tr>\n",
       "    <tr>\n",
       "      <th rowspan=\"2\" valign=\"top\">SE</th>\n",
       "      <th>6</th>\n",
       "      <td>906.0</td>\n",
       "      <td>6.058499</td>\n",
       "      <td>2.055554</td>\n",
       "      <td>0.0</td>\n",
       "      <td>5.00</td>\n",
       "      <td>7.0</td>\n",
       "      <td>8.0</td>\n",
       "      <td>10.0</td>\n",
       "    </tr>\n",
       "    <tr>\n",
       "      <th>7</th>\n",
       "      <td>908.0</td>\n",
       "      <td>6.257709</td>\n",
       "      <td>2.005422</td>\n",
       "      <td>0.0</td>\n",
       "      <td>5.00</td>\n",
       "      <td>7.0</td>\n",
       "      <td>8.0</td>\n",
       "      <td>10.0</td>\n",
       "    </tr>\n",
       "  </tbody>\n",
       "</table>\n",
       "</div>"
      ],
      "text/plain": [
       "             count      mean       std  min   25%  50%  75%   max\n",
       "cntry year                                                       \n",
       "CH    6      773.0  5.677878  2.130701  0.0  4.00  6.0  7.0  10.0\n",
       "      7      773.0  5.751617  2.143888  0.0  5.00  6.0  7.0  10.0\n",
       "CZ    6      651.0  4.362519  2.409738  0.0  3.00  4.0  6.0  10.0\n",
       "      7      657.0  4.424658  2.305389  0.0  3.00  5.0  6.0  10.0\n",
       "DE    6       14.0  5.214286  1.528125  3.0  4.25  5.0  6.5   8.0\n",
       "      7       14.0  5.357143  2.530039  2.0  3.25  5.5  7.0  10.0\n",
       "ES    6     1213.0  5.114592  2.183623  0.0  4.00  5.0  7.0  10.0\n",
       "      7     1211.0  4.895128  2.148165  0.0  3.00  5.0  6.0  10.0\n",
       "NO    6      730.0  6.649315  1.749868  0.0  5.00  7.0  8.0  10.0\n",
       "      7      730.0  6.598630  1.811183  0.0  5.00  7.0  8.0  10.0\n",
       "SE    6      906.0  6.058499  2.055554  0.0  5.00  7.0  8.0  10.0\n",
       "      7      908.0  6.257709  2.005422  0.0  5.00  7.0  8.0  10.0"
      ]
     },
     "execution_count": 177,
     "metadata": {},
     "output_type": "execute_result"
    }
   ],
   "source": [
    "trust = ess['ppltrst'].groupby([ess['cntry'], ess['year']])\n",
    "trust.describe()"
   ]
  },
  {
   "cell_type": "code",
   "execution_count": 173,
   "metadata": {},
   "outputs": [
    {
     "data": {
      "image/png": "[encoded data removed]",
      "text/plain": [
       "<Figure size 720x720 with 12 Axes>"
      ]
     },
     "metadata": {
      "needs_background": "light"
     },
     "output_type": "display_data"
    }
   ],
   "source": [
    "# Let's test for normality\n",
    "plt.subplots(6, 2, figsize=(10, 10))\n",
    "trust_ch = ess.loc[ess['cntry'] == 'CH']\n",
    "trust_cz = ess.loc[ess['cntry'] == 'CZ']\n",
    "trust_de = ess.loc[ess['cntry'] == 'DE']\n",
    "trust_es = ess.loc[ess['cntry'] == 'ES']\n",
    "trust_no = ess.loc[ess['cntry'] == 'NO']\n",
    "trust_se = ess.loc[ess['cntry'] == 'SE']\n",
    "\n",
    "plt.subplot(621)\n",
    "plt.hist(trust_ch.loc[ess['year'] == 6].ppltrst)\n",
    "plt.subplot(622)\n",
    "plt.hist(trust_ch.loc[ess['year'] == 7].ppltrst)\n",
    "\n",
    "plt.subplot(623)\n",
    "plt.hist(trust_cz.loc[ess['year'] == 6].ppltrst)\n",
    "plt.subplot(624)\n",
    "plt.hist(trust_cz.loc[ess['year'] == 7].ppltrst)\n",
    "\n",
    "plt.subplot(625)\n",
    "plt.hist(trust_de.loc[ess['year'] == 6].ppltrst)\n",
    "plt.subplot(626)\n",
    "plt.hist(trust_de.loc[ess['year'] == 7].ppltrst)\n",
    "\n",
    "plt.subplot(627)\n",
    "plt.hist(trust_es.loc[ess['year'] == 6].ppltrst)\n",
    "plt.subplot(628)\n",
    "plt.hist(trust_es.loc[ess['year'] == 7].ppltrst)\n",
    "\n",
    "plt.subplot(6, 2, 9)\n",
    "plt.hist(trust_no.loc[ess['year'] == 6].ppltrst)\n",
    "plt.subplot(6, 2, 10)\n",
    "plt.hist(trust_no.loc[ess['year'] == 7].ppltrst)\n",
    "\n",
    "plt.subplot(6, 2, 11)\n",
    "plt.hist(trust_se.loc[ess['year'] == 6].ppltrst)\n",
    "plt.subplot(6, 2, 12)\n",
    "plt.hist(trust_se.loc[ess['year'] == 7].ppltrst)\n",
    "\n",
    "plt.show()"
   ]
  },
  {
   "cell_type": "markdown",
   "metadata": {},
   "source": [
    "They all look pretty normal with the exception of the Germany data which for whatever reason has a very small sample size. So we will use ANOVA to parametrically determine whether the difference between 2016 and 2018 are significantly different for all the countries except Germany. But since there are only 14 datapoints, it will be difficult to tell if the distribution will resemble a normal one (it seems likely from the other countries' data distribution) and any difference between the two group means will most likely be due to the randomness in the data."
   ]
  },
  {
   "cell_type": "code",
   "execution_count": 191,
   "metadata": {},
   "outputs": [
    {
     "name": "stdout",
     "output_type": "stream",
     "text": [
      "773\n",
      "Switzerland:\n",
      " t-stat: -0.6586851756725737\n",
      " p-value: 0.5102943511301135\n",
      "\n",
      "651\n",
      "Czech_Republic:\n",
      " t-stat: -0.440219908609957\n",
      " p-value: 0.6599241894564367\n",
      "\n",
      "14\n",
      "Germany:\n",
      " t-stat: -0.18399501804849683\n",
      " p-value: 0.8568563797095805\n",
      "\n",
      "1211\n",
      "Spain:\n",
      " t-stat: 2.4899311620174567\n",
      " p-value: 0.012910195297604806\n",
      "\n",
      "730\n",
      "Norway:\n",
      " t-stat: 0.5372131705675822\n",
      " p-value: 0.5912843025869986\n",
      "\n",
      "906\n",
      "Sweden:\n",
      " t-stat: -2.084246978881489\n",
      " p-value: 0.03741765719366441\n",
      "\n"
     ]
    }
   ],
   "source": [
    "# t-test for each country data from 2016 and 2018 as related samples\n",
    "#print(trust_ch['ppltrst'].loc[trust_ch['year'] == 6].mean())\n",
    "#print(trust_ch['ppltrst'].loc[trust_ch['year'] == 7].mean())\n",
    "\n",
    "def do_rel_ttest(country, column):\n",
    "    \n",
    "    abbrev = {'Switzerland'   : 'CH',\n",
    "              'Czech_Republic': 'CZ',\n",
    "              'Germany'       : 'DE',\n",
    "              'Spain'         : 'ES',\n",
    "              'Norway'        : 'NO',\n",
    "              'Sweden'        : 'SE'}\n",
    "    \n",
    "    country_data = ess.loc[ess['cntry'] == abbrev[country]]\n",
    "    #print(country_data)\n",
    "    \n",
    "    metric_16 = country_data[column].loc[country_data['year'] == 6].dropna()\n",
    "    metric_18 = country_data[column].loc[country_data['year'] == 7].dropna()\n",
    "    \n",
    "    test_rows = min(len(metric_16), len(metric_18))\n",
    "    print(test_rows)\n",
    "    \n",
    "    metric_16 = metric_16[:test_rows]\n",
    "    metric_18 = metric_18[:test_rows]\n",
    "    \n",
    "    T, p = stats.ttest_rel(metric_16, metric_18)\n",
    "    \n",
    "    print('{}:\\n t-stat: {}\\n p-value: {}\\n'.format(country, T, p))\n",
    "    \n",
    "do_rel_ttest('Switzerland', 'ppltrst')\n",
    "do_rel_ttest('Czech_Republic', 'ppltrst')\n",
    "do_rel_ttest('Germany', 'ppltrst')\n",
    "do_rel_ttest('Spain', 'ppltrst')\n",
    "do_rel_ttest('Norway', 'ppltrst')\n",
    "do_rel_ttest('Sweden', 'ppltrst')\n"
   ]
  },
  {
   "cell_type": "markdown",
   "metadata": {},
   "source": [
    "So it looks like out of the six countries, only two showed significant change in trust in people. Spanish respondents got more trusting, and Swedish got less trusting."
   ]
  },
  {
   "cell_type": "markdown",
   "metadata": {},
   "source": [
    "__2. Did people become happier from 2012 to 2014? Compute results fo each country in the sample.__"
   ]
  },
  {
   "cell_type": "markdown",
   "metadata": {},
   "source": [
    "Looks like we are in luck! We can just reuse the function from earlier provided that the data is normal."
   ]
  },
  {
   "cell_type": "code",
   "execution_count": 196,
   "metadata": {},
   "outputs": [
    {
     "name": "stdout",
     "output_type": "stream",
     "text": [
      "2016: 7.72\n",
      "2018: 7.67\n"
     ]
    }
   ],
   "source": [
    "# first let's see how the happiness score fared overall between 2016 and 2018\n",
    "happy_2016 = ess['happy'].loc[ess['year'] == 6].mean()\n",
    "happy_2018 = ess['happy'].loc[ess['year'] == 7].mean()\n",
    "print('2016: %0.2f\\n2018: %0.2f' % (happy_2016, happy_2018))"
   ]
  },
  {
   "cell_type": "code",
   "execution_count": 227,
   "metadata": {},
   "outputs": [
    {
     "data": {
      "image/png": "[encoded data removed]",
      "text/plain": [
       "<Figure size 720x72 with 2 Axes>"
      ]
     },
     "metadata": {
      "needs_background": "light"
     },
     "output_type": "display_data"
    },
    {
     "data": {
      "image/png": "[encoded data removed]",
      "text/plain": [
       "<Figure size 720x72 with 2 Axes>"
      ]
     },
     "metadata": {
      "needs_background": "light"
     },
     "output_type": "display_data"
    },
    {
     "data": {
      "image/png": "[encoded data removed]",
      "text/plain": [
       "<Figure size 720x72 with 2 Axes>"
      ]
     },
     "metadata": {
      "needs_background": "light"
     },
     "output_type": "display_data"
    },
    {
     "data": {
      "image/png": "[encoded data removed]",
      "text/plain": [
       "<Figure size 720x72 with 2 Axes>"
      ]
     },
     "metadata": {
      "needs_background": "light"
     },
     "output_type": "display_data"
    },
    {
     "data": {
      "image/png": "[encoded data removed]",
      "text/plain": [
       "<Figure size 720x72 with 2 Axes>"
      ]
     },
     "metadata": {
      "needs_background": "light"
     },
     "output_type": "display_data"
    },
    {
     "data": {
      "image/png": "[encoded data removed]",
      "text/plain": [
       "<Figure size 720x72 with 2 Axes>"
      ]
     },
     "metadata": {
      "needs_background": "light"
     },
     "output_type": "display_data"
    }
   ],
   "source": [
    "# visual check for normality\n",
    "def plot_normal(country, column):\n",
    "    \n",
    "    abbrev = {'Switzerland'   : 'CH',\n",
    "              'Czech_Republic': 'CZ',\n",
    "              'Germany'       : 'DE',\n",
    "              'Spain'         : 'ES',\n",
    "              'Norway'        : 'NO',\n",
    "              'Sweden'        : 'SE'}\n",
    "    \n",
    "    metric_2016 = ess['happy'].loc[(ess['cntry'] == abbrev[country]) & (ess['year'] == 6)].dropna()\n",
    "    metric_2018 = ess['happy'].loc[(ess['cntry'] == abbrev[country]) & (ess['year'] == 7)].dropna()\n",
    "\n",
    "    plt.subplots(1, 2, figsize=(10, 1))\n",
    "    plt.subplot(121)\n",
    "    plt.hist(metric_2016)\n",
    "    plt.subplot(122)\n",
    "    plt.hist(metric_2018)\n",
    "    plt.show()\n",
    "    \n",
    "    \n",
    "plot_normal('Switzerland', 'happy')\n",
    "plot_normal('Czech_Republic', 'happy')\n",
    "plot_normal('Germany', 'happy')\n",
    "plot_normal('Spain', 'happy')\n",
    "plot_normal('Norway', 'happy')\n",
    "plot_normal('Sweden', 'happy')"
   ]
  },
  {
   "cell_type": "markdown",
   "metadata": {},
   "source": [
    "Ahh, most decidedly non-normal. Let's tweak the function to perform non-parametric tests on these dependent samples. Except for Germany and Sweden."
   ]
  },
  {
   "cell_type": "code",
   "execution_count": 225,
   "metadata": {},
   "outputs": [],
   "source": [
    "# function to test variance\n",
    "def test_non_para(country, column):\n",
    "    \n",
    "    abbrev = {'Switzerland'   : 'CH',\n",
    "              'Czech_Republic': 'CZ',\n",
    "              'Germany'       : 'DE',\n",
    "              'Spain'         : 'ES',\n",
    "              'Norway'        : 'NO',\n",
    "              'Sweden'        : 'SE'}\n",
    "    \n",
    "    # group data by country\n",
    "    df = ess.loc[ess['cntry'] == abbrev[country]].dropna()\n",
    "    \n",
    "    # rank data\n",
    "    df[column + '_rank'] = stats.rankdata(df['happy'])\n",
    "    \n",
    "    metric_16 = df[column + '_rank'].loc[df['year'] == 6]\n",
    "    metric_18 = df[column + '_rank'].loc[df['year'] == 7]\n",
    "    \n",
    "    test_rows = min(len(metric_16), len(metric_18))\n",
    "    #print(test_rows)\n",
    "    \n",
    "    metric_16 = metric_16[:test_rows]\n",
    "    metric_18 = metric_18[:test_rows]\n",
    "    \n",
    "    H, p = stats.kruskal(metric_16, metric_18)\n",
    "        \n",
    "    print('{}:\\n H-stat: {}\\n p-value: {}\\n'.format(country, H, p))"
   ]
  },
  {
   "cell_type": "code",
   "execution_count": 228,
   "metadata": {},
   "outputs": [
    {
     "name": "stdout",
     "output_type": "stream",
     "text": [
      "732\n",
      "Switzerland:\n",
      " H-stat: 0.7821046117351174\n",
      " p-value: 0.3764982466188457\n",
      "\n",
      "601\n",
      "Czech_Republic:\n",
      " H-stat: 0.6785590415675314\n",
      " p-value: 0.4100833549575241\n",
      "\n",
      "13\n",
      "Germany:\n",
      " H-stat: 0.4578754578754809\n",
      " p-value: 0.4986185580950411\n",
      "\n",
      "1134\n",
      "Spain:\n",
      " H-stat: 3.0412473602384447\n",
      " p-value: 0.08117352096431373\n",
      "\n",
      "708\n",
      "Norway:\n",
      " H-stat: 17.41408038100125\n",
      " p-value: 3.0059100145358804e-05\n",
      "\n",
      "859\n",
      "Sweden:\n",
      " H-stat: 0.07945680214001244\n",
      " p-value: 0.7780348894383852\n",
      "\n"
     ]
    }
   ],
   "source": [
    "test_non_para('Switzerland', 'happy')\n",
    "test_non_para('Czech_Republic', 'happy')\n",
    "test_non_para('Germany', 'happy')\n",
    "test_non_para('Spain', 'happy')\n",
    "test_non_para('Norway', 'happy')\n",
    "test_non_para('Sweden', 'happy')"
   ]
  },
  {
   "cell_type": "markdown",
   "metadata": {},
   "source": [
    "The Norwegians got "
   ]
  }
 ],
 "metadata": {
  "kernelspec": {
   "display_name": "Python 3",
   "language": "python",
   "name": "python3"
  },
  "language_info": {
   "codemirror_mode": {
    "name": "ipython",
    "version": 3
   },
   "file_extension": ".py",
   "mimetype": "text/x-python",
   "name": "python",
   "nbconvert_exporter": "python",
   "pygments_lexer": "ipython3",
   "version": "3.7.3"
  }
 },
 "nbformat": 4,
 "nbformat_minor": 2
}
