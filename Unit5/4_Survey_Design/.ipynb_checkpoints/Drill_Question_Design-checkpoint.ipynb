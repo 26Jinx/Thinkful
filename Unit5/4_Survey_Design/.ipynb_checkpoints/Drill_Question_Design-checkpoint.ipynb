{
 "cells": [
  {
   "cell_type": "markdown",
   "metadata": {},
   "source": [
    "## Question Types Drill"
   ]
  },
  {
   "cell_type": "markdown",
   "metadata": {},
   "source": [
    "__Age__  \n",
    "Write-in/Free response - Since age can vary anywhere from 0 to 100+ (conceivably), the best way would be to have the subject write in their age. And then depending on the context, we can categorize or include/exclude as we need to."
   ]
  },
  {
   "cell_type": "markdown",
   "metadata": {},
   "source": [
    "__Gender__  \n",
    "It being a very sensitive and contentious subject for some, along with ever-increasing number of gender choices, while it may be easiest to use multiple choice, it might be safer to use write-in/free response."
   ]
  },
  {
   "cell_type": "markdown",
   "metadata": {},
   "source": [
    "__Income__  \n",
    "Income may vary widely, so categorizing into multiple choice might be best. This also can be sensitive for some, so multiple choice provides some obsecurity/protection."
   ]
  },
  {
   "cell_type": "markdown",
   "metadata": {},
   "source": [
    "__Opinions about dish soap__  \n",
    "This might be best categorized using a rating scale. 0(will not use again) to 5(will definitely keep using)"
   ]
  },
  {
   "cell_type": "markdown",
   "metadata": {},
   "source": [
    "__Brand of dish soap used__  \n",
    "Free response could be used to gather the top brands and then a multiple choice with a 'none of the above' could be used in subsequent surveys"
   ]
  },
  {
   "cell_type": "markdown",
   "metadata": {},
   "source": [
    "__Preference for dish soap brand__  \n",
    "Preference lends itself to a ranking system."
   ]
  },
  {
   "cell_type": "markdown",
   "metadata": {},
   "source": [
    "__Positive vs negative feelings about dish soap__  \n",
    "I think the only choice here is a yes or no question. "
   ]
  },
  {
   "cell_type": "markdown",
   "metadata": {},
   "source": [
    "## Fix the flaw drill"
   ]
  },
  {
   "cell_type": "markdown",
   "metadata": {},
   "source": [
    "__On which issues does the mainstream media do the worst job of representing President Trump?__  \n",
    "Two issues: mainstream media is a subjective term, phrasing of 'worst job' leads the subject  to think all choices are bad\n",
    "\n",
    "_Fix:_    \n",
    "_Which of the following news media outlets do you consider to be mainstream?_  \n",
    "_How satisfied are you with the mainstream media's reporting of President Trump with regards to the following topics:_  \n",
    "_Immigration(0(not at all) - 5(very satisfied))_  \n",
    "_Economics:_  \n"
   ]
  },
  {
   "cell_type": "markdown",
   "metadata": {},
   "source": [
    "__Do you feel that the media is too eager to slur conservatives with baseless accusations of racism and sexism?__  \n",
    "Loaded question, assumes accusations are baseless  \n",
    "\n",
    "_Fix_:  \n",
    "_Do you feel that the accusations of racism and sexism is baseless?_  \n",
    "_If yes, do you feel that the media reports on these accusations fairly irrespective of party affiliations?_  \n",
    "_If no, how closely do you feel that political affiliation is linked to someone being sexist or racist?_"
   ]
  },
  {
   "cell_type": "markdown",
   "metadata": {},
   "source": [
    "__Do you believe that the media unfairly reported on President Trump’s executive order granting Americans the freedom to buy health care across state lines?__    \n",
    "Assumes people know about the executive order and the frames it in such a way to think that it is about freedom  \n",
    "\n",
    "_Fix_  \n",
    "_On a scale of 0 to 5, how well do you feel you are informed on the health care system?_   \n",
    "_Would you consider purchasing health care from another state? Why?_    \n",
    "_Did you know that you can now purchase health care across statelines?_  \n",
    "_If yes, how did you find out about it?_  \n",
    "_(if television) On a 0-5 fairness scale, how fair did you find the reporting of the sigining of the executive order?_"
   ]
  },
  {
   "cell_type": "markdown",
   "metadata": {},
   "source": [
    "__Do you believe that the media has been too quick to spread false stories about our movement?__  \n",
    "\"Our\", \"false stories\" denotes bias  \n",
    "\n",
    "_Fix_  \n",
    "_Do you believe that the media reports false stories?_  \n",
    "_If yes, do you think that the false stories are beneficial to only one party?_  \n",
    "_If so, which party?_  "
   ]
  },
  {
   "cell_type": "markdown",
   "metadata": {},
   "source": [
    "__Do you agree with the President’s decision to break with tradition by giving lesser known reporters and bloggers the chance to ask the press secretary questions?__  \n",
    "\"break with tradition\" feeds into bias  \n",
    "\n",
    "_Fix_  \n",
    "_Do you believe that anyone should be allowed to ask the press secretary questions during a press briefing?_ \n"
   ]
  },
  {
   "cell_type": "code",
   "execution_count": null,
   "metadata": {},
   "outputs": [],
   "source": []
  }
 ],
 "metadata": {
  "kernelspec": {
   "display_name": "Python 3",
   "language": "python",
   "name": "python3"
  },
  "language_info": {
   "codemirror_mode": {
    "name": "ipython",
    "version": 3
   },
   "file_extension": ".py",
   "mimetype": "text/x-python",
   "name": "python",
   "nbconvert_exporter": "python",
   "pygments_lexer": "ipython3",
   "version": "3.7.3"
  }
 },
 "nbformat": 4,
 "nbformat_minor": 2
}
