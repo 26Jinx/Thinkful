{
 "cells": [
  {
   "cell_type": "markdown",
   "metadata": {},
   "source": [
    "__Age__  \n",
    "Write-in/Free response - Since age can vary anywhere from 0 to 100+ (conceivably), the best way would be to have the subject write in their age. And then depending on the context, we can categorize or include/exclude as we need to."
   ]
  },
  {
   "cell_type": "markdown",
   "metadata": {},
   "source": [
    "__Gender__  \n",
    "It being a very sensitive and contentious subject for some, along with ever-increasing number of gender choices, while it may be easiest to use multiple choice, it might be safer to use write-in/free response."
   ]
  },
  {
   "cell_type": "markdown",
   "metadata": {},
   "source": [
    "__Income__  \n",
    "Income may vary widely, so categorizing into multiple choice might be best. This also can be sensitive for some, so multiple choice provides some obsecurity/protection."
   ]
  },
  {
   "cell_type": "markdown",
   "metadata": {},
   "source": [
    "__Opinions about dish soap__  \n",
    "This might be best categorized using a rating scale. 0(will not use again) to 5(will definitely keep using)"
   ]
  },
  {
   "cell_type": "markdown",
   "metadata": {},
   "source": [
    "__Brand of dish soap used__  \n",
    "Free response could be used to gather the top brands and then a multiple choice with a 'none of the above' could be used in subsequent surveys"
   ]
  },
  {
   "cell_type": "markdown",
   "metadata": {},
   "source": [
    "__Preference for dish soap brand__  \n",
    "Preference lends itself to a ranking system."
   ]
  },
  {
   "cell_type": "markdown",
   "metadata": {},
   "source": [
    "__Positive vs negative feelings about dish soap__  \n",
    "I think the only choice here is a yes or no question. "
   ]
  },
  {
   "cell_type": "code",
   "execution_count": null,
   "metadata": {},
   "outputs": [],
   "source": []
  }
 ],
 "metadata": {
  "kernelspec": {
   "display_name": "Python 3",
   "language": "python",
   "name": "python3"
  },
  "language_info": {
   "codemirror_mode": {
    "name": "ipython",
    "version": 3
   },
   "file_extension": ".py",
   "mimetype": "text/x-python",
   "name": "python",
   "nbconvert_exporter": "python",
   "pygments_lexer": "ipython3",
   "version": "3.7.3"
  }
 },
 "nbformat": 4,
 "nbformat_minor": 2
}
