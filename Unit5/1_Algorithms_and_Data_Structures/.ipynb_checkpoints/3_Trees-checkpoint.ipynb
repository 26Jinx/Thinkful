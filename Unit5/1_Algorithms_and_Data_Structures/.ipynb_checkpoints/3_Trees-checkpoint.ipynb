{
 "cells": [
  {
   "cell_type": "code",
   "execution_count": 141,
   "metadata": {},
   "outputs": [
    {
     "name": "stdout",
     "output_type": "stream",
     "text": [
      "None None 5\n",
      "[None, None]\n"
     ]
    }
   ],
   "source": [
    "# initialize Node class\n",
    "class Node:\n",
    "    def __init__(self, val):\n",
    "        self.val = val\n",
    "        self.left = None\n",
    "        self.right = None\n",
    "        \n",
    "    def get_children(self):\n",
    "        return self.children\n",
    "        \n",
    "test_node = Node(5)\n",
    "print(test_node.left, test_node.right, test_node.val)\n",
    "print(test_node.get_children())"
   ]
  },
  {
   "cell_type": "code",
   "execution_count": 142,
   "metadata": {},
   "outputs": [],
   "source": [
    "# Implementing binary tree. need to figure out a way to do this programmatically\n",
    "root = Node(1)\n",
    "root.left = Node(2)\n",
    "root.right = Node(3)\n",
    "root.left.left = Node(4)\n",
    "root.left.right = Node(5)\n",
    "root.right.left = Node(6)\n",
    "root.right.right = Node(7)\n",
    "root.left.left.left = Node(8)\n",
    "root.left.left.right = Node(9)\n",
    "root.left.right.left = Node(10)\n",
    "root.left.right.right = Node(11)\n",
    "root.right.left.left = Node(12)\n",
    "root.right.left.right = Node(13)\n",
    "root.right.right.left = Node(14)\n",
    "root.right.right.right = Node(15)"
   ]
  },
  {
   "cell_type": "code",
   "execution_count": 146,
   "metadata": {},
   "outputs": [
    {
     "name": "stdout",
     "output_type": "stream",
     "text": [
      "12\n",
      "[<__main__.Node object at 0x1081faef0>, <__main__.Node object at 0x1081faa90>]\n"
     ]
    }
   ],
   "source": [
    "print(root.right.left.left.val)\n",
    "print(root.right.get_children())"
   ]
  },
  {
   "cell_type": "code",
   "execution_count": 145,
   "metadata": {},
   "outputs": [
    {
     "name": "stdout",
     "output_type": "stream",
     "text": [
      "12\n"
     ]
    },
    {
     "data": {
      "text/plain": [
       "[<__main__.Node at 0x107909ac8>, <__main__.Node at 0x1081fa1d0>]"
      ]
     },
     "execution_count": 145,
     "metadata": {},
     "output_type": "execute_result"
    }
   ],
   "source": [
    "class Tree:\n",
    "    def __init__(self, node):\n",
    "        self.root = node\n",
    "        \n",
    "test_tree = Tree(root)\n",
    "print(test_tree.root.right.left.left.val)\n",
    "test_tree.root.get_children()"
   ]
  },
  {
   "cell_type": "code",
   "execution_count": 153,
   "metadata": {},
   "outputs": [
    {
     "data": {
      "text/plain": [
       "[1, 2, 3, 4, 5, 6, 7, 8, 9, 10, 11, 12, 13, 14, 15]"
      ]
     },
     "execution_count": 153,
     "metadata": {},
     "output_type": "execute_result"
    }
   ],
   "source": [
    "def breadth_trav(tree):\n",
    "    res = []\n",
    "    # start with the root node in queue\n",
    "    queue = [tree.root]\n",
    "    \n",
    "    while queue:\n",
    "        current_node = queue[0]\n",
    "        # grab value of current node\n",
    "        res.append(current_node.val)\n",
    "        \n",
    "        # get existing children and attach to queue\n",
    "        if current_node.left is not None:\n",
    "            queue.extend(current_node.get_children())\n",
    "            \n",
    "        # make the next element in the queue the current node    \n",
    "        queue = queue[1:]\n",
    "                \n",
    "    return res\n",
    "\n",
    "breadth_trav(test_tree)"
   ]
  },
  {
   "cell_type": "code",
   "execution_count": 136,
   "metadata": {},
   "outputs": [
    {
     "name": "stdout",
     "output_type": "stream",
     "text": [
      "[55, 99, 48, 53, 13, 37]\n",
      "left val 99 0\n",
      "even 0\n",
      "left val 53 1\n",
      "odd 1\n",
      "left val 37 2\n",
      "55\n",
      "99 48\n",
      "53\n"
     ]
    }
   ],
   "source": [
    "import random\n",
    "random_list = list(random.sample(range(100), 6))\n",
    "print(random_list)\n",
    "\n",
    "class BinTree:\n",
    "    def __init__(self, values):\n",
    "        if len(values) > 0:\n",
    "            self.root = Node(values[0])\n",
    "            current_node = self.root\n",
    "            i = 0\n",
    "        \n",
    "        while (2*i+1 < len(values)):\n",
    "            # left child\n",
    "            current_node.left = Node(values[2*i+1])\n",
    "            print('left val', current_node.left.val, i)\n",
    "            \n",
    "            # right child\n",
    "            if (2*i+2 < len(values)):\n",
    "                current_node.right = Node(values[2*i+2])\n",
    "            \n",
    "                if i % 2:\n",
    "                    current_node = current_node.left\n",
    "                    print('odd', i)\n",
    "                else:\n",
    "                    current_node = current_node.right\n",
    "                    print('even', i)\n",
    "                    \n",
    "            i += 1\n",
    "\n",
    "    \n",
    "test_tree1 = BinTree(random_list)\n",
    "print(test_tree1.root.val)\n",
    "print(test_tree1.root.left.val, test_tree1.root.right.val)\n",
    "print(test_tree1.root.right.left.val)"
   ]
  },
  {
   "cell_type": "code",
   "execution_count": null,
   "metadata": {},
   "outputs": [],
   "source": []
  }
 ],
 "metadata": {
  "kernelspec": {
   "display_name": "Python 3",
   "language": "python",
   "name": "python3"
  },
  "language_info": {
   "codemirror_mode": {
    "name": "ipython",
    "version": 3
   },
   "file_extension": ".py",
   "mimetype": "text/x-python",
   "name": "python",
   "nbconvert_exporter": "python",
   "pygments_lexer": "ipython3",
   "version": "3.7.3"
  }
 },
 "nbformat": 4,
 "nbformat_minor": 2
}
