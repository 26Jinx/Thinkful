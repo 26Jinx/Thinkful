{
 "cells": [
  {
   "cell_type": "code",
   "execution_count": 3,
   "metadata": {},
   "outputs": [
    {
     "name": "stdout",
     "output_type": "stream",
     "text": [
      "None None 5\n"
     ]
    }
   ],
   "source": [
    "# initialize Node class\n",
    "class Node:\n",
    "    def __init__(self, val):\n",
    "        self.left = None\n",
    "        self.right = None\n",
    "        self.val = val\n",
    "        \n",
    "test_node = Node(5)\n",
    "print(test_node.left, test_node.right, test_node.val)"
   ]
  },
  {
   "cell_type": "code",
   "execution_count": 5,
   "metadata": {},
   "outputs": [],
   "source": [
    "def heap_sort(list_to_sort):\n",
    "    \n",
    "    # edge case: list is 1 or 0 length\n",
    "    if len(list_to_sort) < 2:\n",
    "        return list_to_sort\n",
    "    \n",
    "    # sorting algorithm\n",
    "    else:\n",
    "        # keep ref to two neighboring elements\n",
    "        # starting at 1 makes shifting up the tree (left in list) easier       \n",
    "        i = 1\n",
    "        while i < len(list_to_sort):\n",
    "            j = i - 1\n",
    "            mover = list_to_sort[i]\n",
    "            \n",
    "            if mover >= list_to_sort[j]:\n",
    "                i += 1\n",
    "            else:\n",
    "                list_to_sort[i] = list_to_sort[j]\n",
    "                list_to_sort[j] = mover\n",
    "                heap_sort(list_to_sort)\n",
    "                i += 1\n",
    "    \n",
    "    return list_to_sort  "
   ]
  },
  {
   "cell_type": "code",
   "execution_count": 15,
   "metadata": {},
   "outputs": [
    {
     "name": "stdout",
     "output_type": "stream",
     "text": [
      "0 1 2\n"
     ]
    }
   ],
   "source": [
    "# initialize Heap class\n",
    "class Min_heap:\n",
    "    def __init__(self, values):\n",
    "        # sort values\n",
    "        sorted_vals = heap_sort(values)\n",
    "        \n",
    "        # assign root node\n",
    "        self.root = Node(sorted_vals.pop(0))\n",
    "        current_node = self.root\n",
    "        \n",
    "        # check to see if more elements remain\n",
    "        if len(sorted_vals) > 1:\n",
    "            current_node.left = sorted_vals.pop(0)\n",
    "            current_node.right = sorted_vals.pop(0)\n",
    "            current_node = self.\n",
    "        \n",
    "        # we need to establish parent child relationship\n",
    "        current_node = self.root\n",
    "        if current_node.left is None:\n",
    "            \n",
    "        \n",
    "test_heap = Min_heap([2, 1, 0])        \n",
    "\n",
    "print(test_heap.root.val, test_heap.left.val, test_heap.right.val)"
   ]
  },
  {
   "cell_type": "code",
   "execution_count": null,
   "metadata": {},
   "outputs": [],
   "source": []
  }
 ],
 "metadata": {
  "kernelspec": {
   "display_name": "Python 3",
   "language": "python",
   "name": "python3"
  },
  "language_info": {
   "codemirror_mode": {
    "name": "ipython",
    "version": 3
   },
   "file_extension": ".py",
   "mimetype": "text/x-python",
   "name": "python",
   "nbconvert_exporter": "python",
   "pygments_lexer": "ipython3",
   "version": "3.7.3"
  }
 },
 "nbformat": 4,
 "nbformat_minor": 2
}
