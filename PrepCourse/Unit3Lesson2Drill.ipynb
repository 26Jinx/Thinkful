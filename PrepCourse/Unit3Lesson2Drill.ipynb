{
 "cells": [
  {
   "cell_type": "markdown",
   "metadata": {},
   "source": [
    "#### 1. Calculate the probability of flipping a balanced coin four times and getting each pattern: HTTH, HHHH, and TTHH\n",
    "\n",
    "Since it is a balanced coin, and we are using the same coin each time. Probability of getting HEADS or TAILS is 1/2.\n",
    "P(heads) = P(tails) = 1/2\n",
    "So, P(H) * P(T) * P(T) * P(H) = (1/2) * (1/2) * (1/2) * (1/2) = 1/16 and is the same for any four flip combination of heads or tails. "
   ]
  },
  {
   "cell_type": "markdown",
   "metadata": {},
   "source": [
    "#### 2. If a list of people has 24 women and 21 men, then the probability for choosing a man from the list is 21/45. What is the probability of not choosing a man?\n",
    "\n",
    "Not choosing a man is equal to choosing a woman, so the P(Woman) = 24/45."
   ]
  },
  {
   "cell_type": "markdown",
   "metadata": {},
   "source": [
    "#### 3. The probability that Bernice will travel by plane sometime in the next year is 10%. The probability of a plane crash at any time is 0.005%. What is the probability that Bernice will be in a plane crash sometime in the next year?\n",
    "\n",
    "Given that Bernice's probability of being in a plane next year is P(InPlane) = 1/10, and the probability of crash in the next year, P(Crash) = 5/100000 or 1/200, P(InPlaneCrash) = (1/10) * (1/20000) = (1/200000) or 0.000005%"
   ]
  },
  {
   "cell_type": "markdown",
   "metadata": {},
   "source": [
    "#### 4. A data scientist wants to study the behavior of users on the company website. Each time a user clicks on a link on the website, there is a 5% chance that the user will be asked to complete a short survey about their behavior on the website. The data scientist uses the survey data to conclude that, on average, users spend 15 minutes surfing the company website before moving on to other things. What is wrong with this conclusion?\n",
    "\n",
    "Choosing a survey subject dependent on the number of times the user clicks on a link in the website introduces a bias as the more links are clicked, the higher the probability that the user will be chosen to take the survey. Hence, the surveyed user is more likely to have been on the website longer."
   ]
  },
  {
   "cell_type": "code",
   "execution_count": null,
   "metadata": {},
   "outputs": [],
   "source": []
  }
 ],
 "metadata": {
  "kernelspec": {
   "display_name": "Python 3",
   "language": "python",
   "name": "python3"
  },
  "language_info": {
   "codemirror_mode": {
    "name": "ipython",
    "version": 3
   },
   "file_extension": ".py",
   "mimetype": "text/x-python",
   "name": "python",
   "nbconvert_exporter": "python",
   "pygments_lexer": "ipython3",
   "version": "3.7.1"
  }
 },
 "nbformat": 4,
 "nbformat_minor": 2
}
