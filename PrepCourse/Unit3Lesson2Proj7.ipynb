{
 "cells": [
  {
   "cell_type": "markdown",
   "metadata": {},
   "source": [
    "##### Data Source: Amsterdam availability data scraped from AirBnB on December 24th.  Question: What are the popular neighborhoods in Amsterdam?\n",
    "    Since the data is specifically only from December 24th, we can change the question to \"What are the popular neighborhoods in Amsterdam during the holiday season?\n",
    "    \n"
   ]
  },
  {
   "cell_type": "markdown",
   "metadata": {},
   "source": [
    "##### Data Source: Mental health services use on September 12, 2001 in San Francisco, CA and New York City, NY.  Question: How  do patterns of mental health service use vary between cities?\n",
    "    New question: How did the terrorist attacks on 9/11 affect the mental health service use in the directly affected city (New York City) vs indirectly affected city (San Francisco)?"
   ]
  },
  {
   "cell_type": "markdown",
   "metadata": {},
   "source": [
    "##### Data Source: Armenian Pub Survey  Question: What are the most common reasons Armenians visit local pubs?\n",
    "    New question: What are the most common reasons fro Armenian college students to visit local pubs?"
   ]
  },
  {
   "cell_type": "code",
   "execution_count": null,
   "metadata": {},
   "outputs": [],
   "source": []
  }
 ],
 "metadata": {
  "kernelspec": {
   "display_name": "Python 3",
   "language": "python",
   "name": "python3"
  },
  "language_info": {
   "codemirror_mode": {
    "name": "ipython",
    "version": 3
   },
   "file_extension": ".py",
   "mimetype": "text/x-python",
   "name": "python",
   "nbconvert_exporter": "python",
   "pygments_lexer": "ipython3",
   "version": "3.7.1"
  }
 },
 "nbformat": 4,
 "nbformat_minor": 2
}
