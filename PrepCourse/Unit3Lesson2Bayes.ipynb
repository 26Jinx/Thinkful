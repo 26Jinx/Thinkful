{
 "cells": [
  {
   "cell_type": "markdown",
   "metadata": {},
   "source": [
    "P( pos | disease ) = 98% = 0.98  \n",
    "P( pos | nodisease) = 10% = 0.1  \n",
    "P( disease ) = 0.5% = 0.005\n",
    "\n",
    "Calculate the probability that the test will:\n",
    "#### 1. Be positive\n",
    "    \n",
    "    The test can be positive in two ways:\n",
    "        True positive (pos|disease) or False positive (pos|nodisease)\n",
    "    So,\n",
    "        P(pos) = P(pos|disease) + P(pos|nodisease)\n",
    "               = 0.98 * 0.005 + 0.1 * 0.995\n",
    "               = 0.1044\n",
    "               \n",
    "#### 2. Correctly diagnose a sufferer of Thripshaw's  \n",
    "\n",
    "    We are looking for P(pos|disease). This is given in the prompt. 98% or 0.98\n",
    "    \n",
    "    \n",
    "#### 3. Correctly identify a non-sufferer of Thripshaw's  \n",
    "\n",
    "    This is when the test is not positive if the subject does not have Thripshaw's and since\n",
    "    test is positive on 10% of non sufferers, it follows that 90%(0.9) of non-sufferers will get a\n",
    "    negative(not positive) result.\n",
    "    \n",
    "    \n",
    "#### 4. Misclassify the person\n",
    "\n",
    "    There are two types of misclassification:\n",
    "        A non-sufferer can test positive (pos|nodisease), and a sufferer can test negative (notpos|disease).\n",
    "        So,\n",
    "            P(misclassify) = P(pos|nodisease) + P(notpos|disease)\n",
    "                           = 0.1 * 0.995 + (1 - 0.98) * 0.005\n",
    "                           = 0.0996"
   ]
  },
  {
   "cell_type": "code",
   "execution_count": null,
   "metadata": {},
   "outputs": [],
   "source": []
  }
 ],
 "metadata": {
  "kernelspec": {
   "display_name": "Python 3",
   "language": "python",
   "name": "python3"
  },
  "language_info": {
   "codemirror_mode": {
    "name": "ipython",
    "version": 3
   },
   "file_extension": ".py",
   "mimetype": "text/x-python",
   "name": "python",
   "nbconvert_exporter": "python",
   "pygments_lexer": "ipython3",
   "version": "3.7.1"
  }
 },
 "nbformat": 4,
 "nbformat_minor": 2
}
