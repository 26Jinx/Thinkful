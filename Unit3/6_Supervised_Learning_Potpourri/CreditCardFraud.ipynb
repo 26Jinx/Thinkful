{
 "cells": [
  {
   "cell_type": "markdown",
   "metadata": {},
   "source": [
    "## Detecting Credit Card Fraud"
   ]
  },
  {
   "cell_type": "markdown",
   "metadata": {},
   "source": [
    "Since we are working with preprocessed data, most of the features we are working with is obsecured. Good news is that we won't have to do much, if at all, data cleaning."
   ]
  },
  {
   "cell_type": "code",
   "execution_count": 1,
   "metadata": {},
   "outputs": [
    {
     "data": {
      "text/html": [
       "<div>\n",
       "<style scoped>\n",
       "    .dataframe tbody tr th:only-of-type {\n",
       "        vertical-align: middle;\n",
       "    }\n",
       "\n",
       "    .dataframe tbody tr th {\n",
       "        vertical-align: top;\n",
       "    }\n",
       "\n",
       "    .dataframe thead th {\n",
       "        text-align: right;\n",
       "    }\n",
       "</style>\n",
       "<table border=\"1\" class=\"dataframe\">\n",
       "  <thead>\n",
       "    <tr style=\"text-align: right;\">\n",
       "      <th></th>\n",
       "      <th>Time</th>\n",
       "      <th>V1</th>\n",
       "      <th>V2</th>\n",
       "      <th>V3</th>\n",
       "      <th>V4</th>\n",
       "      <th>V5</th>\n",
       "      <th>V6</th>\n",
       "      <th>V7</th>\n",
       "      <th>V8</th>\n",
       "      <th>V9</th>\n",
       "      <th>...</th>\n",
       "      <th>V21</th>\n",
       "      <th>V22</th>\n",
       "      <th>V23</th>\n",
       "      <th>V24</th>\n",
       "      <th>V25</th>\n",
       "      <th>V26</th>\n",
       "      <th>V27</th>\n",
       "      <th>V28</th>\n",
       "      <th>Amount</th>\n",
       "      <th>Class</th>\n",
       "    </tr>\n",
       "  </thead>\n",
       "  <tbody>\n",
       "    <tr>\n",
       "      <th>0</th>\n",
       "      <td>0.0</td>\n",
       "      <td>-1.359807</td>\n",
       "      <td>-0.072781</td>\n",
       "      <td>2.536347</td>\n",
       "      <td>1.378155</td>\n",
       "      <td>-0.338321</td>\n",
       "      <td>0.462388</td>\n",
       "      <td>0.239599</td>\n",
       "      <td>0.098698</td>\n",
       "      <td>0.363787</td>\n",
       "      <td>...</td>\n",
       "      <td>-0.018307</td>\n",
       "      <td>0.277838</td>\n",
       "      <td>-0.110474</td>\n",
       "      <td>0.066928</td>\n",
       "      <td>0.128539</td>\n",
       "      <td>-0.189115</td>\n",
       "      <td>0.133558</td>\n",
       "      <td>-0.021053</td>\n",
       "      <td>149.62</td>\n",
       "      <td>0</td>\n",
       "    </tr>\n",
       "    <tr>\n",
       "      <th>1</th>\n",
       "      <td>0.0</td>\n",
       "      <td>1.191857</td>\n",
       "      <td>0.266151</td>\n",
       "      <td>0.166480</td>\n",
       "      <td>0.448154</td>\n",
       "      <td>0.060018</td>\n",
       "      <td>-0.082361</td>\n",
       "      <td>-0.078803</td>\n",
       "      <td>0.085102</td>\n",
       "      <td>-0.255425</td>\n",
       "      <td>...</td>\n",
       "      <td>-0.225775</td>\n",
       "      <td>-0.638672</td>\n",
       "      <td>0.101288</td>\n",
       "      <td>-0.339846</td>\n",
       "      <td>0.167170</td>\n",
       "      <td>0.125895</td>\n",
       "      <td>-0.008983</td>\n",
       "      <td>0.014724</td>\n",
       "      <td>2.69</td>\n",
       "      <td>0</td>\n",
       "    </tr>\n",
       "    <tr>\n",
       "      <th>2</th>\n",
       "      <td>1.0</td>\n",
       "      <td>-1.358354</td>\n",
       "      <td>-1.340163</td>\n",
       "      <td>1.773209</td>\n",
       "      <td>0.379780</td>\n",
       "      <td>-0.503198</td>\n",
       "      <td>1.800499</td>\n",
       "      <td>0.791461</td>\n",
       "      <td>0.247676</td>\n",
       "      <td>-1.514654</td>\n",
       "      <td>...</td>\n",
       "      <td>0.247998</td>\n",
       "      <td>0.771679</td>\n",
       "      <td>0.909412</td>\n",
       "      <td>-0.689281</td>\n",
       "      <td>-0.327642</td>\n",
       "      <td>-0.139097</td>\n",
       "      <td>-0.055353</td>\n",
       "      <td>-0.059752</td>\n",
       "      <td>378.66</td>\n",
       "      <td>0</td>\n",
       "    </tr>\n",
       "    <tr>\n",
       "      <th>3</th>\n",
       "      <td>1.0</td>\n",
       "      <td>-0.966272</td>\n",
       "      <td>-0.185226</td>\n",
       "      <td>1.792993</td>\n",
       "      <td>-0.863291</td>\n",
       "      <td>-0.010309</td>\n",
       "      <td>1.247203</td>\n",
       "      <td>0.237609</td>\n",
       "      <td>0.377436</td>\n",
       "      <td>-1.387024</td>\n",
       "      <td>...</td>\n",
       "      <td>-0.108300</td>\n",
       "      <td>0.005274</td>\n",
       "      <td>-0.190321</td>\n",
       "      <td>-1.175575</td>\n",
       "      <td>0.647376</td>\n",
       "      <td>-0.221929</td>\n",
       "      <td>0.062723</td>\n",
       "      <td>0.061458</td>\n",
       "      <td>123.50</td>\n",
       "      <td>0</td>\n",
       "    </tr>\n",
       "    <tr>\n",
       "      <th>4</th>\n",
       "      <td>2.0</td>\n",
       "      <td>-1.158233</td>\n",
       "      <td>0.877737</td>\n",
       "      <td>1.548718</td>\n",
       "      <td>0.403034</td>\n",
       "      <td>-0.407193</td>\n",
       "      <td>0.095921</td>\n",
       "      <td>0.592941</td>\n",
       "      <td>-0.270533</td>\n",
       "      <td>0.817739</td>\n",
       "      <td>...</td>\n",
       "      <td>-0.009431</td>\n",
       "      <td>0.798278</td>\n",
       "      <td>-0.137458</td>\n",
       "      <td>0.141267</td>\n",
       "      <td>-0.206010</td>\n",
       "      <td>0.502292</td>\n",
       "      <td>0.219422</td>\n",
       "      <td>0.215153</td>\n",
       "      <td>69.99</td>\n",
       "      <td>0</td>\n",
       "    </tr>\n",
       "  </tbody>\n",
       "</table>\n",
       "<p>5 rows × 31 columns</p>\n",
       "</div>"
      ],
      "text/plain": [
       "   Time        V1        V2        V3        V4        V5        V6        V7  \\\n",
       "0   0.0 -1.359807 -0.072781  2.536347  1.378155 -0.338321  0.462388  0.239599   \n",
       "1   0.0  1.191857  0.266151  0.166480  0.448154  0.060018 -0.082361 -0.078803   \n",
       "2   1.0 -1.358354 -1.340163  1.773209  0.379780 -0.503198  1.800499  0.791461   \n",
       "3   1.0 -0.966272 -0.185226  1.792993 -0.863291 -0.010309  1.247203  0.237609   \n",
       "4   2.0 -1.158233  0.877737  1.548718  0.403034 -0.407193  0.095921  0.592941   \n",
       "\n",
       "         V8        V9  ...       V21       V22       V23       V24       V25  \\\n",
       "0  0.098698  0.363787  ... -0.018307  0.277838 -0.110474  0.066928  0.128539   \n",
       "1  0.085102 -0.255425  ... -0.225775 -0.638672  0.101288 -0.339846  0.167170   \n",
       "2  0.247676 -1.514654  ...  0.247998  0.771679  0.909412 -0.689281 -0.327642   \n",
       "3  0.377436 -1.387024  ... -0.108300  0.005274 -0.190321 -1.175575  0.647376   \n",
       "4 -0.270533  0.817739  ... -0.009431  0.798278 -0.137458  0.141267 -0.206010   \n",
       "\n",
       "        V26       V27       V28  Amount  Class  \n",
       "0 -0.189115  0.133558 -0.021053  149.62      0  \n",
       "1  0.125895 -0.008983  0.014724    2.69      0  \n",
       "2 -0.139097 -0.055353 -0.059752  378.66      0  \n",
       "3 -0.221929  0.062723  0.061458  123.50      0  \n",
       "4  0.502292  0.219422  0.215153   69.99      0  \n",
       "\n",
       "[5 rows x 31 columns]"
      ]
     },
     "execution_count": 1,
     "metadata": {},
     "output_type": "execute_result"
    }
   ],
   "source": [
    "# Let's load the necessary packages and the data\n",
    "import numpy as np\n",
    "import pandas as pd\n",
    "import scipy\n",
    "import matplotlib.pyplot as plt\n",
    "import seaborn as sns\n",
    "%matplotlib inline\n",
    "import sklearn\n",
    "from sklearn import ensemble\n",
    "from sklearn import linear_model\n",
    "from sklearn import svm\n",
    "from sklearn import neighbors\n",
    "from sklearn.naive_bayes import BernoulliNB\n",
    "from sklearn.metrics import confusion_matrix\n",
    "from sklearn.model_selection import train_test_split\n",
    "import time\n",
    "\n",
    "df = pd.read_csv('../../../Data/creditcard.csv')\n",
    "df.head(5)"
   ]
  },
  {
   "cell_type": "code",
   "execution_count": 2,
   "metadata": {},
   "outputs": [
    {
     "data": {
      "image/png": "[encoded data removed]",
      "text/plain": [
       "<Figure size 720x720 with 1 Axes>"
      ]
     },
     "metadata": {
      "needs_background": "light"
     },
     "output_type": "display_data"
    }
   ],
   "source": [
    "# I want to see if there is a significant difference in dollar amounts of legitimate vs fraudulent transactions\n",
    "f, ax = plt.subplots(figsize=(10, 10))\n",
    "sns.set(style='white')\n",
    "\n",
    "sns.boxplot(x='Class', y='Amount', data=df)\n",
    "plt.title('$ Amount: Legitimate Vs Fradulent')\n",
    "plt.show()\n"
   ]
  },
  {
   "cell_type": "markdown",
   "metadata": {},
   "source": [
    "The dollar amounts for the legitimate tranasctions dwarf those of the fraudulent kind, so it looks like the amount alone isn't a very good indicator of fraud."
   ]
  },
  {
   "cell_type": "markdown",
   "metadata": {},
   "source": [
    "Since principal component analysis was already done, we can trust that the features have already been reduced to describe the data. So let's move on to see if we can build a model using the data. In the documents for the data, it was mentioned that there is a very small number of fraudulent transactions so let's take a look for ourselves."
   ]
  },
  {
   "cell_type": "code",
   "execution_count": 3,
   "metadata": {},
   "outputs": [
    {
     "data": {
      "text/plain": [
       "(284807, 31)"
      ]
     },
     "execution_count": 3,
     "metadata": {},
     "output_type": "execute_result"
    }
   ],
   "source": [
    "# In order to see how we can split the data, I want to see how many records we are working with\n",
    "df.shape"
   ]
  },
  {
   "cell_type": "code",
   "execution_count": 4,
   "metadata": {},
   "outputs": [
    {
     "name": "stdout",
     "output_type": "stream",
     "text": [
      "213605 71202 213605 71202\n"
     ]
    }
   ],
   "source": [
    "# 280k+ rows, so since the percentage of fraudulent transactions is very low, let's leave a sizeable test data.\n",
    "X = df.drop(['Class'], axis=1)\n",
    "y = df['Class']\n",
    "X_train, X_test, y_train, y_test = train_test_split(X, y, test_size=0.25, random_state=26)\n",
    "print(X_train.shape[0], X_test.shape[0], y_train.shape[0], y_test.shape[0])"
   ]
  },
  {
   "cell_type": "markdown",
   "metadata": {},
   "source": [
    "Let's use the vanilla logistic regression model to see how it does compared to ridge regression."
   ]
  },
  {
   "cell_type": "code",
   "execution_count": 5,
   "metadata": {},
   "outputs": [
    {
     "name": "stdout",
     "output_type": "stream",
     "text": [
      "Elapsed time: 1.73 seconds\n",
      "Coefficients:\n",
      " [[-8.61984950e-05  4.58742559e-01 -8.13468164e-01 -7.93024314e-01\n",
      "   2.40784726e-01  2.43191145e-01 -1.16982149e-01  4.12788544e-01\n",
      "  -4.81611769e-01 -5.68307592e-01 -3.41137398e-01 -2.05237717e-01\n",
      "  -4.46035763e-02 -4.50787376e-01 -1.08045390e+00 -4.14782817e-01\n",
      "  -4.38092433e-01 -7.59195754e-01 -3.10311534e-02  6.97094742e-02\n",
      "   6.17229661e-02  3.13219839e-01  3.62128912e-01  6.67046822e-02\n",
      "  -2.30494582e-02 -3.85875302e-01  6.34267856e-02 -6.36541182e-02\n",
      "   8.21358361e-02 -7.63027010e-03]]\n",
      "R2 Score:  0.9990028369989608\n",
      "Confusion Matrix:\n",
      " [[71033    37]\n",
      " [   34    98]]\n"
     ]
    },
    {
     "name": "stderr",
     "output_type": "stream",
     "text": [
      "/anaconda3/lib/python3.7/site-packages/sklearn/linear_model/logistic.py:947: ConvergenceWarning: lbfgs failed to converge. Increase the number of iterations.\n",
      "  \"of iterations.\", ConvergenceWarning)\n"
     ]
    }
   ],
   "source": [
    "# start the clock\n",
    "start_time = time.time()\n",
    "\n",
    "lr = linear_model.LogisticRegression(solver='lbfgs', penalty='none')\n",
    "lr_model = lr.fit(X_train, y_train)\n",
    "y_pred = lr_model.predict(X_test)\n",
    "c_mat = confusion_matrix(y_test, y_pred)\n",
    "\n",
    "# measure elapsed time\n",
    "elapsed = time.time() - start_time\n",
    "\n",
    "print('Elapsed time: %0.2f seconds' % elapsed)\n",
    "print('Coefficients:\\n', lr_model.coef_)\n",
    "print('R2 Score: ', lr_model.score(X_test, y_test))\n",
    "print('Confusion Matrix:\\n', c_mat)\n"
   ]
  },
  {
   "cell_type": "markdown",
   "metadata": {},
   "source": [
    "Out of 71202 records, only 135 were flagged as fraudulent. Since the nature of the dataset has a skewed distribution, it is hard to celebrate our model's accuracy of 99.9%. It is also worrying that we flagged 37 legitimate transactions as fraudulent, while missing 34 fraudulent transactions. Put in context of total transactions, sensitivity(Type I or false positive) was 34/71084 or 0.05% and specificity(Type II or false negative) was 34/132 or 25.76%. In this case, we are more interested in falsely classified fraudulent transactions, since this means that we missed 25% of all fradulent transactions."
   ]
  },
  {
   "cell_type": "code",
   "execution_count": 6,
   "metadata": {},
   "outputs": [
    {
     "name": "stdout",
     "output_type": "stream",
     "text": [
      "Elapsed time: 1.67 seconds\n",
      "Coefficients:\n",
      " [[-8.64852045e-05  4.99619948e-01 -8.55491289e-01 -8.05837795e-01\n",
      "   2.32431174e-01  2.60382686e-01 -1.07872138e-01  4.35495163e-01\n",
      "  -5.02360832e-01 -5.93688850e-01 -3.49378198e-01 -2.20131275e-01\n",
      "  -1.83907968e-02 -4.63251504e-01 -1.11528994e+00 -4.28354454e-01\n",
      "  -4.39727281e-01 -7.64006423e-01 -2.48020005e-02  6.64415129e-02\n",
      "   6.02390438e-02  3.18291307e-01  3.77082281e-01  6.71750410e-02\n",
      "  -2.77397511e-02 -3.89578391e-01  6.35397539e-02 -7.63894015e-02\n",
      "   8.52842604e-02 -8.30248182e-03]]\n",
      "R2 Score:  0.9989642217618764\n",
      "Confusion Matrix:\n",
      " [[56825    28]\n",
      " [   31    78]]\n",
      "Type II Error:  0.28440366972477066\n"
     ]
    },
    {
     "name": "stderr",
     "output_type": "stream",
     "text": [
      "/anaconda3/lib/python3.7/site-packages/sklearn/linear_model/logistic.py:947: ConvergenceWarning: lbfgs failed to converge. Increase the number of iterations.\n",
      "  \"of iterations.\", ConvergenceWarning)\n"
     ]
    }
   ],
   "source": [
    "# Let's see if increasing the size of the training data will help\n",
    "X_train, X_test, y_train, y_test = train_test_split(X, y, test_size=0.20, random_state=26)\n",
    "\n",
    "start_time = time.time()\n",
    "\n",
    "lr2 = linear_model.LogisticRegression(solver='lbfgs', penalty='none')\n",
    "lr_model2 = lr2.fit(X_train, y_train)\n",
    "y_pred = lr_model2.predict(X_test)\n",
    "c_mat = confusion_matrix(y_test, y_pred)\n",
    "\n",
    "elapsed = time.time() - start_time\n",
    "\n",
    "print('Elapsed time: %0.2f seconds' % elapsed)\n",
    "print('Coefficients:\\n', lr_model2.coef_)\n",
    "print('R2 Score: ', lr_model2.score(X_test, y_test))\n",
    "print('Confusion Matrix:\\n', c_mat)\n",
    "print('Type II Error: ', c_mat[1][0]/sum(c_mat[1]))"
   ]
  },
  {
   "cell_type": "markdown",
   "metadata": {},
   "source": [
    "So our type II error got worse to 28.44%. Let's go back to leaving out 25% of data for testing and try gradient boosting model to compare its performance."
   ]
  },
  {
   "cell_type": "code",
   "execution_count": 7,
   "metadata": {},
   "outputs": [
    {
     "name": "stdout",
     "output_type": "stream",
     "text": [
      "213605 71202 213605 71202\n",
      "0    71070\n",
      "1      132\n",
      "Name: Class, dtype: int64\n"
     ]
    }
   ],
   "source": [
    "X_train, X_test, y_train, y_test = train_test_split(X, y, test_size=0.25, random_state=26)\n",
    "print(X_train.shape[0], X_test.shape[0], y_train.shape[0], y_test.shape[0])\n",
    "print(y_test.value_counts())"
   ]
  },
  {
   "cell_type": "code",
   "execution_count": 36,
   "metadata": {},
   "outputs": [
    {
     "name": "stdout",
     "output_type": "stream",
     "text": [
      "Elapsed time: 70.34 seconds\n",
      "Accuracy:  0.9992556388865481\n",
      "Confusion Matrix:\n",
      " [[71042    28]\n",
      " [   25   107]]\n",
      "Type II Error:  0.1893939393939394\n"
     ]
    }
   ],
   "source": [
    "# gradient boost model\n",
    "\n",
    "start_time = time.time()\n",
    "\n",
    "clf = ensemble.GradientBoostingClassifier(n_estimators=900, max_depth=11)\n",
    "clf_model = clf.fit(X_train, y_train)\n",
    "clf_y_pred = clf_model.predict(X_test)\n",
    "clf_c_mat = confusion_matrix(y_test, clf_y_pred)\n",
    "\n",
    "elapsed = time.time() - start_time\n",
    "\n",
    "print('Elapsed time: %0.2f seconds' % elapsed)\n",
    "print('Accuracy: ', clf_model.score(X_test, y_test))\n",
    "print('Confusion Matrix:\\n', clf_c_mat)\n",
    "print('Type II Error: ', clf_c_mat[1][0]/sum(clf_c_mat[1]))"
   ]
  },
  {
   "cell_type": "markdown",
   "metadata": {},
   "source": [
    "Our gradient boosting model gave us 28.79% specificity. Marked improvement as it should be for an ensemble model."
   ]
  },
  {
   "cell_type": "code",
   "execution_count": 37,
   "metadata": {},
   "outputs": [
    {
     "name": "stdout",
     "output_type": "stream",
     "text": [
      "Elapsed time: 734.08 seconds\n",
      "Accuracy:  0.9996348417179293\n",
      "Confusion Matrix:\n",
      " [[71067     3]\n",
      " [   23   109]]\n",
      "Type II Error:  0.17424242424242425\n"
     ]
    }
   ],
   "source": [
    "# Random forest model\n",
    "\n",
    "start_time = time.time()\n",
    "\n",
    "rfc = ensemble.RandomForestClassifier(n_estimators=900, max_depth=11)\n",
    "rfc_model = rfc.fit(X_train, y_train)\n",
    "rfc_y_pred = rfc_model.predict(X_test)\n",
    "rfc_c_mat = confusion_matrix(y_test, rfc_y_pred)\n",
    "\n",
    "elapsed = time.time() - start_time\n",
    "\n",
    "print('Elapsed time: %0.2f seconds' % elapsed)\n",
    "print('Accuracy: ', rfc_model.score(X_test, y_test))\n",
    "print('Confusion Matrix:\\n', rfc_c_mat)\n",
    "print('Type II Error: ', rfc_c_mat[1][0]/sum(rfc_c_mat[1]))"
   ]
  },
  {
   "cell_type": "markdown",
   "metadata": {},
   "source": [
    "Random forest classifier gets us 22.01% and mis-classified 24 out of 109 fraudulent transactions."
   ]
  },
  {
   "cell_type": "code",
   "execution_count": 10,
   "metadata": {},
   "outputs": [
    {
     "name": "stdout",
     "output_type": "stream",
     "text": [
      "Elapsed time: 222.61 seconds\n",
      "Accuracy:  0.9984691441251651\n",
      "Confusion Matrix:\n",
      " [[71049    21]\n",
      " [   88    44]]\n",
      "Type II Error:  0.6666666666666666\n"
     ]
    }
   ],
   "source": [
    "# SVM classifier\n",
    "\n",
    "start_time = time.time()\n",
    "\n",
    "svc = svm.SVC(kernel='linear')\n",
    "svc_model = svc.fit(X_train, y_train)\n",
    "svc_y_pred = svc_model.predict(X_test)\n",
    "svc_c_mat = confusion_matrix(y_test, svc_y_pred)\n",
    "\n",
    "elpased = time.time() - start_time\n",
    "\n",
    "print('Elapsed time: %0.2f seconds' % elapsed)\n",
    "print('Accuracy: ', svc_model.score(X_test, y_test))\n",
    "print('Confusion Matrix:\\n', svc_c_mat)\n",
    "print('Type II Error: ', svc_c_mat[1][0]/sum(svc_c_mat[1]))"
   ]
  },
  {
   "cell_type": "code",
   "execution_count": 18,
   "metadata": {},
   "outputs": [
    {
     "name": "stdout",
     "output_type": "stream",
     "text": [
      "Elapsed time: 3.55 seconds\n",
      "Accuracy:  0.9982865649841297\n",
      "Confusion Matrix:\n",
      " [[71069     1]\n",
      " [  121    11]]\n",
      "Type II Error:  0.9166666666666666\n"
     ]
    }
   ],
   "source": [
    "# KNN Classifier\n",
    "\n",
    "start_time = time.time()\n",
    "\n",
    "knn = neighbors.KNeighborsClassifier(n_neighbors=5)\n",
    "knn_model = knn.fit(X_train, y_train)\n",
    "knn_y_pred = knn_model.predict(X_test)\n",
    "knn_c_mat = confusion_matrix(y_test, knn_y_pred)\n",
    "\n",
    "elapsed = time.time() - start_time\n",
    "\n",
    "print('Elapsed time: %0.2f seconds' % elapsed)\n",
    "print('Accuracy: ', knn_model.score(X_test, y_test))\n",
    "print('Confusion Matrix:\\n', knn_c_mat)\n",
    "print('Type II Error: ', knn_c_mat[1][0]/sum(knn_c_mat[1]))"
   ]
  },
  {
   "cell_type": "code",
   "execution_count": 14,
   "metadata": {},
   "outputs": [
    {
     "name": "stdout",
     "output_type": "stream",
     "text": [
      "Elasped time: 0.23 seconds\n",
      "Accuracy:  0.9992135052386169\n",
      "Confusion Matrix:\n",
      " [[71055    15]\n",
      " [   41    91]]\n",
      "Type II Error:  0.3106060606060606\n"
     ]
    }
   ],
   "source": [
    "# Naive-Bayes classifier\n",
    "\n",
    "start_time = time.time()\n",
    "\n",
    "bn = BernoulliNB()\n",
    "bn_model = bn.fit(X_train, y_train)\n",
    "bn_y_pred = bn_model.predict(X_test)\n",
    "bn_c_mat = confusion_matrix(y_test, bn_y_pred)\n",
    "\n",
    "elapsed = time.time() - start_time\n",
    "\n",
    "print('Elasped time: %0.2f seconds' % elapsed)\n",
    "print('Accuracy: ', bn_model.score(X_test, y_test))\n",
    "print('Confusion Matrix:\\n', bn_c_mat)\n",
    "print('Type II Error: ', bn_c_mat[1][0]/sum(bn_c_mat[1]))"
   ]
  },
  {
   "cell_type": "code",
   "execution_count": null,
   "metadata": {},
   "outputs": [],
   "source": []
  }
 ],
 "metadata": {
  "kernelspec": {
   "display_name": "Python 3",
   "language": "python",
   "name": "python3"
  },
  "language_info": {
   "codemirror_mode": {
    "name": "ipython",
    "version": 3
   },
   "file_extension": ".py",
   "mimetype": "text/x-python",
   "name": "python",
   "nbconvert_exporter": "python",
   "pygments_lexer": "ipython3",
   "version": "3.7.3"
  }
 },
 "nbformat": 4,
 "nbformat_minor": 2
}
