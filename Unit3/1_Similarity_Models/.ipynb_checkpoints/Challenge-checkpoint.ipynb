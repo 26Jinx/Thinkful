{
 "cells": [
  {
   "cell_type": "code",
   "execution_count": 1,
   "metadata": {},
   "outputs": [],
   "source": [
    "%matplotlib inline\n",
    "import math\n",
    "import scipy\n",
    "import sklearn\n",
    "import numpy as np\n",
    "import pandas as pd\n",
    "import seaborn as sns\n",
    "import matplotlib.pyplot as plt\n",
    "from sklearn import linear_model\n",
    "from sklearn import preprocessing\n",
    "import statsmodels.formula.api as smf\n",
    "from sklearn.model_selection import cross_val_score\n",
    "from sklearn import neighbors"
   ]
  },
  {
   "cell_type": "markdown",
   "metadata": {},
   "source": [
    "### Data Preparation"
   ]
  },
  {
   "cell_type": "code",
   "execution_count": 2,
   "metadata": {},
   "outputs": [
    {
     "data": {
      "text/html": [
       "<div>\n",
       "<style scoped>\n",
       "    .dataframe tbody tr th:only-of-type {\n",
       "        vertical-align: middle;\n",
       "    }\n",
       "\n",
       "    .dataframe tbody tr th {\n",
       "        vertical-align: top;\n",
       "    }\n",
       "\n",
       "    .dataframe thead th {\n",
       "        text-align: right;\n",
       "    }\n",
       "</style>\n",
       "<table border=\"1\" class=\"dataframe\">\n",
       "  <thead>\n",
       "    <tr style=\"text-align: right;\">\n",
       "      <th></th>\n",
       "      <th>Country</th>\n",
       "      <th>Happiness.Rank</th>\n",
       "      <th>Happiness.Score</th>\n",
       "      <th>Whisker.high</th>\n",
       "      <th>Whisker.low</th>\n",
       "      <th>Economy..GDP.per.Capita.</th>\n",
       "      <th>Family</th>\n",
       "      <th>Health..Life.Expectancy.</th>\n",
       "      <th>Freedom</th>\n",
       "      <th>Generosity</th>\n",
       "      <th>Trust..Government.Corruption.</th>\n",
       "      <th>Dystopia.Residual</th>\n",
       "    </tr>\n",
       "  </thead>\n",
       "  <tbody>\n",
       "    <tr>\n",
       "      <th>0</th>\n",
       "      <td>Norway</td>\n",
       "      <td>1</td>\n",
       "      <td>7.537</td>\n",
       "      <td>7.594445</td>\n",
       "      <td>7.479556</td>\n",
       "      <td>1.616463</td>\n",
       "      <td>1.533524</td>\n",
       "      <td>0.796667</td>\n",
       "      <td>0.635423</td>\n",
       "      <td>0.362012</td>\n",
       "      <td>0.315964</td>\n",
       "      <td>2.277027</td>\n",
       "    </tr>\n",
       "    <tr>\n",
       "      <th>1</th>\n",
       "      <td>Denmark</td>\n",
       "      <td>2</td>\n",
       "      <td>7.522</td>\n",
       "      <td>7.581728</td>\n",
       "      <td>7.462272</td>\n",
       "      <td>1.482383</td>\n",
       "      <td>1.551122</td>\n",
       "      <td>0.792566</td>\n",
       "      <td>0.626007</td>\n",
       "      <td>0.355280</td>\n",
       "      <td>0.400770</td>\n",
       "      <td>2.313707</td>\n",
       "    </tr>\n",
       "    <tr>\n",
       "      <th>2</th>\n",
       "      <td>Iceland</td>\n",
       "      <td>3</td>\n",
       "      <td>7.504</td>\n",
       "      <td>7.622030</td>\n",
       "      <td>7.385970</td>\n",
       "      <td>1.480633</td>\n",
       "      <td>1.610574</td>\n",
       "      <td>0.833552</td>\n",
       "      <td>0.627163</td>\n",
       "      <td>0.475540</td>\n",
       "      <td>0.153527</td>\n",
       "      <td>2.322715</td>\n",
       "    </tr>\n",
       "    <tr>\n",
       "      <th>3</th>\n",
       "      <td>Switzerland</td>\n",
       "      <td>4</td>\n",
       "      <td>7.494</td>\n",
       "      <td>7.561772</td>\n",
       "      <td>7.426227</td>\n",
       "      <td>1.564980</td>\n",
       "      <td>1.516912</td>\n",
       "      <td>0.858131</td>\n",
       "      <td>0.620071</td>\n",
       "      <td>0.290549</td>\n",
       "      <td>0.367007</td>\n",
       "      <td>2.276716</td>\n",
       "    </tr>\n",
       "    <tr>\n",
       "      <th>4</th>\n",
       "      <td>Finland</td>\n",
       "      <td>5</td>\n",
       "      <td>7.469</td>\n",
       "      <td>7.527542</td>\n",
       "      <td>7.410458</td>\n",
       "      <td>1.443572</td>\n",
       "      <td>1.540247</td>\n",
       "      <td>0.809158</td>\n",
       "      <td>0.617951</td>\n",
       "      <td>0.245483</td>\n",
       "      <td>0.382612</td>\n",
       "      <td>2.430182</td>\n",
       "    </tr>\n",
       "  </tbody>\n",
       "</table>\n",
       "</div>"
      ],
      "text/plain": [
       "       Country  Happiness.Rank  Happiness.Score  Whisker.high  Whisker.low  \\\n",
       "0       Norway               1            7.537      7.594445     7.479556   \n",
       "1      Denmark               2            7.522      7.581728     7.462272   \n",
       "2      Iceland               3            7.504      7.622030     7.385970   \n",
       "3  Switzerland               4            7.494      7.561772     7.426227   \n",
       "4      Finland               5            7.469      7.527542     7.410458   \n",
       "\n",
       "   Economy..GDP.per.Capita.    Family  Health..Life.Expectancy.   Freedom  \\\n",
       "0                  1.616463  1.533524                  0.796667  0.635423   \n",
       "1                  1.482383  1.551122                  0.792566  0.626007   \n",
       "2                  1.480633  1.610574                  0.833552  0.627163   \n",
       "3                  1.564980  1.516912                  0.858131  0.620071   \n",
       "4                  1.443572  1.540247                  0.809158  0.617951   \n",
       "\n",
       "   Generosity  Trust..Government.Corruption.  Dystopia.Residual  \n",
       "0    0.362012                       0.315964           2.277027  \n",
       "1    0.355280                       0.400770           2.313707  \n",
       "2    0.475540                       0.153527           2.322715  \n",
       "3    0.290549                       0.367007           2.276716  \n",
       "4    0.245483                       0.382612           2.430182  "
      ]
     },
     "execution_count": 2,
     "metadata": {},
     "output_type": "execute_result"
    }
   ],
   "source": [
    "# Read data\n",
    "df = pd.read_csv('../Data/world_happiness_report_2/2017.csv')\n",
    "df.head()"
   ]
  },
  {
   "cell_type": "code",
   "execution_count": 3,
   "metadata": {},
   "outputs": [
    {
     "data": {
      "text/html": [
       "<div>\n",
       "<style scoped>\n",
       "    .dataframe tbody tr th:only-of-type {\n",
       "        vertical-align: middle;\n",
       "    }\n",
       "\n",
       "    .dataframe tbody tr th {\n",
       "        vertical-align: top;\n",
       "    }\n",
       "\n",
       "    .dataframe thead th {\n",
       "        text-align: right;\n",
       "    }\n",
       "</style>\n",
       "<table border=\"1\" class=\"dataframe\">\n",
       "  <thead>\n",
       "    <tr style=\"text-align: right;\">\n",
       "      <th></th>\n",
       "      <th>country</th>\n",
       "      <th>happiness_score</th>\n",
       "      <th>gdp_per_capita</th>\n",
       "      <th>family</th>\n",
       "      <th>life_expectancy</th>\n",
       "      <th>freedom</th>\n",
       "      <th>generosity</th>\n",
       "      <th>trust_in_government</th>\n",
       "    </tr>\n",
       "  </thead>\n",
       "  <tbody>\n",
       "    <tr>\n",
       "      <th>0</th>\n",
       "      <td>Norway</td>\n",
       "      <td>7.537</td>\n",
       "      <td>1.616463</td>\n",
       "      <td>1.533524</td>\n",
       "      <td>0.796667</td>\n",
       "      <td>0.635423</td>\n",
       "      <td>0.362012</td>\n",
       "      <td>0.315964</td>\n",
       "    </tr>\n",
       "    <tr>\n",
       "      <th>1</th>\n",
       "      <td>Denmark</td>\n",
       "      <td>7.522</td>\n",
       "      <td>1.482383</td>\n",
       "      <td>1.551122</td>\n",
       "      <td>0.792566</td>\n",
       "      <td>0.626007</td>\n",
       "      <td>0.355280</td>\n",
       "      <td>0.400770</td>\n",
       "    </tr>\n",
       "    <tr>\n",
       "      <th>2</th>\n",
       "      <td>Iceland</td>\n",
       "      <td>7.504</td>\n",
       "      <td>1.480633</td>\n",
       "      <td>1.610574</td>\n",
       "      <td>0.833552</td>\n",
       "      <td>0.627163</td>\n",
       "      <td>0.475540</td>\n",
       "      <td>0.153527</td>\n",
       "    </tr>\n",
       "    <tr>\n",
       "      <th>3</th>\n",
       "      <td>Switzerland</td>\n",
       "      <td>7.494</td>\n",
       "      <td>1.564980</td>\n",
       "      <td>1.516912</td>\n",
       "      <td>0.858131</td>\n",
       "      <td>0.620071</td>\n",
       "      <td>0.290549</td>\n",
       "      <td>0.367007</td>\n",
       "    </tr>\n",
       "    <tr>\n",
       "      <th>4</th>\n",
       "      <td>Finland</td>\n",
       "      <td>7.469</td>\n",
       "      <td>1.443572</td>\n",
       "      <td>1.540247</td>\n",
       "      <td>0.809158</td>\n",
       "      <td>0.617951</td>\n",
       "      <td>0.245483</td>\n",
       "      <td>0.382612</td>\n",
       "    </tr>\n",
       "  </tbody>\n",
       "</table>\n",
       "</div>"
      ],
      "text/plain": [
       "       country  happiness_score  gdp_per_capita    family  life_expectancy  \\\n",
       "0       Norway            7.537        1.616463  1.533524         0.796667   \n",
       "1      Denmark            7.522        1.482383  1.551122         0.792566   \n",
       "2      Iceland            7.504        1.480633  1.610574         0.833552   \n",
       "3  Switzerland            7.494        1.564980  1.516912         0.858131   \n",
       "4      Finland            7.469        1.443572  1.540247         0.809158   \n",
       "\n",
       "    freedom  generosity  trust_in_government  \n",
       "0  0.635423    0.362012             0.315964  \n",
       "1  0.626007    0.355280             0.400770  \n",
       "2  0.627163    0.475540             0.153527  \n",
       "3  0.620071    0.290549             0.367007  \n",
       "4  0.617951    0.245483             0.382612  "
      ]
     },
     "execution_count": 3,
     "metadata": {},
     "output_type": "execute_result"
    }
   ],
   "source": [
    "# Clean data\n",
    "df = df[['Country', 'Happiness.Score', 'Economy..GDP.per.Capita.', 'Family',\n",
    "       'Health..Life.Expectancy.', 'Freedom', 'Generosity',\n",
    "       'Trust..Government.Corruption.']]\n",
    "\n",
    "df = df.rename(index=str, columns={'Happiness.Score': 'happiness_score',\n",
    "                              'Economy..GDP.per.Capita.': 'gdp_per_capita',\n",
    "                              'Health..Life.Expectancy.': 'life_expectancy',\n",
    "                              'Trust..Government.Corruption.': 'trust_in_government',\n",
    "                              'Family': 'family',\n",
    "                              'Freedom': 'freedom',\n",
    "                              'Generosity': 'generosity',\n",
    "                              'Country': 'country'})\n",
    "\n",
    "df.head()"
   ]
  },
  {
   "cell_type": "code",
   "execution_count": 4,
   "metadata": {},
   "outputs": [
    {
     "data": {
      "text/plain": [
       "False"
      ]
     },
     "execution_count": 4,
     "metadata": {},
     "output_type": "execute_result"
    }
   ],
   "source": [
    "# Check for missing values\n",
    "df.isnull().values.any()"
   ]
  },
  {
   "cell_type": "code",
   "execution_count": 5,
   "metadata": {},
   "outputs": [
    {
     "data": {
      "image/png": "[encoded data removed]",
      "text/plain": [
       "<Figure size 720x576 with 1 Axes>"
      ]
     },
     "metadata": {
      "needs_background": "light"
     },
     "output_type": "display_data"
    }
   ],
   "source": [
    "# Plot to see outliers\n",
    "f, ax = plt.subplots(figsize=(10, 8))\n",
    "sns.set(style='whitegrid')\n",
    "sns.despine()\n",
    "\n",
    "sns.boxplot(data=df[['gdp_per_capita', 'family', 'life_expectancy',\n",
    "       'freedom', 'generosity', 'trust_in_government']], palette='Accent')\n",
    "plt.title('Raw Data')\n",
    "plt.show()"
   ]
  },
  {
   "cell_type": "markdown",
   "metadata": {},
   "source": [
    "Although there is some overlap, I think I might still need to normalize the scores before we start delving into the data to check for things like correlation."
   ]
  },
  {
   "cell_type": "code",
   "execution_count": 103,
   "metadata": {},
   "outputs": [
    {
     "data": {
      "text/html": [
       "<div>\n",
       "<style scoped>\n",
       "    .dataframe tbody tr th:only-of-type {\n",
       "        vertical-align: middle;\n",
       "    }\n",
       "\n",
       "    .dataframe tbody tr th {\n",
       "        vertical-align: top;\n",
       "    }\n",
       "\n",
       "    .dataframe thead th {\n",
       "        text-align: right;\n",
       "    }\n",
       "</style>\n",
       "<table border=\"1\" class=\"dataframe\">\n",
       "  <thead>\n",
       "    <tr style=\"text-align: right;\">\n",
       "      <th></th>\n",
       "      <th>gdp_per_capita</th>\n",
       "      <th>family</th>\n",
       "      <th>life_expectancy</th>\n",
       "      <th>freedom</th>\n",
       "      <th>generosity</th>\n",
       "      <th>trust_in_government</th>\n",
       "      <th>happiness_score</th>\n",
       "    </tr>\n",
       "  </thead>\n",
       "  <tbody>\n",
       "    <tr>\n",
       "      <th>0</th>\n",
       "      <td>0.647416</td>\n",
       "      <td>0.614197</td>\n",
       "      <td>0.319076</td>\n",
       "      <td>0.254496</td>\n",
       "      <td>0.144991</td>\n",
       "      <td>0.126548</td>\n",
       "      <td>7.537</td>\n",
       "    </tr>\n",
       "    <tr>\n",
       "      <th>1</th>\n",
       "      <td>0.609754</td>\n",
       "      <td>0.638029</td>\n",
       "      <td>0.326009</td>\n",
       "      <td>0.257498</td>\n",
       "      <td>0.146139</td>\n",
       "      <td>0.164850</td>\n",
       "      <td>7.522</td>\n",
       "    </tr>\n",
       "    <tr>\n",
       "      <th>2</th>\n",
       "      <td>0.598311</td>\n",
       "      <td>0.650819</td>\n",
       "      <td>0.336831</td>\n",
       "      <td>0.253431</td>\n",
       "      <td>0.192162</td>\n",
       "      <td>0.062039</td>\n",
       "      <td>7.504</td>\n",
       "    </tr>\n",
       "    <tr>\n",
       "      <th>3</th>\n",
       "      <td>0.634153</td>\n",
       "      <td>0.614675</td>\n",
       "      <td>0.347727</td>\n",
       "      <td>0.251262</td>\n",
       "      <td>0.117735</td>\n",
       "      <td>0.148717</td>\n",
       "      <td>7.494</td>\n",
       "    </tr>\n",
       "    <tr>\n",
       "      <th>4</th>\n",
       "      <td>0.604672</td>\n",
       "      <td>0.645166</td>\n",
       "      <td>0.338933</td>\n",
       "      <td>0.258842</td>\n",
       "      <td>0.102826</td>\n",
       "      <td>0.160265</td>\n",
       "      <td>7.469</td>\n",
       "    </tr>\n",
       "  </tbody>\n",
       "</table>\n",
       "</div>"
      ],
      "text/plain": [
       "   gdp_per_capita    family  life_expectancy   freedom  generosity  \\\n",
       "0        0.647416  0.614197         0.319076  0.254496    0.144991   \n",
       "1        0.609754  0.638029         0.326009  0.257498    0.146139   \n",
       "2        0.598311  0.650819         0.336831  0.253431    0.192162   \n",
       "3        0.634153  0.614675         0.347727  0.251262    0.117735   \n",
       "4        0.604672  0.645166         0.338933  0.258842    0.102826   \n",
       "\n",
       "   trust_in_government  happiness_score  \n",
       "0             0.126548            7.537  \n",
       "1             0.164850            7.522  \n",
       "2             0.062039            7.504  \n",
       "3             0.148717            7.494  \n",
       "4             0.160265            7.469  "
      ]
     },
     "execution_count": 103,
     "metadata": {},
     "output_type": "execute_result"
    }
   ],
   "source": [
    "norm_data = preprocessing.normalize(df[['gdp_per_capita', 'family', 'life_expectancy',\n",
    "       'freedom', 'generosity', 'trust_in_government']])\n",
    "\n",
    "# Store in new dataframe\n",
    "norm_df = pd.DataFrame(norm_data, columns=['gdp_per_capita', 'family', 'life_expectancy',\n",
    "       'freedom', 'generosity', 'trust_in_government'])\n",
    "\n",
    "# First need to reset the index for both df\n",
    "norm_df.index = df.index\n",
    "norm_df['happiness_score'] = df['happiness_score']\n",
    "norm_df.head()\n"
   ]
  },
  {
   "cell_type": "code",
   "execution_count": 104,
   "metadata": {},
   "outputs": [
    {
     "data": {
      "image/png": "[encoded data removed]",
      "text/plain": [
       "<Figure size 720x576 with 1 Axes>"
      ]
     },
     "metadata": {},
     "output_type": "display_data"
    }
   ],
   "source": [
    "# Let's see the normalized data\n",
    "f, ax = plt.subplots(figsize=(10, 8))\n",
    "sns.despine()\n",
    "sns.set(style='whitegrid')\n",
    "\n",
    "# Plot the independent variable columns\n",
    "data = norm_df[['gdp_per_capita', 'family', 'life_expectancy', 'freedom', 'generosity', 'trust_in_government']]\n",
    "\n",
    "sns.boxplot(data=data, palette='Accent')\n",
    "plt.title('Normalized Data')\n",
    "plt.xticks([0, 1, 2, 3, 4, 5], ['GDP/Capita', 'Family', 'Life Expectancy', 'Freedom', 'Generosity', 'Trust in Government'])\n",
    "plt.show()"
   ]
  },
  {
   "cell_type": "code",
   "execution_count": 105,
   "metadata": {},
   "outputs": [
    {
     "data": {
      "text/html": [
       "<div>\n",
       "<style scoped>\n",
       "    .dataframe tbody tr th:only-of-type {\n",
       "        vertical-align: middle;\n",
       "    }\n",
       "\n",
       "    .dataframe tbody tr th {\n",
       "        vertical-align: top;\n",
       "    }\n",
       "\n",
       "    .dataframe thead th {\n",
       "        text-align: right;\n",
       "    }\n",
       "</style>\n",
       "<table border=\"1\" class=\"dataframe\">\n",
       "  <thead>\n",
       "    <tr style=\"text-align: right;\">\n",
       "      <th></th>\n",
       "      <th>gdp_per_capita</th>\n",
       "      <th>family</th>\n",
       "      <th>life_expectancy</th>\n",
       "      <th>freedom</th>\n",
       "      <th>generosity</th>\n",
       "      <th>trust_in_government</th>\n",
       "      <th>happiness_score</th>\n",
       "    </tr>\n",
       "  </thead>\n",
       "  <tbody>\n",
       "    <tr>\n",
       "      <th>0</th>\n",
       "      <td>1.506188</td>\n",
       "      <td>1.203577</td>\n",
       "      <td>1.038167</td>\n",
       "      <td>1.515836</td>\n",
       "      <td>0.856964</td>\n",
       "      <td>1.903084</td>\n",
       "      <td>7.537</td>\n",
       "    </tr>\n",
       "    <tr>\n",
       "      <th>1</th>\n",
       "      <td>1.186518</td>\n",
       "      <td>1.265036</td>\n",
       "      <td>1.020812</td>\n",
       "      <td>1.452859</td>\n",
       "      <td>0.806856</td>\n",
       "      <td>2.739998</td>\n",
       "      <td>7.522</td>\n",
       "    </tr>\n",
       "    <tr>\n",
       "      <th>2</th>\n",
       "      <td>1.182345</td>\n",
       "      <td>1.472669</td>\n",
       "      <td>1.194259</td>\n",
       "      <td>1.460590</td>\n",
       "      <td>1.702013</td>\n",
       "      <td>0.300066</td>\n",
       "      <td>7.504</td>\n",
       "    </tr>\n",
       "    <tr>\n",
       "      <th>3</th>\n",
       "      <td>1.383442</td>\n",
       "      <td>1.145561</td>\n",
       "      <td>1.298272</td>\n",
       "      <td>1.413155</td>\n",
       "      <td>0.325028</td>\n",
       "      <td>2.406809</td>\n",
       "      <td>7.494</td>\n",
       "    </tr>\n",
       "    <tr>\n",
       "      <th>4</th>\n",
       "      <td>1.093985</td>\n",
       "      <td>1.227057</td>\n",
       "      <td>1.091026</td>\n",
       "      <td>1.398978</td>\n",
       "      <td>-0.010426</td>\n",
       "      <td>2.560800</td>\n",
       "      <td>7.469</td>\n",
       "    </tr>\n",
       "  </tbody>\n",
       "</table>\n",
       "</div>"
      ],
      "text/plain": [
       "   gdp_per_capita    family  life_expectancy   freedom  generosity  \\\n",
       "0        1.506188  1.203577         1.038167  1.515836    0.856964   \n",
       "1        1.186518  1.265036         1.020812  1.452859    0.806856   \n",
       "2        1.182345  1.472669         1.194259  1.460590    1.702013   \n",
       "3        1.383442  1.145561         1.298272  1.413155    0.325028   \n",
       "4        1.093985  1.227057         1.091026  1.398978   -0.010426   \n",
       "\n",
       "   trust_in_government  happiness_score  \n",
       "0             1.903084            7.537  \n",
       "1             2.739998            7.522  \n",
       "2             0.300066            7.504  \n",
       "3             2.406809            7.494  \n",
       "4             2.560800            7.469  "
      ]
     },
     "execution_count": 105,
     "metadata": {},
     "output_type": "execute_result"
    }
   ],
   "source": [
    "# Just for the exercise, let's try standardizing the data\n",
    "stand_data = preprocessing.scale(df[['gdp_per_capita', 'family', 'life_expectancy',\n",
    "       'freedom', 'generosity', 'trust_in_government']])\n",
    "\n",
    "# Store in new dataframe\n",
    "stand_df = pd.DataFrame(stand_data, columns=['gdp_per_capita', 'family', 'life_expectancy',\n",
    "       'freedom', 'generosity', 'trust_in_government'])\n",
    "\n",
    "stand_df.index = df.index\n",
    "stand_df['happiness_score'] = df['happiness_score']\n",
    "stand_df.head()\n"
   ]
  },
  {
   "cell_type": "code",
   "execution_count": 106,
   "metadata": {},
   "outputs": [
    {
     "data": {
      "image/png": "[encoded data removed]",
      "text/plain": [
       "<Figure size 720x576 with 1 Axes>"
      ]
     },
     "metadata": {},
     "output_type": "display_data"
    }
   ],
   "source": [
    "# Plot standardized data\n",
    "f, ax = plt.subplots(figsize=(10, 8))\n",
    "sns.despine()\n",
    "sns.set(style='whitegrid')\n",
    "\n",
    "data = stand_df[['gdp_per_capita', 'family', 'life_expectancy', 'freedom', 'generosity', 'trust_in_government']]\n",
    "\n",
    "sns.boxplot(data=data, palette='Accent')\n",
    "plt.title('Standardized Data')\n",
    "plt.xticks([0, 1, 2, 3, 4, 5], ['GDP/Capita', 'Family', 'Life Expectancy', 'Freedom', 'Generosity', 'Trust in Government'])\n",
    "plt.show()"
   ]
  },
  {
   "cell_type": "markdown",
   "metadata": {},
   "source": [
    "Standardized data looks cleaner with less outliers, so let's move ahead with the X_stand and calculate the correlation between the independent variables."
   ]
  },
  {
   "cell_type": "code",
   "execution_count": 110,
   "metadata": {},
   "outputs": [
    {
     "data": {
      "text/html": [
       "<div>\n",
       "<style scoped>\n",
       "    .dataframe tbody tr th:only-of-type {\n",
       "        vertical-align: middle;\n",
       "    }\n",
       "\n",
       "    .dataframe tbody tr th {\n",
       "        vertical-align: top;\n",
       "    }\n",
       "\n",
       "    .dataframe thead th {\n",
       "        text-align: right;\n",
       "    }\n",
       "</style>\n",
       "<table border=\"1\" class=\"dataframe\">\n",
       "  <thead>\n",
       "    <tr style=\"text-align: right;\">\n",
       "      <th></th>\n",
       "      <th>gdp_per_capita</th>\n",
       "      <th>family</th>\n",
       "      <th>life_expectancy</th>\n",
       "      <th>freedom</th>\n",
       "      <th>generosity</th>\n",
       "      <th>trust_in_government</th>\n",
       "    </tr>\n",
       "  </thead>\n",
       "  <tbody>\n",
       "    <tr>\n",
       "      <th>gdp_per_capita</th>\n",
       "      <td>1.000000</td>\n",
       "      <td>0.688296</td>\n",
       "      <td>0.843077</td>\n",
       "      <td>0.369873</td>\n",
       "      <td>-0.019011</td>\n",
       "      <td>0.350944</td>\n",
       "    </tr>\n",
       "    <tr>\n",
       "      <th>family</th>\n",
       "      <td>0.688296</td>\n",
       "      <td>1.000000</td>\n",
       "      <td>0.612080</td>\n",
       "      <td>0.424966</td>\n",
       "      <td>0.051693</td>\n",
       "      <td>0.231841</td>\n",
       "    </tr>\n",
       "    <tr>\n",
       "      <th>life_expectancy</th>\n",
       "      <td>0.843077</td>\n",
       "      <td>0.612080</td>\n",
       "      <td>1.000000</td>\n",
       "      <td>0.349827</td>\n",
       "      <td>0.063191</td>\n",
       "      <td>0.279752</td>\n",
       "    </tr>\n",
       "    <tr>\n",
       "      <th>freedom</th>\n",
       "      <td>0.369873</td>\n",
       "      <td>0.424966</td>\n",
       "      <td>0.349827</td>\n",
       "      <td>1.000000</td>\n",
       "      <td>0.316083</td>\n",
       "      <td>0.499183</td>\n",
       "    </tr>\n",
       "    <tr>\n",
       "      <th>generosity</th>\n",
       "      <td>-0.019011</td>\n",
       "      <td>0.051693</td>\n",
       "      <td>0.063191</td>\n",
       "      <td>0.316083</td>\n",
       "      <td>1.000000</td>\n",
       "      <td>0.294159</td>\n",
       "    </tr>\n",
       "    <tr>\n",
       "      <th>trust_in_government</th>\n",
       "      <td>0.350944</td>\n",
       "      <td>0.231841</td>\n",
       "      <td>0.279752</td>\n",
       "      <td>0.499183</td>\n",
       "      <td>0.294159</td>\n",
       "      <td>1.000000</td>\n",
       "    </tr>\n",
       "  </tbody>\n",
       "</table>\n",
       "</div>"
      ],
      "text/plain": [
       "                     gdp_per_capita    family  life_expectancy   freedom  \\\n",
       "gdp_per_capita             1.000000  0.688296         0.843077  0.369873   \n",
       "family                     0.688296  1.000000         0.612080  0.424966   \n",
       "life_expectancy            0.843077  0.612080         1.000000  0.349827   \n",
       "freedom                    0.369873  0.424966         0.349827  1.000000   \n",
       "generosity                -0.019011  0.051693         0.063191  0.316083   \n",
       "trust_in_government        0.350944  0.231841         0.279752  0.499183   \n",
       "\n",
       "                     generosity  trust_in_government  \n",
       "gdp_per_capita        -0.019011             0.350944  \n",
       "family                 0.051693             0.231841  \n",
       "life_expectancy        0.063191             0.279752  \n",
       "freedom                0.316083             0.499183  \n",
       "generosity             1.000000             0.294159  \n",
       "trust_in_government    0.294159             1.000000  "
      ]
     },
     "metadata": {},
     "output_type": "display_data"
    }
   ],
   "source": [
    "# Correlation Matrix\n",
    "X = df[['gdp_per_capita', 'family', 'life_expectancy',\n",
    "       'freedom', 'generosity', 'trust_in_government']]\n",
    "\n",
    "corr_mat = X.corr()\n",
    "display(corr_mat)"
   ]
  },
  {
   "cell_type": "markdown",
   "metadata": {},
   "source": [
    "It doesn't look like we have to worry too much about redundancy in our data. One interesting correlation is between GDP/Capita and Generosity. There is a very slight negative correlation, meaning that generosity levels stay flat or even decreases with an increase in GDP. Draw whatever conclusion you might from that, and let's move on."
   ]
  },
  {
   "cell_type": "markdown",
   "metadata": {},
   "source": [
    "### OLS Regression Model"
   ]
  },
  {
   "cell_type": "code",
   "execution_count": 111,
   "metadata": {},
   "outputs": [
    {
     "data": {
      "text/plain": [
       "LinearRegression(copy_X=True, fit_intercept=True, n_jobs=None,\n",
       "         normalize=False)"
      ]
     },
     "execution_count": 111,
     "metadata": {},
     "output_type": "execute_result"
    }
   ],
   "source": [
    "# Build OLS regression model\n",
    "X = df[['gdp_per_capita', 'family', 'life_expectancy','freedom', 'generosity', 'trust_in_government']]\n",
    "Y = df[['happiness_score']]\n",
    "regr = linear_model.LinearRegression()\n",
    "regr.fit(X, Y)\n",
    "\n",
    "# QUESTION: WHAT IS THE CONVENTION WITH x, y, X and Y?"
   ]
  },
  {
   "cell_type": "code",
   "execution_count": 114,
   "metadata": {},
   "outputs": [
    {
     "data": {
      "text/html": [
       "<div>\n",
       "<style scoped>\n",
       "    .dataframe tbody tr th:only-of-type {\n",
       "        vertical-align: middle;\n",
       "    }\n",
       "\n",
       "    .dataframe tbody tr th {\n",
       "        vertical-align: top;\n",
       "    }\n",
       "\n",
       "    .dataframe thead th {\n",
       "        text-align: right;\n",
       "    }\n",
       "</style>\n",
       "<table border=\"1\" class=\"dataframe\">\n",
       "  <thead>\n",
       "    <tr style=\"text-align: right;\">\n",
       "      <th></th>\n",
       "      <th>R2</th>\n",
       "      <th>α</th>\n",
       "      <th>β1</th>\n",
       "      <th>β2</th>\n",
       "      <th>β3</th>\n",
       "      <th>β4</th>\n",
       "      <th>β5</th>\n",
       "      <th>β6</th>\n",
       "    </tr>\n",
       "  </thead>\n",
       "  <tbody>\n",
       "    <tr>\n",
       "      <th>stats</th>\n",
       "      <td>0.812425</td>\n",
       "      <td>1.743029</td>\n",
       "      <td>0.784433</td>\n",
       "      <td>1.117771</td>\n",
       "      <td>1.28888</td>\n",
       "      <td>1.475715</td>\n",
       "      <td>0.380718</td>\n",
       "      <td>0.826607</td>\n",
       "    </tr>\n",
       "  </tbody>\n",
       "</table>\n",
       "</div>"
      ],
      "text/plain": [
       "             R2         α        β1        β2       β3        β4        β5  \\\n",
       "stats  0.812425  1.743029  0.784433  1.117771  1.28888  1.475715  0.380718   \n",
       "\n",
       "             β6  \n",
       "stats  0.826607  "
      ]
     },
     "metadata": {},
     "output_type": "display_data"
    }
   ],
   "source": [
    "# R2 score, Intercept, and coef[0]ficients\n",
    "r2 = regr.score(X, Y)\n",
    "intercept = regr.intercept_\n",
    "coef = regr.coef_\n",
    "\n",
    "stats = {'R2': r2,\n",
    "         'α': intercept,\n",
    "         'β1': coef[0][0],\n",
    "         'β2': coef[0][1],\n",
    "         'β3': coef[0][2],\n",
    "         'β4': coef[0][3],\n",
    "         'β5': coef[0][4],\n",
    "         'β6': coef[0][5]}\n",
    "\n",
    "stats_df = pd.DataFrame(stats, index=['stats'])\n",
    "display(stats_df)"
   ]
  },
  {
   "cell_type": "code",
   "execution_count": 115,
   "metadata": {},
   "outputs": [
    {
     "data": {
      "text/plain": [
       "LinearRegression(copy_X=True, fit_intercept=True, n_jobs=None,\n",
       "         normalize=False)"
      ]
     },
     "execution_count": 115,
     "metadata": {},
     "output_type": "execute_result"
    }
   ],
   "source": [
    "# Try the same with normalized data\n",
    "X_norm = norm_df[['gdp_per_capita', 'family', 'life_expectancy','freedom', 'generosity', 'trust_in_government']]\n",
    "Y_norm = norm_df['happiness_score'].values.reshape(-1, 1)\n",
    "regr_norm = linear_model.LinearRegression()\n",
    "regr_norm.fit(X_norm, Y_norm)"
   ]
  },
  {
   "cell_type": "code",
   "execution_count": 117,
   "metadata": {},
   "outputs": [
    {
     "data": {
      "text/html": [
       "<div>\n",
       "<style scoped>\n",
       "    .dataframe tbody tr th:only-of-type {\n",
       "        vertical-align: middle;\n",
       "    }\n",
       "\n",
       "    .dataframe tbody tr th {\n",
       "        vertical-align: top;\n",
       "    }\n",
       "\n",
       "    .dataframe thead th {\n",
       "        text-align: right;\n",
       "    }\n",
       "</style>\n",
       "<table border=\"1\" class=\"dataframe\">\n",
       "  <thead>\n",
       "    <tr style=\"text-align: right;\">\n",
       "      <th></th>\n",
       "      <th>R2</th>\n",
       "      <th>α</th>\n",
       "      <th>β1</th>\n",
       "      <th>β2</th>\n",
       "      <th>β3</th>\n",
       "      <th>β4</th>\n",
       "      <th>β5</th>\n",
       "      <th>β6</th>\n",
       "    </tr>\n",
       "  </thead>\n",
       "  <tbody>\n",
       "    <tr>\n",
       "      <th>stats</th>\n",
       "      <td>0.812425</td>\n",
       "      <td>1.743029</td>\n",
       "      <td>0.784433</td>\n",
       "      <td>1.117771</td>\n",
       "      <td>1.288880</td>\n",
       "      <td>1.475715</td>\n",
       "      <td>0.380718</td>\n",
       "      <td>0.826607</td>\n",
       "    </tr>\n",
       "    <tr>\n",
       "      <th>stats_norm</th>\n",
       "      <td>0.405101</td>\n",
       "      <td>-0.751192</td>\n",
       "      <td>5.017828</td>\n",
       "      <td>2.487001</td>\n",
       "      <td>3.095913</td>\n",
       "      <td>2.272231</td>\n",
       "      <td>-0.360201</td>\n",
       "      <td>4.068121</td>\n",
       "    </tr>\n",
       "  </tbody>\n",
       "</table>\n",
       "</div>"
      ],
      "text/plain": [
       "                  R2         α        β1        β2        β3        β4  \\\n",
       "stats       0.812425  1.743029  0.784433  1.117771  1.288880  1.475715   \n",
       "stats_norm  0.405101 -0.751192  5.017828  2.487001  3.095913  2.272231   \n",
       "\n",
       "                  β5        β6  \n",
       "stats       0.380718  0.826607  \n",
       "stats_norm -0.360201  4.068121  "
      ]
     },
     "metadata": {},
     "output_type": "display_data"
    }
   ],
   "source": [
    "# Calculate R2, intercept and coefficients\n",
    "r2_norm = regr_norm.score(X_norm, Y_norm)\n",
    "intercept_norm = regr_norm.intercept_\n",
    "coef_norm = regr_norm.coef_\n",
    "\n",
    "stats_norm = {'R2': r2_norm,\n",
    "              'α': intercept_norm,\n",
    "              'β1': coef_norm[0][0],\n",
    "              'β2': coef_norm[0][1],\n",
    "              'β3': coef_norm[0][2],\n",
    "              'β4': coef_norm[0][3],\n",
    "              'β5': coef_norm[0][4],\n",
    "              'β6': coef_norm[0][5]}\n",
    "\n",
    "stats_norm_df = pd.DataFrame(stats_norm, index=['stats_norm'])\n",
    "#stats_df = stats_df.drop(index=['stats_norm']) # drops all previous 'stats_norm' rows\n",
    "stats_df = stats_df.append(stats_norm_df)\n",
    "display(stats_df)"
   ]
  },
  {
   "cell_type": "code",
   "execution_count": 118,
   "metadata": {},
   "outputs": [
    {
     "data": {
      "text/plain": [
       "LinearRegression(copy_X=True, fit_intercept=True, n_jobs=None,\n",
       "         normalize=False)"
      ]
     },
     "execution_count": 118,
     "metadata": {},
     "output_type": "execute_result"
    }
   ],
   "source": [
    "# Try the same with standardized data just for kicks\n",
    "X_stand = stand_df[['gdp_per_capita', 'family', 'life_expectancy','freedom', 'generosity', 'trust_in_government']]\n",
    "Y_stand = stand_df[['happiness_score']]\n",
    "regr_stand = linear_model.LinearRegression()\n",
    "regr_stand.fit(X_stand, Y_stand)"
   ]
  },
  {
   "cell_type": "code",
   "execution_count": 120,
   "metadata": {},
   "outputs": [
    {
     "data": {
      "text/html": [
       "<div>\n",
       "<style scoped>\n",
       "    .dataframe tbody tr th:only-of-type {\n",
       "        vertical-align: middle;\n",
       "    }\n",
       "\n",
       "    .dataframe tbody tr th {\n",
       "        vertical-align: top;\n",
       "    }\n",
       "\n",
       "    .dataframe thead th {\n",
       "        text-align: right;\n",
       "    }\n",
       "</style>\n",
       "<table border=\"1\" class=\"dataframe\">\n",
       "  <thead>\n",
       "    <tr style=\"text-align: right;\">\n",
       "      <th></th>\n",
       "      <th>R2</th>\n",
       "      <th>α</th>\n",
       "      <th>β1</th>\n",
       "      <th>β2</th>\n",
       "      <th>β3</th>\n",
       "      <th>β4</th>\n",
       "      <th>β5</th>\n",
       "      <th>β6</th>\n",
       "    </tr>\n",
       "  </thead>\n",
       "  <tbody>\n",
       "    <tr>\n",
       "      <th>stats</th>\n",
       "      <td>0.812425</td>\n",
       "      <td>1.743029</td>\n",
       "      <td>0.784433</td>\n",
       "      <td>1.117771</td>\n",
       "      <td>1.288880</td>\n",
       "      <td>1.475715</td>\n",
       "      <td>0.380718</td>\n",
       "      <td>0.826607</td>\n",
       "    </tr>\n",
       "    <tr>\n",
       "      <th>stats_norm</th>\n",
       "      <td>0.405101</td>\n",
       "      <td>-0.751192</td>\n",
       "      <td>5.017828</td>\n",
       "      <td>2.487001</td>\n",
       "      <td>3.095913</td>\n",
       "      <td>2.272231</td>\n",
       "      <td>-0.360201</td>\n",
       "      <td>4.068121</td>\n",
       "    </tr>\n",
       "    <tr>\n",
       "      <th>stats_stand</th>\n",
       "      <td>0.812425</td>\n",
       "      <td>5.354019</td>\n",
       "      <td>0.329017</td>\n",
       "      <td>0.320057</td>\n",
       "      <td>0.304571</td>\n",
       "      <td>0.220638</td>\n",
       "      <td>0.051148</td>\n",
       "      <td>0.083762</td>\n",
       "    </tr>\n",
       "  </tbody>\n",
       "</table>\n",
       "</div>"
      ],
      "text/plain": [
       "                   R2         α        β1        β2        β3        β4  \\\n",
       "stats        0.812425  1.743029  0.784433  1.117771  1.288880  1.475715   \n",
       "stats_norm   0.405101 -0.751192  5.017828  2.487001  3.095913  2.272231   \n",
       "stats_stand  0.812425  5.354019  0.329017  0.320057  0.304571  0.220638   \n",
       "\n",
       "                   β5        β6  \n",
       "stats        0.380718  0.826607  \n",
       "stats_norm  -0.360201  4.068121  \n",
       "stats_stand  0.051148  0.083762  "
      ]
     },
     "metadata": {},
     "output_type": "display_data"
    }
   ],
   "source": [
    "# Calculate R2, intercept and coefficients\n",
    "r2_stand = regr_stand.score(X_stand, Y_stand)\n",
    "intercept_stand = regr_stand.intercept_\n",
    "coef_stand = regr_stand.coef_\n",
    "\n",
    "stats_stand = {'R2': r2_stand,\n",
    "              'α': intercept_stand,\n",
    "              'β1': coef_stand[0][0],\n",
    "              'β2': coef_stand[0][1],\n",
    "              'β3': coef_stand[0][2],\n",
    "              'β4': coef_stand[0][3],\n",
    "              'β5': coef_stand[0][4],\n",
    "              'β6': coef_stand[0][5]}\n",
    "\n",
    "stats_stand_df = pd.DataFrame(stats_stand, index=['stats_stand'])\n",
    "#stats_df = stats_df.drop(index=['stats_stand'])\n",
    "stats_df = stats_df.append(stats_stand_df)\n",
    "display(stats_df)"
   ]
  },
  {
   "cell_type": "code",
   "execution_count": 121,
   "metadata": {
    "scrolled": false
   },
   "outputs": [
    {
     "name": "stdout",
     "output_type": "stream",
     "text": [
      "Raw:\n",
      " Intercept              1.743029\n",
      "gdp_per_capita         0.784433\n",
      "family                 1.117771\n",
      "life_expectancy        1.288880\n",
      "freedom                1.475715\n",
      "generosity             0.380718\n",
      "trust_in_government    0.826607\n",
      "dtype: float64\n",
      "\n",
      "Normalized:\n",
      " Intercept             -0.751192\n",
      "gdp_per_capita         5.017828\n",
      "family                 2.487001\n",
      "life_expectancy        3.095913\n",
      "freedom                2.272231\n",
      "generosity            -0.360201\n",
      "trust_in_government    4.068121\n",
      "dtype: float64\n",
      "\n",
      "Standardized:\n",
      " Intercept              5.354019\n",
      "gdp_per_capita         0.329017\n",
      "family                 0.320057\n",
      "life_expectancy        0.304571\n",
      "freedom                0.220638\n",
      "generosity             0.051148\n",
      "trust_in_government    0.083762\n",
      "dtype: float64\n"
     ]
    }
   ],
   "source": [
    "# Check p-values to see if any of the variables can be excluded without hurting the R2 score.\n",
    "# We'll use statsmodels for this\n",
    "\n",
    "formula = 'happiness_score ~ gdp_per_capita+family+life_expectancy+freedom+generosity+trust_in_government'\n",
    "formula_norm = 'happiness_score ~ gdp_per_capita+family+life_expectancy+freedom+generosity+trust_in_government'\n",
    "formula_stand = 'happiness_score ~ gdp_per_capita+family+life_expectancy+freedom+generosity+trust_in_government'\n",
    "\n",
    "lm = smf.ols(formula=formula, data=df).fit()\n",
    "lm_norm = smf.ols(formula=formula_norm, data=norm_df).fit()\n",
    "lm_stand = smf.ols(formula=formula_stand, data=stand_df).fit()\n",
    "\n",
    "# Check for consistency\n",
    "print('Raw:\\n', lm.params)\n",
    "print('\\nNormalized:\\n', lm_norm.params)\n",
    "print('\\nStandardized:\\n', lm_stand.params)"
   ]
  },
  {
   "cell_type": "code",
   "execution_count": 122,
   "metadata": {},
   "outputs": [
    {
     "name": "stdout",
     "output_type": "stream",
     "text": [
      "Raw:\n",
      " Intercept              1.697316e-16\n",
      "gdp_per_capita         1.848734e-04\n",
      "family                 1.399572e-07\n",
      "life_expectancy        9.648650e-05\n",
      "freedom                2.980926e-05\n",
      "generosity             2.495240e-01\n",
      "trust_in_government    8.997508e-02\n",
      "dtype: float64\n",
      "\n",
      "Normalized:\n",
      " Intercept              6.288828e-01\n",
      "gdp_per_capita         8.229122e-07\n",
      "family                 2.712837e-02\n",
      "life_expectancy        1.484959e-03\n",
      "freedom                1.898826e-02\n",
      "generosity             7.325188e-01\n",
      "trust_in_government    8.611462e-03\n",
      "dtype: float64\n",
      "\n",
      "Standardized:\n",
      " Intercept              4.359990e-156\n",
      "gdp_per_capita          1.848734e-04\n",
      "family                  1.399572e-07\n",
      "life_expectancy         9.648650e-05\n",
      "freedom                 2.980926e-05\n",
      "generosity              2.495240e-01\n",
      "trust_in_government     8.997508e-02\n",
      "dtype: float64\n"
     ]
    }
   ],
   "source": [
    "# Looking good. Now let's check p-values\n",
    "print('Raw:\\n',lm.pvalues)\n",
    "print('\\nNormalized:\\n', lm_norm.pvalues)\n",
    "print('\\nStandardized:\\n', lm_stand.pvalues)"
   ]
  },
  {
   "cell_type": "markdown",
   "metadata": {},
   "source": [
    "We have two variables whose p-scores are higher than 0.05: generosity at 0.25 and trust in government at 0.09. So let's reduce our feature set and retry. We will leave the features as is for normalized dataset as its p-values are all less than 0.05."
   ]
  },
  {
   "cell_type": "code",
   "execution_count": 123,
   "metadata": {},
   "outputs": [
    {
     "name": "stdout",
     "output_type": "stream",
     "text": [
      "Raw:  0.8056325565086679\n",
      "Normalized:  0.37623937185577727\n",
      "Standardized:  0.8056325565086679\n"
     ]
    }
   ],
   "source": [
    "formula = 'happiness_score ~ gdp_per_capita+family+life_expectancy+freedom'\n",
    "formula_norm = 'happiness_score ~ gdp_per_capita+family+life_expectancy+freedom'\n",
    "formula_stand = 'happiness_score ~ gdp_per_capita+family+life_expectancy+freedom'\n",
    "\n",
    "lm = smf.ols(formula=formula, data=df).fit()\n",
    "lm_norm = smf.ols(formula=formula_norm, data=norm_df).fit()\n",
    "lm_stand = smf.ols(formula=formula_stand, data=stand_df).fit()\n",
    "\n",
    "print('Raw: ', lm.rsquared)\n",
    "print('Normalized: ', lm_norm.rsquared)\n",
    "print('Standardized: ', lm_stand.rsquared)"
   ]
  },
  {
   "cell_type": "markdown",
   "metadata": {},
   "source": [
    "#### Raw Data"
   ]
  },
  {
   "cell_type": "code",
   "execution_count": 219,
   "metadata": {},
   "outputs": [
    {
     "data": {
      "text/plain": [
       "LinearRegression(copy_X=True, fit_intercept=True, n_jobs=None,\n",
       "         normalize=False)"
      ]
     },
     "execution_count": 219,
     "metadata": {},
     "output_type": "execute_result"
    }
   ],
   "source": [
    "# New and improved model\n",
    "X_train, X_test, y_train, y_test = train_test_split(df[['gdp_per_capita', 'family', 'life_expectancy', 'freedom']],\n",
    "                                                    df[['happiness_score']],\n",
    "                                                    test_size=0.2, random_state=20)\n",
    "regr = linear_model.LinearRegression()\n",
    "regr.fit(X_train, y_train)"
   ]
  },
  {
   "cell_type": "code",
   "execution_count": 220,
   "metadata": {},
   "outputs": [
    {
     "data": {
      "text/html": [
       "<div>\n",
       "<style scoped>\n",
       "    .dataframe tbody tr th:only-of-type {\n",
       "        vertical-align: middle;\n",
       "    }\n",
       "\n",
       "    .dataframe tbody tr th {\n",
       "        vertical-align: top;\n",
       "    }\n",
       "\n",
       "    .dataframe thead th {\n",
       "        text-align: right;\n",
       "    }\n",
       "</style>\n",
       "<table border=\"1\" class=\"dataframe\">\n",
       "  <thead>\n",
       "    <tr style=\"text-align: right;\">\n",
       "      <th></th>\n",
       "      <th>R2</th>\n",
       "      <th>α</th>\n",
       "      <th>β1</th>\n",
       "      <th>β2</th>\n",
       "      <th>β3</th>\n",
       "      <th>β4</th>\n",
       "    </tr>\n",
       "  </thead>\n",
       "  <tbody>\n",
       "    <tr>\n",
       "      <th>raw</th>\n",
       "      <td>0.820037</td>\n",
       "      <td>1.84012</td>\n",
       "      <td>0.930498</td>\n",
       "      <td>0.984673</td>\n",
       "      <td>1.170318</td>\n",
       "      <td>1.918669</td>\n",
       "    </tr>\n",
       "  </tbody>\n",
       "</table>\n",
       "</div>"
      ],
      "text/plain": [
       "           R2        α        β1        β2        β3        β4\n",
       "raw  0.820037  1.84012  0.930498  0.984673  1.170318  1.918669"
      ]
     },
     "execution_count": 220,
     "metadata": {},
     "output_type": "execute_result"
    }
   ],
   "source": [
    "r2 = regr.score(X_test, y_test)\n",
    "intercept = regr.intercept_\n",
    "coef = regr.coef_\n",
    "\n",
    "stats = {'R2': r2,\n",
    "         'α': intercept,\n",
    "         'β1': coef[0][0],\n",
    "         'β2': coef[0][1],\n",
    "         'β3': coef[0][2],\n",
    "         'β4': coef[0][3]}\n",
    "\n",
    "pd.DataFrame(stats, index=['raw'])"
   ]
  },
  {
   "cell_type": "markdown",
   "metadata": {},
   "source": [
    "#### Normalized Data"
   ]
  },
  {
   "cell_type": "code",
   "execution_count": 222,
   "metadata": {},
   "outputs": [
    {
     "data": {
      "text/html": [
       "<div>\n",
       "<style scoped>\n",
       "    .dataframe tbody tr th:only-of-type {\n",
       "        vertical-align: middle;\n",
       "    }\n",
       "\n",
       "    .dataframe tbody tr th {\n",
       "        vertical-align: top;\n",
       "    }\n",
       "\n",
       "    .dataframe thead th {\n",
       "        text-align: right;\n",
       "    }\n",
       "</style>\n",
       "<table border=\"1\" class=\"dataframe\">\n",
       "  <thead>\n",
       "    <tr style=\"text-align: right;\">\n",
       "      <th></th>\n",
       "      <th>R2</th>\n",
       "      <th>α</th>\n",
       "      <th>β1</th>\n",
       "      <th>β2</th>\n",
       "      <th>β3</th>\n",
       "      <th>β4</th>\n",
       "    </tr>\n",
       "  </thead>\n",
       "  <tbody>\n",
       "    <tr>\n",
       "      <th>normalized</th>\n",
       "      <td>0.820037</td>\n",
       "      <td>1.84012</td>\n",
       "      <td>0.930498</td>\n",
       "      <td>0.984673</td>\n",
       "      <td>1.170318</td>\n",
       "      <td>1.918669</td>\n",
       "    </tr>\n",
       "  </tbody>\n",
       "</table>\n",
       "</div>"
      ],
      "text/plain": [
       "                  R2        α        β1        β2        β3        β4\n",
       "normalized  0.820037  1.84012  0.930498  0.984673  1.170318  1.918669"
      ]
     },
     "execution_count": 222,
     "metadata": {},
     "output_type": "execute_result"
    }
   ],
   "source": [
    "X_norm_train, X_norm_test, y_norm_train, y_norm_test = train_test_split(norm_df[['gdp_per_capita', 'family', 'life_expectancy', 'freedom']],\n",
    "                                                                        norm_df[['happiness_score']],\n",
    "                                                                        test_size=0.2, random_state=20)\n",
    "\n",
    "regr_norm = linear_model.LinearRegression()\n",
    "regr_norm.fit(X_norm_train, y_norm_train)\n",
    "\n",
    "r2_norm = regr_norm.score(X_norm_test, y_norm_test)\n",
    "intercept_norm = regr_norm.intercept_\n",
    "coef_norm = regr_norm.coef_\n",
    "\n",
    "stats_norm = {'R2': r2,\n",
    "              'α': intercept,\n",
    "              'β1': coef[0][0],\n",
    "              'β2': coef[0][1],\n",
    "              'β3': coef[0][2],\n",
    "              'β4': coef[0][3]}\n",
    "\n",
    "pd.DataFrame(stats_norm, index=['normalized'])"
   ]
  },
  {
   "cell_type": "markdown",
   "metadata": {},
   "source": [
    "#### Standardized Data"
   ]
  },
  {
   "cell_type": "code",
   "execution_count": 223,
   "metadata": {},
   "outputs": [
    {
     "data": {
      "text/html": [
       "<div>\n",
       "<style scoped>\n",
       "    .dataframe tbody tr th:only-of-type {\n",
       "        vertical-align: middle;\n",
       "    }\n",
       "\n",
       "    .dataframe tbody tr th {\n",
       "        vertical-align: top;\n",
       "    }\n",
       "\n",
       "    .dataframe thead th {\n",
       "        text-align: right;\n",
       "    }\n",
       "</style>\n",
       "<table border=\"1\" class=\"dataframe\">\n",
       "  <thead>\n",
       "    <tr style=\"text-align: right;\">\n",
       "      <th></th>\n",
       "      <th>R2</th>\n",
       "      <th>α</th>\n",
       "      <th>β1</th>\n",
       "      <th>β2</th>\n",
       "      <th>β3</th>\n",
       "      <th>β4</th>\n",
       "    </tr>\n",
       "  </thead>\n",
       "  <tbody>\n",
       "    <tr>\n",
       "      <th>standardized</th>\n",
       "      <td>0.820037</td>\n",
       "      <td>1.84012</td>\n",
       "      <td>0.930498</td>\n",
       "      <td>0.984673</td>\n",
       "      <td>1.170318</td>\n",
       "      <td>1.918669</td>\n",
       "    </tr>\n",
       "  </tbody>\n",
       "</table>\n",
       "</div>"
      ],
      "text/plain": [
       "                    R2        α        β1        β2        β3        β4\n",
       "standardized  0.820037  1.84012  0.930498  0.984673  1.170318  1.918669"
      ]
     },
     "execution_count": 223,
     "metadata": {},
     "output_type": "execute_result"
    }
   ],
   "source": [
    "X_stand_train, X_stand_test, y_stand_train, y_stand_test = train_test_split(stand_df[['gdp_per_capita', 'family', 'life_expectancy', 'freedom']],\n",
    "                                                                        stand_df[['happiness_score']],\n",
    "                                                                        test_size=0.2, random_state=20)\n",
    "\n",
    "regr_stand = linear_model.LinearRegression()\n",
    "regr_stand.fit(X_stand_train, y_stand_train)\n",
    "\n",
    "r2_stand = regr_stand.score(X_stand_test, y_stand_test)\n",
    "intercept_stand = regr_stand.intercept_\n",
    "coef_stand = regr_stand.coef_\n",
    "\n",
    "stats_stand = {'R2': r2,\n",
    "              'α': intercept,\n",
    "              'β1': coef[0][0],\n",
    "              'β2': coef[0][1],\n",
    "              'β3': coef[0][2],\n",
    "              'β4': coef[0][3]}\n",
    "\n",
    "pd.DataFrame(stats_stand, index=['standardized'])"
   ]
  },
  {
   "cell_type": "markdown",
   "metadata": {},
   "source": [
    "Let's use the model built with normalized data and test it out on data from 2015 and 2016 to see if the model maintains its accuracy."
   ]
  },
  {
   "cell_type": "code",
   "execution_count": 139,
   "metadata": {},
   "outputs": [
    {
     "data": {
      "text/html": [
       "<div>\n",
       "<style scoped>\n",
       "    .dataframe tbody tr th:only-of-type {\n",
       "        vertical-align: middle;\n",
       "    }\n",
       "\n",
       "    .dataframe tbody tr th {\n",
       "        vertical-align: top;\n",
       "    }\n",
       "\n",
       "    .dataframe thead th {\n",
       "        text-align: right;\n",
       "    }\n",
       "</style>\n",
       "<table border=\"1\" class=\"dataframe\">\n",
       "  <thead>\n",
       "    <tr style=\"text-align: right;\">\n",
       "      <th></th>\n",
       "      <th>happiness_score</th>\n",
       "      <th>gdp_per_capita</th>\n",
       "      <th>family</th>\n",
       "      <th>life_expectancy</th>\n",
       "      <th>freedom</th>\n",
       "    </tr>\n",
       "  </thead>\n",
       "  <tbody>\n",
       "    <tr>\n",
       "      <th>0</th>\n",
       "      <td>7.587</td>\n",
       "      <td>1.39651</td>\n",
       "      <td>1.34951</td>\n",
       "      <td>0.94143</td>\n",
       "      <td>0.66557</td>\n",
       "    </tr>\n",
       "    <tr>\n",
       "      <th>1</th>\n",
       "      <td>7.561</td>\n",
       "      <td>1.30232</td>\n",
       "      <td>1.40223</td>\n",
       "      <td>0.94784</td>\n",
       "      <td>0.62877</td>\n",
       "    </tr>\n",
       "    <tr>\n",
       "      <th>2</th>\n",
       "      <td>7.527</td>\n",
       "      <td>1.32548</td>\n",
       "      <td>1.36058</td>\n",
       "      <td>0.87464</td>\n",
       "      <td>0.64938</td>\n",
       "    </tr>\n",
       "    <tr>\n",
       "      <th>3</th>\n",
       "      <td>7.522</td>\n",
       "      <td>1.45900</td>\n",
       "      <td>1.33095</td>\n",
       "      <td>0.88521</td>\n",
       "      <td>0.66973</td>\n",
       "    </tr>\n",
       "    <tr>\n",
       "      <th>4</th>\n",
       "      <td>7.427</td>\n",
       "      <td>1.32629</td>\n",
       "      <td>1.32261</td>\n",
       "      <td>0.90563</td>\n",
       "      <td>0.63297</td>\n",
       "    </tr>\n",
       "  </tbody>\n",
       "</table>\n",
       "</div>"
      ],
      "text/plain": [
       "   happiness_score  gdp_per_capita   family  life_expectancy  freedom\n",
       "0            7.587         1.39651  1.34951          0.94143  0.66557\n",
       "1            7.561         1.30232  1.40223          0.94784  0.62877\n",
       "2            7.527         1.32548  1.36058          0.87464  0.64938\n",
       "3            7.522         1.45900  1.33095          0.88521  0.66973\n",
       "4            7.427         1.32629  1.32261          0.90563  0.63297"
      ]
     },
     "execution_count": 139,
     "metadata": {},
     "output_type": "execute_result"
    }
   ],
   "source": [
    "# Read data\n",
    "df_2015 = pd.read_csv('../Data/world_happiness_report_2/2015.csv')\n",
    "df_2016 = pd.read_csv('../Data/world_happiness_report_2/2016.csv')\n",
    "#print(data_2015.columns)\n",
    "#print(data_2016.columns)\n",
    "\n",
    "# Clean data\n",
    "df_2015 = df_2015[['Happiness Score', 'Economy (GDP per Capita)', 'Family','Health (Life Expectancy)', 'Freedom']]\n",
    "df_2016 = df_2016[['Happiness Score', 'Economy (GDP per Capita)', 'Family','Health (Life Expectancy)', 'Freedom']]\n",
    "\n",
    "# Rename columns\n",
    "df_2015 = df_2015.rename(index=str, columns={'Happiness Score': 'happiness_score',\n",
    "                              'Economy (GDP per Capita)': 'gdp_per_capita',\n",
    "                              'Health (Life Expectancy)': 'life_expectancy',\n",
    "                              'Family': 'family',\n",
    "                              'Freedom': 'freedom'})\n",
    "df_2016 = df_2016.rename(index=str, columns={'Happiness Score': 'happiness_score',\n",
    "                              'Economy (GDP per Capita)': 'gdp_per_capita',\n",
    "                              'Health (Life Expectancy)': 'life_expectancy',\n",
    "                              'Family': 'family',\n",
    "                              'Freedom': 'freedom'})\n",
    "\n",
    "df_2015.head()"
   ]
  },
  {
   "cell_type": "code",
   "execution_count": 153,
   "metadata": {},
   "outputs": [
    {
     "name": "stdout",
     "output_type": "stream",
     "text": [
      "2015 R2:  0.7330268929880687\n",
      "2016 R2:  0.5562998347745107\n"
     ]
    }
   ],
   "source": [
    "# Predict raw data\n",
    "X_2015 = df_2015[['gdp_per_capita', 'family', 'life_expectancy','freedom']]\n",
    "X_2016 = df_2016[['gdp_per_capita', 'family', 'life_expectancy','freedom']]\n",
    "y_2015 = df_2015[['happiness_score']]\n",
    "y_2016 = df_2016[['happiness_score']]\n",
    "\n",
    "pred_2015 = regr.predict(X_2015)\n",
    "pred_2016 = regr.predict(X_2016)\n",
    "\n",
    "# Get R2 score\n",
    "print('2015 R2: ', regr.score(X_2015, y_2015))\n",
    "print('2016 R2: ', regr.score(X_2016, y_2016))"
   ]
  },
  {
   "cell_type": "code",
   "execution_count": 158,
   "metadata": {},
   "outputs": [
    {
     "name": "stdout",
     "output_type": "stream",
     "text": [
      "2015 R2 Normalized:  0.2296339896561187\n",
      "2016 R2 Normalized:  0.030296454481626767\n"
     ]
    }
   ],
   "source": [
    "# normalize data\n",
    "norm_2015 = preprocessing.normalize(df_2015[['gdp_per_capita', 'family', 'life_expectancy','freedom']])\n",
    "norm_2016 = preprocessing.normalize(df_2016[['gdp_per_capita', 'family', 'life_expectancy','freedom']])\n",
    "\n",
    "norm_2015_df = pd.DataFrame(norm_2015, columns=['gdp_per_capita', 'family', 'life_expectancy', 'freedom'])\n",
    "norm_2016_df = pd.DataFrame(norm_2016, columns=['gdp_per_capita', 'family', 'life_expectancy', 'freedom'])\n",
    "\n",
    "X_norm_2015 = norm_2015_df[['gdp_per_capita', 'family', 'life_expectancy','freedom']]\n",
    "X_norm_2016 = norm_2016_df[['gdp_per_capita', 'family', 'life_expectancy','freedom']]\n",
    "                           \n",
    "# Predict values\n",
    "norm_pred_2015 = regr_norm.predict(X_norm_2015)\n",
    "norm_pred_2016 = regr_norm.predict(X_norm_2016)\n",
    "\n",
    "# Get r2 score\n",
    "print('2015 R2 Normalized: ', regr_norm.score(X_norm_2015, y_2015))\n",
    "print('2016 R2 Normalized: ', regr_norm.score(X_norm_2016, y_2016))\n"
   ]
  },
  {
   "cell_type": "code",
   "execution_count": 216,
   "metadata": {
    "scrolled": true
   },
   "outputs": [
    {
     "name": "stdout",
     "output_type": "stream",
     "text": [
      "2015 R2 Standardized:  0.7669407434722955\n",
      "2016 R2 Standardized:  0.7801769811349755\n",
      "2015 MSE:  0.3036180479777783\n",
      "2016 MSE:  0.28469639521007\n"
     ]
    }
   ],
   "source": [
    "# standardize data\n",
    "stand_2015 = preprocessing.scale(df_2015[['gdp_per_capita', 'family', 'life_expectancy','freedom']])\n",
    "stand_2016 = preprocessing.scale(df_2016[['gdp_per_capita', 'family', 'life_expectancy','freedom']])\n",
    "\n",
    "stand_2015_df = pd.DataFrame(stand_2015, columns=['gdp_per_capita', 'family', 'life_expectancy', 'freedom'])\n",
    "stand_2016_df = pd.DataFrame(stand_2016, columns=['gdp_per_capita', 'family', 'life_expectancy', 'freedom'])\n",
    "\n",
    "X_stand_2015 = stand_2015_df[['gdp_per_capita', 'family', 'life_expectancy','freedom']]\n",
    "X_stand_2016 = stand_2016_df[['gdp_per_capita', 'family', 'life_expectancy','freedom']]\n",
    "                           \n",
    "# Predict values\n",
    "stand_pred_2015 = regr_stand.predict(X_stand_2015)\n",
    "stand_pred_2016 = regr_stand.predict(X_stand_2016)\n",
    "\n",
    "# Add predictions to dataframe\n",
    "df_2015['ols_pred'] = stand_pred_2015\n",
    "df_2016['ols_pred'] = stand_pred_2016\n",
    "\n",
    "# Get r2 score\n",
    "print('2015 R2 Standardized: ', regr_stand.score(X_stand_2015, Y_2015))\n",
    "print('2016 R2 Standardized: ', regr_stand.score(X_stand_2016, Y_2016))\n",
    "\n",
    "# Calculate error\n",
    "from sklearn.metrics import mean_squared_error\n",
    "\n",
    "mse_ols_2015 = mean_squared_error(stand_pred_2015, y_2015)\n",
    "mse_ols_2016 = mean_squared_error(stand_pred_2016, y_2016)\n",
    "\n",
    "print('2015 MSE: ', mse_ols_2015)\n",
    "print('2016 MSE: ', mse_ols_2016)"
   ]
  },
  {
   "cell_type": "markdown",
   "metadata": {},
   "source": [
    "I'd say that's pretty good. Both 2015 and 2016 scored above the training set. Now let's see how KNN model does."
   ]
  },
  {
   "cell_type": "markdown",
   "metadata": {},
   "source": [
    "### KNN Regression"
   ]
  },
  {
   "cell_type": "code",
   "execution_count": 191,
   "metadata": {},
   "outputs": [
    {
     "name": "stdout",
     "output_type": "stream",
     "text": [
      "(124, 4) (31, 4) (124, 1) (31, 1)\n",
      "Unweighted Accuracy: 0.78\n"
     ]
    }
   ],
   "source": [
    "from sklearn.model_selection import train_test_split\n",
    "\n",
    "# Unweighted\n",
    "X = df[['gdp_per_capita', 'family', 'life_expectancy', 'freedom']]\n",
    "Y = df[['happiness_score']]\n",
    "\n",
    "X_train, X_test, y_train, y_test = train_test_split(df[['gdp_per_capita', 'family', 'life_expectancy', 'freedom']],\n",
    "                                                    df[['happiness_score']],\n",
    "                                                    test_size=0.2, random_state=20)\n",
    "\n",
    "print(X_train.shape, X_test.shape, y_train.shape, y_test.shape)\n",
    "\n",
    "knn = neighbors.KNeighborsRegressor(n_neighbors=5)\n",
    "knn.fit(X_train, y_train)\n",
    "\n",
    "score = knn.score(X_test, y_test)\n",
    "print(\"Unweighted Accuracy: %0.2f\" % score)"
   ]
  },
  {
   "cell_type": "code",
   "execution_count": 193,
   "metadata": {},
   "outputs": [
    {
     "name": "stdout",
     "output_type": "stream",
     "text": [
      "Weighted Accuracy: 0.78\n"
     ]
    }
   ],
   "source": [
    "# Weighted\n",
    "knn_w = neighbors.KNeighborsRegressor(n_neighbors=5, weights='distance')\n",
    "knn_w.fit(X_train, y_train)\n",
    "\n",
    "score_w = knn_w.score(X_test, y_test)\n",
    "\n",
    "print(\"Weighted Accuracy: %0.2f\" % score_w)"
   ]
  },
  {
   "cell_type": "code",
   "execution_count": 195,
   "metadata": {},
   "outputs": [
    {
     "name": "stdout",
     "output_type": "stream",
     "text": [
      "2015 R2:  0.6065232452988891\n",
      "2016 R2:  0.5140820644553308\n",
      "2015 Weighted R2:  0.6031612187796968\n",
      "2016 Weighted R2:  0.5089515377631622\n"
     ]
    }
   ],
   "source": [
    "# Test with 2016 data\n",
    "score_2015 = knn.score(X_2015, y_2015)\n",
    "score_2016 = knn.score(X_2016, y_2016)\n",
    "print('2015 R2: ', score_2015)\n",
    "print('2016 R2: ', score_2016)\n",
    "\n",
    "score_w_2015 = knn_w.score(X_2015, y_2015)\n",
    "score_w_2016 = knn_w.score(X_2016, y_2016)\n",
    "print('2015 Weighted R2: ', score_w_2015)\n",
    "print('2016 Weighted R2: ', score_w_2016)\n",
    "\n"
   ]
  },
  {
   "cell_type": "code",
   "execution_count": 200,
   "metadata": {},
   "outputs": [
    {
     "name": "stdout",
     "output_type": "stream",
     "text": [
      "(124, 4) (31, 4) (124, 1) (31, 1)\n",
      "Model Accuracy Normalized: 0.49\n",
      "2015 Accuracy Normalized: 0.40\n",
      "2016 Accuracy Normalized: 0.28\n"
     ]
    }
   ],
   "source": [
    "# Normalized\n",
    "X_norm_train, X_norm_test, y_norm_train, y_norm_test = train_test_split(X_norm, Y_norm, test_size=0.2, random_state=20)\n",
    "\n",
    "print(X_norm_train.shape, X_norm_test.shape, y_norm_train.shape, y_norm_test.shape)\n",
    "\n",
    "knn_w = neighbors.KNeighborsRegressor(n_neighbors=5, weights='distance')\n",
    "knn_w.fit(X_norm_train, y_norm_train)\n",
    "\n",
    "score = knn_w.score(X_norm_test, y_norm_test)\n",
    "print(\"Model Accuracy Normalized: %0.2f\" % score)\n",
    "\n",
    "score_norm_2015 = knn_w.score(X_norm_2015, y_2015)\n",
    "print('2015 Accuracy Normalized: %0.2f' % score_norm_2015)\n",
    "\n",
    "score_norm_2016 = knn_w.score(X_norm_2016, y_2016)\n",
    "print('2016 Accuracy Normalized: %0.2f' % score_norm_2016)\n"
   ]
  },
  {
   "cell_type": "code",
   "execution_count": 218,
   "metadata": {},
   "outputs": [
    {
     "name": "stdout",
     "output_type": "stream",
     "text": [
      "(124, 4) (31, 4) (124, 1) (31, 1)\n",
      "Model Accuracy: 0.75\n",
      "2015 Accuracy Normalized: 0.81\n",
      "2015 MSE:  0.24169061748302414\n",
      "2016 Accuracy Normalized: 0.88\n",
      "2016 MSE:  0.15586213331754936\n"
     ]
    }
   ],
   "source": [
    "# Standardized\n",
    "X_stand_train, X_stand_test, y_stand_train, y_stand_test = train_test_split(X_stand, Y_stand, test_size=0.2, random_state=20)\n",
    "\n",
    "print(X_stand_train.shape, X_stand_test.shape, y_stand_train.shape, y_stand_test.shape)\n",
    "\n",
    "knn_w = neighbors.KNeighborsRegressor(n_neighbors=5, weights='distance')\n",
    "knn_w.fit(X_stand_train, y_stand_train)\n",
    "\n",
    "# Make predictions\n",
    "knn_predict_2015 = knn_w.predict(X_stand_2015)\n",
    "knn_predict_2016 = knn_w.predict(X_stand_2016)\n",
    "\n",
    "# Add prediction columns to dataframe\n",
    "df_2015['knn_pred'] = knn_predict_2015\n",
    "df_2016['knn_pred'] = knn_predict_2016\n",
    "\n",
    "# Calculate error\n",
    "knn_mse_2015 = mean_squared_error(knn_predict_2015, y_2015)\n",
    "knn_mse_2016 = mean_squared_error(knn_predict_2016, y_2016)\n",
    "\n",
    "# Display scores\n",
    "score = knn_w.score(X_stand_test, y_stand_test)\n",
    "print(\"Model Accuracy: %0.2f\" % score)\n",
    "\n",
    "score_norm_2015 = knn_w.score(X_stand_2015, y_2015)\n",
    "print('2015 Accuracy Normalized: %0.2f' % score_norm_2015)\n",
    "print('2015 MSE: ', knn_mse_2015)\n",
    "\n",
    "score_norm_2016 = knn_w.score(X_stand_2016, y_2016)\n",
    "print('2016 Accuracy Normalized: %0.2f' % score_norm_2016)\n",
    "print('2016 MSE: ', knn_mse_2016)"
   ]
  },
  {
   "cell_type": "code",
   "execution_count": 212,
   "metadata": {},
   "outputs": [
    {
     "data": {
      "text/html": [
       "<div>\n",
       "<style scoped>\n",
       "    .dataframe tbody tr th:only-of-type {\n",
       "        vertical-align: middle;\n",
       "    }\n",
       "\n",
       "    .dataframe tbody tr th {\n",
       "        vertical-align: top;\n",
       "    }\n",
       "\n",
       "    .dataframe thead th {\n",
       "        text-align: right;\n",
       "    }\n",
       "</style>\n",
       "<table border=\"1\" class=\"dataframe\">\n",
       "  <thead>\n",
       "    <tr style=\"text-align: right;\">\n",
       "      <th></th>\n",
       "      <th>happiness_score</th>\n",
       "      <th>gdp_per_capita</th>\n",
       "      <th>family</th>\n",
       "      <th>life_expectancy</th>\n",
       "      <th>freedom</th>\n",
       "      <th>ols_pred</th>\n",
       "      <th>knn_pred</th>\n",
       "    </tr>\n",
       "  </thead>\n",
       "  <tbody>\n",
       "    <tr>\n",
       "      <th>0</th>\n",
       "      <td>7.587</td>\n",
       "      <td>1.39651</td>\n",
       "      <td>1.34951</td>\n",
       "      <td>0.94143</td>\n",
       "      <td>0.66557</td>\n",
       "      <td>7.055728</td>\n",
       "      <td>7.505991</td>\n",
       "    </tr>\n",
       "    <tr>\n",
       "      <th>1</th>\n",
       "      <td>7.561</td>\n",
       "      <td>1.30232</td>\n",
       "      <td>1.40223</td>\n",
       "      <td>0.94784</td>\n",
       "      <td>0.62877</td>\n",
       "      <td>6.974573</td>\n",
       "      <td>7.434223</td>\n",
       "    </tr>\n",
       "    <tr>\n",
       "      <th>2</th>\n",
       "      <td>7.527</td>\n",
       "      <td>1.32548</td>\n",
       "      <td>1.36058</td>\n",
       "      <td>0.87464</td>\n",
       "      <td>0.64938</td>\n",
       "      <td>6.894082</td>\n",
       "      <td>7.480427</td>\n",
       "    </tr>\n",
       "    <tr>\n",
       "      <th>3</th>\n",
       "      <td>7.522</td>\n",
       "      <td>1.45900</td>\n",
       "      <td>1.33095</td>\n",
       "      <td>0.88521</td>\n",
       "      <td>0.66973</td>\n",
       "      <td>7.025584</td>\n",
       "      <td>7.517887</td>\n",
       "    </tr>\n",
       "    <tr>\n",
       "      <th>4</th>\n",
       "      <td>7.427</td>\n",
       "      <td>1.32629</td>\n",
       "      <td>1.32261</td>\n",
       "      <td>0.90563</td>\n",
       "      <td>0.63297</td>\n",
       "      <td>6.860328</td>\n",
       "      <td>7.399170</td>\n",
       "    </tr>\n",
       "  </tbody>\n",
       "</table>\n",
       "</div>"
      ],
      "text/plain": [
       "   happiness_score  gdp_per_capita   family  life_expectancy  freedom  \\\n",
       "0            7.587         1.39651  1.34951          0.94143  0.66557   \n",
       "1            7.561         1.30232  1.40223          0.94784  0.62877   \n",
       "2            7.527         1.32548  1.36058          0.87464  0.64938   \n",
       "3            7.522         1.45900  1.33095          0.88521  0.66973   \n",
       "4            7.427         1.32629  1.32261          0.90563  0.63297   \n",
       "\n",
       "   ols_pred  knn_pred  \n",
       "0  7.055728  7.505991  \n",
       "1  6.974573  7.434223  \n",
       "2  6.894082  7.480427  \n",
       "3  7.025584  7.517887  \n",
       "4  6.860328  7.399170  "
      ]
     },
     "metadata": {},
     "output_type": "display_data"
    },
    {
     "data": {
      "text/html": [
       "<div>\n",
       "<style scoped>\n",
       "    .dataframe tbody tr th:only-of-type {\n",
       "        vertical-align: middle;\n",
       "    }\n",
       "\n",
       "    .dataframe tbody tr th {\n",
       "        vertical-align: top;\n",
       "    }\n",
       "\n",
       "    .dataframe thead th {\n",
       "        text-align: right;\n",
       "    }\n",
       "</style>\n",
       "<table border=\"1\" class=\"dataframe\">\n",
       "  <thead>\n",
       "    <tr style=\"text-align: right;\">\n",
       "      <th></th>\n",
       "      <th>happiness_score</th>\n",
       "      <th>gdp_per_capita</th>\n",
       "      <th>family</th>\n",
       "      <th>life_expectancy</th>\n",
       "      <th>freedom</th>\n",
       "      <th>ols_pred</th>\n",
       "      <th>knn_pred</th>\n",
       "    </tr>\n",
       "  </thead>\n",
       "  <tbody>\n",
       "    <tr>\n",
       "      <th>0</th>\n",
       "      <td>7.526</td>\n",
       "      <td>1.44178</td>\n",
       "      <td>1.16374</td>\n",
       "      <td>0.79504</td>\n",
       "      <td>0.57941</td>\n",
       "      <td>6.906496</td>\n",
       "      <td>7.448594</td>\n",
       "    </tr>\n",
       "    <tr>\n",
       "      <th>1</th>\n",
       "      <td>7.509</td>\n",
       "      <td>1.52733</td>\n",
       "      <td>1.14524</td>\n",
       "      <td>0.86303</td>\n",
       "      <td>0.58557</td>\n",
       "      <td>7.059945</td>\n",
       "      <td>7.472930</td>\n",
       "    </tr>\n",
       "    <tr>\n",
       "      <th>2</th>\n",
       "      <td>7.501</td>\n",
       "      <td>1.42666</td>\n",
       "      <td>1.18326</td>\n",
       "      <td>0.86733</td>\n",
       "      <td>0.56624</td>\n",
       "      <td>6.988439</td>\n",
       "      <td>7.428405</td>\n",
       "    </tr>\n",
       "    <tr>\n",
       "      <th>3</th>\n",
       "      <td>7.498</td>\n",
       "      <td>1.57744</td>\n",
       "      <td>1.12690</td>\n",
       "      <td>0.79579</td>\n",
       "      <td>0.59609</td>\n",
       "      <td>7.010261</td>\n",
       "      <td>7.506406</td>\n",
       "    </tr>\n",
       "    <tr>\n",
       "      <th>4</th>\n",
       "      <td>7.413</td>\n",
       "      <td>1.40598</td>\n",
       "      <td>1.13464</td>\n",
       "      <td>0.81091</td>\n",
       "      <td>0.57104</td>\n",
       "      <td>6.848463</td>\n",
       "      <td>7.425869</td>\n",
       "    </tr>\n",
       "  </tbody>\n",
       "</table>\n",
       "</div>"
      ],
      "text/plain": [
       "   happiness_score  gdp_per_capita   family  life_expectancy  freedom  \\\n",
       "0            7.526         1.44178  1.16374          0.79504  0.57941   \n",
       "1            7.509         1.52733  1.14524          0.86303  0.58557   \n",
       "2            7.501         1.42666  1.18326          0.86733  0.56624   \n",
       "3            7.498         1.57744  1.12690          0.79579  0.59609   \n",
       "4            7.413         1.40598  1.13464          0.81091  0.57104   \n",
       "\n",
       "   ols_pred  knn_pred  \n",
       "0  6.906496  7.448594  \n",
       "1  7.059945  7.472930  \n",
       "2  6.988439  7.428405  \n",
       "3  7.010261  7.506406  \n",
       "4  6.848463  7.425869  "
      ]
     },
     "metadata": {},
     "output_type": "display_data"
    }
   ],
   "source": [
    "display(df_2015.head())\n",
    "display(df_2016.head())\n"
   ]
  },
  {
   "cell_type": "code",
   "execution_count": null,
   "metadata": {},
   "outputs": [],
   "source": []
  },
  {
   "cell_type": "markdown",
   "metadata": {},
   "source": [
    "### Summary"
   ]
  },
  {
   "cell_type": "markdown",
   "metadata": {},
   "source": [
    "For this challenge I looked at the world happiness score for the years 2016 and 2017. Both the OLS regression model and KNN regression model did reasonably well in predicting the happiness score. Ordinary Least Squares regression tested to 78% accuracy while the weighted KNN model did better at 88% accuracy for predicting 2016 data. The mean squared errors were also lower for the weighted KNN model. "
   ]
  },
  {
   "cell_type": "code",
   "execution_count": null,
   "metadata": {},
   "outputs": [],
   "source": []
  }
 ],
 "metadata": {
  "kernelspec": {
   "display_name": "Python 3",
   "language": "python",
   "name": "python3"
  },
  "language_info": {
   "codemirror_mode": {
    "name": "ipython",
    "version": 3
   },
   "file_extension": ".py",
   "mimetype": "text/x-python",
   "name": "python",
   "nbconvert_exporter": "python",
   "pygments_lexer": "ipython3",
   "version": "3.7.2"
  }
 },
 "nbformat": 4,
 "nbformat_minor": 2
}
