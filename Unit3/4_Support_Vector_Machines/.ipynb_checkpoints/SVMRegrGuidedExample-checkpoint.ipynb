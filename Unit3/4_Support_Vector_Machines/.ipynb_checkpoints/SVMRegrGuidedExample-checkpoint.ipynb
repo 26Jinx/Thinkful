{
 "cells": [
  {
   "cell_type": "code",
   "execution_count": 1,
   "metadata": {
    "run_control": {
     "frozen": false,
     "read_only": false
    }
   },
   "outputs": [],
   "source": [
    "import numpy as np\n",
    "import pandas as pd\n",
    "import scipy\n",
    "import matplotlib.pyplot as plt\n",
    "import seaborn as sns\n",
    "%matplotlib inline"
   ]
  },
  {
   "cell_type": "markdown",
   "metadata": {
    "run_control": {
     "frozen": false,
     "read_only": false
    }
   },
   "source": [
    "Now it's time for another guided example. This time we're going to look at recipes. Specifically we'll use the epicurious dataset, which has a collection of recipes, key terms and ingredients, and their ratings.\n",
    "\n",
    "What we want to see is if we can use the ingredient and keyword list to predict the rating. For someone writing a cookbook this could be really useful information that could help them choose which recipes to include because they're more likely to be enjoyed and therefore make the book more likely to be successful.\n",
    "\n",
    "First let's load the dataset. It's [available on Kaggle](https://www.kaggle.com/hugodarwood/epirecipes). We'll use the csv file here and as pull out column names and some summary statistics for ratings."
   ]
  },
  {
   "cell_type": "code",
   "execution_count": 2,
   "metadata": {
    "run_control": {
     "frozen": false,
     "read_only": false
    }
   },
   "outputs": [],
   "source": [
    "raw_data = pd.read_csv('https://tf-assets-prod.s3.amazonaws.com/tf-curric/data-science/epi_r.csv')"
   ]
  },
  {
   "cell_type": "code",
   "execution_count": 3,
   "metadata": {
    "run_control": {
     "frozen": false,
     "read_only": false
    },
    "scrolled": true
   },
   "outputs": [
    {
     "data": {
      "text/plain": [
       "['title',\n",
       " 'rating',\n",
       " 'calories',\n",
       " 'protein',\n",
       " 'fat',\n",
       " 'sodium',\n",
       " '#cakeweek',\n",
       " '#wasteless',\n",
       " '22-minute meals',\n",
       " '3-ingredient recipes',\n",
       " '30 days of groceries',\n",
       " 'advance prep required',\n",
       " 'alabama',\n",
       " 'alaska',\n",
       " 'alcoholic',\n",
       " 'almond',\n",
       " 'amaretto',\n",
       " 'anchovy',\n",
       " 'anise',\n",
       " 'anniversary',\n",
       " 'anthony bourdain',\n",
       " 'aperitif',\n",
       " 'appetizer',\n",
       " 'apple',\n",
       " 'apple juice',\n",
       " 'apricot',\n",
       " 'arizona',\n",
       " 'artichoke',\n",
       " 'arugula',\n",
       " 'asian pear',\n",
       " 'asparagus',\n",
       " 'aspen',\n",
       " 'atlanta',\n",
       " 'australia',\n",
       " 'avocado',\n",
       " 'back to school',\n",
       " 'backyard bbq',\n",
       " 'bacon',\n",
       " 'bake',\n",
       " 'banana',\n",
       " 'barley',\n",
       " 'basil',\n",
       " 'bass',\n",
       " 'bastille day',\n",
       " 'bean',\n",
       " 'beef',\n",
       " 'beef rib',\n",
       " 'beef shank',\n",
       " 'beef tenderloin',\n",
       " 'beer',\n",
       " 'beet',\n",
       " 'bell pepper',\n",
       " 'berry',\n",
       " 'beverly hills',\n",
       " 'birthday',\n",
       " 'biscuit',\n",
       " 'bitters',\n",
       " 'blackberry',\n",
       " 'blender',\n",
       " 'blue cheese',\n",
       " 'blueberry',\n",
       " 'boil',\n",
       " 'bok choy',\n",
       " 'bon appétit',\n",
       " 'bon app��tit',\n",
       " 'boston',\n",
       " 'bourbon',\n",
       " 'braise',\n",
       " 'bran',\n",
       " 'brandy',\n",
       " 'bread',\n",
       " 'breadcrumbs',\n",
       " 'breakfast',\n",
       " 'brie',\n",
       " 'brine',\n",
       " 'brisket',\n",
       " 'broccoli',\n",
       " 'broccoli rabe',\n",
       " 'broil',\n",
       " 'brooklyn',\n",
       " 'brown rice',\n",
       " 'brownie',\n",
       " 'brunch',\n",
       " 'brussel sprout',\n",
       " 'buffalo',\n",
       " 'buffet',\n",
       " 'bulgaria',\n",
       " 'bulgur',\n",
       " 'burrito',\n",
       " 'butter',\n",
       " 'buttermilk',\n",
       " 'butternut squash',\n",
       " 'butterscotch/caramel',\n",
       " 'cabbage',\n",
       " 'cake',\n",
       " 'california',\n",
       " 'calvados',\n",
       " 'cambridge',\n",
       " 'campari',\n",
       " 'camping',\n",
       " 'canada',\n",
       " 'candy',\n",
       " 'candy thermometer',\n",
       " 'cantaloupe',\n",
       " 'capers',\n",
       " 'caraway',\n",
       " 'cardamom',\n",
       " 'carrot',\n",
       " 'cashew',\n",
       " 'casserole/gratin',\n",
       " 'cauliflower',\n",
       " 'caviar',\n",
       " 'celery',\n",
       " 'chambord',\n",
       " 'champagne',\n",
       " 'chard',\n",
       " 'chartreuse',\n",
       " 'cheddar',\n",
       " 'cheese',\n",
       " 'cherry',\n",
       " 'chestnut',\n",
       " 'chicago',\n",
       " 'chicken',\n",
       " 'chickpea',\n",
       " 'chile',\n",
       " 'chile pepper',\n",
       " 'chili',\n",
       " 'chill',\n",
       " 'chive',\n",
       " 'chocolate',\n",
       " 'christmas',\n",
       " 'christmas eve',\n",
       " 'cilantro',\n",
       " 'cinco de mayo',\n",
       " 'cinnamon',\n",
       " 'citrus',\n",
       " 'clam',\n",
       " 'clove',\n",
       " 'cobbler/crumble',\n",
       " 'cocktail',\n",
       " 'cocktail party',\n",
       " 'coconut',\n",
       " 'cod',\n",
       " 'coffee',\n",
       " 'coffee grinder',\n",
       " 'cognac/armagnac',\n",
       " 'collard greens',\n",
       " 'colorado',\n",
       " 'columbus',\n",
       " 'condiment',\n",
       " 'condiment/spread',\n",
       " 'connecticut',\n",
       " 'cook like a diner',\n",
       " 'cookbook critic',\n",
       " 'cookie',\n",
       " 'cookies',\n",
       " 'coriander',\n",
       " 'corn',\n",
       " 'cornmeal',\n",
       " 'costa mesa',\n",
       " 'cottage cheese',\n",
       " 'couscous',\n",
       " 'crab',\n",
       " 'cranberry',\n",
       " 'cranberry sauce',\n",
       " 'cream cheese',\n",
       " 'créme de cacao',\n",
       " 'crêpe',\n",
       " 'cr��me de cacao',\n",
       " 'cuba',\n",
       " 'cucumber',\n",
       " 'cumin',\n",
       " 'cupcake',\n",
       " 'currant',\n",
       " 'curry',\n",
       " 'custard',\n",
       " 'dairy',\n",
       " 'dairy free',\n",
       " 'dallas',\n",
       " 'date',\n",
       " 'deep-fry',\n",
       " 'denver',\n",
       " 'dessert',\n",
       " 'digestif',\n",
       " 'dill',\n",
       " 'dinner',\n",
       " 'dip',\n",
       " 'diwali',\n",
       " 'dominican republic',\n",
       " 'dorie greenspan',\n",
       " 'double boiler',\n",
       " 'dried fruit',\n",
       " 'drink',\n",
       " 'drinks',\n",
       " 'duck',\n",
       " 'easter',\n",
       " 'eau de vie',\n",
       " 'edible gift',\n",
       " 'egg',\n",
       " 'egg nog',\n",
       " 'eggplant',\n",
       " 'egypt',\n",
       " 'emeril lagasse',\n",
       " 'endive',\n",
       " 'engagement party',\n",
       " 'england',\n",
       " 'entertaining',\n",
       " 'epi + ushg',\n",
       " 'epi loves the microwave',\n",
       " 'escarole',\n",
       " 'fall',\n",
       " 'family reunion',\n",
       " 'fat free',\n",
       " \"father's day\",\n",
       " 'fennel',\n",
       " 'feta',\n",
       " 'fig',\n",
       " 'fish',\n",
       " 'flaming hot summer',\n",
       " 'flat bread',\n",
       " 'florida',\n",
       " 'fontina',\n",
       " 'food processor',\n",
       " 'fortified wine',\n",
       " 'fourth of july',\n",
       " 'france',\n",
       " 'frangelico',\n",
       " 'frankenrecipe',\n",
       " 'freeze/chill',\n",
       " 'freezer food',\n",
       " 'friendsgiving',\n",
       " 'frittata',\n",
       " 'fritter',\n",
       " 'frozen dessert',\n",
       " 'fruit',\n",
       " 'fruit juice',\n",
       " 'fry',\n",
       " 'game',\n",
       " 'garlic',\n",
       " 'georgia',\n",
       " 'germany',\n",
       " 'gin',\n",
       " 'ginger',\n",
       " 'goat cheese',\n",
       " 'goose',\n",
       " 'gouda',\n",
       " 'gourmet',\n",
       " 'graduation',\n",
       " 'grains',\n",
       " 'grand marnier',\n",
       " 'granola',\n",
       " 'grape',\n",
       " 'grapefruit',\n",
       " 'grappa',\n",
       " 'green bean',\n",
       " 'green onion/scallion',\n",
       " 'grill',\n",
       " 'grill/barbecue',\n",
       " 'ground beef',\n",
       " 'ground lamb',\n",
       " 'guam',\n",
       " 'guava',\n",
       " 'haiti',\n",
       " 'halibut',\n",
       " 'halloween',\n",
       " 'ham',\n",
       " 'hamburger',\n",
       " 'hanukkah',\n",
       " 'harpercollins',\n",
       " 'hawaii',\n",
       " 'hazelnut',\n",
       " 'healdsburg',\n",
       " 'healthy',\n",
       " 'herb',\n",
       " 'high fiber',\n",
       " 'hollywood',\n",
       " 'hominy/cornmeal/masa',\n",
       " 'honey',\n",
       " 'honeydew',\n",
       " \"hors d'oeuvre\",\n",
       " 'horseradish',\n",
       " 'hot drink',\n",
       " 'hot pepper',\n",
       " 'house & garden',\n",
       " 'house cocktail',\n",
       " 'houston',\n",
       " 'hummus',\n",
       " 'ice cream',\n",
       " 'ice cream machine',\n",
       " 'iced coffee',\n",
       " 'iced tea',\n",
       " 'idaho',\n",
       " 'illinois',\n",
       " 'indiana',\n",
       " 'iowa',\n",
       " 'ireland',\n",
       " 'israel',\n",
       " 'italy',\n",
       " 'jalapeño',\n",
       " 'jam or jelly',\n",
       " 'jamaica',\n",
       " 'japan',\n",
       " 'jerusalem artichoke',\n",
       " 'juicer',\n",
       " 'jícama',\n",
       " 'kahlúa',\n",
       " 'kale',\n",
       " 'kansas',\n",
       " 'kansas city',\n",
       " 'kentucky',\n",
       " 'kentucky derby',\n",
       " 'kid-friendly',\n",
       " 'kidney friendly',\n",
       " 'kirsch',\n",
       " 'kitchen olympics',\n",
       " 'kiwi',\n",
       " 'kosher',\n",
       " 'kosher for passover',\n",
       " 'kumquat',\n",
       " 'kwanzaa',\n",
       " 'labor day',\n",
       " 'lamb',\n",
       " 'lamb chop',\n",
       " 'lamb shank',\n",
       " 'lancaster',\n",
       " 'las vegas',\n",
       " 'lasagna',\n",
       " 'leafy green',\n",
       " 'leek',\n",
       " 'legume',\n",
       " 'lemon',\n",
       " 'lemon juice',\n",
       " 'lemongrass',\n",
       " 'lentil',\n",
       " 'lettuce',\n",
       " 'lima bean',\n",
       " 'lime',\n",
       " 'lime juice',\n",
       " 'lingonberry',\n",
       " 'liqueur',\n",
       " 'lobster',\n",
       " 'london',\n",
       " 'long beach',\n",
       " 'los angeles',\n",
       " 'louisiana',\n",
       " 'louisville',\n",
       " 'low cal',\n",
       " 'low carb',\n",
       " 'low cholesterol',\n",
       " 'low fat',\n",
       " 'low sodium',\n",
       " 'low sugar',\n",
       " 'low/no sugar',\n",
       " 'lunar new year',\n",
       " 'lunch',\n",
       " 'lychee',\n",
       " 'macadamia nut',\n",
       " 'macaroni and cheese',\n",
       " 'maine',\n",
       " 'mandoline',\n",
       " 'mango',\n",
       " 'maple syrup',\n",
       " 'mardi gras',\n",
       " 'margarita',\n",
       " 'marinade',\n",
       " 'marinate',\n",
       " 'marsala',\n",
       " 'marscarpone',\n",
       " 'marshmallow',\n",
       " 'martini',\n",
       " 'maryland',\n",
       " 'massachusetts',\n",
       " 'mayonnaise',\n",
       " 'meat',\n",
       " 'meatball',\n",
       " 'meatloaf',\n",
       " 'melon',\n",
       " 'mexico',\n",
       " 'mezcal',\n",
       " 'miami',\n",
       " 'michigan',\n",
       " 'microwave',\n",
       " 'midori',\n",
       " 'milk/cream',\n",
       " 'minneapolis',\n",
       " 'minnesota',\n",
       " 'mint',\n",
       " 'mississippi',\n",
       " 'missouri',\n",
       " 'mixer',\n",
       " 'molasses',\n",
       " 'monterey jack',\n",
       " 'mortar and pestle',\n",
       " \"mother's day\",\n",
       " 'mozzarella',\n",
       " 'muffin',\n",
       " 'mushroom',\n",
       " 'mussel',\n",
       " 'mustard',\n",
       " 'mustard greens',\n",
       " 'nancy silverton',\n",
       " 'nebraska',\n",
       " 'nectarine',\n",
       " 'new hampshire',\n",
       " 'new jersey',\n",
       " 'new mexico',\n",
       " 'new orleans',\n",
       " \"new year's day\",\n",
       " \"new year's eve\",\n",
       " 'new york',\n",
       " 'no meat, no problem',\n",
       " 'no sugar added',\n",
       " 'no-cook',\n",
       " 'non-alcoholic',\n",
       " 'noodle',\n",
       " 'north carolina',\n",
       " 'nut',\n",
       " 'nutmeg',\n",
       " 'oat',\n",
       " 'oatmeal',\n",
       " 'octopus',\n",
       " 'ohio',\n",
       " 'oklahoma',\n",
       " 'okra',\n",
       " 'oktoberfest',\n",
       " 'olive',\n",
       " 'omelet',\n",
       " 'one-pot meal',\n",
       " 'onion',\n",
       " 'orange',\n",
       " 'orange juice',\n",
       " 'oregano',\n",
       " 'oregon',\n",
       " 'organic',\n",
       " 'orzo',\n",
       " 'oscars',\n",
       " 'oyster',\n",
       " 'pacific palisades',\n",
       " 'paleo',\n",
       " 'pan-fry',\n",
       " 'pancake',\n",
       " 'papaya',\n",
       " 'paprika',\n",
       " 'parade',\n",
       " 'paris',\n",
       " 'parmesan',\n",
       " 'parsley',\n",
       " 'parsnip',\n",
       " 'party',\n",
       " 'pasadena',\n",
       " 'passion fruit',\n",
       " 'passover',\n",
       " 'pasta',\n",
       " 'pasta maker',\n",
       " 'pastry',\n",
       " 'pea',\n",
       " 'peach',\n",
       " 'peanut',\n",
       " 'peanut butter',\n",
       " 'peanut free',\n",
       " 'pear',\n",
       " 'pecan',\n",
       " 'pennsylvania',\n",
       " 'pepper',\n",
       " 'pernod',\n",
       " 'persian new year',\n",
       " 'persimmon',\n",
       " 'peru',\n",
       " 'pescatarian',\n",
       " 'philippines',\n",
       " 'phyllo/puff pastry dough',\n",
       " 'pickles',\n",
       " 'picnic',\n",
       " 'pie',\n",
       " 'pine nut',\n",
       " 'pineapple',\n",
       " 'pistachio',\n",
       " 'pittsburgh',\n",
       " 'pizza',\n",
       " 'plantain',\n",
       " 'plum',\n",
       " 'poach',\n",
       " 'poblano',\n",
       " 'poker/game night',\n",
       " 'pomegranate',\n",
       " 'pomegranate juice',\n",
       " 'poppy',\n",
       " 'pork',\n",
       " 'pork chop',\n",
       " 'pork rib',\n",
       " 'pork tenderloin',\n",
       " 'port',\n",
       " 'portland',\n",
       " 'pot pie',\n",
       " 'potato',\n",
       " 'potato salad',\n",
       " 'potluck',\n",
       " 'poultry',\n",
       " 'poultry sausage',\n",
       " 'pressure cooker',\n",
       " 'prosciutto',\n",
       " 'providence',\n",
       " 'prune',\n",
       " 'pumpkin',\n",
       " 'punch',\n",
       " 'purim',\n",
       " 'quail',\n",
       " 'quiche',\n",
       " 'quick & easy',\n",
       " 'quick and healthy',\n",
       " 'quince',\n",
       " 'quinoa',\n",
       " 'rabbit',\n",
       " 'rack of lamb',\n",
       " 'radicchio',\n",
       " 'radish',\n",
       " 'raisin',\n",
       " 'ramadan',\n",
       " 'ramekin',\n",
       " 'raspberry',\n",
       " 'raw',\n",
       " 'red wine',\n",
       " 'rhode island',\n",
       " 'rhubarb',\n",
       " 'rice',\n",
       " 'ricotta',\n",
       " 'roast',\n",
       " 'root vegetable',\n",
       " 'rosemary',\n",
       " 'rosh hashanah/yom kippur',\n",
       " 'rosé',\n",
       " 'rub',\n",
       " 'rum',\n",
       " 'rutabaga',\n",
       " 'rye',\n",
       " 'saffron',\n",
       " 'sage',\n",
       " 'sake',\n",
       " 'salad',\n",
       " 'salad dressing',\n",
       " 'salmon',\n",
       " 'salsa',\n",
       " 'san francisco',\n",
       " 'sandwich',\n",
       " 'sandwich theory',\n",
       " 'sangria',\n",
       " 'santa monica',\n",
       " 'sardine',\n",
       " 'sauce',\n",
       " 'sausage',\n",
       " 'sauté',\n",
       " 'scallop',\n",
       " 'scotch',\n",
       " 'seafood',\n",
       " 'seattle',\n",
       " 'seed',\n",
       " 'self',\n",
       " 'semolina',\n",
       " 'sesame',\n",
       " 'sesame oil',\n",
       " 'shallot',\n",
       " 'shavuot',\n",
       " 'shellfish',\n",
       " 'sherry',\n",
       " 'shower',\n",
       " 'shrimp',\n",
       " 'side',\n",
       " 'simmer',\n",
       " 'skewer',\n",
       " 'slow cooker',\n",
       " 'smoker',\n",
       " 'smoothie',\n",
       " 'snapper',\n",
       " 'sorbet',\n",
       " 'soufflé/meringue',\n",
       " 'soup/stew',\n",
       " 'sour cream',\n",
       " 'sourdough',\n",
       " 'south carolina',\n",
       " 'soy',\n",
       " 'soy free',\n",
       " 'soy sauce',\n",
       " 'spain',\n",
       " 'sparkling wine',\n",
       " 'spice',\n",
       " 'spinach',\n",
       " 'spirit',\n",
       " 'spring',\n",
       " 'spritzer',\n",
       " 'squash',\n",
       " 'squid',\n",
       " 'st. louis',\n",
       " \"st. patrick's day\",\n",
       " 'steak',\n",
       " 'steam',\n",
       " 'stew',\n",
       " 'stir-fry',\n",
       " 'stock',\n",
       " 'strawberry',\n",
       " 'stuffing/dressing',\n",
       " 'sugar conscious',\n",
       " 'sugar snap pea',\n",
       " 'sukkot',\n",
       " 'summer',\n",
       " 'super bowl',\n",
       " 'suzanne goin',\n",
       " 'sweet potato/yam',\n",
       " 'swiss cheese',\n",
       " 'switzerland',\n",
       " 'swordfish',\n",
       " 'taco',\n",
       " 'tailgating',\n",
       " 'tamarind',\n",
       " 'tangerine',\n",
       " 'tapioca',\n",
       " 'tarragon',\n",
       " 'tart',\n",
       " 'tea',\n",
       " 'tennessee',\n",
       " 'tequila',\n",
       " 'tested & improved',\n",
       " 'texas',\n",
       " 'thanksgiving',\n",
       " 'thyme',\n",
       " 'tilapia',\n",
       " 'tofu',\n",
       " 'tomatillo',\n",
       " 'tomato',\n",
       " 'tortillas',\n",
       " 'tree nut',\n",
       " 'tree nut free',\n",
       " 'triple sec',\n",
       " 'tropical fruit',\n",
       " 'trout',\n",
       " 'tuna',\n",
       " 'turnip',\n",
       " 'utah',\n",
       " \"valentine's day\",\n",
       " 'vanilla',\n",
       " 'veal',\n",
       " 'vegan',\n",
       " 'vegetable',\n",
       " 'vegetarian',\n",
       " 'venison',\n",
       " 'vermont',\n",
       " 'vermouth',\n",
       " 'vinegar',\n",
       " 'virginia',\n",
       " 'vodka',\n",
       " 'waffle',\n",
       " 'walnut',\n",
       " 'wasabi',\n",
       " 'washington',\n",
       " 'washington, d.c.',\n",
       " 'watercress',\n",
       " 'watermelon',\n",
       " 'wedding',\n",
       " 'weelicious',\n",
       " 'west virginia',\n",
       " 'westwood',\n",
       " 'wheat/gluten-free',\n",
       " 'whiskey',\n",
       " 'white wine',\n",
       " 'whole wheat',\n",
       " 'wild rice',\n",
       " 'windsor',\n",
       " 'wine',\n",
       " 'winter',\n",
       " 'wisconsin',\n",
       " 'wok',\n",
       " 'yellow squash',\n",
       " 'yogurt',\n",
       " 'yonkers',\n",
       " 'yuca',\n",
       " 'zucchini',\n",
       " 'cookbooks',\n",
       " 'leftovers',\n",
       " 'snack',\n",
       " 'snack week',\n",
       " 'turkey']"
      ]
     },
     "execution_count": 3,
     "metadata": {},
     "output_type": "execute_result"
    }
   ],
   "source": [
    "list(raw_data.columns)"
   ]
  },
  {
   "cell_type": "code",
   "execution_count": 4,
   "metadata": {
    "run_control": {
     "frozen": false,
     "read_only": false
    },
    "scrolled": true
   },
   "outputs": [
    {
     "data": {
      "text/plain": [
       "count    20052.000000\n",
       "mean         3.714467\n",
       "std          1.340829\n",
       "min          0.000000\n",
       "25%          3.750000\n",
       "50%          4.375000\n",
       "75%          4.375000\n",
       "max          5.000000\n",
       "Name: rating, dtype: float64"
      ]
     },
     "execution_count": 4,
     "metadata": {},
     "output_type": "execute_result"
    }
   ],
   "source": [
    "raw_data.rating.describe()"
   ]
  },
  {
   "cell_type": "markdown",
   "metadata": {
    "run_control": {
     "frozen": false,
     "read_only": false
    }
   },
   "source": [
    "We learn a few things from this analysis. From a ratings perspective, there are just over 20,000 recipes with an average rating of 3.71. What is interesting is that the 25th percentile is actually above the mean. This means there is likely some kind of outlier population. This makes sense when we think about reviews: some bad recipes may have very few very low reviews.\n",
    "\n",
    "Let's validate the idea a bit further with a histogram."
   ]
  },
  {
   "cell_type": "code",
   "execution_count": 5,
   "metadata": {
    "run_control": {
     "frozen": false,
     "read_only": false
    }
   },
   "outputs": [
    {
     "data": {
      "image/png": "[encoded data removed]",
      "text/plain": [
       "<Figure size 432x288 with 1 Axes>"
      ]
     },
     "metadata": {
      "needs_background": "light"
     },
     "output_type": "display_data"
    }
   ],
   "source": [
    "raw_data.rating.hist(bins=20)\n",
    "plt.title('Histogram of Recipe Ratings')\n",
    "plt.show()"
   ]
  },
  {
   "cell_type": "markdown",
   "metadata": {
    "run_control": {
     "frozen": false,
     "read_only": false
    }
   },
   "source": [
    "So a few things are shown in this histogram. Firstly there are sharp discontinutities. We don't have continuous data. No recipe has a 3.5 rating, for example. Also we see the anticipated increase at 0.\n",
    "\n",
    "Let's try a naive approach again, this time using SVM Regressor. But first, we'll have to do a bit of data cleaning."
   ]
  },
  {
   "cell_type": "code",
   "execution_count": 6,
   "metadata": {
    "run_control": {
     "frozen": false,
     "read_only": false
    }
   },
   "outputs": [
    {
     "data": {
      "text/plain": [
       "calories    4117\n",
       "protein     4162\n",
       "fat         4183\n",
       "sodium      4119\n",
       "dtype: int64"
      ]
     },
     "execution_count": 6,
     "metadata": {},
     "output_type": "execute_result"
    }
   ],
   "source": [
    "# Count nulls \n",
    "null_count = raw_data.isnull().sum()\n",
    "null_count[null_count>0]"
   ]
  },
  {
   "cell_type": "markdown",
   "metadata": {
    "run_control": {
     "frozen": false,
     "read_only": false
    }
   },
   "source": [
    "What we can see right away is that nutrition information is not available for all goods. Now this would be an interesting data point, but let's focus on ingredients and keywords right now. So we'll actually drop the whole columns for calories, protein, fat, and sodium. We'll come back to nutrition information later."
   ]
  },
  {
   "cell_type": "code",
   "execution_count": 7,
   "metadata": {
    "run_control": {
     "frozen": false,
     "read_only": false
    }
   },
   "outputs": [
    {
     "name": "stderr",
     "output_type": "stream",
     "text": [
      "/anaconda3/lib/python3.7/site-packages/sklearn/svm/base.py:196: FutureWarning: The default value of gamma will change from 'auto' to 'scale' in version 0.22 to account better for unscaled features. Set gamma explicitly to 'auto' or 'scale' to avoid this warning.\n",
      "  \"avoid this warning.\", FutureWarning)\n"
     ]
    },
    {
     "data": {
      "text/plain": [
       "SVR(C=1.0, cache_size=200, coef0=0.0, degree=3, epsilon=0.1,\n",
       "  gamma='auto_deprecated', kernel='rbf', max_iter=-1, shrinking=True,\n",
       "  tol=0.001, verbose=False)"
      ]
     },
     "execution_count": 7,
     "metadata": {},
     "output_type": "execute_result"
    }
   ],
   "source": [
    "from sklearn.svm import SVR\n",
    "svr = SVR()\n",
    "X = raw_data.drop(['rating', 'title', 'calories', 'protein', 'fat', 'sodium'], 1).sample(frac=0.3, replace=True, random_state=1)\n",
    "Y = raw_data.rating.sample(frac=0.3, replace=True, random_state=1)\n",
    "svr.fit(X,Y)\n",
    "\n",
    "#QUESTION: WHY DO WE ONLY USE 30% OF THE DATA TO TRAIN THE MODEL?"
   ]
  },
  {
   "cell_type": "markdown",
   "metadata": {
    "run_control": {
     "frozen": false,
     "read_only": false
    }
   },
   "source": [
    "__Note that this actually takes quite a while to run, compared to some of the models we've done before. Around 5-7 mins. Be patient.__ It's because of the number of features we have.\n",
    "\n",
    "Let's see what a scatter plot looks like, comparing actuals to predicted."
   ]
  },
  {
   "cell_type": "code",
   "execution_count": 8,
   "metadata": {
    "run_control": {
     "frozen": false,
     "read_only": false
    }
   },
   "outputs": [
    {
     "data": {
      "text/plain": [
       "<matplotlib.collections.PathCollection at 0x1a274c9240>"
      ]
     },
     "execution_count": 8,
     "metadata": {},
     "output_type": "execute_result"
    },
    {
     "data": {
      "image/png": "[encoded data removed]",
      "text/plain": [
       "<Figure size 432x288 with 1 Axes>"
      ]
     },
     "metadata": {
      "needs_background": "light"
     },
     "output_type": "display_data"
    }
   ],
   "source": [
    "plt.scatter(Y, svr.predict(X))"
   ]
  },
  {
   "cell_type": "markdown",
   "metadata": {
    "run_control": {
     "frozen": false,
     "read_only": false
    }
   },
   "source": [
    "Now that is a pretty useless visualization. This is because of the discontinous nature of our outcome variable. There's too much data for us to really see what's going on here. If you wanted to look at it you could create histograms, here we'll move on to the scores of both our full fit model and with cross validation. Again if you choose to run it again it will take some time, so you probably shouldn't."
   ]
  },
  {
   "cell_type": "code",
   "execution_count": 9,
   "metadata": {
    "run_control": {
     "frozen": false,
     "read_only": false
    }
   },
   "outputs": [
    {
     "data": {
      "text/plain": [
       "-0.003978314483867873"
      ]
     },
     "execution_count": 9,
     "metadata": {},
     "output_type": "execute_result"
    }
   ],
   "source": [
    "svr.score(X, Y)"
   ]
  },
  {
   "cell_type": "code",
   "execution_count": 10,
   "metadata": {
    "run_control": {
     "frozen": false,
     "read_only": false
    },
    "scrolled": false
   },
   "outputs": [
    {
     "name": "stderr",
     "output_type": "stream",
     "text": [
      "/anaconda3/lib/python3.7/site-packages/sklearn/svm/base.py:196: FutureWarning: The default value of gamma will change from 'auto' to 'scale' in version 0.22 to account better for unscaled features. Set gamma explicitly to 'auto' or 'scale' to avoid this warning.\n",
      "  \"avoid this warning.\", FutureWarning)\n",
      "/anaconda3/lib/python3.7/site-packages/sklearn/svm/base.py:196: FutureWarning: The default value of gamma will change from 'auto' to 'scale' in version 0.22 to account better for unscaled features. Set gamma explicitly to 'auto' or 'scale' to avoid this warning.\n",
      "  \"avoid this warning.\", FutureWarning)\n",
      "/anaconda3/lib/python3.7/site-packages/sklearn/svm/base.py:196: FutureWarning: The default value of gamma will change from 'auto' to 'scale' in version 0.22 to account better for unscaled features. Set gamma explicitly to 'auto' or 'scale' to avoid this warning.\n",
      "  \"avoid this warning.\", FutureWarning)\n",
      "/anaconda3/lib/python3.7/site-packages/sklearn/svm/base.py:196: FutureWarning: The default value of gamma will change from 'auto' to 'scale' in version 0.22 to account better for unscaled features. Set gamma explicitly to 'auto' or 'scale' to avoid this warning.\n",
      "  \"avoid this warning.\", FutureWarning)\n",
      "/anaconda3/lib/python3.7/site-packages/sklearn/svm/base.py:196: FutureWarning: The default value of gamma will change from 'auto' to 'scale' in version 0.22 to account better for unscaled features. Set gamma explicitly to 'auto' or 'scale' to avoid this warning.\n",
      "  \"avoid this warning.\", FutureWarning)\n"
     ]
    },
    {
     "data": {
      "text/plain": [
       "array([-0.01787926, -0.02916288, -0.02841122, -0.03767394, -0.01735362])"
      ]
     },
     "execution_count": 10,
     "metadata": {},
     "output_type": "execute_result"
    }
   ],
   "source": [
    "from sklearn.model_selection import cross_val_score\n",
    "cross_val_score(svr, X, Y, cv=5)"
   ]
  },
  {
   "cell_type": "markdown",
   "metadata": {
    "run_control": {
     "frozen": false,
     "read_only": false
    }
   },
   "source": [
    "Oh dear, so this did seem not to work very well. In fact it is remarkably poor. Now there are many things that we could do here. \n",
    "\n",
    "Firstly the overfit is a problem, even though it was poor in the first place. We could go back and clean up our feature set. There might be some gains to be made by getting rid of the noise.\n",
    "\n",
    "We could also see how removing the nulls but including dietary information performs. Though its a slight change to the question we could still possibly get some improvements there.\n",
    "\n",
    "Lastly, we could take our regression problem and turn it into a classifier. With this number of features and a discontinuous outcome, we might have better luck thinking of this as a classification problem. We could make it simpler still by instead of classifying on each possible value, group reviews to some decided high and low values.\n",
    "\n",
    "__And that is your challenge.__\n",
    "\n",
    "Transform this regression problem into a binary classifier and clean up the feature set. You can choose whether or not to include nutritional information, but try to cut your feature set down to the 30 most valuable features.\n",
    "\n",
    "Good luck!"
   ]
  },
  {
   "cell_type": "markdown",
   "metadata": {},
   "source": [
    "### Challenge  "
   ]
  },
  {
   "cell_type": "markdown",
   "metadata": {},
   "source": [
    "Since the mean is over 3.7 and seems to be skewed toward the high end of the scores, let's set the division at a rating of 4. So, scores of 4 or higher will be the 'good' class and lower will be the 'bad' review class."
   ]
  },
  {
   "cell_type": "code",
   "execution_count": 35,
   "metadata": {},
   "outputs": [
    {
     "name": "stdout",
     "output_type": "stream",
     "text": [
      "(14036, 674) (6016, 674) (14036,) (6016,)\n"
     ]
    },
    {
     "name": "stderr",
     "output_type": "stream",
     "text": [
      "/anaconda3/lib/python3.7/site-packages/sklearn/model_selection/_split.py:2053: FutureWarning: You should specify a value for 'cv' instead of relying on the default value. The default value will change from 3 to 5 in version 0.22.\n",
      "  warnings.warn(CV_WARNING, FutureWarning)\n"
     ]
    },
    {
     "name": "stdout",
     "output_type": "stream",
     "text": [
      "0.00043366365938839565\n",
      "Coefficients:\n",
      " [[-1.08116720e+00  0.00000000e+00  2.47535407e+00 -1.16464782e+00\n",
      "  -7.74823359e-02 -2.80100816e-01  1.09794733e-01 -8.53242757e+00\n",
      "  -1.75774798e-01  2.85725310e-01  5.78792412e-01  2.45597437e-01\n",
      "  -2.47275950e-01 -3.68674946e-01 -6.81578827e+00 -1.87728251e+00\n",
      "   3.24967081e-02  3.82010935e-02 -1.29652183e+00  3.90524421e-02\n",
      "   4.46973218e-01 -3.60859300e-01  1.92787723e-01 -2.64382117e-01\n",
      "   2.55525808e-01  8.00019607e+00  1.45037714e+00  1.45093482e+00\n",
      "   3.92802507e-02  6.83416059e-02  1.59362774e-01  2.03320535e-01\n",
      "   3.22801449e-02 -2.66134611e-01  4.30527510e-01  1.05958065e-01\n",
      "   6.60438002e-01  1.17078957e-01  7.53095938e-02  1.77162109e-01\n",
      "   7.78524990e-01  4.79347112e-01  3.72559934e-01 -1.27302876e-01\n",
      "   2.14719614e-01 -2.08927768e-01  3.96536297e-01  6.59446352e+00\n",
      "   4.17295732e-02  4.06859960e-01 -2.03205948e-01  4.68594738e-02\n",
      "  -2.98077721e-02 -6.31542666e-03  3.05795678e-01  2.43305821e-01\n",
      "   5.10549608e-01  3.77479860e-01 -9.55531534e-01  9.46203777e-01\n",
      "   6.10175884e-01  1.87368942e-01 -5.69684286e-01  5.15707166e-03\n",
      "  -9.05703739e-02 -2.17302004e-01 -3.30864289e-03 -2.47776725e+00\n",
      "   6.06686837e-01  1.79184418e+00 -5.21063728e-01  1.69444310e-01\n",
      "   1.35458056e-01 -1.09870690e+00  6.64107162e-01 -8.51583912e-01\n",
      "   6.75783720e-02  7.64795012e-01  1.48796169e+00 -3.24881257e-03\n",
      "   7.04342419e+00  1.68686720e-02  0.00000000e+00  1.20463348e-03\n",
      "   3.26126292e-01  1.25432962e-01  8.88008836e-01 -3.36332048e-01\n",
      "   2.57323564e-01  1.95948842e-01  8.92428164e-01  9.78789592e+00\n",
      "   6.10892164e-01 -8.66787076e+00 -7.04827767e-01 -5.82977890e-01\n",
      "   8.01938763e-02 -6.15408716e-01  4.13943437e-01  3.15285386e-01\n",
      "  -2.90431628e-01  4.69211378e-02 -6.28126774e-02 -1.88563692e-01\n",
      "  -3.55997737e-01  0.00000000e+00 -5.77994388e-02  3.83117956e-01\n",
      "   5.55239847e-01 -1.63525141e-01 -9.06330326e+00 -4.08334034e-01\n",
      "   2.38048576e-01  4.09275164e-01 -5.90729427e-01 -8.70817140e+00\n",
      "  -3.87497347e-02 -2.26798570e-01 -8.61604523e-01  1.34606813e-01\n",
      "   1.70310843e+00  7.02631472e-02 -3.65087538e-02 -6.99563865e-02\n",
      "   3.18378099e-01  2.56332012e-01  2.46362675e-01  3.39233617e-01\n",
      "   1.94268406e-01 -7.43782909e-02 -1.87956066e-02 -1.14642854e-01\n",
      "   7.11940265e+00  2.23043928e-01 -2.70496590e-01  2.94778938e-02\n",
      "   7.17509644e-02 -4.13389794e-03  6.33868162e-01  2.34589616e-01\n",
      "   7.26300242e-01 -7.67591030e-01  7.95759434e-01 -5.15587564e-01\n",
      "  -6.01886422e-02 -1.89010166e-01 -8.17514132e+00  3.40607188e-01\n",
      "  -4.45324085e-01 -1.59031983e-01  1.35591471e-01  9.47329874e-02\n",
      "  -5.37559782e-01  0.00000000e+00 -9.66618554e-02 -1.84751558e-02\n",
      "  -2.16227622e-01  4.17910475e-01 -9.26326943e+00  2.60402044e-01\n",
      "  -1.79014931e+00  0.00000000e+00  0.00000000e+00  3.19050211e-01\n",
      "   3.41718557e-01  3.17597156e-01  9.33169213e+00  1.45561701e-01\n",
      "  -2.13453975e-01  1.82723164e-02  1.84757131e-01 -1.44789868e-01\n",
      "  -7.39819754e-01  5.18017341e-02  2.57674508e-01  2.69849637e-01\n",
      "  -4.16381328e-02 -1.72817397e+00  1.89117716e-02  3.44215989e-01\n",
      "  -9.31337393e-01  1.52198933e-01 -3.50732969e-01 -8.28722773e+00\n",
      "  -2.25238168e-01 -1.68174353e-01 -2.75408252e-01 -5.72680007e-01\n",
      "  -2.72769475e-02  1.09353118e-01 -1.59672411e-01  9.42387090e-01\n",
      "  -6.52062309e-02 -8.48235284e+00  2.79694695e-02 -7.09648191e+00\n",
      "   8.43893888e+00  3.15260174e-02  2.12846690e-01  1.05510862e+00\n",
      "  -2.17197930e-01 -8.20992699e+00  6.78449290e+00  1.68415398e-01\n",
      "  -1.79693682e-03 -8.03683534e-02  2.83710641e-01  4.91341537e-02\n",
      "  -1.80250296e-01  5.85482527e-01  6.95440434e-01  2.99497677e-02\n",
      "   1.11602172e+00  1.17982104e-01 -3.26298774e-01  8.13495263e-01\n",
      "  -6.99370022e-02  1.12018032e-01  3.83875679e-01 -1.19832538e+00\n",
      "  -1.05614524e+00  0.00000000e+00  2.31206785e-01  0.00000000e+00\n",
      "  -2.26649489e+00 -7.97635676e+00 -6.51020030e+00 -1.08839667e-01\n",
      "  -4.86194947e-02  2.21323732e-01 -1.37857214e-01  2.16498345e-01\n",
      "   5.43849307e-02 -2.42822708e-01  0.00000000e+00 -5.34037928e-01\n",
      "   1.15137934e-01  5.59294940e-01 -5.46558259e-01  1.78371738e+00\n",
      "   1.63905335e-01  9.98453869e-02 -1.42456454e+00  7.22642981e+00\n",
      "   9.35845983e+00  1.25029457e-01  2.94530403e-01  9.38723990e+00\n",
      "  -1.15181063e-01 -1.27435471e-01  2.06513290e-01  1.89880443e-01\n",
      "  -3.64527472e-01  1.18321791e+00  7.94581866e+00  4.10706430e-01\n",
      "  -6.50484968e+00  2.70751733e-01  3.92797907e-01 -1.32350385e-01\n",
      "   8.91828674e-01 -7.83628946e-02 -1.28316843e+00 -2.84459156e-01\n",
      "   2.66818328e-01  7.26251287e-01  1.50340007e-01  8.95912213e-02\n",
      "   1.01113496e-01  0.00000000e+00 -9.79811564e-01  9.50904076e-02\n",
      "   1.02727893e+00 -1.14642322e+00  5.14112812e-02  1.04812211e+00\n",
      "   5.30946166e-02 -6.37640846e-01  0.00000000e+00  0.00000000e+00\n",
      "  -2.19211329e+00 -1.75155307e-01  4.33799382e-01  8.92223567e+00\n",
      "   1.46499103e+00  0.00000000e+00 -2.23327261e-01  8.11295945e-01\n",
      "  -6.05342562e+00  2.18636581e+00 -5.18587266e+00 -8.70411983e+00\n",
      "  -6.94923640e-02 -6.49448631e-02 -8.35676296e+00 -7.93556576e+00\n",
      "  -1.54193599e-01  4.94991541e-01 -1.50919456e+00  1.29715917e+00\n",
      "   5.47734807e-01 -9.02876011e+00 -8.40378377e+00  5.93951472e+00\n",
      "   1.10622488e+00  3.79192721e-02  9.77167522e-02 -3.96996586e-01\n",
      "   0.00000000e+00  2.43813414e-01 -7.12401867e-03 -7.99212465e-01\n",
      "   1.74160651e-01 -1.20383855e-01 -2.20721399e+00  2.73254565e-01\n",
      "   8.37704532e-01 -2.92618707e-01 -9.70228289e+00  0.00000000e+00\n",
      "  -1.52309115e+01  6.89126248e-02 -2.10115310e-01 -2.70353614e-02\n",
      "  -1.06455581e-02 -1.17228100e-01  4.60510164e-01 -6.96341849e-02\n",
      "  -2.28027300e-02 -1.95061955e-01  5.16026294e-02 -5.77785873e-01\n",
      "  -8.67257942e+00 -3.65213868e-03  4.49083866e-01  6.59141391e+00\n",
      "   0.00000000e+00 -6.77887353e-01 -7.80370254e+00 -6.10034155e+00\n",
      "  -7.86584283e-02  2.73074444e-01  4.09769847e-01 -5.68902089e-01\n",
      "  -1.87078127e-01 -7.70110092e-01 -4.21898955e-01  6.07197874e-01\n",
      "   7.31691505e-02 -5.77597228e-01  1.97577423e-02  0.00000000e+00\n",
      "  -8.93657250e-01  8.36378523e-01  1.31342278e-01  3.44861910e-02\n",
      "   7.04947895e-01  4.86584616e-01 -7.81721388e+00  1.80520681e-01\n",
      "   8.53683601e-01  5.04325720e-01  4.53621238e-01  1.91524269e+00\n",
      "  -5.46164428e-01 -5.18043883e-01  6.59983656e-01  1.06647327e-01\n",
      "   4.84735394e-01 -7.39921994e+00  1.62037872e-01 -1.71600602e+00\n",
      "  -7.70191434e+00  0.00000000e+00 -9.56589719e-01  6.00883615e-01\n",
      "   5.84159146e-01  1.32439674e-01 -1.84476082e+00  1.67234200e+00\n",
      "   3.97481343e-02  0.00000000e+00  1.64026678e-01  4.26869355e-02\n",
      "   9.12152877e-01 -1.25840257e-01  7.68113889e+00  6.15950284e-02\n",
      "   4.64124235e-01  9.77634467e+00  2.03623131e-01  2.84055751e-01\n",
      "   1.52150295e-01 -1.75710820e-02 -6.62010484e+00  6.92999030e+00\n",
      "   3.70885323e-01  7.43190188e+00 -3.91254665e-01  1.72891521e-01\n",
      "   0.00000000e+00  3.22239004e-01  2.38890934e-01  3.41836680e-01\n",
      "   7.98137477e+00  8.61564497e-02 -1.06115272e-01 -1.64115868e-01\n",
      "  -1.31688771e-01 -1.26832791e+00  1.15152295e-01  1.76588923e-01\n",
      "   7.87697471e-02 -1.31467345e+00 -5.46810609e-01  5.17157069e-01\n",
      "  -5.56322637e-01 -1.09763129e+00 -1.34597461e+00  1.16661076e-01\n",
      "   1.59646133e+01  8.93814663e-01  7.14509456e-05 -2.78898910e-02\n",
      "   3.29044935e-01  6.88285799e-02 -7.48710104e-01  7.32596113e-01\n",
      "   9.05119611e+00  6.22511497e-01 -1.52246550e-01  0.00000000e+00\n",
      "  -4.22085066e-01 -2.46079916e-02 -9.11646176e+00  3.32622423e-01\n",
      "  -9.13606468e-01  1.21943871e-01  1.40625520e+00  2.43850409e-01\n",
      "   1.10635890e-01  1.39121686e-02  2.28778795e-02  1.78314469e+00\n",
      "  -1.37866712e-01  1.97338440e-02 -5.63355394e-01 -6.95617678e-02\n",
      "   9.43088751e-01 -3.26918604e-01 -3.04750983e-01 -7.19705058e-02\n",
      "   2.12917310e-01 -5.15058589e-02  1.77922898e-01  2.76211090e-01\n",
      "   1.00091186e+00  2.42430085e-01  2.88571734e-01  7.59485521e+00\n",
      "  -4.54477773e-01 -8.54551459e+00  1.11368050e-01 -1.59278682e+00\n",
      "   2.12719062e-01 -3.35883332e-01 -2.57993934e-01 -3.99523372e-01\n",
      "   3.93045188e-01  3.11712040e-01  2.53241563e-01 -3.69109568e+00\n",
      "   4.29116039e-01 -4.38571373e-02  5.92298330e-01  3.36973886e-01\n",
      "  -8.26269013e-01 -1.21967543e-02  6.38655540e-01 -1.38501395e-01\n",
      "  -6.79205107e-01  2.20516349e-01  3.48616552e-01  3.27313504e-02\n",
      "   9.16246593e-01  2.19615958e-01  2.15422089e-01  9.65258311e+00\n",
      "  -1.55306105e-01  7.23187678e+00  1.30540047e-02 -1.35238364e-01\n",
      "   5.02777658e-01 -1.24534436e+00  3.70697988e-01  9.86034264e+00\n",
      "   3.69380101e-01  6.30675333e-01 -2.40959301e-01 -9.90775101e-02\n",
      "  -1.95771483e-01  0.00000000e+00 -4.80658725e-02  4.50094863e-01\n",
      "   2.86112735e-01  4.22788423e-01  9.34008311e+00  1.96557534e-01\n",
      "  -3.30836653e-01 -7.01443015e-01  4.78861296e-01  2.64459372e-01\n",
      "   8.39875767e-01  2.43170313e-01  4.09526161e-02  4.16085191e-01\n",
      "  -1.88808199e+00  4.22442529e-01 -1.76143215e-01  3.28812692e-02\n",
      "   4.66513312e-01 -1.12876832e-01 -1.27137841e-02  7.04404221e-01\n",
      "   8.97330268e+00  7.12390269e+00 -4.60923203e-01  4.61436159e-01\n",
      "  -5.45421822e-01  4.92568247e-01  2.47694891e-01  1.74422481e-01\n",
      "   2.49291737e-01  1.67446639e-01  4.46558690e-01 -1.40870202e+00\n",
      "   1.03096400e+00  1.64210785e-02  1.53899350e-01  1.41222114e+00\n",
      "  -3.64741413e-01 -8.89110708e-01  3.39399497e-02  3.38234738e-01\n",
      "  -1.08354797e-01  6.01785317e-01 -1.76776557e+00 -1.50954020e-02\n",
      "  -3.99335868e-01 -3.25116673e-02 -3.32398634e-01 -7.58136150e-01\n",
      "   2.13076348e-01  4.76681808e-01  2.14297708e-01 -1.10922192e+00\n",
      "  -1.07312461e-01 -1.00856671e-02 -2.84927367e-01  3.63886382e-01\n",
      "  -5.08226280e-02 -8.31620542e-02 -1.07664915e-01 -6.77758046e-01\n",
      "   6.96860457e-01 -1.00741943e-01 -2.91813796e-01 -7.92436809e+00\n",
      "   2.57031996e-01  3.13107649e-01 -7.25355442e-02  0.00000000e+00\n",
      "   6.38785716e-01 -9.33804361e-02  1.33611105e-01  4.14095529e-01\n",
      "  -8.29527491e+00  6.10568523e-02 -1.05439608e-01 -5.11324719e-02\n",
      "  -1.82194946e-01 -1.85329490e-02 -9.45302251e-01 -4.06333560e-01\n",
      "  -2.81616485e-01  8.72241101e+00  4.93943364e-01  2.80089635e-01\n",
      "   1.96818753e-01 -3.42520117e-01 -7.03209125e-01 -1.53426354e-01\n",
      "   7.28807671e-02  1.10488301e+00  5.13491035e-02  1.02911773e-01\n",
      "   1.97219374e+00  4.12226924e-02  1.78785526e-01  8.98941666e+00\n",
      "   3.88539656e-01 -6.65442149e-02 -8.58079628e-01  3.04831555e-01\n",
      "   6.48834230e-01 -7.90583038e-02 -4.59339193e-01  3.88706252e-01\n",
      "   7.79458167e-01 -4.45413693e-01 -4.22240352e-01 -6.27250883e-01\n",
      "   7.44906727e+00  7.57326926e-03 -7.05433614e+00 -2.28371877e-01\n",
      "   3.14643032e-01  9.03295715e-02  3.46949118e-01 -9.88246463e-01\n",
      "   6.61418110e-01  1.87909469e-01  3.02571974e-01 -3.92968678e-01\n",
      "   7.71109941e-02  3.08478444e-01 -1.10518693e-01  9.90013421e-01\n",
      "   2.93569631e-01  4.30336127e-01 -6.74098011e-01  3.22655628e-01\n",
      "   1.75378643e-01  2.15841385e-01 -3.50003282e-02 -8.47615870e-02\n",
      "  -9.10246468e-02  1.40293611e+00 -1.27487724e-01 -1.18862836e+00\n",
      "   1.33167898e-01  1.81067902e-01  6.29574077e-01 -6.23774170e+00\n",
      "   3.98006691e-01 -7.39647873e-01 -6.31604791e-01  6.58899527e-01\n",
      "   1.55667435e-01  4.87476904e-01  3.11762210e-01 -1.08927550e+00\n",
      "   0.00000000e+00  7.24542751e+00 -9.18206659e-02  9.56765013e-02\n",
      "   2.03893212e-02 -1.13155086e+00 -1.60323095e+00  0.00000000e+00\n",
      "  -1.58275924e-01 -7.85724538e-02 -4.50499396e-01  3.35243674e-01\n",
      "   1.31593866e-01 -4.89872314e-01  6.50629766e+00  2.58352744e-01\n",
      "  -2.90461447e-01 -3.30056977e-01 -8.71489125e+00 -1.17453377e+00\n",
      "   1.62530794e+00  2.98611909e-01]]\n"
     ]
    },
    {
     "name": "stderr",
     "output_type": "stream",
     "text": [
      "/anaconda3/lib/python3.7/site-packages/sklearn/linear_model/logistic.py:433: FutureWarning: Default solver will be changed to 'lbfgs' in 0.22. Specify a solver to silence this warning.\n",
      "  FutureWarning)\n"
     ]
    }
   ],
   "source": [
    "# Let's first classify each rating to 'good'(1) or 'bad'(0)\n",
    "raw_data['rtg_class'] = np.where(raw_data['rating'] < 4, 0, 1)\n",
    "X = raw_data.drop(['rating', 'rtg_class', 'title', 'calories', 'protein', 'fat', 'sodium'], 1)\n",
    "y = raw_data.rtg_class\n",
    "\n",
    "# splitting data\n",
    "from sklearn.model_selection import train_test_split\n",
    "X_train, X_test, y_train, y_test = train_test_split(X, y, test_size=0.3, random_state=1)\n",
    "print(X_train.shape, X_test.shape, y_train.shape, y_test.shape)\n",
    "\n",
    "# Maybe we use lasso regression to eliminate some features?\n",
    "from sklearn import linear_model\n",
    "\n",
    "# first calculate lambda\n",
    "lasso_cv = linear_model.LassoCV()\n",
    "alpha = lasso_cv.fit(X_train, y_train).alpha_\n",
    "print(alpha)\n",
    "\n",
    "# get lasso model and select features\n",
    "lasso = linear_model.LogisticRegression(C=1/alpha, penalty='l1')\n",
    "lasso_model = lasso.fit(X_train, y_train)\n",
    "print('Coefficients:\\n', lasso_model.coef_)\n"
   ]
  },
  {
   "cell_type": "markdown",
   "metadata": {},
   "source": [
    "That's not very helpful. Let's play with the C to see if we can get some zeroes. Maybe we can right a function that decreases the C until the count of zeroes in the coefficients reach total-30 (since we want 30 most significant features)."
   ]
  },
  {
   "cell_type": "code",
   "execution_count": 59,
   "metadata": {},
   "outputs": [
    {
     "name": "stdout",
     "output_type": "stream",
     "text": [
      "39\n",
      "['backyard bbq', 'bake', 'bon appétit', 'cheese', 'chicken', 'christmas', 'cocktail party', 'dairy free', 'dinner', 'drink', 'fall', 'gourmet', 'grill/barbecue', 'house & garden', 'low fat', 'paleo', 'pasta', 'peanut free', 'quick & easy', 'roast', 'side', 'soy free', 'summer', 'thanksgiving', 'tomato', 'vegan', 'vegetable', 'vegetarian', 'wheat/gluten-free']\n"
     ]
    }
   ],
   "source": [
    "def get_n_features(n, max_alpha, X, y):  \n",
    "    \n",
    "    # get number features with non-zero coefficient\n",
    "    features_count = X.shape[1]\n",
    "    \n",
    "    for alpha in range(1, max_alpha):\n",
    "        # initialize counter\n",
    "        zero_count = 0\n",
    "        \n",
    "        # keep a track of the non-zero coefficient columns\n",
    "        features_index = []\n",
    "        features = []\n",
    "        \n",
    "        # fit model\n",
    "        model = linear_model.LogisticRegression(C=1/alpha, penalty='l1', solver='liblinear').fit(X, y)\n",
    "        coefficients = model.coef_[0]\n",
    "        \n",
    "        # see how many coefficients are now zero and save the indices of non-zero coefficients\n",
    "        for c in range(len(coefficients)):\n",
    "            if coefficients[c] == 0:\n",
    "                zero_count += 1\n",
    "            else:\n",
    "                features_index.append(c)\n",
    "            \n",
    "        # check to see if we have n features\n",
    "        if len(features_index) <= n:\n",
    "            # print the alpha\n",
    "            print(alpha)\n",
    "            \n",
    "            # get column names\n",
    "            for i in range(len(features_index)):\n",
    "                features.append(X.columns[features_index[i]])\n",
    "                \n",
    "            return features\n",
    "        else:\n",
    "            pass\n",
    "                                 \n",
    "features_list = get_n_features(30, 50, X_train, y_train)\n",
    "print(features_list)         "
   ]
  },
  {
   "cell_type": "markdown",
   "metadata": {},
   "source": [
    "Now that we have our features list, let's build our model and see how our predictions do."
   ]
  },
  {
   "cell_type": "code",
   "execution_count": 66,
   "metadata": {},
   "outputs": [
    {
     "name": "stdout",
     "output_type": "stream",
     "text": [
      "(14036, 29) (6016, 29) (14036,) (6016,)\n",
      "Model cross-val score:  [0.54522792 0.54328465 0.54542216 0.54150338 0.5443534 ]\n",
      "R2 Score:  0.5485372340425532\n",
      "Confusion Matrix:\n",
      " [[ 106   29]\n",
      " [2687 3194]]\n"
     ]
    }
   ],
   "source": [
    "# let's split the data again\n",
    "X = raw_data[features_list]\n",
    "y = raw_data.rtg_class\n",
    "\n",
    "X_train, X_test, y_train, y_test = train_test_split(X, y, test_size=0.3, random_state=1)\n",
    "print(X_train.shape, X_test.shape, y_train.shape, y_test.shape)\n",
    "\n",
    "# build our classifier model\n",
    "from sklearn.svm import SVC\n",
    "svc = SVC(C=1/39, gamma='auto')\n",
    "svc_model = svc.fit(X_train, y_train)\n",
    "y_pred = svc_model.predict(X_test)\n",
    "\n",
    "cvs = cross_val_score(svc_model, X_train, y_train, cv=5)\n",
    "print('Model cross-val score: ', cvs)\n",
    "\n",
    "print('R2 Score: ', svc.score(X_test, y_test))\n",
    "\n",
    "from sklearn.metrics import confusion_matrix\n",
    "c_mat = confusion_matrix(y_pred, y_test)\n",
    "print('Confusion Matrix:\\n', c_mat)\n"
   ]
  },
  {
   "cell_type": "markdown",
   "metadata": {},
   "source": [
    "So our model is very good at predicting bad reviews, which in our case is any review with a rating below 4, but very bad at predicting positive reviews. "
   ]
  },
  {
   "cell_type": "markdown",
   "metadata": {
    "run_control": {
     "frozen": false,
     "read_only": false
    }
   },
   "source": [
    "When you've finished that, also take a moment to think about bias. Is there anything in this dataset that makes you think it could be biased, perhaps extremely so?\n",
    "\n",
    "There is. Several things in fact, but most glaringly is that we don't actually have a random sample. It could be, and probably is, that the people more likely to choose some kinds of recipes are more likely to give high reviews.\n",
    "\n",
    "After all, people who eat chocolate _might_ just be happier people."
   ]
  }
 ],
 "metadata": {
  "hide_input": false,
  "kernelspec": {
   "display_name": "Python 3",
   "language": "python",
   "name": "python3"
  },
  "language_info": {
   "codemirror_mode": {
    "name": "ipython",
    "version": 3
   },
   "file_extension": ".py",
   "mimetype": "text/x-python",
   "name": "python",
   "nbconvert_exporter": "python",
   "pygments_lexer": "ipython3",
   "version": "3.7.3"
  },
  "toc": {
   "colors": {
    "hover_highlight": "#DAA520",
    "running_highlight": "#FF0000",
    "selected_highlight": "#FFD700"
   },
   "moveMenuLeft": true,
   "nav_menu": {
    "height": "12px",
    "width": "252px"
   },
   "navigate_menu": true,
   "number_sections": true,
   "sideBar": true,
   "threshold": 4,
   "toc_cell": false,
   "toc_section_display": "block",
   "toc_window_display": false
  }
 },
 "nbformat": 4,
 "nbformat_minor": 2
}
