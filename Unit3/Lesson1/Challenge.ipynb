{
 "cells": [
  {
   "cell_type": "code",
   "execution_count": 188,
   "metadata": {},
   "outputs": [],
   "source": [
    "%matplotlib inline\n",
    "import math\n",
    "import scipy\n",
    "import sklearn\n",
    "import numpy as np\n",
    "import pandas as pd\n",
    "import seaborn as sns\n",
    "import matplotlib.pyplot as plt\n",
    "from sklearn import linear_model\n",
    "from sklearn import preprocessing\n",
    "import statsmodels.formula.api as smf\n",
    "from sklearn.model_selection import cross_val_score\n",
    "from sklearn import neighbors"
   ]
  },
  {
   "cell_type": "markdown",
   "metadata": {},
   "source": [
    "### Data Preparation"
   ]
  },
  {
   "cell_type": "code",
   "execution_count": 128,
   "metadata": {},
   "outputs": [
    {
     "data": {
      "text/html": [
       "<div>\n",
       "<style scoped>\n",
       "    .dataframe tbody tr th:only-of-type {\n",
       "        vertical-align: middle;\n",
       "    }\n",
       "\n",
       "    .dataframe tbody tr th {\n",
       "        vertical-align: top;\n",
       "    }\n",
       "\n",
       "    .dataframe thead th {\n",
       "        text-align: right;\n",
       "    }\n",
       "</style>\n",
       "<table border=\"1\" class=\"dataframe\">\n",
       "  <thead>\n",
       "    <tr style=\"text-align: right;\">\n",
       "      <th></th>\n",
       "      <th>Country</th>\n",
       "      <th>Happiness.Rank</th>\n",
       "      <th>Happiness.Score</th>\n",
       "      <th>Whisker.high</th>\n",
       "      <th>Whisker.low</th>\n",
       "      <th>Economy..GDP.per.Capita.</th>\n",
       "      <th>Family</th>\n",
       "      <th>Health..Life.Expectancy.</th>\n",
       "      <th>Freedom</th>\n",
       "      <th>Generosity</th>\n",
       "      <th>Trust..Government.Corruption.</th>\n",
       "      <th>Dystopia.Residual</th>\n",
       "    </tr>\n",
       "  </thead>\n",
       "  <tbody>\n",
       "    <tr>\n",
       "      <th>0</th>\n",
       "      <td>Norway</td>\n",
       "      <td>1</td>\n",
       "      <td>7.537</td>\n",
       "      <td>7.594445</td>\n",
       "      <td>7.479556</td>\n",
       "      <td>1.616463</td>\n",
       "      <td>1.533524</td>\n",
       "      <td>0.796667</td>\n",
       "      <td>0.635423</td>\n",
       "      <td>0.362012</td>\n",
       "      <td>0.315964</td>\n",
       "      <td>2.277027</td>\n",
       "    </tr>\n",
       "    <tr>\n",
       "      <th>1</th>\n",
       "      <td>Denmark</td>\n",
       "      <td>2</td>\n",
       "      <td>7.522</td>\n",
       "      <td>7.581728</td>\n",
       "      <td>7.462272</td>\n",
       "      <td>1.482383</td>\n",
       "      <td>1.551122</td>\n",
       "      <td>0.792566</td>\n",
       "      <td>0.626007</td>\n",
       "      <td>0.355280</td>\n",
       "      <td>0.400770</td>\n",
       "      <td>2.313707</td>\n",
       "    </tr>\n",
       "    <tr>\n",
       "      <th>2</th>\n",
       "      <td>Iceland</td>\n",
       "      <td>3</td>\n",
       "      <td>7.504</td>\n",
       "      <td>7.622030</td>\n",
       "      <td>7.385970</td>\n",
       "      <td>1.480633</td>\n",
       "      <td>1.610574</td>\n",
       "      <td>0.833552</td>\n",
       "      <td>0.627163</td>\n",
       "      <td>0.475540</td>\n",
       "      <td>0.153527</td>\n",
       "      <td>2.322715</td>\n",
       "    </tr>\n",
       "    <tr>\n",
       "      <th>3</th>\n",
       "      <td>Switzerland</td>\n",
       "      <td>4</td>\n",
       "      <td>7.494</td>\n",
       "      <td>7.561772</td>\n",
       "      <td>7.426227</td>\n",
       "      <td>1.564980</td>\n",
       "      <td>1.516912</td>\n",
       "      <td>0.858131</td>\n",
       "      <td>0.620071</td>\n",
       "      <td>0.290549</td>\n",
       "      <td>0.367007</td>\n",
       "      <td>2.276716</td>\n",
       "    </tr>\n",
       "    <tr>\n",
       "      <th>4</th>\n",
       "      <td>Finland</td>\n",
       "      <td>5</td>\n",
       "      <td>7.469</td>\n",
       "      <td>7.527542</td>\n",
       "      <td>7.410458</td>\n",
       "      <td>1.443572</td>\n",
       "      <td>1.540247</td>\n",
       "      <td>0.809158</td>\n",
       "      <td>0.617951</td>\n",
       "      <td>0.245483</td>\n",
       "      <td>0.382612</td>\n",
       "      <td>2.430182</td>\n",
       "    </tr>\n",
       "  </tbody>\n",
       "</table>\n",
       "</div>"
      ],
      "text/plain": [
       "       Country  Happiness.Rank  Happiness.Score  Whisker.high  Whisker.low  \\\n",
       "0       Norway               1            7.537      7.594445     7.479556   \n",
       "1      Denmark               2            7.522      7.581728     7.462272   \n",
       "2      Iceland               3            7.504      7.622030     7.385970   \n",
       "3  Switzerland               4            7.494      7.561772     7.426227   \n",
       "4      Finland               5            7.469      7.527542     7.410458   \n",
       "\n",
       "   Economy..GDP.per.Capita.    Family  Health..Life.Expectancy.   Freedom  \\\n",
       "0                  1.616463  1.533524                  0.796667  0.635423   \n",
       "1                  1.482383  1.551122                  0.792566  0.626007   \n",
       "2                  1.480633  1.610574                  0.833552  0.627163   \n",
       "3                  1.564980  1.516912                  0.858131  0.620071   \n",
       "4                  1.443572  1.540247                  0.809158  0.617951   \n",
       "\n",
       "   Generosity  Trust..Government.Corruption.  Dystopia.Residual  \n",
       "0    0.362012                       0.315964           2.277027  \n",
       "1    0.355280                       0.400770           2.313707  \n",
       "2    0.475540                       0.153527           2.322715  \n",
       "3    0.290549                       0.367007           2.276716  \n",
       "4    0.245483                       0.382612           2.430182  "
      ]
     },
     "execution_count": 128,
     "metadata": {},
     "output_type": "execute_result"
    }
   ],
   "source": [
    "# Read data\n",
    "df = pd.read_csv('../Data/world_happiness_report_2/2017.csv')\n",
    "df.head()"
   ]
  },
  {
   "cell_type": "code",
   "execution_count": 129,
   "metadata": {},
   "outputs": [
    {
     "data": {
      "text/html": [
       "<div>\n",
       "<style scoped>\n",
       "    .dataframe tbody tr th:only-of-type {\n",
       "        vertical-align: middle;\n",
       "    }\n",
       "\n",
       "    .dataframe tbody tr th {\n",
       "        vertical-align: top;\n",
       "    }\n",
       "\n",
       "    .dataframe thead th {\n",
       "        text-align: right;\n",
       "    }\n",
       "</style>\n",
       "<table border=\"1\" class=\"dataframe\">\n",
       "  <thead>\n",
       "    <tr style=\"text-align: right;\">\n",
       "      <th></th>\n",
       "      <th>country</th>\n",
       "      <th>happiness_score</th>\n",
       "      <th>gdp_per_capita</th>\n",
       "      <th>family</th>\n",
       "      <th>life_expectancy</th>\n",
       "      <th>freedom</th>\n",
       "      <th>generosity</th>\n",
       "      <th>trust_in_government</th>\n",
       "    </tr>\n",
       "  </thead>\n",
       "  <tbody>\n",
       "    <tr>\n",
       "      <th>0</th>\n",
       "      <td>Norway</td>\n",
       "      <td>7.537</td>\n",
       "      <td>1.616463</td>\n",
       "      <td>1.533524</td>\n",
       "      <td>0.796667</td>\n",
       "      <td>0.635423</td>\n",
       "      <td>0.362012</td>\n",
       "      <td>0.315964</td>\n",
       "    </tr>\n",
       "    <tr>\n",
       "      <th>1</th>\n",
       "      <td>Denmark</td>\n",
       "      <td>7.522</td>\n",
       "      <td>1.482383</td>\n",
       "      <td>1.551122</td>\n",
       "      <td>0.792566</td>\n",
       "      <td>0.626007</td>\n",
       "      <td>0.355280</td>\n",
       "      <td>0.400770</td>\n",
       "    </tr>\n",
       "    <tr>\n",
       "      <th>2</th>\n",
       "      <td>Iceland</td>\n",
       "      <td>7.504</td>\n",
       "      <td>1.480633</td>\n",
       "      <td>1.610574</td>\n",
       "      <td>0.833552</td>\n",
       "      <td>0.627163</td>\n",
       "      <td>0.475540</td>\n",
       "      <td>0.153527</td>\n",
       "    </tr>\n",
       "    <tr>\n",
       "      <th>3</th>\n",
       "      <td>Switzerland</td>\n",
       "      <td>7.494</td>\n",
       "      <td>1.564980</td>\n",
       "      <td>1.516912</td>\n",
       "      <td>0.858131</td>\n",
       "      <td>0.620071</td>\n",
       "      <td>0.290549</td>\n",
       "      <td>0.367007</td>\n",
       "    </tr>\n",
       "    <tr>\n",
       "      <th>4</th>\n",
       "      <td>Finland</td>\n",
       "      <td>7.469</td>\n",
       "      <td>1.443572</td>\n",
       "      <td>1.540247</td>\n",
       "      <td>0.809158</td>\n",
       "      <td>0.617951</td>\n",
       "      <td>0.245483</td>\n",
       "      <td>0.382612</td>\n",
       "    </tr>\n",
       "  </tbody>\n",
       "</table>\n",
       "</div>"
      ],
      "text/plain": [
       "       country  happiness_score  gdp_per_capita    family  life_expectancy  \\\n",
       "0       Norway            7.537        1.616463  1.533524         0.796667   \n",
       "1      Denmark            7.522        1.482383  1.551122         0.792566   \n",
       "2      Iceland            7.504        1.480633  1.610574         0.833552   \n",
       "3  Switzerland            7.494        1.564980  1.516912         0.858131   \n",
       "4      Finland            7.469        1.443572  1.540247         0.809158   \n",
       "\n",
       "    freedom  generosity  trust_in_government  \n",
       "0  0.635423    0.362012             0.315964  \n",
       "1  0.626007    0.355280             0.400770  \n",
       "2  0.627163    0.475540             0.153527  \n",
       "3  0.620071    0.290549             0.367007  \n",
       "4  0.617951    0.245483             0.382612  "
      ]
     },
     "execution_count": 129,
     "metadata": {},
     "output_type": "execute_result"
    }
   ],
   "source": [
    "# Clean data\n",
    "df = df[['Country', 'Happiness.Score', 'Economy..GDP.per.Capita.', 'Family',\n",
    "       'Health..Life.Expectancy.', 'Freedom', 'Generosity',\n",
    "       'Trust..Government.Corruption.']]\n",
    "\n",
    "df = df.rename(index=str, columns={'Happiness.Score': 'happiness_score',\n",
    "                              'Economy..GDP.per.Capita.': 'gdp_per_capita',\n",
    "                              'Health..Life.Expectancy.': 'life_expectancy',\n",
    "                              'Trust..Government.Corruption.': 'trust_in_government',\n",
    "                              'Family': 'family',\n",
    "                              'Freedom': 'freedom',\n",
    "                              'Generosity': 'generosity',\n",
    "                              'Country': 'country'})\n",
    "\n",
    "df.head()"
   ]
  },
  {
   "cell_type": "code",
   "execution_count": 71,
   "metadata": {},
   "outputs": [
    {
     "data": {
      "text/plain": [
       "False"
      ]
     },
     "execution_count": 71,
     "metadata": {},
     "output_type": "execute_result"
    }
   ],
   "source": [
    "# Check for missing values\n",
    "df.isnull().values.any()"
   ]
  },
  {
   "cell_type": "code",
   "execution_count": 130,
   "metadata": {},
   "outputs": [
    {
     "data": {
      "image/png": "[encoded data removed]",
      "text/plain": [
       "<Figure size 720x576 with 1 Axes>"
      ]
     },
     "metadata": {},
     "output_type": "display_data"
    }
   ],
   "source": [
    "# Plot to see outliers\n",
    "f, ax = plt.subplots(figsize=(10, 8))\n",
    "sns.set(style='whitegrid')\n",
    "sns.despine()\n",
    "\n",
    "sns.boxplot(data=df[['gdp_per_capita', 'family', 'life_expectancy',\n",
    "       'freedom', 'generosity', 'trust_in_government']], palette='Accent')\n",
    "plt.title('Raw Data')\n",
    "plt.show()"
   ]
  },
  {
   "cell_type": "markdown",
   "metadata": {},
   "source": [
    "Although there is some overlap, I think I might still need to normalize the scores before we start delving into the data to check for things like correlation."
   ]
  },
  {
   "cell_type": "code",
   "execution_count": 145,
   "metadata": {},
   "outputs": [
    {
     "data": {
      "text/html": [
       "<div>\n",
       "<style scoped>\n",
       "    .dataframe tbody tr th:only-of-type {\n",
       "        vertical-align: middle;\n",
       "    }\n",
       "\n",
       "    .dataframe tbody tr th {\n",
       "        vertical-align: top;\n",
       "    }\n",
       "\n",
       "    .dataframe thead th {\n",
       "        text-align: right;\n",
       "    }\n",
       "</style>\n",
       "<table border=\"1\" class=\"dataframe\">\n",
       "  <thead>\n",
       "    <tr style=\"text-align: right;\">\n",
       "      <th></th>\n",
       "      <th>happiness_score</th>\n",
       "      <th>gdp_per_capita</th>\n",
       "      <th>family</th>\n",
       "      <th>life_expectancy</th>\n",
       "      <th>freedom</th>\n",
       "      <th>generosity</th>\n",
       "      <th>trust_in_government</th>\n",
       "    </tr>\n",
       "  </thead>\n",
       "  <tbody>\n",
       "    <tr>\n",
       "      <th>0</th>\n",
       "      <td>0.949269</td>\n",
       "      <td>0.203590</td>\n",
       "      <td>0.193144</td>\n",
       "      <td>0.100338</td>\n",
       "      <td>0.080030</td>\n",
       "      <td>0.045595</td>\n",
       "      <td>0.039795</td>\n",
       "    </tr>\n",
       "    <tr>\n",
       "      <th>1</th>\n",
       "      <td>0.951536</td>\n",
       "      <td>0.187522</td>\n",
       "      <td>0.196218</td>\n",
       "      <td>0.100260</td>\n",
       "      <td>0.079190</td>\n",
       "      <td>0.044943</td>\n",
       "      <td>0.050698</td>\n",
       "    </tr>\n",
       "    <tr>\n",
       "      <th>2</th>\n",
       "      <td>0.949690</td>\n",
       "      <td>0.187386</td>\n",
       "      <td>0.203831</td>\n",
       "      <td>0.105493</td>\n",
       "      <td>0.079372</td>\n",
       "      <td>0.060183</td>\n",
       "      <td>0.019430</td>\n",
       "    </tr>\n",
       "    <tr>\n",
       "      <th>3</th>\n",
       "      <td>0.949824</td>\n",
       "      <td>0.198353</td>\n",
       "      <td>0.192260</td>\n",
       "      <td>0.108764</td>\n",
       "      <td>0.078591</td>\n",
       "      <td>0.036826</td>\n",
       "      <td>0.046516</td>\n",
       "    </tr>\n",
       "    <tr>\n",
       "      <th>4</th>\n",
       "      <td>0.952525</td>\n",
       "      <td>0.184099</td>\n",
       "      <td>0.196428</td>\n",
       "      <td>0.103192</td>\n",
       "      <td>0.078808</td>\n",
       "      <td>0.031307</td>\n",
       "      <td>0.048795</td>\n",
       "    </tr>\n",
       "  </tbody>\n",
       "</table>\n",
       "</div>"
      ],
      "text/plain": [
       "   happiness_score  gdp_per_capita    family  life_expectancy   freedom  \\\n",
       "0         0.949269        0.203590  0.193144         0.100338  0.080030   \n",
       "1         0.951536        0.187522  0.196218         0.100260  0.079190   \n",
       "2         0.949690        0.187386  0.203831         0.105493  0.079372   \n",
       "3         0.949824        0.198353  0.192260         0.108764  0.078591   \n",
       "4         0.952525        0.184099  0.196428         0.103192  0.078808   \n",
       "\n",
       "   generosity  trust_in_government  \n",
       "0    0.045595             0.039795  \n",
       "1    0.044943             0.050698  \n",
       "2    0.060183             0.019430  \n",
       "3    0.036826             0.046516  \n",
       "4    0.031307             0.048795  "
      ]
     },
     "execution_count": 145,
     "metadata": {},
     "output_type": "execute_result"
    }
   ],
   "source": [
    "# Normalize data\n",
    "# Select columns to be normalized\n",
    "raw_data = df[['happiness_score', 'gdp_per_capita', 'family', 'life_expectancy',\n",
    "       'freedom', 'generosity', 'trust_in_government']]\n",
    "\n",
    "# Normalize\n",
    "norm_data = preprocessing.normalize(raw_data)\n",
    "\n",
    "# Store in new dataframe\n",
    "norm_df = pd.DataFrame(norm_data, columns=['happiness_score', 'gdp_per_capita', 'family', 'life_expectancy',\n",
    "       'freedom', 'generosity', 'trust_in_government'])\n",
    "norm_df.head()\n"
   ]
  },
  {
   "cell_type": "code",
   "execution_count": 146,
   "metadata": {},
   "outputs": [
    {
     "data": {
      "image/png": "[encoded data removed]",
      "text/plain": [
       "<Figure size 720x576 with 1 Axes>"
      ]
     },
     "metadata": {},
     "output_type": "display_data"
    }
   ],
   "source": [
    "# Let's see the normalized data\n",
    "f, ax = plt.subplots(figsize=(10, 8))\n",
    "sns.despine()\n",
    "sns.set(style='whitegrid')\n",
    "\n",
    "# Plot the independent variable columns\n",
    "data = normalized_df[['gdp_per_capita', 'family', 'life_expectancy',\n",
    "       'freedom', 'generosity', 'trust_in_government']]\n",
    "\n",
    "sns.boxplot(data=data, palette='Accent')\n",
    "plt.title('Normalized Data')\n",
    "plt.xticks([0, 1, 2, 3, 4, 5], ['GDP/Capita', 'Family', 'Life Expectancy', 'Freedom', 'Generosity', 'Trust in Government'])\n",
    "plt.show()"
   ]
  },
  {
   "cell_type": "code",
   "execution_count": 147,
   "metadata": {},
   "outputs": [
    {
     "data": {
      "text/html": [
       "<div>\n",
       "<style scoped>\n",
       "    .dataframe tbody tr th:only-of-type {\n",
       "        vertical-align: middle;\n",
       "    }\n",
       "\n",
       "    .dataframe tbody tr th {\n",
       "        vertical-align: top;\n",
       "    }\n",
       "\n",
       "    .dataframe thead th {\n",
       "        text-align: right;\n",
       "    }\n",
       "</style>\n",
       "<table border=\"1\" class=\"dataframe\">\n",
       "  <thead>\n",
       "    <tr style=\"text-align: right;\">\n",
       "      <th></th>\n",
       "      <th>happiness_score</th>\n",
       "      <th>gdp_per_capita</th>\n",
       "      <th>family</th>\n",
       "      <th>life_expectancy</th>\n",
       "      <th>freedom</th>\n",
       "      <th>generosity</th>\n",
       "      <th>trust_in_government</th>\n",
       "    </tr>\n",
       "  </thead>\n",
       "  <tbody>\n",
       "    <tr>\n",
       "      <th>0</th>\n",
       "      <td>1.935996</td>\n",
       "      <td>1.506188</td>\n",
       "      <td>1.203577</td>\n",
       "      <td>1.038167</td>\n",
       "      <td>1.515836</td>\n",
       "      <td>0.856964</td>\n",
       "      <td>1.903084</td>\n",
       "    </tr>\n",
       "    <tr>\n",
       "      <th>1</th>\n",
       "      <td>1.922693</td>\n",
       "      <td>1.186518</td>\n",
       "      <td>1.265036</td>\n",
       "      <td>1.020812</td>\n",
       "      <td>1.452859</td>\n",
       "      <td>0.806856</td>\n",
       "      <td>2.739998</td>\n",
       "    </tr>\n",
       "    <tr>\n",
       "      <th>2</th>\n",
       "      <td>1.906730</td>\n",
       "      <td>1.182345</td>\n",
       "      <td>1.472669</td>\n",
       "      <td>1.194259</td>\n",
       "      <td>1.460590</td>\n",
       "      <td>1.702013</td>\n",
       "      <td>0.300066</td>\n",
       "    </tr>\n",
       "    <tr>\n",
       "      <th>3</th>\n",
       "      <td>1.897861</td>\n",
       "      <td>1.383442</td>\n",
       "      <td>1.145561</td>\n",
       "      <td>1.298272</td>\n",
       "      <td>1.413155</td>\n",
       "      <td>0.325028</td>\n",
       "      <td>2.406809</td>\n",
       "    </tr>\n",
       "    <tr>\n",
       "      <th>4</th>\n",
       "      <td>1.875689</td>\n",
       "      <td>1.093985</td>\n",
       "      <td>1.227057</td>\n",
       "      <td>1.091026</td>\n",
       "      <td>1.398978</td>\n",
       "      <td>-0.010426</td>\n",
       "      <td>2.560800</td>\n",
       "    </tr>\n",
       "  </tbody>\n",
       "</table>\n",
       "</div>"
      ],
      "text/plain": [
       "   happiness_score  gdp_per_capita    family  life_expectancy   freedom  \\\n",
       "0         1.935996        1.506188  1.203577         1.038167  1.515836   \n",
       "1         1.922693        1.186518  1.265036         1.020812  1.452859   \n",
       "2         1.906730        1.182345  1.472669         1.194259  1.460590   \n",
       "3         1.897861        1.383442  1.145561         1.298272  1.413155   \n",
       "4         1.875689        1.093985  1.227057         1.091026  1.398978   \n",
       "\n",
       "   generosity  trust_in_government  \n",
       "0    0.856964             1.903084  \n",
       "1    0.806856             2.739998  \n",
       "2    1.702013             0.300066  \n",
       "3    0.325028             2.406809  \n",
       "4   -0.010426             2.560800  "
      ]
     },
     "execution_count": 147,
     "metadata": {},
     "output_type": "execute_result"
    }
   ],
   "source": [
    "# Just for the exercise, let's try standardizing the data\n",
    "stand_data = preprocessing.scale(raw_data)\n",
    "\n",
    "# Store in new dataframe\n",
    "stand_df = pd.DataFrame(stand_data, columns=['happiness_score', 'gdp_per_capita', 'family', 'life_expectancy',\n",
    "       'freedom', 'generosity', 'trust_in_government'])\n",
    "stand_df.head()\n"
   ]
  },
  {
   "cell_type": "code",
   "execution_count": 148,
   "metadata": {},
   "outputs": [
    {
     "data": {
      "image/png": "[encoded data removed]",
      "text/plain": [
       "<Figure size 720x576 with 1 Axes>"
      ]
     },
     "metadata": {},
     "output_type": "display_data"
    }
   ],
   "source": [
    "# Plot standardized data\n",
    "f, ax = plt.subplots(figsize=(10, 8))\n",
    "sns.despine()\n",
    "sns.set(style='whitegrid')\n",
    "\n",
    "data = stand_df[['gdp_per_capita', 'family', 'life_expectancy',\n",
    "       'freedom', 'generosity', 'trust_in_government']]\n",
    "\n",
    "sns.boxplot(data=data, palette='Accent')\n",
    "plt.title('Standardized Data')\n",
    "plt.xticks([0, 1, 2, 3, 4, 5], ['GDP/Capita', 'Family', 'Life Expectancy', 'Freedom', 'Generosity', 'Trust in Government'])\n",
    "plt.show()"
   ]
  },
  {
   "cell_type": "markdown",
   "metadata": {},
   "source": [
    "Standardized data looks cleaner with less outliers, so let's move ahead with the X_stand and calculate the correlation between the independent variables."
   ]
  },
  {
   "cell_type": "code",
   "execution_count": 149,
   "metadata": {},
   "outputs": [
    {
     "data": {
      "text/html": [
       "<div>\n",
       "<style scoped>\n",
       "    .dataframe tbody tr th:only-of-type {\n",
       "        vertical-align: middle;\n",
       "    }\n",
       "\n",
       "    .dataframe tbody tr th {\n",
       "        vertical-align: top;\n",
       "    }\n",
       "\n",
       "    .dataframe thead th {\n",
       "        text-align: right;\n",
       "    }\n",
       "</style>\n",
       "<table border=\"1\" class=\"dataframe\">\n",
       "  <thead>\n",
       "    <tr style=\"text-align: right;\">\n",
       "      <th></th>\n",
       "      <th>gdp_per_capita</th>\n",
       "      <th>family</th>\n",
       "      <th>life_expectancy</th>\n",
       "      <th>freedom</th>\n",
       "      <th>generosity</th>\n",
       "      <th>trust_in_government</th>\n",
       "    </tr>\n",
       "  </thead>\n",
       "  <tbody>\n",
       "    <tr>\n",
       "      <th>gdp_per_capita</th>\n",
       "      <td>1.000000</td>\n",
       "      <td>0.688296</td>\n",
       "      <td>0.843077</td>\n",
       "      <td>0.369873</td>\n",
       "      <td>-0.019011</td>\n",
       "      <td>0.350944</td>\n",
       "    </tr>\n",
       "    <tr>\n",
       "      <th>family</th>\n",
       "      <td>0.688296</td>\n",
       "      <td>1.000000</td>\n",
       "      <td>0.612080</td>\n",
       "      <td>0.424966</td>\n",
       "      <td>0.051693</td>\n",
       "      <td>0.231841</td>\n",
       "    </tr>\n",
       "    <tr>\n",
       "      <th>life_expectancy</th>\n",
       "      <td>0.843077</td>\n",
       "      <td>0.612080</td>\n",
       "      <td>1.000000</td>\n",
       "      <td>0.349827</td>\n",
       "      <td>0.063191</td>\n",
       "      <td>0.279752</td>\n",
       "    </tr>\n",
       "    <tr>\n",
       "      <th>freedom</th>\n",
       "      <td>0.369873</td>\n",
       "      <td>0.424966</td>\n",
       "      <td>0.349827</td>\n",
       "      <td>1.000000</td>\n",
       "      <td>0.316083</td>\n",
       "      <td>0.499183</td>\n",
       "    </tr>\n",
       "    <tr>\n",
       "      <th>generosity</th>\n",
       "      <td>-0.019011</td>\n",
       "      <td>0.051693</td>\n",
       "      <td>0.063191</td>\n",
       "      <td>0.316083</td>\n",
       "      <td>1.000000</td>\n",
       "      <td>0.294159</td>\n",
       "    </tr>\n",
       "    <tr>\n",
       "      <th>trust_in_government</th>\n",
       "      <td>0.350944</td>\n",
       "      <td>0.231841</td>\n",
       "      <td>0.279752</td>\n",
       "      <td>0.499183</td>\n",
       "      <td>0.294159</td>\n",
       "      <td>1.000000</td>\n",
       "    </tr>\n",
       "  </tbody>\n",
       "</table>\n",
       "</div>"
      ],
      "text/plain": [
       "                     gdp_per_capita    family  life_expectancy   freedom  \\\n",
       "gdp_per_capita             1.000000  0.688296         0.843077  0.369873   \n",
       "family                     0.688296  1.000000         0.612080  0.424966   \n",
       "life_expectancy            0.843077  0.612080         1.000000  0.349827   \n",
       "freedom                    0.369873  0.424966         0.349827  1.000000   \n",
       "generosity                -0.019011  0.051693         0.063191  0.316083   \n",
       "trust_in_government        0.350944  0.231841         0.279752  0.499183   \n",
       "\n",
       "                     generosity  trust_in_government  \n",
       "gdp_per_capita        -0.019011             0.350944  \n",
       "family                 0.051693             0.231841  \n",
       "life_expectancy        0.063191             0.279752  \n",
       "freedom                0.316083             0.499183  \n",
       "generosity             1.000000             0.294159  \n",
       "trust_in_government    0.294159             1.000000  "
      ]
     },
     "metadata": {},
     "output_type": "display_data"
    }
   ],
   "source": [
    "# Correlation Matrix\n",
    "X = raw_data[['gdp_per_capita', 'family', 'life_expectancy',\n",
    "       'freedom', 'generosity', 'trust_in_government']]\n",
    "\n",
    "corr_mat = X.corr()\n",
    "display(corr_mat)"
   ]
  },
  {
   "cell_type": "markdown",
   "metadata": {},
   "source": [
    "It doesn't look like we have to worry too much about redundancy in our data. One interesting correlation is between GDP/Capita and Generosity. There is a very slight negative correlation, meaning that generosity levels stay flat or even decreases with an increase in GDP. Draw whatever conclusion you might from that, and let's move on."
   ]
  },
  {
   "cell_type": "markdown",
   "metadata": {},
   "source": [
    "### OLS Regression Model"
   ]
  },
  {
   "cell_type": "code",
   "execution_count": 150,
   "metadata": {},
   "outputs": [
    {
     "data": {
      "text/plain": [
       "LinearRegression(copy_X=True, fit_intercept=True, n_jobs=None,\n",
       "         normalize=False)"
      ]
     },
     "execution_count": 150,
     "metadata": {},
     "output_type": "execute_result"
    }
   ],
   "source": [
    "# Build OLS regression model\n",
    "X = raw_data[['gdp_per_capita', 'family', 'life_expectancy','freedom', 'generosity', 'trust_in_government']]\n",
    "Y = raw_data['happiness_score']\n",
    "regr = linear_model.LinearRegression()\n",
    "regr.fit(X, Y)\n",
    "\n",
    "# QUESTION: WHAT IS THE CONVENTION WITH x, y, X and Y?"
   ]
  },
  {
   "cell_type": "code",
   "execution_count": 159,
   "metadata": {},
   "outputs": [
    {
     "data": {
      "text/html": [
       "<div>\n",
       "<style scoped>\n",
       "    .dataframe tbody tr th:only-of-type {\n",
       "        vertical-align: middle;\n",
       "    }\n",
       "\n",
       "    .dataframe tbody tr th {\n",
       "        vertical-align: top;\n",
       "    }\n",
       "\n",
       "    .dataframe thead th {\n",
       "        text-align: right;\n",
       "    }\n",
       "</style>\n",
       "<table border=\"1\" class=\"dataframe\">\n",
       "  <thead>\n",
       "    <tr style=\"text-align: right;\">\n",
       "      <th></th>\n",
       "      <th>R2</th>\n",
       "      <th>α</th>\n",
       "      <th>β1</th>\n",
       "      <th>β2</th>\n",
       "      <th>β3</th>\n",
       "      <th>β4</th>\n",
       "      <th>β5</th>\n",
       "      <th>β6</th>\n",
       "    </tr>\n",
       "  </thead>\n",
       "  <tbody>\n",
       "    <tr>\n",
       "      <th>stats</th>\n",
       "      <td>0.812425</td>\n",
       "      <td>1.743029</td>\n",
       "      <td>0.784433</td>\n",
       "      <td>1.117771</td>\n",
       "      <td>1.28888</td>\n",
       "      <td>1.475715</td>\n",
       "      <td>0.380718</td>\n",
       "      <td>0.826607</td>\n",
       "    </tr>\n",
       "  </tbody>\n",
       "</table>\n",
       "</div>"
      ],
      "text/plain": [
       "             R2         α        β1        β2       β3        β4        β5  \\\n",
       "stats  0.812425  1.743029  0.784433  1.117771  1.28888  1.475715  0.380718   \n",
       "\n",
       "             β6  \n",
       "stats  0.826607  "
      ]
     },
     "metadata": {},
     "output_type": "display_data"
    }
   ],
   "source": [
    "# R2 score, Intercept, and coefficients\n",
    "r2 = regr.score(X, Y)\n",
    "intercept = regr.intercept_\n",
    "coef = regr.coef_\n",
    "\n",
    "stats = {'R2': r2,\n",
    "         'α': intercept,\n",
    "         'β1': coef[0],\n",
    "         'β2': coef[1],\n",
    "         'β3': coef[2],\n",
    "         'β4': coef[3],\n",
    "         'β5': coef[4],\n",
    "         'β6': coef[5]}\n",
    "\n",
    "stats_df = pd.DataFrame(stats, index=['stats'])\n",
    "display(stats_df)"
   ]
  },
  {
   "cell_type": "code",
   "execution_count": 156,
   "metadata": {},
   "outputs": [
    {
     "data": {
      "text/plain": [
       "LinearRegression(copy_X=True, fit_intercept=True, n_jobs=None,\n",
       "         normalize=False)"
      ]
     },
     "execution_count": 156,
     "metadata": {},
     "output_type": "execute_result"
    }
   ],
   "source": [
    "# Try the same with normalized data\n",
    "X_norm = norm_df[['gdp_per_capita', 'family', 'life_expectancy','freedom', 'generosity', 'trust_in_government']]\n",
    "Y_norm = norm_df['happiness_score']\n",
    "regr_norm = linear_model.LinearRegression()\n",
    "regr_norm.fit(X_norm, Y_norm)"
   ]
  },
  {
   "cell_type": "code",
   "execution_count": 166,
   "metadata": {},
   "outputs": [
    {
     "data": {
      "text/html": [
       "<div>\n",
       "<style scoped>\n",
       "    .dataframe tbody tr th:only-of-type {\n",
       "        vertical-align: middle;\n",
       "    }\n",
       "\n",
       "    .dataframe tbody tr th {\n",
       "        vertical-align: top;\n",
       "    }\n",
       "\n",
       "    .dataframe thead th {\n",
       "        text-align: right;\n",
       "    }\n",
       "</style>\n",
       "<table border=\"1\" class=\"dataframe\">\n",
       "  <thead>\n",
       "    <tr style=\"text-align: right;\">\n",
       "      <th></th>\n",
       "      <th>R2</th>\n",
       "      <th>α</th>\n",
       "      <th>β1</th>\n",
       "      <th>β2</th>\n",
       "      <th>β3</th>\n",
       "      <th>β4</th>\n",
       "      <th>β5</th>\n",
       "      <th>β6</th>\n",
       "    </tr>\n",
       "  </thead>\n",
       "  <tbody>\n",
       "    <tr>\n",
       "      <th>stats</th>\n",
       "      <td>0.812425</td>\n",
       "      <td>1.743029</td>\n",
       "      <td>0.784433</td>\n",
       "      <td>1.117771</td>\n",
       "      <td>1.288880</td>\n",
       "      <td>1.475715</td>\n",
       "      <td>0.380718</td>\n",
       "      <td>0.826607</td>\n",
       "    </tr>\n",
       "    <tr>\n",
       "      <th>stats_norm</th>\n",
       "      <td>0.914119</td>\n",
       "      <td>1.033214</td>\n",
       "      <td>-0.154231</td>\n",
       "      <td>-0.195923</td>\n",
       "      <td>-0.062796</td>\n",
       "      <td>-0.062107</td>\n",
       "      <td>-0.086359</td>\n",
       "      <td>-0.063272</td>\n",
       "    </tr>\n",
       "  </tbody>\n",
       "</table>\n",
       "</div>"
      ],
      "text/plain": [
       "                  R2         α        β1        β2        β3        β4  \\\n",
       "stats       0.812425  1.743029  0.784433  1.117771  1.288880  1.475715   \n",
       "stats_norm  0.914119  1.033214 -0.154231 -0.195923 -0.062796 -0.062107   \n",
       "\n",
       "                  β5        β6  \n",
       "stats       0.380718  0.826607  \n",
       "stats_norm -0.086359 -0.063272  "
      ]
     },
     "metadata": {},
     "output_type": "display_data"
    }
   ],
   "source": [
    "# Calculate R2, intercept and coefficients\n",
    "r2_norm = regr_norm.score(X_norm, Y_norm)\n",
    "intercept_norm = regr_norm.intercept_\n",
    "coef_norm = regr_norm.coef_\n",
    "\n",
    "stats_norm = {'R2': r2_norm,\n",
    "              'α': intercept_norm,\n",
    "              'β1': coef_norm[0],\n",
    "              'β2': coef_norm[1],\n",
    "              'β3': coef_norm[2],\n",
    "              'β4': coef_norm[3],\n",
    "              'β5': coef_norm[4],\n",
    "              'β6': coef_norm[5]}\n",
    "\n",
    "stats_norm_df = pd.DataFrame(stats_norm, index=['stats_norm'])\n",
    "stats_df = stats_df.append(stats_norm_df)\n",
    "display(stats_df)"
   ]
  },
  {
   "cell_type": "code",
   "execution_count": 167,
   "metadata": {},
   "outputs": [
    {
     "data": {
      "text/plain": [
       "LinearRegression(copy_X=True, fit_intercept=True, n_jobs=None,\n",
       "         normalize=False)"
      ]
     },
     "execution_count": 167,
     "metadata": {},
     "output_type": "execute_result"
    }
   ],
   "source": [
    "# Try the same with standardized data just for kicks\n",
    "X_stand = stand_df[['gdp_per_capita', 'family', 'life_expectancy','freedom', 'generosity', 'trust_in_government']]\n",
    "Y_stand = stand_df['happiness_score']\n",
    "regr_stand = linear_model.LinearRegression()\n",
    "regr_stand.fit(X_stand, Y_stand)"
   ]
  },
  {
   "cell_type": "code",
   "execution_count": 168,
   "metadata": {},
   "outputs": [
    {
     "data": {
      "text/html": [
       "<div>\n",
       "<style scoped>\n",
       "    .dataframe tbody tr th:only-of-type {\n",
       "        vertical-align: middle;\n",
       "    }\n",
       "\n",
       "    .dataframe tbody tr th {\n",
       "        vertical-align: top;\n",
       "    }\n",
       "\n",
       "    .dataframe thead th {\n",
       "        text-align: right;\n",
       "    }\n",
       "</style>\n",
       "<table border=\"1\" class=\"dataframe\">\n",
       "  <thead>\n",
       "    <tr style=\"text-align: right;\">\n",
       "      <th></th>\n",
       "      <th>R2</th>\n",
       "      <th>α</th>\n",
       "      <th>β1</th>\n",
       "      <th>β2</th>\n",
       "      <th>β3</th>\n",
       "      <th>β4</th>\n",
       "      <th>β5</th>\n",
       "      <th>β6</th>\n",
       "    </tr>\n",
       "  </thead>\n",
       "  <tbody>\n",
       "    <tr>\n",
       "      <th>stats</th>\n",
       "      <td>0.812425</td>\n",
       "      <td>1.743029e+00</td>\n",
       "      <td>0.784433</td>\n",
       "      <td>1.117771</td>\n",
       "      <td>1.288880</td>\n",
       "      <td>1.475715</td>\n",
       "      <td>0.380718</td>\n",
       "      <td>0.826607</td>\n",
       "    </tr>\n",
       "    <tr>\n",
       "      <th>stats_norm</th>\n",
       "      <td>0.914119</td>\n",
       "      <td>1.033214e+00</td>\n",
       "      <td>-0.154231</td>\n",
       "      <td>-0.195923</td>\n",
       "      <td>-0.062796</td>\n",
       "      <td>-0.062107</td>\n",
       "      <td>-0.086359</td>\n",
       "      <td>-0.063272</td>\n",
       "    </tr>\n",
       "    <tr>\n",
       "      <th>stats_stand</th>\n",
       "      <td>0.812425</td>\n",
       "      <td>-1.339671e-16</td>\n",
       "      <td>0.291792</td>\n",
       "      <td>0.283845</td>\n",
       "      <td>0.270112</td>\n",
       "      <td>0.195675</td>\n",
       "      <td>0.045361</td>\n",
       "      <td>0.074285</td>\n",
       "    </tr>\n",
       "  </tbody>\n",
       "</table>\n",
       "</div>"
      ],
      "text/plain": [
       "                   R2             α        β1        β2        β3        β4  \\\n",
       "stats        0.812425  1.743029e+00  0.784433  1.117771  1.288880  1.475715   \n",
       "stats_norm   0.914119  1.033214e+00 -0.154231 -0.195923 -0.062796 -0.062107   \n",
       "stats_stand  0.812425 -1.339671e-16  0.291792  0.283845  0.270112  0.195675   \n",
       "\n",
       "                   β5        β6  \n",
       "stats        0.380718  0.826607  \n",
       "stats_norm  -0.086359 -0.063272  \n",
       "stats_stand  0.045361  0.074285  "
      ]
     },
     "metadata": {},
     "output_type": "display_data"
    }
   ],
   "source": [
    "# Calculate R2, intercept and coefficients\n",
    "r2_stand = regr_stand.score(X_stand, Y_stand)\n",
    "intercept_stand = regr_stand.intercept_\n",
    "coef_stand = regr_stand.coef_\n",
    "\n",
    "stats_stand = {'R2': r2_stand,\n",
    "              'α': intercept_stand,\n",
    "              'β1': coef_stand[0],\n",
    "              'β2': coef_stand[1],\n",
    "              'β3': coef_stand[2],\n",
    "              'β4': coef_stand[3],\n",
    "              'β5': coef_stand[4],\n",
    "              'β6': coef_stand[5]}\n",
    "\n",
    "stats_stand_df = pd.DataFrame(stats_stand, index=['stats_stand'])\n",
    "stats_df = stats_df.append(stats_stand_df)\n",
    "display(stats_df)"
   ]
  },
  {
   "cell_type": "code",
   "execution_count": 176,
   "metadata": {
    "scrolled": false
   },
   "outputs": [
    {
     "name": "stdout",
     "output_type": "stream",
     "text": [
      "Raw:\n",
      " Intercept              1.743029\n",
      "gdp_per_capita         0.784433\n",
      "family                 1.117771\n",
      "life_expectancy        1.288880\n",
      "freedom                1.475715\n",
      "generosity             0.380718\n",
      "trust_in_government    0.826607\n",
      "dtype: float64\n",
      "\n",
      "Normalized:\n",
      " Intercept              1.033214\n",
      "gdp_per_capita        -0.154231\n",
      "family                -0.195923\n",
      "life_expectancy       -0.062796\n",
      "freedom               -0.062107\n",
      "generosity            -0.086359\n",
      "trust_in_government   -0.063272\n",
      "dtype: float64\n",
      "\n",
      "Standardized:\n",
      " Intercept             -1.942890e-16\n",
      "gdp_per_capita         2.917920e-01\n",
      "family                 2.838452e-01\n",
      "life_expectancy        2.701116e-01\n",
      "freedom                1.956749e-01\n",
      "generosity             4.536064e-02\n",
      "trust_in_government    7.428497e-02\n",
      "dtype: float64\n"
     ]
    }
   ],
   "source": [
    "# Check p-values to see if any of the variables can be excluded without hurting the R2 score.\n",
    "# We'll use statsmodels for this\n",
    "formula = 'happiness_score ~ gdp_per_capita+family+life_expectancy+freedom+generosity+trust_in_government'\n",
    "formula_norm = 'happiness_score ~ gdp_per_capita+family+life_expectancy+freedom+generosity+trust_in_government'\n",
    "formula_stand = 'happiness_score ~ gdp_per_capita+family+life_expectancy+freedom+generosity+trust_in_government'\n",
    "\n",
    "lm = smf.ols(formula=formula, data=df).fit()\n",
    "lm_norm = smf.ols(formula=formula_norm, data=norm_df).fit()\n",
    "lm_stand = smf.ols(formula=formula_stand, data=stand_df).fit()\n",
    "\n",
    "# Check for consistency\n",
    "print('Raw:\\n', lm.params)\n",
    "print('\\nNormalized:\\n', lm_norm.params)\n",
    "print('\\nStandardized:\\n', lm_stand.params)"
   ]
  },
  {
   "cell_type": "code",
   "execution_count": 177,
   "metadata": {},
   "outputs": [
    {
     "name": "stdout",
     "output_type": "stream",
     "text": [
      "Raw:\n",
      " Intercept              1.697316e-16\n",
      "gdp_per_capita         1.848734e-04\n",
      "family                 1.399572e-07\n",
      "life_expectancy        9.648650e-05\n",
      "freedom                2.980926e-05\n",
      "generosity             2.495240e-01\n",
      "trust_in_government    8.997508e-02\n",
      "dtype: float64\n",
      "\n",
      "Normalized:\n",
      " Intercept              2.821516e-229\n",
      "gdp_per_capita          5.518008e-41\n",
      "family                  1.421564e-54\n",
      "life_expectancy         2.327492e-06\n",
      "freedom                 5.614898e-06\n",
      "generosity              1.101476e-09\n",
      "trust_in_government     2.808367e-03\n",
      "dtype: float64\n",
      "\n",
      "Standardized:\n",
      " Intercept              1.000000e+00\n",
      "gdp_per_capita         1.848734e-04\n",
      "family                 1.399572e-07\n",
      "life_expectancy        9.648650e-05\n",
      "freedom                2.980926e-05\n",
      "generosity             2.495240e-01\n",
      "trust_in_government    8.997508e-02\n",
      "dtype: float64\n"
     ]
    }
   ],
   "source": [
    "# Looking good. Now let's check p-values\n",
    "print('Raw:\\n',lm.pvalues)\n",
    "print('\\nNormalized:\\n', lm_norm.pvalues)\n",
    "print('\\nStandardized:\\n', lm_stand.pvalues)"
   ]
  },
  {
   "cell_type": "markdown",
   "metadata": {},
   "source": [
    "We have two variables whose p-scores are higher than 0.05: generosity at 0.25 and trust in government at 0.09. So let's reduce our feature set and retry. We will leave the features as is for normalized dataset as its p-values are all less than 0.05."
   ]
  },
  {
   "cell_type": "code",
   "execution_count": 178,
   "metadata": {},
   "outputs": [
    {
     "name": "stdout",
     "output_type": "stream",
     "text": [
      "Raw:  0.8056325565086679\n",
      "Normalized:  0.9141194116210707\n",
      "Standardized:  0.8056325565086679\n"
     ]
    }
   ],
   "source": [
    "formula = 'happiness_score ~ gdp_per_capita+family+life_expectancy+freedom'\n",
    "formula_norm = 'happiness_score ~ gdp_per_capita+family+life_expectancy+freedom+generosity+trust_in_government'\n",
    "formula_stand = 'happiness_score ~ gdp_per_capita+family+life_expectancy+freedom'\n",
    "\n",
    "lm = smf.ols(formula=formula, data=df).fit()\n",
    "lm_norm = smf.ols(formula=formula_norm, data=norm_df).fit()\n",
    "lm_stand = smf.ols(formula=formula_stand, data=stand_df).fit()\n",
    "\n",
    "print('Raw: ', lm.rsquared)\n",
    "print('Normalized: ', lm_norm.rsquared)\n",
    "print('Standardized: ', lm_stand.rsquared)"
   ]
  },
  {
   "cell_type": "markdown",
   "metadata": {},
   "source": [
    "#### Raw Data"
   ]
  },
  {
   "cell_type": "code",
   "execution_count": 179,
   "metadata": {},
   "outputs": [
    {
     "data": {
      "text/plain": [
       "LinearRegression(copy_X=True, fit_intercept=True, n_jobs=None,\n",
       "         normalize=False)"
      ]
     },
     "execution_count": 179,
     "metadata": {},
     "output_type": "execute_result"
    }
   ],
   "source": [
    "# New and improved model\n",
    "X = raw_data[['gdp_per_capita', 'family', 'life_expectancy','freedom']]\n",
    "Y = raw_data['happiness_score']\n",
    "regr = linear_model.LinearRegression()\n",
    "regr.fit(X, Y)"
   ]
  },
  {
   "cell_type": "code",
   "execution_count": 182,
   "metadata": {},
   "outputs": [
    {
     "data": {
      "text/html": [
       "<div>\n",
       "<style scoped>\n",
       "    .dataframe tbody tr th:only-of-type {\n",
       "        vertical-align: middle;\n",
       "    }\n",
       "\n",
       "    .dataframe tbody tr th {\n",
       "        vertical-align: top;\n",
       "    }\n",
       "\n",
       "    .dataframe thead th {\n",
       "        text-align: right;\n",
       "    }\n",
       "</style>\n",
       "<table border=\"1\" class=\"dataframe\">\n",
       "  <thead>\n",
       "    <tr style=\"text-align: right;\">\n",
       "      <th></th>\n",
       "      <th>R2</th>\n",
       "      <th>α</th>\n",
       "      <th>β1</th>\n",
       "      <th>β2</th>\n",
       "      <th>β3</th>\n",
       "      <th>β4</th>\n",
       "    </tr>\n",
       "  </thead>\n",
       "  <tbody>\n",
       "    <tr>\n",
       "      <th>raw</th>\n",
       "      <td>0.805633</td>\n",
       "      <td>1.799151</td>\n",
       "      <td>0.817858</td>\n",
       "      <td>1.068498</td>\n",
       "      <td>1.302935</td>\n",
       "      <td>1.861153</td>\n",
       "    </tr>\n",
       "  </tbody>\n",
       "</table>\n",
       "</div>"
      ],
      "text/plain": [
       "           R2         α        β1        β2        β3        β4\n",
       "raw  0.805633  1.799151  0.817858  1.068498  1.302935  1.861153"
      ]
     },
     "execution_count": 182,
     "metadata": {},
     "output_type": "execute_result"
    }
   ],
   "source": [
    "r2 = regr.score(X, Y)\n",
    "intercept = regr.intercept_\n",
    "coef = regr.coef_\n",
    "\n",
    "stats = {'R2': r2,\n",
    "         'α': intercept,\n",
    "         'β1': coef[0],\n",
    "         'β2': coef[1],\n",
    "         'β3': coef[2],\n",
    "         'β4': coef[3]}\n",
    "\n",
    "pd.DataFrame(stats, index=['raw'])"
   ]
  },
  {
   "cell_type": "code",
   "execution_count": 209,
   "metadata": {},
   "outputs": [
    {
     "name": "stdout",
     "output_type": "stream",
     "text": [
      "-23.40187908998023\n"
     ]
    }
   ],
   "source": [
    "# Cross-validate the model\n",
    "cvs = cross_val_score(regr, X, Y, cv=10)\n",
    "print(cvs.mean())"
   ]
  },
  {
   "cell_type": "markdown",
   "metadata": {},
   "source": [
    "#### Normalized Data"
   ]
  },
  {
   "cell_type": "code",
   "execution_count": 208,
   "metadata": {},
   "outputs": [
    {
     "name": "stdout",
     "output_type": "stream",
     "text": [
      "0.7917790738546312\n"
     ]
    }
   ],
   "source": [
    "regr_norm = linear_model.LinearRegression()\n",
    "regr_norm.fit(X_norm, Y_norm)\n",
    "cvs_norm = cross_val_score(regr_norm, X_norm, Y_norm, cv=10)\n",
    "print(cvs_norm.mean())"
   ]
  },
  {
   "cell_type": "markdown",
   "metadata": {},
   "source": [
    "#### Standardized Data"
   ]
  },
  {
   "cell_type": "code",
   "execution_count": 210,
   "metadata": {},
   "outputs": [
    {
     "name": "stdout",
     "output_type": "stream",
     "text": [
      "-22.798931287049662\n"
     ]
    }
   ],
   "source": [
    "regr_stand = linear_model.LinearRegression()\n",
    "regr_stand.fit(X_stand, Y_stand)\n",
    "cvs_stand = cross_val_score(regr_stand, X_stand, Y_stand, cv=10)\n",
    "print(cvs_stand.mean())"
   ]
  },
  {
   "cell_type": "markdown",
   "metadata": {},
   "source": [
    "I think I will stick with the normalized data from here on out."
   ]
  },
  {
   "cell_type": "markdown",
   "metadata": {},
   "source": [
    "### KNN Regression"
   ]
  },
  {
   "cell_type": "code",
   "execution_count": 197,
   "metadata": {},
   "outputs": [
    {
     "name": "stdout",
     "output_type": "stream",
     "text": [
      "[0.56035226 0.8969097  0.86516586 0.92004591 0.8163999  0.87570927\n",
      " 0.83247504 0.760546   0.81022072 0.76626561]\n",
      "Unweighted Accuracy: 0.81 (+/- 0.19)\n"
     ]
    }
   ],
   "source": [
    "# Unweighted\n",
    "knn = neighbors.KNeighborsRegressor(n_neighbors=5)\n",
    "knn.fit(X_norm, Y_norm)\n",
    "\n",
    "score = cross_val_score(knn, X_norm, Y_norm, cv=10)\n",
    "print(score)\n",
    "print(\"Unweighted Accuracy: %0.2f (+/- %0.2f)\" % (score.mean(), score.std()*2))"
   ]
  },
  {
   "cell_type": "code",
   "execution_count": 207,
   "metadata": {},
   "outputs": [
    {
     "name": "stdout",
     "output_type": "stream",
     "text": [
      "[0.59947529 0.86592499 0.85572611 0.90652785 0.79977107 0.8886901\n",
      " 0.80690807 0.78077922 0.80747877 0.74578426]\n",
      "Weighted Accuracy: 0.81 (+/- 0.17)\n"
     ]
    }
   ],
   "source": [
    "# Weighted\n",
    "knn_w = neighbors.KNeighborsRegressor(n_neighbors=7, weights='distance')\n",
    "knn_w.fit(X_norm, Y_norm)\n",
    "\n",
    "score_w = cross_val_score(knn_w, X_norm, Y_norm, cv=10)\n",
    "print(score_w)\n",
    "print(\"Weighted Accuracy: %0.2f (+/- %0.2f)\" % (score_w.mean(), score_w.std()*2))"
   ]
  },
  {
   "cell_type": "code",
   "execution_count": null,
   "metadata": {},
   "outputs": [],
   "source": []
  }
 ],
 "metadata": {
  "kernelspec": {
   "display_name": "Python 3",
   "language": "python",
   "name": "python3"
  },
  "language_info": {
   "codemirror_mode": {
    "name": "ipython",
    "version": 3
   },
   "file_extension": ".py",
   "mimetype": "text/x-python",
   "name": "python",
   "nbconvert_exporter": "python",
   "pygments_lexer": "ipython3",
   "version": "3.7.2"
  }
 },
 "nbformat": 4,
 "nbformat_minor": 2
}
