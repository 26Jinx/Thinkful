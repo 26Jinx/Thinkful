{
 "cells": [
  {
   "cell_type": "code",
   "execution_count": 17,
   "metadata": {},
   "outputs": [],
   "source": [
    "%matplotlib inline\n",
    "import math\n",
    "import scipy\n",
    "import sklearn\n",
    "import numpy as np\n",
    "import pandas as pd\n",
    "import matplotlib.pyplot as plt\n",
    "from sklearn.model_selection import cross_val_score"
   ]
  },
  {
   "cell_type": "markdown",
   "metadata": {},
   "source": [
    "## World Happiness Report: decision tree vs random forest"
   ]
  },
  {
   "cell_type": "markdown",
   "metadata": {},
   "source": [
    "### Prep Data"
   ]
  },
  {
   "cell_type": "markdown",
   "metadata": {},
   "source": [
    "I want to use the same data as the last lesson. I want to see how decision tree and random forest does compared to ordinary least squares and k nearest neighbors."
   ]
  },
  {
   "cell_type": "code",
   "execution_count": 11,
   "metadata": {},
   "outputs": [
    {
     "data": {
      "text/plain": [
       "Index(['Country', 'Happiness.Rank', 'Happiness.Score', 'Whisker.high',\n",
       "       'Whisker.low', 'Economy..GDP.per.Capita.', 'Family',\n",
       "       'Health..Life.Expectancy.', 'Freedom', 'Generosity',\n",
       "       'Trust..Government.Corruption.', 'Dystopia.Residual'],\n",
       "      dtype='object')"
      ]
     },
     "execution_count": 11,
     "metadata": {},
     "output_type": "execute_result"
    }
   ],
   "source": [
    "# Read data\n",
    "df = pd.read_csv('../Data/world_happiness_report_2/2017.csv')\n",
    "df.columns"
   ]
  },
  {
   "cell_type": "code",
   "execution_count": 12,
   "metadata": {},
   "outputs": [
    {
     "data": {
      "text/html": [
       "<div>\n",
       "<style scoped>\n",
       "    .dataframe tbody tr th:only-of-type {\n",
       "        vertical-align: middle;\n",
       "    }\n",
       "\n",
       "    .dataframe tbody tr th {\n",
       "        vertical-align: top;\n",
       "    }\n",
       "\n",
       "    .dataframe thead th {\n",
       "        text-align: right;\n",
       "    }\n",
       "</style>\n",
       "<table border=\"1\" class=\"dataframe\">\n",
       "  <thead>\n",
       "    <tr style=\"text-align: right;\">\n",
       "      <th></th>\n",
       "      <th>happiness_score</th>\n",
       "      <th>gdp_per_capita</th>\n",
       "      <th>family</th>\n",
       "      <th>life_expectancy</th>\n",
       "      <th>freedom</th>\n",
       "      <th>generosity</th>\n",
       "      <th>trust_in_government</th>\n",
       "    </tr>\n",
       "  </thead>\n",
       "  <tbody>\n",
       "    <tr>\n",
       "      <th>0</th>\n",
       "      <td>7.537</td>\n",
       "      <td>1.616463</td>\n",
       "      <td>1.533524</td>\n",
       "      <td>0.796667</td>\n",
       "      <td>0.635423</td>\n",
       "      <td>0.362012</td>\n",
       "      <td>0.315964</td>\n",
       "    </tr>\n",
       "    <tr>\n",
       "      <th>1</th>\n",
       "      <td>7.522</td>\n",
       "      <td>1.482383</td>\n",
       "      <td>1.551122</td>\n",
       "      <td>0.792566</td>\n",
       "      <td>0.626007</td>\n",
       "      <td>0.355280</td>\n",
       "      <td>0.400770</td>\n",
       "    </tr>\n",
       "    <tr>\n",
       "      <th>2</th>\n",
       "      <td>7.504</td>\n",
       "      <td>1.480633</td>\n",
       "      <td>1.610574</td>\n",
       "      <td>0.833552</td>\n",
       "      <td>0.627163</td>\n",
       "      <td>0.475540</td>\n",
       "      <td>0.153527</td>\n",
       "    </tr>\n",
       "    <tr>\n",
       "      <th>3</th>\n",
       "      <td>7.494</td>\n",
       "      <td>1.564980</td>\n",
       "      <td>1.516912</td>\n",
       "      <td>0.858131</td>\n",
       "      <td>0.620071</td>\n",
       "      <td>0.290549</td>\n",
       "      <td>0.367007</td>\n",
       "    </tr>\n",
       "    <tr>\n",
       "      <th>4</th>\n",
       "      <td>7.469</td>\n",
       "      <td>1.443572</td>\n",
       "      <td>1.540247</td>\n",
       "      <td>0.809158</td>\n",
       "      <td>0.617951</td>\n",
       "      <td>0.245483</td>\n",
       "      <td>0.382612</td>\n",
       "    </tr>\n",
       "  </tbody>\n",
       "</table>\n",
       "</div>"
      ],
      "text/plain": [
       "   happiness_score  gdp_per_capita    family  life_expectancy   freedom  \\\n",
       "0            7.537        1.616463  1.533524         0.796667  0.635423   \n",
       "1            7.522        1.482383  1.551122         0.792566  0.626007   \n",
       "2            7.504        1.480633  1.610574         0.833552  0.627163   \n",
       "3            7.494        1.564980  1.516912         0.858131  0.620071   \n",
       "4            7.469        1.443572  1.540247         0.809158  0.617951   \n",
       "\n",
       "   generosity  trust_in_government  \n",
       "0    0.362012             0.315964  \n",
       "1    0.355280             0.400770  \n",
       "2    0.475540             0.153527  \n",
       "3    0.290549             0.367007  \n",
       "4    0.245483             0.382612  "
      ]
     },
     "execution_count": 12,
     "metadata": {},
     "output_type": "execute_result"
    }
   ],
   "source": [
    "# Clean data\n",
    "df = df[['Happiness.Score', 'Economy..GDP.per.Capita.', 'Family',\n",
    "       'Health..Life.Expectancy.', 'Freedom', 'Generosity',\n",
    "       'Trust..Government.Corruption.']]\n",
    "\n",
    "df = df.rename(index=str, columns={'Happiness.Score': 'happiness_score',\n",
    "                              'Economy..GDP.per.Capita.': 'gdp_per_capita',\n",
    "                              'Health..Life.Expectancy.': 'life_expectancy',\n",
    "                              'Trust..Government.Corruption.': 'trust_in_government',\n",
    "                              'Family': 'family',\n",
    "                              'Freedom': 'freedom',\n",
    "                              'Generosity': 'generosity'})\n",
    "\n",
    "df.head()"
   ]
  },
  {
   "cell_type": "markdown",
   "metadata": {},
   "source": [
    "### Decision Tree"
   ]
  },
  {
   "cell_type": "code",
   "execution_count": 84,
   "metadata": {},
   "outputs": [
    {
     "name": "stdout",
     "output_type": "stream",
     "text": [
      "Decision Tree Accuracy: 0.446\n",
      "--- 0.0024878978729248047 seconds ---\n"
     ]
    }
   ],
   "source": [
    "from sklearn import tree\n",
    "from sklearn.model_selection import train_test_split\n",
    "import time\n",
    "\n",
    "X = df.drop(['happiness_score'], axis=1)\n",
    "y = df['happiness_score']\n",
    "\n",
    "# Split data to test later\n",
    "X_train_dt, X_test_dt, y_train_dt, y_test_dt = train_test_split(X, y, test_size=0.2)\n",
    "\n",
    "# Start clock\n",
    "start_time = time.time()\n",
    "\n",
    "# Initialize and train our tree.\n",
    "dtree = tree.DecisionTreeRegressor(\n",
    "    criterion='mse',\n",
    "    max_features=1,\n",
    ")\n",
    "\n",
    "dtree.fit(X_train_dt, y_train_dt)\n",
    "\n",
    "# Model Accuracy\n",
    "print('Decision Tree Accuracy: %0.3f' % dtree.score(X_test_dt, y_test_dt))\n",
    "\n",
    "# Print runtime\n",
    "dt_time = time.time() - start_time\n",
    "print(\"--- %s seconds ---\" % dt_time)\n"
   ]
  },
  {
   "cell_type": "markdown",
   "metadata": {},
   "source": [
    "Our decision tree, in this instance, it 44.6% accurate. But this number does fluctuate quite a bit everytime we reinstance the model."
   ]
  },
  {
   "cell_type": "markdown",
   "metadata": {},
   "source": [
    "### Random Forest"
   ]
  },
  {
   "cell_type": "code",
   "execution_count": 86,
   "metadata": {},
   "outputs": [
    {
     "name": "stdout",
     "output_type": "stream",
     "text": [
      "Accuracy: 0.702\n",
      "--- 0.07568931579589844 seconds ---\n"
     ]
    }
   ],
   "source": [
    "from sklearn import ensemble\n",
    "\n",
    "X_train_rf, X_test_rf, y_train_rf, y_test_rf = train_test_split(X, y, test_size=0.2)\n",
    "\n",
    "# Start clock\n",
    "start_time = time.time()\n",
    "\n",
    "# Initialize random forest regressor\n",
    "rfr = ensemble.RandomForestRegressor(n_estimators=100)\n",
    "\n",
    "# Fit model to training data\n",
    "rfr.fit(X_train_rf, y_train_rf)\n",
    "\n",
    "# Test model with test data\n",
    "score_1 = rfr.score(X_test_rf, y_test_rf)\n",
    "print('Accuracy: %0.3f' % score_1)\n",
    "\n",
    "# Print runtime\n",
    "rf_time = time.time() - start_time\n",
    "print(\"--- %s seconds ---\" % rf_time)\n"
   ]
  },
  {
   "cell_type": "markdown",
   "metadata": {},
   "source": [
    "As expected, the random forest model gives us a more accurate predictions. "
   ]
  },
  {
   "cell_type": "code",
   "execution_count": 88,
   "metadata": {},
   "outputs": [
    {
     "name": "stdout",
     "output_type": "stream",
     "text": [
      "29.422999520843316\n"
     ]
    }
   ],
   "source": [
    "# Let's compare the time for running the two models\n",
    "diff = abs(dt_time - rf_time)/dt_time\n",
    "print(diff)"
   ]
  },
  {
   "cell_type": "markdown",
   "metadata": {},
   "source": [
    "So the runtime for the random forest with 100 estimators, or 100 decision trees, is nearly 30 times more time-intensive than running the lone decision tree for this dataset."
   ]
  },
  {
   "cell_type": "code",
   "execution_count": null,
   "metadata": {},
   "outputs": [],
   "source": []
  }
 ],
 "metadata": {
  "kernelspec": {
   "display_name": "Python 3",
   "language": "python",
   "name": "python3"
  },
  "language_info": {
   "codemirror_mode": {
    "name": "ipython",
    "version": 3
   },
   "file_extension": ".py",
   "mimetype": "text/x-python",
   "name": "python",
   "nbconvert_exporter": "python",
   "pygments_lexer": "ipython3",
   "version": "3.7.3"
  }
 },
 "nbformat": 4,
 "nbformat_minor": 2
}
