{
 "cells": [
  {
   "cell_type": "code",
   "execution_count": 1,
   "metadata": {},
   "outputs": [],
   "source": [
    "import numpy as np\n",
    "import pandas as pd\n",
    "import matplotlib.pyplot as plt\n",
    "import scipy\n",
    "%matplotlib inline"
   ]
  },
  {
   "cell_type": "code",
   "execution_count": 5,
   "metadata": {},
   "outputs": [
    {
     "name": "stdout",
     "output_type": "stream",
     "text": [
      "Sample 1: mean=1.9, std=1.2288205727444508\n",
      "Sample 2: mean=4.79, std=1.7046700560519037\n"
     ]
    }
   ],
   "source": [
    "pop1 = np.random.binomial(10, 0.2, 10000)\n",
    "pop2 = np.random.binomial(10, 0.5, 10000)\n",
    "\n",
    "sample1 = np.random.choice(pop1, 100, replace=True)\n",
    "sample2 = np.random.choice(pop2, 100, replace=True)\n",
    "\n",
    "mean1 = sample1.mean()\n",
    "mean2 = sample2.mean()\n",
    "std1 = sample1.std()\n",
    "std2 = sample2.std()\n",
    "\n",
    "print('Sample 1: mean={}, std={}'.format(mean1, std1))\n",
    "print('Sample 2: mean={}, std={}'.format(mean2, std2))\n"
   ]
  },
  {
   "cell_type": "code",
   "execution_count": 7,
   "metadata": {},
   "outputs": [
    {
     "name": "stdout",
     "output_type": "stream",
     "text": [
      "Sample 1: mean=1.998, std=1.306903209882048\n",
      "Sample 2: mean=5.022, std=1.609818623323758\n"
     ]
    }
   ],
   "source": [
    "# 1. Increase the size of sample from 100 to 1000.\n",
    "# since we are increasing the sample size, mean and the std should come closer together\n",
    "sample1 = np.random.choice(pop1, 1000, replace=True)\n",
    "sample2 = np.random.choice(pop2, 1000, replace=True)\n",
    "\n",
    "mean1 = sample1.mean()\n",
    "mean2 = sample2.mean()\n",
    "std1 = sample1.std()\n",
    "std2 = sample2.std()\n",
    "\n",
    "print('Sample 1: mean={}, std={}'.format(mean1, std1))\n",
    "print('Sample 2: mean={}, std={}'.format(mean2, std2))"
   ]
  },
  {
   "cell_type": "code",
   "execution_count": 8,
   "metadata": {},
   "outputs": [
    {
     "name": "stdout",
     "output_type": "stream",
     "text": [
      "Sample 1: mean=1.6, std=1.1575836902790226\n",
      "Sample 2: mean=4.6, std=1.42828568570857\n"
     ]
    }
   ],
   "source": [
    "# Decrease sample size to 20\n",
    "sample1 = np.random.choice(pop1, 20, replace=True)\n",
    "sample2 = np.random.choice(pop2, 20, replace=True)\n",
    "\n",
    "mean1 = sample1.mean()\n",
    "mean2 = sample2.mean()\n",
    "std1 = sample1.std()\n",
    "std2 = sample2.std()\n",
    "\n",
    "print('Sample 1: mean={}, std={}'.format(mean1, std1))\n",
    "print('Sample 2: mean={}, std={}'.format(mean2, std2))"
   ]
  },
  {
   "cell_type": "code",
   "execution_count": 10,
   "metadata": {},
   "outputs": [
    {
     "name": "stdout",
     "output_type": "stream",
     "text": [
      "Ttest_indResult(statistic=29.688547106344988, pvalue=1.8079393654274312e-160)\n"
     ]
    }
   ],
   "source": [
    "# Change the probability value for pop1 to 0.3\n",
    "pop1 = np.random.binomial(10, 0.3, 10000)\n",
    "pop2 = np.random.binomial(10, 0.5, 10000)\n",
    "\n",
    "# Take new samples\n",
    "sample1 = np.random.choice(pop1, 1000, replace=True)\n",
    "sample2 = np.random.choice(pop2, 1000, replace=True)\n",
    "\n",
    "# Compute t-statistic and p-value\n",
    "from scipy.stats import ttest_ind\n",
    "print(ttest_ind(sample2, sample1, equal_var=False))"
   ]
  },
  {
   "cell_type": "code",
   "execution_count": 11,
   "metadata": {},
   "outputs": [
    {
     "name": "stdout",
     "output_type": "stream",
     "text": [
      "Ttest_indResult(statistic=16.07591378702536, pvalue=8.945355052772511e-55)\n"
     ]
    }
   ],
   "source": [
    "# Change vlue p to 0.4 and try again\n",
    "pop1 = np.random.binomial(10, 0.4, 10000)\n",
    "pop2 = np.random.binomial(10, 0.5, 10000)\n",
    "\n",
    "# Take new samples\n",
    "sample1 = np.random.choice(pop1, 1000, replace=True)\n",
    "sample2 = np.random.choice(pop2, 1000, replace=True)\n",
    "\n",
    "# Compute t-statistic and p-value\n",
    "from scipy.stats import ttest_ind\n",
    "print(ttest_ind(sample2, sample1, equal_var=False))"
   ]
  },
  {
   "cell_type": "code",
   "execution_count": null,
   "metadata": {},
   "outputs": [],
   "source": []
  }
 ],
 "metadata": {
  "kernelspec": {
   "display_name": "Python 3",
   "language": "python",
   "name": "python3"
  },
  "language_info": {
   "codemirror_mode": {
    "name": "ipython",
    "version": 3
   },
   "file_extension": ".py",
   "mimetype": "text/x-python",
   "name": "python",
   "nbconvert_exporter": "python",
   "pygments_lexer": "ipython3",
   "version": "3.7.1"
  }
 },
 "nbformat": 4,
 "nbformat_minor": 2
}
