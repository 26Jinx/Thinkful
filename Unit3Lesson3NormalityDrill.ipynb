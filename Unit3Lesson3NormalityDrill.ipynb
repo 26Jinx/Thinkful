{
 "cells": [
  {
   "cell_type": "code",
   "execution_count": 1,
   "metadata": {},
   "outputs": [],
   "source": [
    "import numpy as np\n",
    "import pandas as pd\n",
    "import matplotlib.pyplot as plt\n",
    "%matplotlib inline"
   ]
  },
  {
   "cell_type": "code",
   "execution_count": 17,
   "metadata": {},
   "outputs": [
    {
     "data": {
      "image/png": "[encoded data removed]",
      "text/plain": [
       "<Figure size 432x288 with 1 Axes>"
      ]
     },
     "metadata": {
      "needs_background": "light"
     },
     "output_type": "display_data"
    }
   ],
   "source": [
    "# Generate a random variable with 100 datapoints\n",
    "gamma_dist = np.random.gamma(1, 1, 100)\n",
    "\n",
    "# Plot a histogram\n",
    "plt.hist(gamma_dist)\n",
    "\n",
    "# Add a vertical line at the mean\n",
    "plt.axvline(gamma_dist.mean(), color='r', linestyle='solid', linewidth=2)\n",
    "\n",
    "# Add vertical lines for standard deviation\n",
    "plt.axvline(gamma_dist.mean()-gamma_dist.std(), color='r', linestyle='dashed', linewidth=2)\n",
    "plt.axvline(gamma_dist.mean()+gamma_dist.std(), color='r', linestyle='dashed', linewidth=2)\n",
    "\n",
    "plt.show()"
   ]
  },
  {
   "cell_type": "markdown",
   "metadata": {},
   "source": [
    "Since this is not a normal distribution, the mean and the standard deviation is skewed toward 0."
   ]
  },
  {
   "cell_type": "code",
   "execution_count": 21,
   "metadata": {},
   "outputs": [
    {
     "data": {
      "image/png": "[encoded data removed]",
      "text/plain": [
       "<Figure size 432x288 with 1 Axes>"
      ]
     },
     "metadata": {
      "needs_background": "light"
     },
     "output_type": "display_data"
    }
   ],
   "source": [
    "# Generate two normally-distributed variables with mean1=5, stddev1=0.5 and mean2=10, stddev2=1\n",
    "rand1 = np.random.normal(5, 0.5, 1000)\n",
    "rand2 = np.random.normal(10, 1, 1000)\n",
    "\n",
    "# Add the two variables to create a third variable\n",
    "rand3 = rand1 + rand2\n",
    "\n",
    "# Graph the third varible using a histogram\n",
    "plt.hist(rand3)\n",
    "\n",
    "# Plot vertical lines for mean and standard deviation\n",
    "plt.axvline(rand3.mean(), color='y', linestyle='solid', linewidth=2)\n",
    "plt.axvline(rand3.mean()-rand3.std(), color='y', linestyle='dashed', linewidth=2)\n",
    "plt.axvline(rand3.mean()+rand3.std(), color='y', linestyle='dashed', linewidth=2)\n",
    "\n",
    "# Show plot\n",
    "plt.show()"
   ]
  },
  {
   "cell_type": "code",
   "execution_count": null,
   "metadata": {},
   "outputs": [],
   "source": []
  }
 ],
 "metadata": {
  "kernelspec": {
   "display_name": "Python 3",
   "language": "python",
   "name": "python3"
  },
  "language_info": {
   "codemirror_mode": {
    "name": "ipython",
    "version": 3
   },
   "file_extension": ".py",
   "mimetype": "text/x-python",
   "name": "python",
   "nbconvert_exporter": "python",
   "pygments_lexer": "ipython3",
   "version": "3.7.1"
  }
 },
 "nbformat": 4,
 "nbformat_minor": 2
}
