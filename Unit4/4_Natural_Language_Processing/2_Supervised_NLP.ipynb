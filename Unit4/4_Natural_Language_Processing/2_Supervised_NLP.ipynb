{
 "cells": [
  {
   "cell_type": "code",
   "execution_count": 2,
   "metadata": {},
   "outputs": [
    {
     "name": "stderr",
     "output_type": "stream",
     "text": [
      "[nltk_data] Downloading package gutenberg to\n",
      "[nltk_data]     /Users/katsushi/nltk_data...\n",
      "[nltk_data]   Package gutenberg is already up-to-date!\n"
     ]
    },
    {
     "name": "stdout",
     "output_type": "stream",
     "text": [
      "Requirement already satisfied: en_core_web_sm==2.1.0 from https://github.com/explosion/spacy-models/releases/download/en_core_web_sm-2.1.0/en_core_web_sm-2.1.0.tar.gz#egg=en_core_web_sm==2.1.0 in /anaconda3/lib/python3.7/site-packages (2.1.0)\n",
      "\u001b[38;5;2m✔ Download and installation successful\u001b[0m\n",
      "You can now load the model via spacy.load('en_core_web_sm')\n",
      "\u001b[38;5;2m✔ Linking successful\u001b[0m\n",
      "/anaconda3/lib/python3.7/site-packages/en_core_web_sm -->\n",
      "/anaconda3/lib/python3.7/site-packages/spacy/data/en\n",
      "You can now load the model via spacy.load('en')\n"
     ]
    }
   ],
   "source": [
    "%matplotlib inline\n",
    "import numpy as np\n",
    "import pandas as pd\n",
    "import scipy\n",
    "import sklearn\n",
    "import spacy\n",
    "import matplotlib.pyplot as plt\n",
    "import seaborn as sns\n",
    "import re\n",
    "from nltk.corpus import gutenberg, stopwords\n",
    "from collections import Counter\n",
    "import nltk\n",
    "\n",
    "nltk.download('gutenberg')\n",
    "!python -m spacy download en"
   ]
  },
  {
   "cell_type": "markdown",
   "metadata": {
    "run_control": {
     "frozen": false,
     "read_only": false
    }
   },
   "source": [
    "Supervised NLP requires a pre-labelled dataset for training and testing, and is generally interested in categorizing text in various ways. In this case, we are going to try to predict whether a sentence comes from _Alice in Wonderland_ by Lewis Carroll or _Persuasion_ by Jane Austen. We can use any of the supervised models we've covered previously, as long as they allow categorical outcomes. In this case, we'll try Random Forests, SVM, and KNN.\n",
    "\n",
    "Our feature-generation approach will be something called _BoW_, or _Bag of Words_. BoW is quite simple: For each sentence, we count how many times each word appears. We will then use those counts as features.\n",
    "\n",
    "**Note**: Since processing all the text takes around ~5-10 minutes, in the cell below we are taking only the first tenth of each text. If you want to experiment, feel free to change the following code in the next cell:\n",
    "\n",
    "```python\n",
    "alice = text_cleaner(alice[:int(len(alice)/10)])\n",
    "persuasion = text_cleaner(persuasion[:int(len(persuasion)/10)])\n",
    "```\n",
    "to \n",
    "\n",
    "```python\n",
    "alice = text_cleaner(alice)\n",
    "persuasion = text_cleaner(persuasion)\n",
    "```"
   ]
  },
  {
   "cell_type": "code",
   "execution_count": 3,
   "metadata": {
    "run_control": {
     "frozen": false,
     "read_only": false
    },
    "scrolled": true
   },
   "outputs": [],
   "source": [
    "# Utility function for standard text cleaning.\n",
    "def text_cleaner(text):\n",
    "    # Visual inspection identifies a form of punctuation spaCy does not\n",
    "    # recognize: the double dash '--'.  Better get rid of it now!\n",
    "    text = re.sub(r'--',' ',text)\n",
    "    text = re.sub(\"[\\[].*?[\\]]\", \"\", text)\n",
    "    text = ' '.join(text.split())\n",
    "    return text\n",
    "    \n",
    "# Load and clean the data.\n",
    "persuasion = gutenberg.raw('austen-persuasion.txt')\n",
    "alice = gutenberg.raw('carroll-alice.txt')\n",
    "\n",
    "# The Chapter indicator is idiosyncratic\n",
    "persuasion = re.sub(r'Chapter \\d+', '', persuasion)\n",
    "alice = re.sub(r'CHAPTER .*', '', alice)\n",
    "    \n",
    "alice = text_cleaner(alice[:int(len(alice)/10)])\n",
    "persuasion = text_cleaner(persuasion[:int(len(persuasion)/10)])"
   ]
  },
  {
   "cell_type": "code",
   "execution_count": 4,
   "metadata": {},
   "outputs": [],
   "source": [
    "# Parse the cleaned novels. This can take a bit.\n",
    "nlp = spacy.load('en')\n",
    "alice_doc = nlp(alice)\n",
    "persuasion_doc = nlp(persuasion)"
   ]
  },
  {
   "cell_type": "code",
   "execution_count": 5,
   "metadata": {
    "scrolled": true
   },
   "outputs": [
    {
     "data": {
      "text/html": [
       "<div>\n",
       "<style scoped>\n",
       "    .dataframe tbody tr th:only-of-type {\n",
       "        vertical-align: middle;\n",
       "    }\n",
       "\n",
       "    .dataframe tbody tr th {\n",
       "        vertical-align: top;\n",
       "    }\n",
       "\n",
       "    .dataframe thead th {\n",
       "        text-align: right;\n",
       "    }\n",
       "</style>\n",
       "<table border=\"1\" class=\"dataframe\">\n",
       "  <thead>\n",
       "    <tr style=\"text-align: right;\">\n",
       "      <th></th>\n",
       "      <th>0</th>\n",
       "      <th>1</th>\n",
       "    </tr>\n",
       "  </thead>\n",
       "  <tbody>\n",
       "    <tr>\n",
       "      <th>0</th>\n",
       "      <td>(Alice, was, beginning, to, get, very, tired, ...</td>\n",
       "      <td>Carroll</td>\n",
       "    </tr>\n",
       "    <tr>\n",
       "      <th>1</th>\n",
       "      <td>(So, she, was, considering, in, her, own, mind...</td>\n",
       "      <td>Carroll</td>\n",
       "    </tr>\n",
       "    <tr>\n",
       "      <th>2</th>\n",
       "      <td>(There, was, nothing, so, VERY, remarkable, in...</td>\n",
       "      <td>Carroll</td>\n",
       "    </tr>\n",
       "    <tr>\n",
       "      <th>3</th>\n",
       "      <td>(Oh, dear, !)</td>\n",
       "      <td>Carroll</td>\n",
       "    </tr>\n",
       "    <tr>\n",
       "      <th>4</th>\n",
       "      <td>(Oh, dear, !)</td>\n",
       "      <td>Carroll</td>\n",
       "    </tr>\n",
       "  </tbody>\n",
       "</table>\n",
       "</div>"
      ],
      "text/plain": [
       "                                                   0        1\n",
       "0  (Alice, was, beginning, to, get, very, tired, ...  Carroll\n",
       "1  (So, she, was, considering, in, her, own, mind...  Carroll\n",
       "2  (There, was, nothing, so, VERY, remarkable, in...  Carroll\n",
       "3                                      (Oh, dear, !)  Carroll\n",
       "4                                      (Oh, dear, !)  Carroll"
      ]
     },
     "execution_count": 5,
     "metadata": {},
     "output_type": "execute_result"
    }
   ],
   "source": [
    "# Group into sentences.\n",
    "alice_sents = [[sent, \"Carroll\"] for sent in alice_doc.sents]\n",
    "persuasion_sents = [[sent, \"Austen\"] for sent in persuasion_doc.sents]\n",
    "\n",
    "# Combine the sentences from the two novels into one data frame.\n",
    "sentences = pd.DataFrame(alice_sents + persuasion_sents)\n",
    "sentences.head()"
   ]
  },
  {
   "cell_type": "markdown",
   "metadata": {
    "run_control": {
     "frozen": false,
     "read_only": false
    }
   },
   "source": [
    "Time to bag some words!  Since spaCy has already tokenized and labelled our data, we can move directly to recording how often various words occur.  We will exclude stopwords and punctuation.  In addition, in an attempt to keep our feature space from exploding, we will work with lemmas (root words) rather than the raw text terms, and we'll only use the 2000 most common words for each text."
   ]
  },
  {
   "cell_type": "code",
   "execution_count": 6,
   "metadata": {
    "run_control": {
     "frozen": false,
     "read_only": false
    },
    "scrolled": false
   },
   "outputs": [],
   "source": [
    "# Utility function to create a list of the 2000 most common words.\n",
    "def bag_of_words(text):\n",
    "    \n",
    "    # Filter out punctuation and stop words.\n",
    "    allwords = [token.lemma_\n",
    "                for token in text\n",
    "                if not token.is_punct\n",
    "                and not token.is_stop]\n",
    "    \n",
    "    # Return the most common words.\n",
    "    return [item[0] for item in Counter(allwords).most_common(2000)]\n",
    "    \n",
    "\n",
    "# Creates a data frame with features for each word in our common word set.\n",
    "# Each value is the count of the times the word appears in each sentence.\n",
    "def bow_features(sentences, common_words):\n",
    "    \n",
    "    # Scaffold the data frame and initialize counts to zero.\n",
    "    df = pd.DataFrame(columns=common_words)\n",
    "    df['text_sentence'] = sentences[0]\n",
    "    df['text_source'] = sentences[1]\n",
    "    df.loc[:, common_words] = 0\n",
    "    \n",
    "    # Process each row, counting the occurrence of words in each sentence.\n",
    "    for i, sentence in enumerate(df['text_sentence']):\n",
    "        \n",
    "        # Convert the sentence to lemmas, then filter out punctuation,\n",
    "        # stop words, and uncommon words.\n",
    "        words = [token.lemma_\n",
    "                 for token in sentence\n",
    "                 if (\n",
    "                     not token.is_punct\n",
    "                     and not token.is_stop\n",
    "                     and token.lemma_ in common_words\n",
    "                 )]\n",
    "        \n",
    "        # Populate the row with word counts.\n",
    "        for word in words:\n",
    "            df.loc[i, word] += 1\n",
    "        \n",
    "        # This counter is just to make sure the kernel didn't hang.\n",
    "        if i % 50 == 0:\n",
    "            print(\"Processing row {}\".format(i))\n",
    "            \n",
    "    return df\n",
    "\n",
    "# Set up the bags.\n",
    "alicewords = bag_of_words(alice_doc)\n",
    "persuasionwords = bag_of_words(persuasion_doc)\n",
    "\n",
    "# Combine bags to create a set of unique words.\n",
    "common_words = set(alicewords + persuasionwords)"
   ]
  },
  {
   "cell_type": "code",
   "execution_count": 7,
   "metadata": {},
   "outputs": [
    {
     "name": "stdout",
     "output_type": "stream",
     "text": [
      "Processing row 0\n",
      "Processing row 50\n",
      "Processing row 100\n",
      "Processing row 150\n",
      "Processing row 200\n",
      "Processing row 250\n",
      "Processing row 300\n",
      "Processing row 350\n",
      "Processing row 400\n"
     ]
    },
    {
     "data": {
      "text/html": [
       "<div>\n",
       "<style scoped>\n",
       "    .dataframe tbody tr th:only-of-type {\n",
       "        vertical-align: middle;\n",
       "    }\n",
       "\n",
       "    .dataframe tbody tr th {\n",
       "        vertical-align: top;\n",
       "    }\n",
       "\n",
       "    .dataframe thead th {\n",
       "        text-align: right;\n",
       "    }\n",
       "</style>\n",
       "<table border=\"1\" class=\"dataframe\">\n",
       "  <thead>\n",
       "    <tr style=\"text-align: right;\">\n",
       "      <th></th>\n",
       "      <th>consistent</th>\n",
       "      <th>furnished</th>\n",
       "      <th>ought</th>\n",
       "      <th>near</th>\n",
       "      <th>completely</th>\n",
       "      <th>stupid</th>\n",
       "      <th>confirm</th>\n",
       "      <th>snatch</th>\n",
       "      <th>remarkable</th>\n",
       "      <th>excite</th>\n",
       "      <th>...</th>\n",
       "      <th>distressed</th>\n",
       "      <th>precedence</th>\n",
       "      <th>cake</th>\n",
       "      <th>apparently</th>\n",
       "      <th>Antipathies</th>\n",
       "      <th>comparatively</th>\n",
       "      <th>instead</th>\n",
       "      <th>raise</th>\n",
       "      <th>text_sentence</th>\n",
       "      <th>text_source</th>\n",
       "    </tr>\n",
       "  </thead>\n",
       "  <tbody>\n",
       "    <tr>\n",
       "      <th>0</th>\n",
       "      <td>0</td>\n",
       "      <td>0</td>\n",
       "      <td>0</td>\n",
       "      <td>0</td>\n",
       "      <td>0</td>\n",
       "      <td>0</td>\n",
       "      <td>0</td>\n",
       "      <td>0</td>\n",
       "      <td>0</td>\n",
       "      <td>0</td>\n",
       "      <td>...</td>\n",
       "      <td>0</td>\n",
       "      <td>0</td>\n",
       "      <td>0</td>\n",
       "      <td>0</td>\n",
       "      <td>0</td>\n",
       "      <td>0</td>\n",
       "      <td>0</td>\n",
       "      <td>0</td>\n",
       "      <td>(Alice, was, beginning, to, get, very, tired, ...</td>\n",
       "      <td>Carroll</td>\n",
       "    </tr>\n",
       "    <tr>\n",
       "      <th>1</th>\n",
       "      <td>0</td>\n",
       "      <td>0</td>\n",
       "      <td>0</td>\n",
       "      <td>0</td>\n",
       "      <td>0</td>\n",
       "      <td>1</td>\n",
       "      <td>0</td>\n",
       "      <td>0</td>\n",
       "      <td>0</td>\n",
       "      <td>0</td>\n",
       "      <td>...</td>\n",
       "      <td>0</td>\n",
       "      <td>0</td>\n",
       "      <td>0</td>\n",
       "      <td>0</td>\n",
       "      <td>0</td>\n",
       "      <td>0</td>\n",
       "      <td>0</td>\n",
       "      <td>0</td>\n",
       "      <td>(So, she, was, considering, in, her, own, mind...</td>\n",
       "      <td>Carroll</td>\n",
       "    </tr>\n",
       "    <tr>\n",
       "      <th>2</th>\n",
       "      <td>0</td>\n",
       "      <td>0</td>\n",
       "      <td>0</td>\n",
       "      <td>0</td>\n",
       "      <td>0</td>\n",
       "      <td>0</td>\n",
       "      <td>0</td>\n",
       "      <td>0</td>\n",
       "      <td>1</td>\n",
       "      <td>0</td>\n",
       "      <td>...</td>\n",
       "      <td>0</td>\n",
       "      <td>0</td>\n",
       "      <td>0</td>\n",
       "      <td>0</td>\n",
       "      <td>0</td>\n",
       "      <td>0</td>\n",
       "      <td>0</td>\n",
       "      <td>0</td>\n",
       "      <td>(There, was, nothing, so, VERY, remarkable, in...</td>\n",
       "      <td>Carroll</td>\n",
       "    </tr>\n",
       "    <tr>\n",
       "      <th>3</th>\n",
       "      <td>0</td>\n",
       "      <td>0</td>\n",
       "      <td>0</td>\n",
       "      <td>0</td>\n",
       "      <td>0</td>\n",
       "      <td>0</td>\n",
       "      <td>0</td>\n",
       "      <td>0</td>\n",
       "      <td>0</td>\n",
       "      <td>0</td>\n",
       "      <td>...</td>\n",
       "      <td>0</td>\n",
       "      <td>0</td>\n",
       "      <td>0</td>\n",
       "      <td>0</td>\n",
       "      <td>0</td>\n",
       "      <td>0</td>\n",
       "      <td>0</td>\n",
       "      <td>0</td>\n",
       "      <td>(Oh, dear, !)</td>\n",
       "      <td>Carroll</td>\n",
       "    </tr>\n",
       "    <tr>\n",
       "      <th>4</th>\n",
       "      <td>0</td>\n",
       "      <td>0</td>\n",
       "      <td>0</td>\n",
       "      <td>0</td>\n",
       "      <td>0</td>\n",
       "      <td>0</td>\n",
       "      <td>0</td>\n",
       "      <td>0</td>\n",
       "      <td>0</td>\n",
       "      <td>0</td>\n",
       "      <td>...</td>\n",
       "      <td>0</td>\n",
       "      <td>0</td>\n",
       "      <td>0</td>\n",
       "      <td>0</td>\n",
       "      <td>0</td>\n",
       "      <td>0</td>\n",
       "      <td>0</td>\n",
       "      <td>0</td>\n",
       "      <td>(Oh, dear, !)</td>\n",
       "      <td>Carroll</td>\n",
       "    </tr>\n",
       "  </tbody>\n",
       "</table>\n",
       "<p>5 rows × 1614 columns</p>\n",
       "</div>"
      ],
      "text/plain": [
       "  consistent furnished ought near completely stupid confirm snatch remarkable  \\\n",
       "0          0         0     0    0          0      0       0      0          0   \n",
       "1          0         0     0    0          0      1       0      0          0   \n",
       "2          0         0     0    0          0      0       0      0          1   \n",
       "3          0         0     0    0          0      0       0      0          0   \n",
       "4          0         0     0    0          0      0       0      0          0   \n",
       "\n",
       "  excite     ...     distressed precedence cake apparently Antipathies  \\\n",
       "0      0     ...              0          0    0          0           0   \n",
       "1      0     ...              0          0    0          0           0   \n",
       "2      0     ...              0          0    0          0           0   \n",
       "3      0     ...              0          0    0          0           0   \n",
       "4      0     ...              0          0    0          0           0   \n",
       "\n",
       "  comparatively instead raise  \\\n",
       "0             0       0     0   \n",
       "1             0       0     0   \n",
       "2             0       0     0   \n",
       "3             0       0     0   \n",
       "4             0       0     0   \n",
       "\n",
       "                                       text_sentence text_source  \n",
       "0  (Alice, was, beginning, to, get, very, tired, ...     Carroll  \n",
       "1  (So, she, was, considering, in, her, own, mind...     Carroll  \n",
       "2  (There, was, nothing, so, VERY, remarkable, in...     Carroll  \n",
       "3                                      (Oh, dear, !)     Carroll  \n",
       "4                                      (Oh, dear, !)     Carroll  \n",
       "\n",
       "[5 rows x 1614 columns]"
      ]
     },
     "execution_count": 7,
     "metadata": {},
     "output_type": "execute_result"
    }
   ],
   "source": [
    "# Create our data frame with features. This can take a while to run.\n",
    "word_counts = bow_features(sentences, common_words)\n",
    "word_counts.head()"
   ]
  },
  {
   "cell_type": "markdown",
   "metadata": {
    "run_control": {
     "frozen": false,
     "read_only": false
    }
   },
   "source": [
    "## Trying out BoW\n",
    "\n",
    "Now let's give the bag of words features a whirl by trying a random forest."
   ]
  },
  {
   "cell_type": "code",
   "execution_count": 8,
   "metadata": {
    "run_control": {
     "frozen": false,
     "read_only": false
    },
    "scrolled": false
   },
   "outputs": [
    {
     "name": "stdout",
     "output_type": "stream",
     "text": [
      "Training set score: 0.981203007518797\n",
      "\n",
      "Test set score: 0.8314606741573034\n"
     ]
    },
    {
     "name": "stderr",
     "output_type": "stream",
     "text": [
      "/anaconda3/lib/python3.7/site-packages/sklearn/ensemble/forest.py:246: FutureWarning: The default value of n_estimators will change from 10 in version 0.20 to 100 in 0.22.\n",
      "  \"10 in version 0.20 to 100 in 0.22.\", FutureWarning)\n"
     ]
    }
   ],
   "source": [
    "from sklearn import ensemble\n",
    "from sklearn.model_selection import train_test_split\n",
    "\n",
    "rfc = ensemble.RandomForestClassifier()\n",
    "Y = word_counts['text_source']\n",
    "X = np.array(word_counts.drop(['text_sentence','text_source'], 1))\n",
    "\n",
    "X_train, X_test, y_train, y_test = train_test_split(X, \n",
    "                                                    Y,\n",
    "                                                    test_size=0.4,\n",
    "                                                    random_state=0)\n",
    "train = rfc.fit(X_train, y_train)\n",
    "\n",
    "print('Training set score:', rfc.score(X_train, y_train))\n",
    "print('\\nTest set score:', rfc.score(X_test, y_test))"
   ]
  },
  {
   "cell_type": "markdown",
   "metadata": {
    "run_control": {
     "frozen": false,
     "read_only": false
    }
   },
   "source": [
    "Holy overfitting, Batman! Overfitting is a known problem when using bag of words, since it basically involves throwing a massive number of features at a model – some of those features (in this case, word frequencies) will capture noise in the training set. Since overfitting is also a known problem with Random Forests, the divergence between training score and test score is expected.\n",
    "\n",
    "\n",
    "## BoW with Logistic Regression\n",
    "\n",
    "Let's try a technique with some protection against overfitting due to extraneous features – logistic regression with ridge regularization (from ridge regression, also called L2 regularization)."
   ]
  },
  {
   "cell_type": "code",
   "execution_count": 9,
   "metadata": {
    "run_control": {
     "frozen": false,
     "read_only": false
    }
   },
   "outputs": [
    {
     "name": "stdout",
     "output_type": "stream",
     "text": [
      "(266, 1612) (266,)\n",
      "Training set score: 0.9774436090225563\n",
      "\n",
      "Test set score: 0.8707865168539326\n"
     ]
    },
    {
     "name": "stderr",
     "output_type": "stream",
     "text": [
      "/anaconda3/lib/python3.7/site-packages/sklearn/linear_model/logistic.py:433: FutureWarning: Default solver will be changed to 'lbfgs' in 0.22. Specify a solver to silence this warning.\n",
      "  FutureWarning)\n"
     ]
    }
   ],
   "source": [
    "from sklearn.linear_model import LogisticRegression\n",
    "\n",
    "lr = LogisticRegression(penalty='l2') # No need to specify l2 as it's the default. But we put it for demonstration.\n",
    "train = lr.fit(X_train, y_train)\n",
    "print(X_train.shape, y_train.shape)\n",
    "print('Training set score:', lr.score(X_train, y_train))\n",
    "print('\\nTest set score:', lr.score(X_test, y_test))"
   ]
  },
  {
   "cell_type": "markdown",
   "metadata": {
    "run_control": {
     "frozen": false,
     "read_only": false
    }
   },
   "source": [
    "Logistic regression performs a bit better than the random forest.  \n",
    "\n",
    "# BoW with Gradient Boosting\n",
    "\n",
    "And finally, let's see what gradient boosting can do:"
   ]
  },
  {
   "cell_type": "code",
   "execution_count": 10,
   "metadata": {
    "run_control": {
     "frozen": false,
     "read_only": false
    }
   },
   "outputs": [
    {
     "name": "stdout",
     "output_type": "stream",
     "text": [
      "Training set score: 0.9774436090225563\n",
      "\n",
      "Test set score: 0.8202247191011236\n"
     ]
    }
   ],
   "source": [
    "clf = ensemble.GradientBoostingClassifier()\n",
    "train = clf.fit(X_train, y_train)\n",
    "\n",
    "print('Training set score:', clf.score(X_train, y_train))\n",
    "print('\\nTest set score:', clf.score(X_test, y_test))"
   ]
  },
  {
   "cell_type": "markdown",
   "metadata": {
    "run_control": {
     "frozen": false,
     "read_only": false
    }
   },
   "source": [
    "Looks like logistic regression is the winner, but there's room for improvement.\n",
    "\n",
    "# Same model, new inputs\n",
    "\n",
    "What if we feed the model a different novel by Jane Austen, like _Emma_?  Will it be able to distinguish Austen from Carroll with the same level of accuracy if we insert a different sample of Austen's writing?\n",
    "\n",
    "First, we need to process _Emma_ the same way we processed the other data, and combine it with the Alice data. Remember that for computation time concerns, we only took the first tenth of the Alice text. Emma is pretty long. **So in order to get comparable length texts, we take the first sixtieth of Emma**. Again, if you want to experiment, you can take the whole texts of each."
   ]
  },
  {
   "cell_type": "code",
   "execution_count": 11,
   "metadata": {
    "run_control": {
     "frozen": false,
     "read_only": false
    }
   },
   "outputs": [
    {
     "name": "stdout",
     "output_type": "stream",
     "text": [
      "Emma Woodhouse, handsome, clever, and rich, with a comfortable home and happy disposition, seemed to\n"
     ]
    }
   ],
   "source": [
    "# Clean the Emma data.\n",
    "emma = gutenberg.raw('austen-emma.txt')\n",
    "emma = re.sub(r'VOLUME \\w+', '', emma)\n",
    "emma = re.sub(r'CHAPTER \\w+', '', emma)\n",
    "emma = text_cleaner(emma[:int(len(emma)/60)])\n",
    "print(emma[:100])"
   ]
  },
  {
   "cell_type": "code",
   "execution_count": 12,
   "metadata": {},
   "outputs": [],
   "source": [
    "# Parse our cleaned data.\n",
    "emma_doc = nlp(emma)"
   ]
  },
  {
   "cell_type": "code",
   "execution_count": 13,
   "metadata": {},
   "outputs": [],
   "source": [
    "# Group into sentences.\n",
    "persuasion_sents = [[sent, \"Austen\"] for sent in persuasion_doc.sents]\n",
    "emma_sents = [[sent, \"Austen\"] for sent in emma_doc.sents]"
   ]
  },
  {
   "cell_type": "code",
   "execution_count": 14,
   "metadata": {},
   "outputs": [
    {
     "name": "stdout",
     "output_type": "stream",
     "text": [
      "Processing row 0\n",
      "Processing row 50\n",
      "Processing row 100\n",
      "Processing row 150\n",
      "done\n"
     ]
    }
   ],
   "source": [
    "# Build a new Bag of Words data frame for Emma word counts.\n",
    "# We'll use the same common words from Alice and Persuasion.\n",
    "emma_sentences = pd.DataFrame(emma_sents)\n",
    "emma_bow = bow_features(emma_sentences, common_words)\n",
    "\n",
    "print('done')"
   ]
  },
  {
   "cell_type": "code",
   "execution_count": 15,
   "metadata": {},
   "outputs": [
    {
     "name": "stdout",
     "output_type": "stream",
     "text": [
      "\n",
      "Test set score: 0.7073170731707317\n"
     ]
    },
    {
     "data": {
      "text/html": [
       "<div>\n",
       "<style scoped>\n",
       "    .dataframe tbody tr th:only-of-type {\n",
       "        vertical-align: middle;\n",
       "    }\n",
       "\n",
       "    .dataframe tbody tr th {\n",
       "        vertical-align: top;\n",
       "    }\n",
       "\n",
       "    .dataframe thead th {\n",
       "        text-align: right;\n",
       "    }\n",
       "</style>\n",
       "<table border=\"1\" class=\"dataframe\">\n",
       "  <thead>\n",
       "    <tr style=\"text-align: right;\">\n",
       "      <th>col_0</th>\n",
       "      <th>Austen</th>\n",
       "      <th>Carroll</th>\n",
       "    </tr>\n",
       "    <tr>\n",
       "      <th>row_0</th>\n",
       "      <th></th>\n",
       "      <th></th>\n",
       "    </tr>\n",
       "  </thead>\n",
       "  <tbody>\n",
       "    <tr>\n",
       "      <th>Austen</th>\n",
       "      <td>155</td>\n",
       "      <td>15</td>\n",
       "    </tr>\n",
       "    <tr>\n",
       "      <th>Carroll</th>\n",
       "      <td>57</td>\n",
       "      <td>19</td>\n",
       "    </tr>\n",
       "  </tbody>\n",
       "</table>\n",
       "</div>"
      ],
      "text/plain": [
       "col_0    Austen  Carroll\n",
       "row_0                   \n",
       "Austen      155       15\n",
       "Carroll      57       19"
      ]
     },
     "execution_count": 15,
     "metadata": {},
     "output_type": "execute_result"
    }
   ],
   "source": [
    "# Now we can model it!\n",
    "# Let's use logistic regression again.\n",
    "\n",
    "# Combine the Emma sentence data with the Alice data from the test set.\n",
    "X_Emma_test = np.concatenate((\n",
    "    X_train[y_train[y_train=='Carroll'].index],\n",
    "    emma_bow.drop(['text_sentence','text_source'], 1)\n",
    "), axis=0)\n",
    "y_Emma_test = pd.concat([y_train[y_train=='Carroll'],\n",
    "                         pd.Series(['Austen'] * emma_bow.shape[0])])\n",
    "\n",
    "# Model.\n",
    "print('\\nTest set score:', lr.score(X_Emma_test, y_Emma_test))\n",
    "lr_Emma_predicted = lr.predict(X_Emma_test)\n",
    "pd.crosstab(y_Emma_test, lr_Emma_predicted)"
   ]
  },
  {
   "cell_type": "markdown",
   "metadata": {
    "run_control": {
     "frozen": false,
     "read_only": false
    }
   },
   "source": [
    "Well look at that!  NLP approaches are generally effective on the same type of material as they were trained on. It looks like this model is actually able to differentiate multiple works by Austen from Alice in Wonderland.  Now the question is whether the model is very good at identifying Austen, or very good at identifying Alice in Wonderland, or both...\n",
    "\n",
    "# Challenge 0:\n",
    "\n",
    "Recall that the logistic regression model's best performance on the test set was 93%.  See what you can do to improve performance.  Suggested avenues of investigation include: Other modeling techniques (SVM?), making more features that take advantage of the spaCy information (include grammar, phrases, POS, etc), making sentence-level features (number of words, amount of punctuation), or including contextual information (length of previous and next sentences, words repeated from one sentence to the next, etc), and anything else your heart desires.  Make sure to design your models on the test set, or use cross_validation with multiple folds, and see if you can get accuracy above 90%.  \n"
   ]
  },
  {
   "cell_type": "code",
   "execution_count": 17,
   "metadata": {},
   "outputs": [
    {
     "name": "stdout",
     "output_type": "stream",
     "text": [
      "[['Alice', 'PROPN', 'nsubj'], ['begin', 'VERB', 'ccomp'], ['tired', 'ADJ', 'acomp'], ['sit', 'VERB', 'pcomp'], ['sister', 'NOUN', 'pobj'], ['bank', 'NOUN', 'pobj'], ['have', 'VERB', 'pcomp'], ['twice', 'ADV', 'conj'], ['peep', 'VERB', 'ROOT'], ['book', 'NOUN', 'pobj'], ['sister', 'NOUN', 'nsubj'], ['read', 'VERB', 'relcl'], ['picture', 'NOUN', 'dobj'], ['conversation', 'NOUN', 'conj'], ['use', 'NOUN', 'nsubj'], ['book', 'NOUN', 'pobj'], ['think', 'VERB', 'parataxis'], ['Alice', 'PROPN', 'dobj'], ['picture', 'NOUN', 'pobj'], ['conversation', 'NOUN', 'conj'], ['consider', 'VERB', 'ROOT'], ['mind', 'NOUN', 'pobj'], ['hot', 'ADJ', 'amod'], ['day', 'NOUN', 'pobj'], ['feel', 'VERB', 'ccomp'], ['sleepy', 'ADJ', 'acomp'], ['stupid', 'ADJ', 'conj'], ['pleasure', 'NOUN', 'nsubj'], ['make', 'VERB', 'pcomp'], ['daisy', 'NOUN', 'compound'], ['chain', 'NOUN', 'dobj'], ['worth', 'ADJ', 'acomp'], ['trouble', 'NOUN', 'pobj'], ['get', 'VERB', 'pcomp'], ['pick', 'VERB', 'conj'], ['daisy', 'NOUN', 'dobj'], ['suddenly', 'ADV', 'advmod'], ['White', 'PROPN', 'compound'], ['Rabbit', 'PROPN', 'nsubj'], ['pink', 'ADJ', 'amod'], ['eye', 'NOUN', 'pobj'], ['run', 'VERB', 'advcl'], ['close', 'ADV', 'advmod'], ['remarkable', 'ADJ', 'amod'], ['Alice', 'PROPN', 'nsubj'], ['think', 'VERB', 'conj'], ['way', 'NOUN', 'pobj'], ['hear', 'VERB', 'relcl'], ['Rabbit', 'PROPN', 'nsubj'], ['oh', 'INTJ', 'intj'], ['dear', 'ADJ', 'ROOT'], ['oh', 'INTJ', 'intj'], ['dear', 'ADJ', 'ROOT'], ['shall', 'VERB', 'aux'], ['late', 'ADJ', 'acomp'], ['think', 'VERB', 'advcl'], ['occur', 'VERB', 'ROOT'], ['ought', 'VERB', 'ccomp'], ['wonder', 'VERB', 'xcomp'], ['time', 'NOUN', 'pobj'], ['natural', 'ADJ', 'oprd'], ['Rabbit', 'PROPN', 'nsubj'], ['actually', 'ADV', 'advmod'], ['take', 'VERB', 'conj'], ['watch', 'ADJ', 'ROOT'], ['WAISTCOAT', 'PROPN', 'compound'], ['POCKET', 'PROPN', 'pobj'], ['look', 'VERB', 'conj'], ['hurry', 'VERB', 'conj'], ['Alice', 'PROPN', 'nsubj'], ['start', 'VERB', 'ccomp'], ['foot', 'NOUN', 'pobj'], ['flash', 'VERB', 'advcl'], ['mind', 'NOUN', 'pobj'], ['see', 'VERB', 'ccomp'], ['rabbit', 'NOUN', 'dobj'], ['waistcoat', 'NOUN', 'compound'], ['pocket', 'NOUN', 'pobj'], ['watch', 'NOUN', 'conj'], ['burn', 'VERB', 'conj'], ['curiosity', 'NOUN', 'pobj'], ['run', 'VERB', 'ROOT'], ['field', 'NOUN', 'pobj'], ['fortunately', 'ADV', 'advmod'], ['time', 'NOUN', 'pobj'], ['pop', 'VERB', 'ccomp'], ['large', 'ADJ', 'amod'], ['rabbit', 'NOUN', 'compound'], ['hole', 'NOUN', 'dobj'], ['hedge', 'NOUN', 'pobj'], ['moment', 'NOUN', 'pobj'], ['go', 'VERB', 'ROOT'], ['Alice', 'PROPN', 'dobj'], ['consider', 'VERB', 'advcl'], ['world', 'NOUN', 'pobj'], ['rabbit', 'NOUN', 'compound'], ['hole', 'NOUN', 'nsubj'], ['go', 'VERB', 'ROOT'], ['straight', 'ADV', 'advmod'], ['like', 'ADP', 'prep'], ['tunnel', 'NOUN', 'pobj'], ['way', 'NOUN', 'pobj'], ['dip', 'VERB', 'conj'], ['suddenly', 'ADV', 'advmod'], ['suddenly', 'ADV', 'advmod'], ['Alice', 'PROPN', 'nsubj'], ['moment', 'NOUN', 'dobj'], ['think', 'VERB', 'relcl'], ['stop', 'VERB', 'pcomp'], ['find', 'VERB', 'advcl'], ['fall', 'VERB', 'ccomp'], ['deep', 'ADJ', 'advmod'], ['deep', 'ADJ', 'acomp'], ['fall', 'VERB', 'conj'], ['slowly', 'ADV', 'advmod'], ['plenty', 'NOUN', 'dobj'], ['time', 'NOUN', 'pobj'], ['go', 'VERB', 'advcl'], ['look', 'VERB', 'advcl'], ['wonder', 'VERB', 'conj'], ['go', 'VERB', 'ccomp'], ['happen', 'VERB', 'xcomp'], ['try', 'VERB', 'ROOT'], ['look', 'VERB', 'xcomp'], ['come', 'VERB', 'ccomp'], ['dark', 'ADJ', 'acomp'], ['look', 'VERB', 'ccomp'], ['side', 'NOUN', 'pobj'], ['notice', 'VERB', 'conj'], ['fill', 'VERB', 'ccomp'], ['cupboard', 'NOUN', 'pobj'], ['book', 'NOUN', 'compound'], ['shelf', 'NOUN', 'conj'], ['see', 'VERB', 'ROOT'], ['map', 'NOUN', 'nsubj'], ['picture', 'NOUN', 'conj'], ['hang', 'VERB', 'ccomp'], ['peg', 'NOUN', 'pobj'], ['take', 'VERB', 'ccomp'], ['jar', 'NOUN', 'dobj'], ['shelf', 'NOUN', 'pobj'], ['pass', 'VERB', 'advcl'], ['label', 'VERB', 'ccomp'], ['ORANGE', 'PROPN', 'compound'], ['MARMALADE', 'PROPN', 'oprd'], ['great', 'ADJ', 'amod'], ['disappointment', 'NOUN', 'pobj'], ['like', 'VERB', 'ROOT'], ['drop', 'VERB', 'xcomp'], ['jar', 'NOUN', 'dobj'], ['fear', 'NOUN', 'pobj'], ['kill', 'VERB', 'pcomp'], ['somebody', 'NOUN', 'dobj'], ['manage', 'VERB', 'conj'], ['cupboard', 'NOUN', 'pobj'], ['fall', 'VERB', 'advcl'], ['past', 'ADP', 'prep'], ['think', 'VERB', 'ROOT'], ['Alice', 'PROPN', 'dobj'], ['fall', 'NOUN', 'pobj'], ['shall', 'VERB', 'aux'], ['think', 'VERB', 'advcl'], ['tumble', 'VERB', 'pcomp'], ['stair', 'NOUN', 'dobj'], ['brave', 'ADJ', 'acomp'], ['think', 'VERB', 'ROOT'], ['home', 'NOUN', 'pobj'], ['fall', 'VERB', 'advcl'], ['house', 'NOUN', 'pobj'], ['likely', 'ADV', 'advmod'], ['true', 'ADJ', 'acomp'], ['fall', 'NOUN', 'nsubj'], ['come', 'VERB', 'ROOT'], ['end', 'NOUN', 'pobj'], ['wonder', 'VERB', 'ROOT'], ['mile', 'NOUN', 'npadvmod'], ['fall', 'VERB', 'ccomp'], ['time', 'NOUN', 'pobj'], ['say', 'VERB', 'ROOT'], ['aloud', 'ADV', 'advmod'], ['get', 'VERB', 'ROOT'], ['near', 'ADP', 'prep'], ['centre', 'NOUN', 'pobj'], ['earth', 'NOUN', 'pobj'], ['let', 'VERB', 'advcl'], ['thousand', 'NUM', 'nummod'], ['mile', 'NOUN', 'npadvmod'], ['think', 'VERB', 'ROOT'], ['Alice', 'PROPN', 'nsubj'], ['learn', 'VERB', 'ccomp'], ['thing', 'NOUN', 'dobj'], ['sort', 'NOUN', 'pobj'], ['lesson', 'NOUN', 'pobj'], ['schoolroom', 'NOUN', 'pobj'], ['good', 'ADJ', 'amod'], ['opportunity', 'NOUN', 'attr'], ['show', 'VERB', 'pcomp'], ['knowledge', 'NOUN', 'dobj'], ['listen', 'VERB', 'relcl'], ['good', 'ADJ', 'amod'], ['practice', 'NOUN', 'attr'], ['yes', 'INTJ', 'intj'], ['right', 'ADJ', 'amod'], ['distance', 'NOUN', 'pobj'], ['wonder', 'VERB', 'ROOT'], ['Latitude', 'PROPN', 'pobj'], ['Longitude', 'PROPN', 'conj'], ['get', 'VERB', 'ROOT'], ['Alice', 'PROPN', 'nsubj'], ['idea', 'NOUN', 'dobj'], ['Latitude', 'PROPN', 'nsubj'], ['Longitude', 'PROPN', 'conj'], ['think', 'VERB', 'conj'], ['nice', 'ADJ', 'amod'], ['grand', 'ADJ', 'amod'], ['word', 'NOUN', 'attr'], ['presently', 'ADV', 'advmod'], ['begin', 'VERB', 'ROOT'], ['wonder', 'VERB', 'ROOT'], ['shall', 'VERB', 'aux'], ['fall', 'VERB', 'ccomp'], ['right', 'ADV', 'advmod'], ['earth', 'NOUN', 'pobj'], ['funny', 'ADJ', 'acomp'], ['come', 'VERB', 'xcomp'], ['people', 'NOUN', 'pobj'], ['walk', 'VERB', 'relcl'], ['head', 'NOUN', 'pobj'], ['downward', 'ADV', 'advmod'], ['Antipathies', 'PROPN', 'npadvmod'], ['think', 'VERB', 'ROOT'], ['glad', 'ADJ', 'acomp'], ['listening', 'NOUN', 'acl'], ['time', 'NOUN', 'npadvmod'], ['sound', 'VERB', 'advcl'], ['right', 'ADJ', 'amod'], ['word', 'NOUN', 'pobj'], ['shall', 'VERB', 'aux'], ['ask', 'VERB', 'xcomp'], ['country', 'NOUN', 'pobj'], ['know', 'VERB', 'parataxis'], ['madam', 'PROPN', 'npadvmod'], ['New', 'PROPN', 'compound'], ['Zealand', 'PROPN', 'attr'], ['Australia', 'PROPN', 'conj'], ['try', 'VERB', 'ROOT'], ['curtsey', 'VERB', 'xcomp'], ['speak', 'VERB', 'advcl'], ['fancy', 'ADJ', 'amod'], ['curtseying', 'NOUN', 'dobj'], ['fall', 'VERB', 'advcl'], ['air', 'NOUN', 'pobj'], ['think', 'VERB', 'ROOT'], ['manage', 'VERB', 'ccomp'], ['ignorant', 'ADJ', 'amod'], ['little', 'ADJ', 'amod'], ['girl', 'NOUN', 'attr'], ['think', 'VERB', 'ROOT'], ['ask', 'VERB', 'pcomp'], ['ask', 'VERB', 'xcomp'], ['shall', 'VERB', 'aux'], ['write', 'VERB', 'ccomp'], ['Alice', 'PROPN', 'nsubj'], ['soon', 'ADV', 'advmod'], ['begin', 'VERB', 'ROOT'], ['talk', 'VERB', 'xcomp'], [\"Dinah'll\", 'NOUN', 'nsubj'], ['miss', 'VERB', 'ccomp'], ['night', 'NOUN', 'pobj'], ['think', 'VERB', 'ROOT'], ['Dinah', 'PROPN', 'nsubj'], ['cat', 'NOUN', 'attr'], ['hope', 'VERB', 'ROOT'], ['remember', 'VERB', 'ccomp'], ['saucer', 'NOUN', 'dobj'], ['milk', 'NOUN', 'pobj'], ['tea', 'NOUN', 'compound'], ['time', 'NOUN', 'pobj'], ['Dinah', 'PROPN', 'ROOT'], ['dear', 'NOUN', 'dobj'], ['wish', 'VERB', 'ROOT'], ['mouse', 'NOUN', 'attr'], ['air', 'NOUN', 'pobj'], ['afraid', 'ADJ', 'acomp'], ['catch', 'VERB', 'conj'], ['bat', 'NOUN', 'dobj'], ['like', 'ADP', 'prep'], ['mouse', 'NOUN', 'pobj'], ['know', 'VERB', 'parataxis'], ['cat', 'NOUN', 'nmod'], ['eat', 'VERB', 'compound'], ['bat', 'NOUN', 'dobj'], ['wonder', 'VERB', 'ROOT'], ['Alice', 'PROPN', 'nsubj'], ['begin', 'VERB', 'ROOT'], ['sleepy', 'ADJ', 'acomp'], ['go', 'VERB', 'conj'], ['say', 'VERB', 'pcomp'], ['dreamy', 'ADJ', 'amod'], ['sort', 'NOUN', 'pobj'], ['way', 'NOUN', 'pobj'], ['cat', 'NOUN', 'compound'], ['eat', 'VERB', 'compound'], ['bat', 'NOUN', 'dobj'], ['cat', 'NOUN', 'compound'], ['eat', 'VERB', 'compound'], ['bat', 'NOUN', 'dobj'], ['bat', 'NOUN', 'dobj'], ['eat', 'VERB', 'amod'], ['cat', 'NOUN', 'dobj'], ['answer', 'VERB', 'advcl'], ['question', 'NOUN', 'dobj'], ['matter', 'NOUN', 'ccomp'], ['way', 'NOUN', 'npadvmod'], ['feel', 'VERB', 'ROOT'], ['doze', 'VERB', 'ccomp'], ['begin', 'VERB', 'conj'], ['dream', 'VERB', 'xcomp'], ['walk', 'VERB', 'ccomp'], ['hand', 'NOUN', 'dobj'], ['hand', 'NOUN', 'pobj'], ['Dinah', 'PROPN', 'pobj'], ['say', 'VERB', 'conj'], ['earnestly', 'ADV', 'advmod'], ['Dinah', 'PROPN', 'npadvmod'], ['tell', 'VERB', 'xcomp'], ['truth', 'NOUN', 'dobj'], ['eat', 'VERB', 'ccomp'], ['bat', 'NOUN', 'dobj'], ['suddenly', 'ADV', 'advmod'], ['thump', 'NOUN', 'ROOT'], ['thump', 'NOUN', 'ROOT'], ['come', 'VERB', 'ROOT'], ['heap', 'NOUN', 'pobj'], ['stick', 'NOUN', 'pobj'], ['dry', 'ADJ', 'amod'], ['leave', 'NOUN', 'conj'], ['fall', 'NOUN', 'nsubj'], ['Alice', 'PROPN', 'nsubj'], ['bit', 'NOUN', 'npadvmod'], ['hurt', 'ADJ', 'acomp'], ['jump', 'VERB', 'conj'], ['foot', 'NOUN', 'pobj'], ['moment', 'NOUN', 'pobj'], ['look', 'VERB', 'ROOT'], ['dark', 'ADJ', 'acomp'], ['overhead', 'ADV', 'advmod'], ['long', 'ADJ', 'amod'], ['passage', 'NOUN', 'attr'], ['White', 'PROPN', 'compound'], ['Rabbit', 'PROPN', 'nsubj'], ['sight', 'NOUN', 'pobj'], ['hurry', 'VERB', 'advcl'], ['moment', 'NOUN', 'attr'], ['lose', 'VERB', 'relcl'], ['away', 'ADV', 'advmod'], ['go', 'VERB', 'ROOT'], ['Alice', 'PROPN', 'attr'], ['like', 'ADP', 'prep'], ['wind', 'NOUN', 'pobj'], ['time', 'NOUN', 'pobj'], ['hear', 'VERB', 'advcl'], ['turn', 'VERB', 'advcl'], ['corner', 'NOUN', 'dobj'], ['oh', 'INTJ', 'intj'], ['ear', 'NOUN', 'npadvmod'], ['whisker', 'NOUN', 'conj'], ['late', 'ADV', 'advmod'], ['get', 'VERB', 'ccomp'], ['close', 'ADJ', 'acomp'], ['turn', 'VERB', 'advcl'], ['corner', 'NOUN', 'dobj'], ['Rabbit', 'PROPN', 'nsubj'], ['longer', 'ADV', 'advmod'], ['see', 'VERB', 'xcomp'], ['find', 'VERB', 'conj'], ['long', 'ADJ', 'amod'], ['low', 'ADJ', 'amod'], ['hall', 'NOUN', 'pobj'], ['light', 'VERB', 'relcl'], ['row', 'NOUN', 'pobj'], ['lamp', 'NOUN', 'pobj'], ['hang', 'VERB', 'acl'], ['roof', 'NOUN', 'pobj'], ['door', 'NOUN', 'attr'], ['round', 'VERB', 'ROOT'], ['hall', 'NOUN', 'dobj'], ['lock', 'VERB', 'conj'], ['Alice', 'PROPN', 'nsubj'], ['way', 'NOUN', 'npadvmod'], ['try', 'VERB', 'advcl'], ['door', 'NOUN', 'dobj'], ['walk', 'VERB', 'conj'], ['sadly', 'ADV', 'advmod'], ['middle', 'NOUN', 'pobj'], ['wonder', 'VERB', 'advcl'], ['suddenly', 'ADV', 'advmod'], ['come', 'VERB', 'ccomp'], ['little', 'ADJ', 'amod'], ['legged', 'ADJ', 'amod'], ['table', 'NOUN', 'pobj'], ['solid', 'ADJ', 'amod'], ['glass', 'NOUN', 'pobj'], ['tiny', 'ADJ', 'amod'], ['golden', 'ADJ', 'amod'], ['key', 'NOUN', 'pobj'], ['Alice', 'PROPN', 'poss'], ['thought', 'NOUN', 'nsubj'], ['belong', 'VERB', 'ccomp'], ['door', 'NOUN', 'pobj'], ['hall', 'NOUN', 'pobj'], ['alas', 'INTJ', 'intj'], ['lock', 'NOUN', 'nsubj'], ['large', 'ADJ', 'acomp'], ['key', 'NOUN', 'nsubj'], ['small', 'ADJ', 'acomp'], ['rate', 'NOUN', 'pobj'], ['open', 'VERB', 'conj'], ['second', 'ADJ', 'amod'], ['time', 'NOUN', 'pobj'], ['round', 'NOUN', 'pobj'], ['come', 'VERB', 'ROOT'], ['low', 'ADJ', 'amod'], ['curtain', 'NOUN', 'pobj'], ['notice', 'VERB', 'relcl'], ['little', 'ADJ', 'amod'], ['door', 'NOUN', 'npadvmod'], ['inch', 'NOUN', 'npadvmod'], ['high', 'ADJ', 'acomp'], ['try', 'VERB', 'ROOT'], ['little', 'ADJ', 'amod'], ['golden', 'ADJ', 'amod'], ['key', 'NOUN', 'dobj'], ['lock', 'NOUN', 'pobj'], ['great', 'ADJ', 'amod'], ['delight', 'NOUN', 'pobj'], ['fit', 'VERB', 'relcl'], ['Alice', 'PROPN', 'nsubj'], ['open', 'VERB', 'ccomp'], ['door', 'NOUN', 'dobj'], ['find', 'VERB', 'conj'], ['lead', 'VERB', 'ccomp'], ['small', 'ADJ', 'amod'], ['passage', 'NOUN', 'pobj'], ['large', 'ADJ', 'amod'], ['rat', 'NOUN', 'compound'], ['hole', 'NOUN', 'pobj'], ['kneel', 'VERB', 'ROOT'], ['look', 'VERB', 'conj'], ['passage', 'NOUN', 'pobj'], ['lovely', 'ADJ', 'amod'], ['garden', 'NOUN', 'pobj'], ['see', 'VERB', 'relcl'], ['long', 'VERB', 'ROOT'], ['dark', 'ADJ', 'amod'], ['hall', 'NOUN', 'pobj'], ['wander', 'VERB', 'conj'], ['bed', 'NOUN', 'pobj'], ['bright', 'ADJ', 'amod'], ['flower', 'NOUN', 'pobj'], ['cool', 'ADJ', 'amod'], ['fountain', 'NOUN', 'conj'], ['head', 'NOUN', 'dobj'], ['doorway', 'NOUN', 'pobj'], ['head', 'NOUN', 'nsubj'], ['think', 'VERB', 'parataxis'], ['poor', 'ADJ', 'amod'], ['Alice', 'PROPN', 'nsubj'], ['little', 'ADJ', 'amod'], ['use', 'NOUN', 'pobj'], ['shoulder', 'NOUN', 'pobj'], ['oh', 'INTJ', 'intj'], ['wish', 'VERB', 'ROOT'], ['shut', 'VERB', 'ccomp'], ['like', 'ADP', 'prep'], ['telescope', 'NOUN', 'pobj'], ['think', 'VERB', 'ROOT'], ['know', 'VERB', 'advcl'], ['begin', 'VERB', 'xcomp'], ['way', 'NOUN', 'pobj'], ['thing', 'NOUN', 'nsubj'], ['happen', 'VERB', 'advcl'], ['lately', 'ADV', 'advmod'], ['Alice', 'PROPN', 'nsubj'], ['begin', 'VERB', 'ROOT'], ['think', 'VERB', 'xcomp'], ['thing', 'NOUN', 'nsubj'], ['impossible', 'ADJ', 'acomp'], ['use', 'NOUN', 'attr'], ['wait', 'VERB', 'pcomp'], ['little', 'ADJ', 'amod'], ['door', 'NOUN', 'pobj'], ['go', 'VERB', 'ccomp'], ['table', 'NOUN', 'pobj'], ['half', 'ADV', 'nsubj'], ['hope', 'VERB', 'advcl'], ['find', 'VERB', 'ccomp'], ['key', 'NOUN', 'dobj'], ['rate', 'NOUN', 'pobj'], ['book', 'NOUN', 'conj'], ['rule', 'NOUN', 'pobj'], ['shut', 'VERB', 'pcomp'], ['people', 'NOUN', 'dobj'], ['like', 'ADP', 'prep'], ['telescope', 'NOUN', 'pobj'], ['time', 'NOUN', 'npadvmod'], ['find', 'VERB', 'ccomp'], ['little', 'ADJ', 'amod'], ['bottle', 'NOUN', 'dobj'], ['certainly', 'ADV', 'advmod'], ['say', 'VERB', 'ROOT'], ['Alice', 'PROPN', 'nsubj'], ['round', 'VERB', 'csubj'], ['neck', 'NOUN', 'dobj'], ['bottle', 'NOUN', 'pobj'], ['paper', 'NOUN', 'compound'], ['label', 'NOUN', 'attr'], ['word', 'NOUN', 'poss'], ['DRINK', 'PROPN', 'compound'], ['beautifully', 'ADV', 'advmod'], ['print', 'VERB', 'advcl'], ['large', 'ADJ', 'amod'], ['letter', 'NOUN', 'pobj'], ['drink', 'VERB', 'xcomp'], ['wise', 'ADJ', 'amod'], ['little', 'ADJ', 'amod'], ['Alice', 'PROPN', 'nsubj'], ['go', 'VERB', 'conj'], ['hurry', 'NOUN', 'pobj'], ['look', 'VERB', 'ROOT'], ['say', 'VERB', 'parataxis'], ['mark', 'VERB', 'ccomp'], ['poison', 'NOUN', 'dobj'], ['read', 'VERB', 'conj'], ['nice', 'ADJ', 'amod'], ['little', 'ADJ', 'amod'], ['history', 'NOUN', 'dobj'], ['child', 'NOUN', 'pobj'], ['get', 'VERB', 'auxpass'], ['burn', 'VERB', 'relcl'], ['eat', 'VERB', 'conj'], ['wild', 'ADJ', 'amod'], ['beast', 'NOUN', 'pobj'], ['unpleasant', 'ADJ', 'amod'], ['thing', 'NOUN', 'conj'], ['remember', 'VERB', 'advcl'], ['simple', 'ADJ', 'amod'], ['rule', 'NOUN', 'dobj'], ['friend', 'NOUN', 'nsubj'], ['teach', 'VERB', 'relcl'], ['red', 'ADJ', 'amod'], ['hot', 'ADJ', 'amod'], ['poker', 'NOUN', 'nsubj'], ['burn', 'VERB', 'acl'], ['hold', 'VERB', 'advcl'], ['long', 'ADV', 'advmod'], ['cut', 'VERB', 'advcl'], ['finger', 'NOUN', 'dobj'], ['deeply', 'ADV', 'advmod'], ['knife', 'NOUN', 'pobj'], ['usually', 'ADV', 'advmod'], ['bleed', 'VERB', 'conj'], ['forget', 'VERB', 'conj'], ['drink', 'VERB', 'advcl'], ['bottle', 'NOUN', 'pobj'], ['mark', 'VERB', 'acl'], ['poison', 'NOUN', 'pobj'], ['certain', 'ADJ', 'acomp'], ['disagree', 'VERB', 'xcomp'], ['sooner', 'ADV', 'advmod'], ['later', 'ADV', 'conj'], ['bottle', 'NOUN', 'nsubjpass'], ['mark', 'VERB', 'ROOT'], ['poison', 'NOUN', 'oprd'], ['Alice', 'PROPN', 'nsubj'], ['venture', 'VERB', 'conj'], ['taste', 'VERB', 'xcomp'], ['find', 'VERB', 'conj'], ['nice', 'ADJ', 'advmod'], ['fact', 'NOUN', 'pobj'], ['sort', 'NOUN', 'dobj'], ['mixed', 'ADJ', 'amod'], ['flavour', 'NOUN', 'pobj'], ['cherry', 'NOUN', 'compound'], ['tart', 'NOUN', 'pobj'], ['custard', 'NOUN', 'conj'], ['pine', 'NOUN', 'compound'], ['apple', 'NOUN', 'conj'], ['roast', 'NOUN', 'compound'], ['turkey', 'NOUN', 'conj'], ['toffee', 'NOUN', 'conj'], ['hot', 'ADJ', 'advmod'], ['buttered', 'ADJ', 'amod'], ['toast', 'NOUN', 'conj'], ['soon', 'ADV', 'advmod'], ['finish', 'VERB', 'conj'], ['curious', 'ADJ', 'amod'], ['feeling', 'NOUN', 'nsubj'], ['say', 'VERB', 'ROOT'], ['Alice', 'PROPN', 'nsubj'], ['shut', 'VERB', 'ccomp'], ['like', 'ADP', 'prep'], ['telescope', 'NOUN', 'pobj'], ['inch', 'NOUN', 'npadvmod'], ['high', 'ADJ', 'acomp'], ['face', 'NOUN', 'nsubj'], ['brighten', 'VERB', 'conj'], ['thought', 'NOUN', 'pobj'], ['right', 'ADJ', 'amod'], ['size', 'NOUN', 'attr'], ['go', 'VERB', 'pcomp'], ['little', 'ADJ', 'amod'], ['door', 'NOUN', 'pobj'], ['lovely', 'ADJ', 'amod'], ['garden', 'NOUN', 'pobj'], ['wait', 'VERB', 'ROOT'], ['minute', 'NOUN', 'pobj'], ['go', 'VERB', 'ccomp'], ['shrink', 'VERB', 'xcomp'], ['feel', 'VERB', 'ccomp'], ['little', 'ADJ', 'amod'], ['nervous', 'ADJ', 'acomp'], ['end', 'VERB', 'advcl'], ['know', 'VERB', 'parataxis'], ['say', 'VERB', 'ROOT'], ['Alice', 'PROPN', 'nsubj'], ['go', 'VERB', 'pcomp'], ['altogether', 'ADV', 'advmod'], ['like', 'ADP', 'prep'], ['candle', 'NOUN', 'pobj'], ['wonder', 'VERB', 'ROOT'], ['like', 'INTJ', 'prep'], ['try', 'VERB', 'ROOT'], ['fancy', 'VERB', 'xcomp'], ['flame', 'NOUN', 'nsubj'], ['candle', 'NOUN', 'pobj'], ['like', 'ADP', 'prep'], ['candle', 'NOUN', 'nsubjpass'], ['blow', 'VERB', 'advcl'], ['remember', 'VERB', 'advcl'], ['have', 'VERB', 'aux'], ['see', 'VERB', 'xcomp'], ['thing', 'NOUN', 'dobj'], ['find', 'VERB', 'advcl'], ['happen', 'VERB', 'ccomp'], ['decide', 'VERB', 'ROOT'], ['go', 'VERB', 'pcomp'], ['garden', 'NOUN', 'pobj'], ['alas', 'INTJ', 'conj'], ['poor', 'ADJ', 'amod'], ['Alice', 'PROPN', 'pobj'], ['get', 'VERB', 'advcl'], ['door', 'NOUN', 'pobj'], ['find', 'VERB', 'ccomp'], ['forget', 'VERB', 'ccomp'], ['little', 'ADJ', 'amod'], ['golden', 'ADJ', 'amod'], ['key', 'NOUN', 'dobj'], ['go', 'VERB', 'advcl'], ['table', 'NOUN', 'pobj'], ['find', 'VERB', 'conj'], ['possibly', 'ADV', 'advmod'], ['reach', 'VERB', 'ccomp'], ['plainly', 'ADV', 'advmod'], ['glass', 'NOUN', 'pobj'], ['try', 'VERB', 'conj'], ['good', 'ADJ', 'dobj'], ['climb', 'VERB', 'xcomp'], ['leg', 'NOUN', 'pobj'], ['table', 'NOUN', 'pobj'], ['slippery', 'ADJ', 'acomp'], ['tire', 'VERB', 'advcl'], ['try', 'VERB', 'pcomp'], ['poor', 'ADJ', 'amod'], ['little', 'ADJ', 'amod'], ['thing', 'NOUN', 'nsubj'], ['sit', 'VERB', 'conj'], ['cry', 'VERB', 'conj'], ['come', 'VERB', 'advcl'], ['use', 'NOUN', 'attr'], ['cry', 'VERB', 'pcomp'], ['like', 'ADP', 'prep'], ['say', 'VERB', 'ROOT'], ['Alice', 'PROPN', 'nsubj'], ['sharply', 'ADV', 'advmod'], ['advise', 'VERB', 'ccomp'], ['leave', 'VERB', 'xcomp'], ['minute', 'NOUN', 'dobj'], ['generally', 'ADV', 'advmod'], ['give', 'VERB', 'ROOT'], ['good', 'ADJ', 'amod'], ['advice', 'NOUN', 'dobj'], ['seldom', 'ADV', 'advmod'], ['follow', 'VERB', 'advcl'], ['scold', 'VERB', 'conj'], ['severely', 'ADV', 'advmod'], ['bring', 'VERB', 'advcl'], ['tear', 'NOUN', 'dobj'], ['eye', 'NOUN', 'pobj'], ['remember', 'VERB', 'conj'], ['try', 'VERB', 'xcomp'], ['box', 'VERB', 'xcomp'], ['ear', 'NOUN', 'dobj'], ['have', 'VERB', 'aux'], ['cheat', 'VERB', 'pcomp'], ['game', 'NOUN', 'pobj'], ['croquet', 'NOUN', 'pobj'], ['play', 'VERB', 'relcl'], ['curious', 'ADJ', 'amod'], ['child', 'NOUN', 'nsubj'], ['fond', 'ADJ', 'acomp'], ['pretend', 'VERB', 'pcomp'], ['people', 'NOUN', 'attr'], ['use', 'NOUN', 'attr'], ['think', 'VERB', 'ccomp'], ['poor', 'ADJ', 'amod'], ['Alice', 'PROPN', 'oprd'], ['pretend', 'VERB', 'xcomp'], ['people', 'NOUN', 'attr'], ['hardly', 'ADV', 'advmod'], ['leave', 'VERB', 'acl'], ['respectable', 'ADJ', 'amod'], ['person', 'NOUN', 'dobj'], ['soon', 'ADV', 'advmod'], ['eye', 'NOUN', 'nsubj'], ['fall', 'VERB', 'ccomp'], ['little', 'ADJ', 'amod'], ['glass', 'NOUN', 'compound'], ['box', 'NOUN', 'pobj'], ['lie', 'VERB', 'relcl'], ['table', 'NOUN', 'pobj'], ['open', 'VERB', 'ROOT'], ['find', 'VERB', 'conj'], ['small', 'ADJ', 'amod'], ['cake', 'NOUN', 'dobj'], ['word', 'NOUN', 'nsubjpass'], ['EAT', 'PROPN', 'compound'], ['beautifully', 'ADV', 'advmod'], ['mark', 'VERB', 'relcl'], ['currant', 'NOUN', 'pobj'], ['eat', 'VERB', 'ccomp'], ['say', 'VERB', 'ROOT'], ['Alice', 'PROPN', 'nsubj'], ['make', 'VERB', 'advcl'], ['grow', 'VERB', 'ccomp'], ['large', 'ADJ', 'acomp'], ['reach', 'VERB', 'conj'], ['key', 'NOUN', 'dobj'], ['make', 'VERB', 'advcl'], ['grow', 'VERB', 'ccomp'], ['small', 'ADJ', 'acomp'], ['creep', 'VERB', 'conj'], ['door', 'NOUN', 'pobj'], ['way', 'NOUN', 'npadvmod'], ['garden', 'NOUN', 'pobj'], ['care', 'VERB', 'conj'], ['happen', 'VERB', 'ccomp'], ['eat', 'VERB', 'ROOT'], ['little', 'ADJ', 'amod'], ['bit', 'NOUN', 'npadvmod'], ['say', 'VERB', 'conj'], ['anxiously', 'ADV', 'advmod'], ['way', 'NOUN', 'ROOT'], ['way', 'NOUN', 'npadvmod'], ['hold', 'VERB', 'advcl'], ['hand', 'NOUN', 'dobj'], ['head', 'NOUN', 'pobj'], ['feel', 'VERB', 'advcl'], ['way', 'NOUN', 'npadvmod'], ['grow', 'VERB', 'ccomp'], ['surprised', 'ADJ', 'acomp'], ['find', 'VERB', 'xcomp'], ['remain', 'VERB', 'ccomp'], ['size', 'NOUN', 'attr'], ['sure', 'ADJ', 'acomp'], ['generally', 'ADV', 'advmod'], ['happen', 'VERB', 'ROOT'], ['eat', 'VERB', 'amod'], ['cake', 'NOUN', 'advcl'], ['Alice', 'PROPN', 'nsubj'], ['get', 'VERB', 'conj'], ['way', 'NOUN', 'pobj'], ['expect', 'VERB', 'pcomp'], ['way', 'NOUN', 'pobj'], ['thing', 'NOUN', 'conj'], ['happen', 'VERB', 'relcl'], ['dull', 'ADJ', 'oprd'], ['stupid', 'ADJ', 'conj'], ['life', 'NOUN', 'nsubj'], ['common', 'ADJ', 'amod'], ['way', 'NOUN', 'pobj'], ['set', 'VERB', 'ROOT'], ['work', 'NOUN', 'xcomp'], ['soon', 'ADV', 'advmod'], ['finish', 'VERB', 'conj'], ['cake', 'NOUN', 'pobj'], ['Curiouser', 'PROPN', 'ROOT'], ['curiouser', 'NOUN', 'conj'], ['cry', 'VERB', 'ROOT'], ['Alice', 'PROPN', 'dobj'], ['surprised', 'ADJ', 'acomp'], ['moment', 'NOUN', 'pobj'], ['forget', 'VERB', 'ccomp'], ['speak', 'VERB', 'xcomp'], ['good', 'ADJ', 'amod'], ['English', 'PROPN', 'dobj'], ['open', 'VERB', 'conj'], ['like', 'ADP', 'prep'], ['large', 'ADJ', 'amod'], ['telescope', 'NOUN', 'pobj'], ['good', 'ADJ', 'amod'], ['bye', 'INTJ', 'amod'], ['foot', 'NOUN', 'ROOT'], ['look', 'VERB', 'advcl'], ['foot', 'NOUN', 'pobj'], ['sight', 'NOUN', 'pobj'], ['get', 'VERB', 'ROOT'], ['far', 'ADV', 'advmod'], ['oh', 'INTJ', 'intj'], ['poor', 'ADJ', 'amod'], ['little', 'ADJ', 'amod'], ['foot', 'NOUN', 'npadvmod'], ['wonder', 'VERB', 'ROOT'], ['shoe', 'NOUN', 'dobj'], ['stocking', 'NOUN', 'conj'], ['dear', 'NOUN', 'npadvmod'], ['sure', 'ADJ', 'acomp'], ['shall', 'AUX', 'aux'], ['able', 'ADJ', 'acomp'], ['shall', 'VERB', 'aux'], ['great', 'ADJ', 'amod'], ['deal', 'NOUN', 'attr'], ['far', 'ADV', 'advmod'], ['trouble', 'VERB', 'advcl'], ['manage', 'VERB', 'ROOT'], ['good', 'ADJ', 'amod'], ['way', 'NOUN', 'dobj'], ['kind', 'ADJ', 'acomp'], ['think', 'VERB', 'dep'], ['Alice', 'PROPN', 'nsubj'], ['will', 'AUX', 'aux'], ['walk', 'VERB', 'conj'], ['way', 'NOUN', 'dobj'], ['want', 'VERB', 'relcl'], ['let', 'VERB', 'advcl'], ['new', 'ADJ', 'amod'], ['pair', 'NOUN', 'dobj'], ['boot', 'NOUN', 'pobj'], ['Christmas', 'PROPN', 'npadvmod'], ['go', 'VERB', 'ROOT'], ['planning', 'NOUN', 'pcomp'], ['manage', 'VERB', 'advcl'], ['carrier', 'NOUN', 'pobj'], ['think', 'VERB', 'ROOT'], ['funny', 'ADJ', 'acomp'], ['send', 'VERB', 'advcl'], ['present', 'NOUN', 'dobj'], ['foot', 'NOUN', 'pobj'], ['odd', 'ADJ', 'acomp'], ['direction', 'NOUN', 'nsubj'], ['look', 'VERB', 'ROOT'], ['ALICE', 'PROPN', 'poss'], ['right', 'ADJ', 'amod'], ['FOOT', 'PROPN', 'ROOT'], ['ESQ', 'PROPN', 'appos'], ['HEARTHRUG', 'PROPN', 'ROOT'], ['NEAR', 'PROPN', 'prep'], ['FENDER', 'NOUN', 'pobj'], ['ALICE', 'PROPN', 'poss'], ['LOVE', 'PROPN', 'pobj'], ['oh', 'INTJ', 'intj'], ['dear', 'ADJ', 'advmod'], ['nonsense', 'NOUN', 'dobj'], ['talk', 'VERB', 'ROOT'], ['head', 'NOUN', 'nsubj'], ['strike', 'VERB', 'ccomp'], ['roof', 'NOUN', 'pobj'], ['hall', 'NOUN', 'pobj'], ['fact', 'NOUN', 'pobj'], ['foot', 'NOUN', 'npadvmod'], ['high', 'ADJ', 'acomp'], ['take', 'VERB', 'conj'], ['little', 'ADJ', 'amod'], ['golden', 'ADJ', 'amod'], ['key', 'NOUN', 'dobj'], ['hurry', 'VERB', 'conj'], ['garden', 'NOUN', 'compound'], ['door', 'NOUN', 'pobj'], ['poor', 'ADJ', 'amod'], ['Alice', 'PROPN', 'ROOT'], ['lie', 'VERB', 'advcl'], ['look', 'VERB', 'advcl'], ['garden', 'NOUN', 'pobj'], ['eye', 'NOUN', 'pobj'], ['hopeless', 'ADJ', 'acomp'], ['sit', 'VERB', 'ROOT'], ['begin', 'VERB', 'conj'], ['cry', 'VERB', 'xcomp'], ['ought', 'VERB', 'ccomp'], ['ashamed', 'ADJ', 'acomp'], ['say', 'VERB', 'ROOT'], ['Alice', 'PROPN', 'nsubj'], ['great', 'ADJ', 'amod'], ['girl', 'NOUN', 'appos'], ['like', 'ADP', 'prep'], ['cry', 'VERB', 'advcl'], ['way', 'NOUN', 'pobj'], ['stop', 'VERB', 'advcl'], ['moment', 'NOUN', 'npadvmod'], ['tell', 'VERB', 'ROOT'], ['go', 'VERB', 'ROOT'], ['shed', 'VERB', 'advcl'], ['gallon', 'NOUN', 'dobj'], ['tear', 'NOUN', 'pobj'], ['large', 'ADJ', 'amod'], ['pool', 'NOUN', 'attr'], ['round', 'VERB', 'ROOT'], ['inch', 'NOUN', 'npadvmod'], ['deep', 'ADJ', 'advcl'], ['reach', 'VERB', 'conj'], ['half', 'NOUN', 'advmod'], ['hall', 'NOUN', 'pobj'], ['time', 'NOUN', 'pobj'], ['hear', 'VERB', 'ROOT'], ['little', 'ADJ', 'amod'], ['pattering', 'NOUN', 'dobj'], ['foot', 'NOUN', 'pobj'], ['distance', 'NOUN', 'pobj'], ['hastily', 'ADV', 'advmod'], ['dry', 'VERB', 'conj'], ['eye', 'NOUN', 'dobj'], ['come', 'VERB', 'ccomp'], ['White', 'PROPN', 'compound'], ['Rabbit', 'PROPN', 'attr'], ['return', 'VERB', 'xcomp'], ['splendidly', 'ADV', 'advmod'], ['dressed', 'ADJ', 'conj'], ['pair', 'NOUN', 'pobj'], ['white', 'ADJ', 'amod'], ['kid', 'NOUN', 'compound'], ['glove', 'NOUN', 'pobj'], ['hand', 'NOUN', 'pobj'], ['large', 'ADJ', 'amod'], ['fan', 'NOUN', 'conj'], ['come', 'VERB', 'ROOT'], ['trot', 'VERB', 'advcl'], ['great', 'ADJ', 'amod'], ['hurry', 'NOUN', 'pobj'], ['mutter', 'VERB', 'advcl'], ['come', 'VERB', 'advcl'], ['oh', 'INTJ', 'intj'], ['Duchess', 'PROPN', 'ROOT'], ['Duchess', 'PROPN', 'appos'], ['oh', 'INTJ', 'intj'], ['will', 'AUX', 'aux'], ['savage', 'NOUN', 'acomp'], ['keep', 'VERB', 'advcl'], ['wait', 'VERB', 'xcomp'], ['Alice', 'PROPN', 'nsubj'], ['feel', 'VERB', 'ROOT'], ['desperate', 'ADJ', 'acomp'], ['ready', 'ADJ', 'acomp'], ['ask', 'VERB', 'xcomp'], ['help', 'NOUN', 'dobj'], ['Rabbit', 'PROPN', 'nsubj'], ['come', 'VERB', 'advcl'], ['near', 'ADP', 'prep'], ['begin', 'VERB', 'conj'], ['low', 'ADJ', 'amod'], ['timid', 'ADJ', 'amod'], ['voice', 'NOUN', 'pobj'], ['sir', 'NOUN', 'dobj'], ['Rabbit', 'PROPN', 'nsubj'], ['start', 'VERB', 'advcl'], ['violently', 'ADV', 'advmod'], ['drop', 'VERB', 'xcomp'], ['white', 'ADJ', 'amod'], ['kid', 'NOUN', 'compound'], ['glove', 'NOUN', 'dobj'], ['fan', 'NOUN', 'conj'], ['skurrie', 'VERB', 'conj'], ['away', 'ADV', 'advmod'], ['darkness', 'NOUN', 'pobj'], ['hard', 'ADV', 'advmod'], ['Alice', 'PROPN', 'nsubj'], ['take', 'VERB', 'ccomp'], ['fan', 'NOUN', 'dobj'], ['glove', 'NOUN', 'conj'], ['hall', 'NOUN', 'nsubj'], ['hot', 'ADJ', 'acomp'], ['keep', 'VERB', 'ROOT'], ['fan', 'VERB', 'xcomp'], ['time', 'NOUN', 'npadvmod'], ['go', 'VERB', 'relcl'], ['talk', 'VERB', 'advcl'], ['dear', 'ADJ', 'advmod'], ['dear', 'ADJ', 'ROOT'], ['queer', 'ADJ', 'acomp'], ['day', 'NOUN', 'xcomp'], ['yesterday', 'NOUN', 'npadvmod'], ['thing', 'NOUN', 'nsubj'], ['go', 'VERB', 'ROOT'], ['usual', 'ADJ', 'advcl'], ['wonder', 'VERB', 'ROOT'], ['change', 'VERB', 'ccomp'], ['night', 'NOUN', 'pobj'], ['let', 'VERB', 'ROOT'], ['think', 'VERB', 'ccomp'], ['get', 'VERB', 'relcl'], ['morning', 'NOUN', 'npadvmod'], ['think', 'VERB', 'ROOT'], ['remember', 'VERB', 'ccomp'], ['feel', 'VERB', 'xcomp'], ['little', 'ADJ', 'amod'], ['different', 'ADJ', 'acomp'], ['question', 'NOUN', 'nsubj'], ['world', 'NOUN', 'pobj'], ['ah', 'INTJ', 'ROOT']]\n"
     ]
    },
    {
     "ename": "TypeError",
     "evalue": "unhashable type: 'list'",
     "output_type": "error",
     "traceback": [
      "\u001b[0;31m---------------------------------------------------------------------------\u001b[0m",
      "\u001b[0;31mTypeError\u001b[0m                                 Traceback (most recent call last)",
      "\u001b[0;32m<ipython-input-17-d238794e04fe>\u001b[0m in \u001b[0;36m<module>\u001b[0;34m\u001b[0m\n\u001b[1;32m     13\u001b[0m     \u001b[0;32mreturn\u001b[0m \u001b[0;34m[\u001b[0m\u001b[0mitem\u001b[0m\u001b[0;34m[\u001b[0m\u001b[0;36m0\u001b[0m\u001b[0;34m]\u001b[0m \u001b[0;32mfor\u001b[0m \u001b[0mitem\u001b[0m \u001b[0;32min\u001b[0m \u001b[0mCounter\u001b[0m\u001b[0;34m(\u001b[0m\u001b[0mallwords\u001b[0m\u001b[0;34m)\u001b[0m\u001b[0;34m.\u001b[0m\u001b[0mmost_common\u001b[0m\u001b[0;34m(\u001b[0m\u001b[0;36m2000\u001b[0m\u001b[0;34m)\u001b[0m\u001b[0;34m]\u001b[0m\u001b[0;34m\u001b[0m\u001b[0;34m\u001b[0m\u001b[0m\n\u001b[1;32m     14\u001b[0m \u001b[0;34m\u001b[0m\u001b[0m\n\u001b[0;32m---> 15\u001b[0;31m \u001b[0malicewords_mod\u001b[0m \u001b[0;34m=\u001b[0m \u001b[0mbag_of_words_mod\u001b[0m\u001b[0;34m(\u001b[0m\u001b[0malice_doc\u001b[0m\u001b[0;34m)\u001b[0m\u001b[0;34m\u001b[0m\u001b[0;34m\u001b[0m\u001b[0m\n\u001b[0m",
      "\u001b[0;32m<ipython-input-17-d238794e04fe>\u001b[0m in \u001b[0;36mbag_of_words_mod\u001b[0;34m(text)\u001b[0m\n\u001b[1;32m     11\u001b[0m     \u001b[0mprint\u001b[0m\u001b[0;34m(\u001b[0m\u001b[0mallwords\u001b[0m\u001b[0;34m)\u001b[0m\u001b[0;34m\u001b[0m\u001b[0;34m\u001b[0m\u001b[0m\n\u001b[1;32m     12\u001b[0m     \u001b[0;31m# Return the most common words.\u001b[0m\u001b[0;34m\u001b[0m\u001b[0;34m\u001b[0m\u001b[0;34m\u001b[0m\u001b[0m\n\u001b[0;32m---> 13\u001b[0;31m     \u001b[0;32mreturn\u001b[0m \u001b[0;34m[\u001b[0m\u001b[0mitem\u001b[0m\u001b[0;34m[\u001b[0m\u001b[0;36m0\u001b[0m\u001b[0;34m]\u001b[0m \u001b[0;32mfor\u001b[0m \u001b[0mitem\u001b[0m \u001b[0;32min\u001b[0m \u001b[0mCounter\u001b[0m\u001b[0;34m(\u001b[0m\u001b[0mallwords\u001b[0m\u001b[0;34m)\u001b[0m\u001b[0;34m.\u001b[0m\u001b[0mmost_common\u001b[0m\u001b[0;34m(\u001b[0m\u001b[0;36m2000\u001b[0m\u001b[0;34m)\u001b[0m\u001b[0;34m]\u001b[0m\u001b[0;34m\u001b[0m\u001b[0;34m\u001b[0m\u001b[0m\n\u001b[0m\u001b[1;32m     14\u001b[0m \u001b[0;34m\u001b[0m\u001b[0m\n\u001b[1;32m     15\u001b[0m \u001b[0malicewords_mod\u001b[0m \u001b[0;34m=\u001b[0m \u001b[0mbag_of_words_mod\u001b[0m\u001b[0;34m(\u001b[0m\u001b[0malice_doc\u001b[0m\u001b[0;34m)\u001b[0m\u001b[0;34m\u001b[0m\u001b[0;34m\u001b[0m\u001b[0m\n",
      "\u001b[0;32m/anaconda3/lib/python3.7/collections/__init__.py\u001b[0m in \u001b[0;36m__init__\u001b[0;34m(*args, **kwds)\u001b[0m\n\u001b[1;32m    564\u001b[0m             \u001b[0;32mraise\u001b[0m \u001b[0mTypeError\u001b[0m\u001b[0;34m(\u001b[0m\u001b[0;34m'expected at most 1 arguments, got %d'\u001b[0m \u001b[0;34m%\u001b[0m \u001b[0mlen\u001b[0m\u001b[0;34m(\u001b[0m\u001b[0margs\u001b[0m\u001b[0;34m)\u001b[0m\u001b[0;34m)\u001b[0m\u001b[0;34m\u001b[0m\u001b[0;34m\u001b[0m\u001b[0m\n\u001b[1;32m    565\u001b[0m         \u001b[0msuper\u001b[0m\u001b[0;34m(\u001b[0m\u001b[0mCounter\u001b[0m\u001b[0;34m,\u001b[0m \u001b[0mself\u001b[0m\u001b[0;34m)\u001b[0m\u001b[0;34m.\u001b[0m\u001b[0m__init__\u001b[0m\u001b[0;34m(\u001b[0m\u001b[0;34m)\u001b[0m\u001b[0;34m\u001b[0m\u001b[0;34m\u001b[0m\u001b[0m\n\u001b[0;32m--> 566\u001b[0;31m         \u001b[0mself\u001b[0m\u001b[0;34m.\u001b[0m\u001b[0mupdate\u001b[0m\u001b[0;34m(\u001b[0m\u001b[0;34m*\u001b[0m\u001b[0margs\u001b[0m\u001b[0;34m,\u001b[0m \u001b[0;34m**\u001b[0m\u001b[0mkwds\u001b[0m\u001b[0;34m)\u001b[0m\u001b[0;34m\u001b[0m\u001b[0;34m\u001b[0m\u001b[0m\n\u001b[0m\u001b[1;32m    567\u001b[0m \u001b[0;34m\u001b[0m\u001b[0m\n\u001b[1;32m    568\u001b[0m     \u001b[0;32mdef\u001b[0m \u001b[0m__missing__\u001b[0m\u001b[0;34m(\u001b[0m\u001b[0mself\u001b[0m\u001b[0;34m,\u001b[0m \u001b[0mkey\u001b[0m\u001b[0;34m)\u001b[0m\u001b[0;34m:\u001b[0m\u001b[0;34m\u001b[0m\u001b[0;34m\u001b[0m\u001b[0m\n",
      "\u001b[0;32m/anaconda3/lib/python3.7/collections/__init__.py\u001b[0m in \u001b[0;36mupdate\u001b[0;34m(*args, **kwds)\u001b[0m\n\u001b[1;32m    651\u001b[0m                     \u001b[0msuper\u001b[0m\u001b[0;34m(\u001b[0m\u001b[0mCounter\u001b[0m\u001b[0;34m,\u001b[0m \u001b[0mself\u001b[0m\u001b[0;34m)\u001b[0m\u001b[0;34m.\u001b[0m\u001b[0mupdate\u001b[0m\u001b[0;34m(\u001b[0m\u001b[0miterable\u001b[0m\u001b[0;34m)\u001b[0m \u001b[0;31m# fast path when counter is empty\u001b[0m\u001b[0;34m\u001b[0m\u001b[0;34m\u001b[0m\u001b[0m\n\u001b[1;32m    652\u001b[0m             \u001b[0;32melse\u001b[0m\u001b[0;34m:\u001b[0m\u001b[0;34m\u001b[0m\u001b[0;34m\u001b[0m\u001b[0m\n\u001b[0;32m--> 653\u001b[0;31m                 \u001b[0m_count_elements\u001b[0m\u001b[0;34m(\u001b[0m\u001b[0mself\u001b[0m\u001b[0;34m,\u001b[0m \u001b[0miterable\u001b[0m\u001b[0;34m)\u001b[0m\u001b[0;34m\u001b[0m\u001b[0;34m\u001b[0m\u001b[0m\n\u001b[0m\u001b[1;32m    654\u001b[0m         \u001b[0;32mif\u001b[0m \u001b[0mkwds\u001b[0m\u001b[0;34m:\u001b[0m\u001b[0;34m\u001b[0m\u001b[0;34m\u001b[0m\u001b[0m\n\u001b[1;32m    655\u001b[0m             \u001b[0mself\u001b[0m\u001b[0;34m.\u001b[0m\u001b[0mupdate\u001b[0m\u001b[0;34m(\u001b[0m\u001b[0mkwds\u001b[0m\u001b[0;34m)\u001b[0m\u001b[0;34m\u001b[0m\u001b[0;34m\u001b[0m\u001b[0m\n",
      "\u001b[0;31mTypeError\u001b[0m: unhashable type: 'list'"
     ]
    }
   ],
   "source": [
    "# Add more token level features\n",
    "# Let's modify the bow function to include part of speech and dependency\n",
    "def bag_of_words_mod(text):\n",
    "    \n",
    "    # Filter out punctuation and stop words.\n",
    "    allwords = [[token.lemma_, token.pos_, token.dep_]\n",
    "                for token in text\n",
    "                if not token.is_punct\n",
    "                and not token.is_stop]\n",
    "    \n",
    "    print(allwords)\n",
    "    # Return the most common words.\n",
    "    return [item[0] for item in Counter(allwords).most_common(2000)]\n",
    "   \n",
    "alicewords_mod = bag_of_words_mod(alice_doc)"
   ]
  },
  {
   "cell_type": "markdown",
   "metadata": {},
   "source": [
    "\n",
    "# Challenge 1:\n",
    "Find out whether your new model is good at identifying Alice in Wonderland vs any other work, Persuasion vs any other work, or Austen vs any other work.  This will involve pulling a new book from the Project Gutenberg corpus (print(gutenberg.fileids()) for a list) and processing it.\n",
    "\n",
    "Record your work for each challenge in a notebook and submit it below."
   ]
  },
  {
   "cell_type": "code",
   "execution_count": null,
   "metadata": {},
   "outputs": [],
   "source": []
  }
 ],
 "metadata": {
  "hide_input": false,
  "kernelspec": {
   "display_name": "Python 3",
   "language": "python",
   "name": "python3"
  },
  "language_info": {
   "codemirror_mode": {
    "name": "ipython",
    "version": 3
   },
   "file_extension": ".py",
   "mimetype": "text/x-python",
   "name": "python",
   "nbconvert_exporter": "python",
   "pygments_lexer": "ipython3",
   "version": "3.7.1"
  },
  "latex_envs": {
   "LaTeX_envs_menu_present": true,
   "autoclose": false,
   "autocomplete": true,
   "bibliofile": "biblio.bib",
   "cite_by": "apalike",
   "current_citInitial": 1,
   "eqLabelWithNumbers": true,
   "eqNumInitial": 1,
   "hotkeys": {
    "equation": "Ctrl-E",
    "itemize": "Ctrl-I"
   },
   "labels_anchors": false,
   "latex_user_defs": false,
   "report_style_numbering": false,
   "user_envs_cfg": false
  },
  "toc": {
   "colors": {
    "hover_highlight": "#DAA520",
    "running_highlight": "#FF0000",
    "selected_highlight": "#FFD700"
   },
   "moveMenuLeft": true,
   "nav_menu": {
    "height": "49px",
    "width": "252px"
   },
   "navigate_menu": true,
   "number_sections": true,
   "sideBar": true,
   "threshold": 4,
   "toc_cell": false,
   "toc_section_display": "block",
   "toc_window_display": false
  },
  "varInspector": {
   "cols": {
    "lenName": 16,
    "lenType": 16,
    "lenVar": 40
   },
   "kernels_config": {
    "python": {
     "delete_cmd_postfix": "",
     "delete_cmd_prefix": "del ",
     "library": "var_list.py",
     "varRefreshCmd": "print(var_dic_list())"
    },
    "r": {
     "delete_cmd_postfix": ") ",
     "delete_cmd_prefix": "rm(",
     "library": "var_list.r",
     "varRefreshCmd": "cat(var_dic_list()) "
    }
   },
   "types_to_exclude": [
    "module",
    "function",
    "builtin_function_or_method",
    "instance",
    "_Feature"
   ],
   "window_display": false
  }
 },
 "nbformat": 4,
 "nbformat_minor": 2
}
