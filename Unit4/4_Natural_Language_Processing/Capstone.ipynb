{
 "cells": [
  {
   "cell_type": "code",
   "execution_count": 5,
   "metadata": {
    "scrolled": true
   },
   "outputs": [
    {
     "name": "stdout",
     "output_type": "stream",
     "text": [
      "0    [8, year, life, Galileo, house, arrest, espous...\n",
      "1    [2, 1912, olympian, football, star, Carlisle, ...\n",
      "2    [city, Yuma, state, record, average, 4,055, ho...\n",
      "3    [1963, live, Art, Linkletter, company, serve, ...\n",
      "4    [signer, December, Indep, framer, Constitution...\n",
      "5    [title, Aesop, fable, insect, share, billing, ...\n",
      "6    [build, 312, B.C., link, Rome, South, Italy, u...\n",
      "7    [8, 30, steal, Birmingham, Barons, 2,306, stea...\n",
      "8    [winter, 1971, 72, record, 1,122, inch, snow, ...\n",
      "9    [houseware, store, name, packaging, merchandis...\n",
      "dtype: object\n",
      "1684334\n",
      "['city', 'play', 'name', 'country', 'man', 'call', '2', 'know', 'see', 'like', 'type', 'film', 'say', 'state', 'U.S.', 'year', 'title', 'write', 'word', 'mean', 'win', 'come', 'include', 'large', 'bear', 'novel', 'find', 'term', 'New', 'time', 'star', 'work', '3', 'capital', 'president', '1', 'book', 'get', 'woman', 'go', 'old', 'take', 'famous', 'hit', 'song', 'day', 'world', 'John', 'give', 'home', 'begin', 'group', 'character', 'island', 'long', 'author', 'american', 'good', 'company', 'tell', 'people', 'century', 'end', 'tv', 'high', 'lead', 'movie', 'form', 'line', 'french', 'game', 'die', 'love', 'life', 'feature', '4', 'base', 'live', 'use', 'great', 'small', 'king', 'big', 'help', 'place', 'set', 'run', 'british', 'found', 'new', 'serve', 'water', 'hold', 'family', 'head', 'leave', 'body', 'number', 'war', 'animal']\n",
      "True\n",
      "done\n",
      "0  done\n",
      "25000  done\n",
      "50000  done\n",
      "75000  done\n",
      "100000  done\n",
      "125000  done\n",
      "150000  done\n",
      "175000  done\n",
      "200000  done\n",
      "[\"For the last 8 years of his life, Galileo was under house arrest for espousing this man's theory\", 'No. 2: 1912 Olympian; football star at Carlisle Indian School; 6 MLB seasons with the Reds, Giants & Braves']\n",
      "Number of features: 27804\n",
      "151851\n",
      "Original sentence: A key element in local gov't is this type of meeting held annually on the first Tuesday in March\n",
      "Tf_idf vector: {'tuesday': 0.38064595263156303, 'annually': 0.3814241629024681, 'gov': 0.34760129702960896, 'meeting': 0.32618596809385936, 'local': 0.33576236297388967, 'held': 0.2726629347271754, 'march': 0.266798302350671, 'key': 0.3230567987505673, 'element': 0.2836734589934539, 'type': 0.19824534840456}\n",
      "(151851, 2000) (65079, 2000) (151851,) (65079,)\n"
     ]
    },
    {
     "name": "stderr",
     "output_type": "stream",
     "text": [
      "/anaconda3/lib/python3.7/site-packages/sklearn/ensemble/forest.py:245: FutureWarning: The default value of n_estimators will change from 10 in version 0.20 to 100 in 0.22.\n",
      "  \"10 in version 0.20 to 100 in 0.22.\", FutureWarning)\n"
     ]
    },
    {
     "name": "stdout",
     "output_type": "stream",
     "text": [
      "[0.5250889  0.52258659 0.52848205 0.52617715 0.52156734 0.52051366\n",
      " 0.52420151 0.5217649  0.52064537 0.52522392]\n",
      "0.9442611507332846\n",
      "0.5230719586963537\n"
     ]
    },
    {
     "name": "stderr",
     "output_type": "stream",
     "text": [
      "/anaconda3/lib/python3.7/site-packages/sklearn/linear_model/logistic.py:469: FutureWarning: Default multi_class will be changed to 'auto' in 0.22. Specify the multi_class option to silence this warning.\n",
      "  \"this warning.\", FutureWarning)\n",
      "/anaconda3/lib/python3.7/site-packages/sklearn/linear_model/logistic.py:469: FutureWarning: Default multi_class will be changed to 'auto' in 0.22. Specify the multi_class option to silence this warning.\n",
      "  \"this warning.\", FutureWarning)\n",
      "/anaconda3/lib/python3.7/site-packages/sklearn/linear_model/logistic.py:469: FutureWarning: Default multi_class will be changed to 'auto' in 0.22. Specify the multi_class option to silence this warning.\n",
      "  \"this warning.\", FutureWarning)\n",
      "/anaconda3/lib/python3.7/site-packages/sklearn/linear_model/logistic.py:469: FutureWarning: Default multi_class will be changed to 'auto' in 0.22. Specify the multi_class option to silence this warning.\n",
      "  \"this warning.\", FutureWarning)\n",
      "/anaconda3/lib/python3.7/site-packages/sklearn/linear_model/logistic.py:469: FutureWarning: Default multi_class will be changed to 'auto' in 0.22. Specify the multi_class option to silence this warning.\n",
      "  \"this warning.\", FutureWarning)\n",
      "/anaconda3/lib/python3.7/site-packages/sklearn/linear_model/logistic.py:469: FutureWarning: Default multi_class will be changed to 'auto' in 0.22. Specify the multi_class option to silence this warning.\n",
      "  \"this warning.\", FutureWarning)\n",
      "/anaconda3/lib/python3.7/site-packages/sklearn/linear_model/logistic.py:469: FutureWarning: Default multi_class will be changed to 'auto' in 0.22. Specify the multi_class option to silence this warning.\n",
      "  \"this warning.\", FutureWarning)\n",
      "/anaconda3/lib/python3.7/site-packages/sklearn/linear_model/logistic.py:469: FutureWarning: Default multi_class will be changed to 'auto' in 0.22. Specify the multi_class option to silence this warning.\n",
      "  \"this warning.\", FutureWarning)\n",
      "/anaconda3/lib/python3.7/site-packages/sklearn/linear_model/logistic.py:469: FutureWarning: Default multi_class will be changed to 'auto' in 0.22. Specify the multi_class option to silence this warning.\n",
      "  \"this warning.\", FutureWarning)\n",
      "/anaconda3/lib/python3.7/site-packages/sklearn/linear_model/logistic.py:469: FutureWarning: Default multi_class will be changed to 'auto' in 0.22. Specify the multi_class option to silence this warning.\n",
      "  \"this warning.\", FutureWarning)\n",
      "/anaconda3/lib/python3.7/site-packages/sklearn/linear_model/logistic.py:469: FutureWarning: Default multi_class will be changed to 'auto' in 0.22. Specify the multi_class option to silence this warning.\n",
      "  \"this warning.\", FutureWarning)\n"
     ]
    },
    {
     "name": "stdout",
     "output_type": "stream",
     "text": [
      "[0.54458053 0.54925589 0.55146526 0.55370431 0.54902865 0.55284821\n",
      " 0.55100428 0.55607507 0.54033586 0.54985511]\n",
      "Train score:  0.5763149403033236\n",
      "Test score:  0.5503618678836492\n",
      "[0.54892664 0.5508363  0.55278235 0.54863352 0.54626276 0.54784327\n",
      " 0.55745802 0.54527494 0.54395785 0.55031612]\n",
      "Train score:  0.5689195329632337\n",
      "Test score:  0.550576991041657\n"
     ]
    }
   ],
   "source": [
    "%matplotlib inline\n",
    "import numpy as np\n",
    "import pandas as pd\n",
    "import scipy\n",
    "import sklearn\n",
    "import spacy\n",
    "import matplotlib.pyplot as plt\n",
    "import seaborn as sns\n",
    "import re\n",
    "from collections import Counter\n",
    "from nltk.corpus import gutenberg, stopwords\n",
    "%run Challenge.ipynb"
   ]
  },
  {
   "cell_type": "markdown",
   "metadata": {},
   "source": [
    "# Jeopardy! Categories!"
   ]
  },
  {
   "cell_type": "markdown",
   "metadata": {},
   "source": [
    "In the challenge exercise, I attempted to predict in which Jeopardy round a question might appear. It wasn't an overwhelming success as I was only able to get about 55% success rate in predictions. For this project, I am going to use clustering to see how 17,000+ categories can be further grouped. I want to see if adding the category as a feature will improve the accuracy of my model."
   ]
  },
  {
   "cell_type": "code",
   "execution_count": 6,
   "metadata": {},
   "outputs": [
    {
     "data": {
      "text/html": [
       "<div>\n",
       "<style scoped>\n",
       "    .dataframe tbody tr th:only-of-type {\n",
       "        vertical-align: middle;\n",
       "    }\n",
       "\n",
       "    .dataframe tbody tr th {\n",
       "        vertical-align: top;\n",
       "    }\n",
       "\n",
       "    .dataframe thead th {\n",
       "        text-align: right;\n",
       "    }\n",
       "</style>\n",
       "<table border=\"1\" class=\"dataframe\">\n",
       "  <thead>\n",
       "    <tr style=\"text-align: right;\">\n",
       "      <th></th>\n",
       "      <th>Round</th>\n",
       "      <th>Category</th>\n",
       "      <th>Value</th>\n",
       "      <th>Question</th>\n",
       "      <th>cleaned</th>\n",
       "      <th>spacy</th>\n",
       "    </tr>\n",
       "  </thead>\n",
       "  <tbody>\n",
       "    <tr>\n",
       "      <th>0</th>\n",
       "      <td>Jeopardy!</td>\n",
       "      <td>HISTORY</td>\n",
       "      <td>$200</td>\n",
       "      <td>For the last 8 years of his life, Galileo was ...</td>\n",
       "      <td>For the last 8 years of his life, Galileo was ...</td>\n",
       "      <td>(For, the, last, 8, years, of, his, life, ,, G...</td>\n",
       "    </tr>\n",
       "    <tr>\n",
       "      <th>1</th>\n",
       "      <td>Jeopardy!</td>\n",
       "      <td>ESPN's TOP 10 ALL-TIME ATHLETES</td>\n",
       "      <td>$200</td>\n",
       "      <td>No. 2: 1912 Olympian; football star at Carlisl...</td>\n",
       "      <td>No. 2: 1912 Olympian; football star at Carlisl...</td>\n",
       "      <td>(No, ., 2, :, 1912, Olympian, ;, football, sta...</td>\n",
       "    </tr>\n",
       "    <tr>\n",
       "      <th>2</th>\n",
       "      <td>Jeopardy!</td>\n",
       "      <td>EVERYBODY TALKS ABOUT IT...</td>\n",
       "      <td>$200</td>\n",
       "      <td>The city of Yuma in this state has a record av...</td>\n",
       "      <td>The city of Yuma in this state has a record av...</td>\n",
       "      <td>(The, city, of, Yuma, in, this, state, has, a,...</td>\n",
       "    </tr>\n",
       "    <tr>\n",
       "      <th>3</th>\n",
       "      <td>Jeopardy!</td>\n",
       "      <td>THE COMPANY LINE</td>\n",
       "      <td>$200</td>\n",
       "      <td>In 1963, live on \"The Art Linkletter Show\", th...</td>\n",
       "      <td>In 1963, live on \"The Art Linkletter Show\", th...</td>\n",
       "      <td>(In, 1963, ,, live, on, \", The, Art, Linklette...</td>\n",
       "    </tr>\n",
       "    <tr>\n",
       "      <th>4</th>\n",
       "      <td>Jeopardy!</td>\n",
       "      <td>EPITAPHS &amp; TRIBUTES</td>\n",
       "      <td>$200</td>\n",
       "      <td>Signer of the Dec. of Indep., framer of the Co...</td>\n",
       "      <td>Signer of the Dec. of Indep., framer of the Co...</td>\n",
       "      <td>(Signer, of, the, Dec., of, Indep, ., ,, frame...</td>\n",
       "    </tr>\n",
       "  </tbody>\n",
       "</table>\n",
       "</div>"
      ],
      "text/plain": [
       "       Round                         Category  Value  \\\n",
       "0  Jeopardy!                          HISTORY   $200   \n",
       "1  Jeopardy!  ESPN's TOP 10 ALL-TIME ATHLETES   $200   \n",
       "2  Jeopardy!      EVERYBODY TALKS ABOUT IT...   $200   \n",
       "3  Jeopardy!                 THE COMPANY LINE   $200   \n",
       "4  Jeopardy!              EPITAPHS & TRIBUTES   $200   \n",
       "\n",
       "                                            Question  \\\n",
       "0  For the last 8 years of his life, Galileo was ...   \n",
       "1  No. 2: 1912 Olympian; football star at Carlisl...   \n",
       "2  The city of Yuma in this state has a record av...   \n",
       "3  In 1963, live on \"The Art Linkletter Show\", th...   \n",
       "4  Signer of the Dec. of Indep., framer of the Co...   \n",
       "\n",
       "                                             cleaned  \\\n",
       "0  For the last 8 years of his life, Galileo was ...   \n",
       "1  No. 2: 1912 Olympian; football star at Carlisl...   \n",
       "2  The city of Yuma in this state has a record av...   \n",
       "3  In 1963, live on \"The Art Linkletter Show\", th...   \n",
       "4  Signer of the Dec. of Indep., framer of the Co...   \n",
       "\n",
       "                                               spacy  \n",
       "0  (For, the, last, 8, years, of, his, life, ,, G...  \n",
       "1  (No, ., 2, :, 1912, Olympian, ;, football, sta...  \n",
       "2  (The, city, of, Yuma, in, this, state, has, a,...  \n",
       "3  (In, 1963, ,, live, on, \", The, Art, Linklette...  \n",
       "4  (Signer, of, the, Dec., of, Indep, ., ,, frame...  "
      ]
     },
     "execution_count": 6,
     "metadata": {},
     "output_type": "execute_result"
    }
   ],
   "source": [
    "# first let's take a closer look at the categories\n",
    "filtered_df.head()"
   ]
  },
  {
   "cell_type": "code",
   "execution_count": null,
   "metadata": {},
   "outputs": [],
   "source": [
    "filtered_df"
   ]
  }
 ],
 "metadata": {
  "kernelspec": {
   "display_name": "Python 3",
   "language": "python",
   "name": "python3"
  },
  "language_info": {
   "codemirror_mode": {
    "name": "ipython",
    "version": 3
   },
   "file_extension": ".py",
   "mimetype": "text/x-python",
   "name": "python",
   "nbconvert_exporter": "python",
   "pygments_lexer": "ipython3",
   "version": "3.7.3"
  }
 },
 "nbformat": 4,
 "nbformat_minor": 2
}
