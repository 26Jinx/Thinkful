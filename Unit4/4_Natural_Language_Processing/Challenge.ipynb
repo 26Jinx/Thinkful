{
 "cells": [
  {
   "cell_type": "code",
   "execution_count": 67,
   "metadata": {},
   "outputs": [],
   "source": [
    "%matplotlib inline\n",
    "import numpy as np\n",
    "import pandas as pd\n",
    "import scipy\n",
    "import sklearn\n",
    "import spacy\n",
    "import matplotlib.pyplot as plt\n",
    "import seaborn as sns\n",
    "import re\n",
    "from collections import Counter\n",
    "from nltk.corpus import gutenberg, stopwords"
   ]
  },
  {
   "cell_type": "markdown",
   "metadata": {},
   "source": [
    "# Jeopardy!"
   ]
  },
  {
   "cell_type": "markdown",
   "metadata": {},
   "source": [
    "I want to take this dataset of questions, or answers in this case since answers are the questions and see if my model can correctly predict the correct round in which the questions(answer) might appear."
   ]
  },
  {
   "cell_type": "markdown",
   "metadata": {},
   "source": [
    "### Explore Data"
   ]
  },
  {
   "cell_type": "code",
   "execution_count": 4,
   "metadata": {},
   "outputs": [],
   "source": [
    "jeopardy_raw = pd.read_csv('../../../Data/JEOPARDY.csv')"
   ]
  },
  {
   "cell_type": "code",
   "execution_count": 5,
   "metadata": {},
   "outputs": [],
   "source": [
    "jeopardy_df = pd.DataFrame(jeopardy_raw)"
   ]
  },
  {
   "cell_type": "code",
   "execution_count": 6,
   "metadata": {},
   "outputs": [
    {
     "data": {
      "text/html": [
       "<div>\n",
       "<style scoped>\n",
       "    .dataframe tbody tr th:only-of-type {\n",
       "        vertical-align: middle;\n",
       "    }\n",
       "\n",
       "    .dataframe tbody tr th {\n",
       "        vertical-align: top;\n",
       "    }\n",
       "\n",
       "    .dataframe thead th {\n",
       "        text-align: right;\n",
       "    }\n",
       "</style>\n",
       "<table border=\"1\" class=\"dataframe\">\n",
       "  <thead>\n",
       "    <tr style=\"text-align: right;\">\n",
       "      <th></th>\n",
       "      <th>Show Number</th>\n",
       "      <th>Air Date</th>\n",
       "      <th>Round</th>\n",
       "      <th>Category</th>\n",
       "      <th>Value</th>\n",
       "      <th>Question</th>\n",
       "      <th>Answer</th>\n",
       "    </tr>\n",
       "  </thead>\n",
       "  <tbody>\n",
       "    <tr>\n",
       "      <th>0</th>\n",
       "      <td>4680</td>\n",
       "      <td>2004-12-31</td>\n",
       "      <td>Jeopardy!</td>\n",
       "      <td>HISTORY</td>\n",
       "      <td>$200</td>\n",
       "      <td>For the last 8 years of his life, Galileo was ...</td>\n",
       "      <td>Copernicus</td>\n",
       "    </tr>\n",
       "    <tr>\n",
       "      <th>1</th>\n",
       "      <td>4680</td>\n",
       "      <td>2004-12-31</td>\n",
       "      <td>Jeopardy!</td>\n",
       "      <td>ESPN's TOP 10 ALL-TIME ATHLETES</td>\n",
       "      <td>$200</td>\n",
       "      <td>No. 2: 1912 Olympian; football star at Carlisl...</td>\n",
       "      <td>Jim Thorpe</td>\n",
       "    </tr>\n",
       "    <tr>\n",
       "      <th>2</th>\n",
       "      <td>4680</td>\n",
       "      <td>2004-12-31</td>\n",
       "      <td>Jeopardy!</td>\n",
       "      <td>EVERYBODY TALKS ABOUT IT...</td>\n",
       "      <td>$200</td>\n",
       "      <td>The city of Yuma in this state has a record av...</td>\n",
       "      <td>Arizona</td>\n",
       "    </tr>\n",
       "    <tr>\n",
       "      <th>3</th>\n",
       "      <td>4680</td>\n",
       "      <td>2004-12-31</td>\n",
       "      <td>Jeopardy!</td>\n",
       "      <td>THE COMPANY LINE</td>\n",
       "      <td>$200</td>\n",
       "      <td>In 1963, live on \"The Art Linkletter Show\", th...</td>\n",
       "      <td>McDonald's</td>\n",
       "    </tr>\n",
       "    <tr>\n",
       "      <th>4</th>\n",
       "      <td>4680</td>\n",
       "      <td>2004-12-31</td>\n",
       "      <td>Jeopardy!</td>\n",
       "      <td>EPITAPHS &amp; TRIBUTES</td>\n",
       "      <td>$200</td>\n",
       "      <td>Signer of the Dec. of Indep., framer of the Co...</td>\n",
       "      <td>John Adams</td>\n",
       "    </tr>\n",
       "  </tbody>\n",
       "</table>\n",
       "</div>"
      ],
      "text/plain": [
       "   Show Number    Air Date      Round                         Category  Value  \\\n",
       "0         4680  2004-12-31  Jeopardy!                          HISTORY   $200   \n",
       "1         4680  2004-12-31  Jeopardy!  ESPN's TOP 10 ALL-TIME ATHLETES   $200   \n",
       "2         4680  2004-12-31  Jeopardy!      EVERYBODY TALKS ABOUT IT...   $200   \n",
       "3         4680  2004-12-31  Jeopardy!                 THE COMPANY LINE   $200   \n",
       "4         4680  2004-12-31  Jeopardy!              EPITAPHS & TRIBUTES   $200   \n",
       "\n",
       "                                            Question      Answer  \n",
       "0  For the last 8 years of his life, Galileo was ...  Copernicus  \n",
       "1  No. 2: 1912 Olympian; football star at Carlisl...  Jim Thorpe  \n",
       "2  The city of Yuma in this state has a record av...     Arizona  \n",
       "3  In 1963, live on \"The Art Linkletter Show\", th...  McDonald's  \n",
       "4  Signer of the Dec. of Indep., framer of the Co...  John Adams  "
      ]
     },
     "execution_count": 6,
     "metadata": {},
     "output_type": "execute_result"
    }
   ],
   "source": [
    "jeopardy_df.head()"
   ]
  },
  {
   "cell_type": "code",
   "execution_count": 7,
   "metadata": {},
   "outputs": [
    {
     "data": {
      "text/plain": [
       "(216930, 7)"
      ]
     },
     "execution_count": 7,
     "metadata": {},
     "output_type": "execute_result"
    }
   ],
   "source": [
    "jeopardy_df.shape"
   ]
  },
  {
   "cell_type": "code",
   "execution_count": 11,
   "metadata": {},
   "outputs": [
    {
     "data": {
      "text/plain": [
       "Index(['Show Number', ' Air Date', ' Round', ' Category', ' Value',\n",
       "       ' Question', ' Answer'],\n",
       "      dtype='object')"
      ]
     },
     "execution_count": 11,
     "metadata": {},
     "output_type": "execute_result"
    }
   ],
   "source": [
    "jeopardy_df.columns"
   ]
  },
  {
   "cell_type": "code",
   "execution_count": 93,
   "metadata": {},
   "outputs": [
    {
     "data": {
      "text/html": [
       "<div>\n",
       "<style scoped>\n",
       "    .dataframe tbody tr th:only-of-type {\n",
       "        vertical-align: middle;\n",
       "    }\n",
       "\n",
       "    .dataframe tbody tr th {\n",
       "        vertical-align: top;\n",
       "    }\n",
       "\n",
       "    .dataframe thead th {\n",
       "        text-align: right;\n",
       "    }\n",
       "</style>\n",
       "<table border=\"1\" class=\"dataframe\">\n",
       "  <thead>\n",
       "    <tr style=\"text-align: right;\">\n",
       "      <th></th>\n",
       "      <th>Round</th>\n",
       "      <th>Category</th>\n",
       "      <th>Value</th>\n",
       "      <th>Question</th>\n",
       "    </tr>\n",
       "  </thead>\n",
       "  <tbody>\n",
       "    <tr>\n",
       "      <th>0</th>\n",
       "      <td>Jeopardy!</td>\n",
       "      <td>HISTORY</td>\n",
       "      <td>$200</td>\n",
       "      <td>For the last 8 years of his life, Galileo was ...</td>\n",
       "    </tr>\n",
       "    <tr>\n",
       "      <th>1</th>\n",
       "      <td>Jeopardy!</td>\n",
       "      <td>ESPN's TOP 10 ALL-TIME ATHLETES</td>\n",
       "      <td>$200</td>\n",
       "      <td>No. 2: 1912 Olympian; football star at Carlisl...</td>\n",
       "    </tr>\n",
       "    <tr>\n",
       "      <th>2</th>\n",
       "      <td>Jeopardy!</td>\n",
       "      <td>EVERYBODY TALKS ABOUT IT...</td>\n",
       "      <td>$200</td>\n",
       "      <td>The city of Yuma in this state has a record av...</td>\n",
       "    </tr>\n",
       "    <tr>\n",
       "      <th>3</th>\n",
       "      <td>Jeopardy!</td>\n",
       "      <td>THE COMPANY LINE</td>\n",
       "      <td>$200</td>\n",
       "      <td>In 1963, live on \"The Art Linkletter Show\", th...</td>\n",
       "    </tr>\n",
       "    <tr>\n",
       "      <th>4</th>\n",
       "      <td>Jeopardy!</td>\n",
       "      <td>EPITAPHS &amp; TRIBUTES</td>\n",
       "      <td>$200</td>\n",
       "      <td>Signer of the Dec. of Indep., framer of the Co...</td>\n",
       "    </tr>\n",
       "  </tbody>\n",
       "</table>\n",
       "</div>"
      ],
      "text/plain": [
       "       Round                         Category  Value  \\\n",
       "0  Jeopardy!                          HISTORY   $200   \n",
       "1  Jeopardy!  ESPN's TOP 10 ALL-TIME ATHLETES   $200   \n",
       "2  Jeopardy!      EVERYBODY TALKS ABOUT IT...   $200   \n",
       "3  Jeopardy!                 THE COMPANY LINE   $200   \n",
       "4  Jeopardy!              EPITAPHS & TRIBUTES   $200   \n",
       "\n",
       "                                            Question  \n",
       "0  For the last 8 years of his life, Galileo was ...  \n",
       "1  No. 2: 1912 Olympian; football star at Carlisl...  \n",
       "2  The city of Yuma in this state has a record av...  \n",
       "3  In 1963, live on \"The Art Linkletter Show\", th...  \n",
       "4  Signer of the Dec. of Indep., framer of the Co...  "
      ]
     },
     "execution_count": 93,
     "metadata": {},
     "output_type": "execute_result"
    }
   ],
   "source": [
    "# let's get rid of columns we don't need\n",
    "filtered_df = jeopardy_df.drop(['Show Number', ' Air Date', ' Answer'], axis=1)\n",
    "filtered_df.head()"
   ]
  },
  {
   "cell_type": "code",
   "execution_count": 14,
   "metadata": {},
   "outputs": [
    {
     "data": {
      "text/plain": [
       "Jeopardy!           107384\n",
       "Double Jeopardy!    105912\n",
       "Final Jeopardy!       3631\n",
       "Tiebreaker               3\n",
       "Name:  Round, dtype: int64"
      ]
     },
     "execution_count": 14,
     "metadata": {},
     "output_type": "execute_result"
    }
   ],
   "source": [
    "# I haven't decided which column to make the target variable. Let's take a deeper look into the columns to see\n",
    "# which might be best for categorizing purposes of this exercise\n",
    "filtered_df[' Round'].value_counts()"
   ]
  },
  {
   "cell_type": "code",
   "execution_count": 19,
   "metadata": {},
   "outputs": [
    {
     "data": {
      "text/plain": [
       "count             216930\n",
       "unique             27995\n",
       "top       BEFORE & AFTER\n",
       "freq                 547\n",
       "Name:  Category, dtype: object"
      ]
     },
     "execution_count": 19,
     "metadata": {},
     "output_type": "execute_result"
    }
   ],
   "source": [
    "filtered_df[' Category'].describe()"
   ]
  },
  {
   "cell_type": "markdown",
   "metadata": {},
   "source": [
    "That's waaay too many categories. I don't think it will be too useful to categorize by 'Category's."
   ]
  },
  {
   "cell_type": "code",
   "execution_count": 20,
   "metadata": {},
   "outputs": [
    {
     "data": {
      "text/plain": [
       "count     216930\n",
       "unique       150\n",
       "top         $400\n",
       "freq       42244\n",
       "Name:  Value, dtype: object"
      ]
     },
     "execution_count": 20,
     "metadata": {},
     "output_type": "execute_result"
    }
   ],
   "source": [
    "filtered_df[' Value'].describe()"
   ]
  },
  {
   "cell_type": "markdown",
   "metadata": {},
   "source": [
    "It looks like I will be using the 'Round' category. Let's move on."
   ]
  },
  {
   "cell_type": "markdown",
   "metadata": {},
   "source": [
    "### Parsing and Filtering Data"
   ]
  },
  {
   "cell_type": "code",
   "execution_count": 94,
   "metadata": {},
   "outputs": [
    {
     "data": {
      "text/plain": [
       "'some text'"
      ]
     },
     "execution_count": 94,
     "metadata": {},
     "output_type": "execute_result"
    }
   ],
   "source": [
    "# clean text\n",
    "def text_cleaner(text):\n",
    "    text = re.sub('<.*?>', '', text)    # remove html brackets\n",
    "    text = re.sub('\\(.*?\\)', '', text)  # remove parantheses\n",
    "    text = ' '.join(text.split())\n",
    "    return text\n",
    "\n",
    "# test\n",
    "text_cleaner('<link> some text (some more text)')"
   ]
  },
  {
   "cell_type": "code",
   "execution_count": 103,
   "metadata": {},
   "outputs": [
    {
     "data": {
      "text/html": [
       "<div>\n",
       "<style scoped>\n",
       "    .dataframe tbody tr th:only-of-type {\n",
       "        vertical-align: middle;\n",
       "    }\n",
       "\n",
       "    .dataframe tbody tr th {\n",
       "        vertical-align: top;\n",
       "    }\n",
       "\n",
       "    .dataframe thead th {\n",
       "        text-align: right;\n",
       "    }\n",
       "</style>\n",
       "<table border=\"1\" class=\"dataframe\">\n",
       "  <thead>\n",
       "    <tr style=\"text-align: right;\">\n",
       "      <th></th>\n",
       "      <th>Round</th>\n",
       "      <th>Category</th>\n",
       "      <th>Value</th>\n",
       "      <th>Question</th>\n",
       "      <th>cleaned</th>\n",
       "    </tr>\n",
       "  </thead>\n",
       "  <tbody>\n",
       "    <tr>\n",
       "      <th>0</th>\n",
       "      <td>Jeopardy!</td>\n",
       "      <td>HISTORY</td>\n",
       "      <td>$200</td>\n",
       "      <td>For the last 8 years of his life, Galileo was ...</td>\n",
       "      <td>For the last 8 years of his life, Galileo was ...</td>\n",
       "    </tr>\n",
       "    <tr>\n",
       "      <th>1</th>\n",
       "      <td>Jeopardy!</td>\n",
       "      <td>ESPN's TOP 10 ALL-TIME ATHLETES</td>\n",
       "      <td>$200</td>\n",
       "      <td>No. 2: 1912 Olympian; football star at Carlisl...</td>\n",
       "      <td>No. 2: 1912 Olympian; football star at Carlisl...</td>\n",
       "    </tr>\n",
       "    <tr>\n",
       "      <th>2</th>\n",
       "      <td>Jeopardy!</td>\n",
       "      <td>EVERYBODY TALKS ABOUT IT...</td>\n",
       "      <td>$200</td>\n",
       "      <td>The city of Yuma in this state has a record av...</td>\n",
       "      <td>The city of Yuma in this state has a record av...</td>\n",
       "    </tr>\n",
       "    <tr>\n",
       "      <th>3</th>\n",
       "      <td>Jeopardy!</td>\n",
       "      <td>THE COMPANY LINE</td>\n",
       "      <td>$200</td>\n",
       "      <td>In 1963, live on \"The Art Linkletter Show\", th...</td>\n",
       "      <td>In 1963, live on \"The Art Linkletter Show\", th...</td>\n",
       "    </tr>\n",
       "    <tr>\n",
       "      <th>4</th>\n",
       "      <td>Jeopardy!</td>\n",
       "      <td>EPITAPHS &amp; TRIBUTES</td>\n",
       "      <td>$200</td>\n",
       "      <td>Signer of the Dec. of Indep., framer of the Co...</td>\n",
       "      <td>Signer of the Dec. of Indep., framer of the Co...</td>\n",
       "    </tr>\n",
       "    <tr>\n",
       "      <th>5</th>\n",
       "      <td>Jeopardy!</td>\n",
       "      <td>3-LETTER WORDS</td>\n",
       "      <td>$200</td>\n",
       "      <td>In the title of an Aesop fable, this insect sh...</td>\n",
       "      <td>In the title of an Aesop fable, this insect sh...</td>\n",
       "    </tr>\n",
       "    <tr>\n",
       "      <th>6</th>\n",
       "      <td>Jeopardy!</td>\n",
       "      <td>HISTORY</td>\n",
       "      <td>$400</td>\n",
       "      <td>Built in 312 B.C. to link Rome &amp; the South of ...</td>\n",
       "      <td>Built in 312 B.C. to link Rome &amp; the South of ...</td>\n",
       "    </tr>\n",
       "    <tr>\n",
       "      <th>7</th>\n",
       "      <td>Jeopardy!</td>\n",
       "      <td>ESPN's TOP 10 ALL-TIME ATHLETES</td>\n",
       "      <td>$400</td>\n",
       "      <td>No. 8: 30 steals for the Birmingham Barons; 2,...</td>\n",
       "      <td>No. 8: 30 steals for the Birmingham Barons; 2,...</td>\n",
       "    </tr>\n",
       "    <tr>\n",
       "      <th>8</th>\n",
       "      <td>Jeopardy!</td>\n",
       "      <td>EVERYBODY TALKS ABOUT IT...</td>\n",
       "      <td>$400</td>\n",
       "      <td>In the winter of 1971-72, a record 1,122 inche...</td>\n",
       "      <td>In the winter of 1971-72, a record 1,122 inche...</td>\n",
       "    </tr>\n",
       "    <tr>\n",
       "      <th>9</th>\n",
       "      <td>Jeopardy!</td>\n",
       "      <td>THE COMPANY LINE</td>\n",
       "      <td>$400</td>\n",
       "      <td>This housewares store was named for the packag...</td>\n",
       "      <td>This housewares store was named for the packag...</td>\n",
       "    </tr>\n",
       "  </tbody>\n",
       "</table>\n",
       "</div>"
      ],
      "text/plain": [
       "       Round                         Category  Value  \\\n",
       "0  Jeopardy!                          HISTORY   $200   \n",
       "1  Jeopardy!  ESPN's TOP 10 ALL-TIME ATHLETES   $200   \n",
       "2  Jeopardy!      EVERYBODY TALKS ABOUT IT...   $200   \n",
       "3  Jeopardy!                 THE COMPANY LINE   $200   \n",
       "4  Jeopardy!              EPITAPHS & TRIBUTES   $200   \n",
       "5  Jeopardy!                   3-LETTER WORDS   $200   \n",
       "6  Jeopardy!                          HISTORY   $400   \n",
       "7  Jeopardy!  ESPN's TOP 10 ALL-TIME ATHLETES   $400   \n",
       "8  Jeopardy!      EVERYBODY TALKS ABOUT IT...   $400   \n",
       "9  Jeopardy!                 THE COMPANY LINE   $400   \n",
       "\n",
       "                                            Question  \\\n",
       "0  For the last 8 years of his life, Galileo was ...   \n",
       "1  No. 2: 1912 Olympian; football star at Carlisl...   \n",
       "2  The city of Yuma in this state has a record av...   \n",
       "3  In 1963, live on \"The Art Linkletter Show\", th...   \n",
       "4  Signer of the Dec. of Indep., framer of the Co...   \n",
       "5  In the title of an Aesop fable, this insect sh...   \n",
       "6  Built in 312 B.C. to link Rome & the South of ...   \n",
       "7  No. 8: 30 steals for the Birmingham Barons; 2,...   \n",
       "8  In the winter of 1971-72, a record 1,122 inche...   \n",
       "9  This housewares store was named for the packag...   \n",
       "\n",
       "                                             cleaned  \n",
       "0  For the last 8 years of his life, Galileo was ...  \n",
       "1  No. 2: 1912 Olympian; football star at Carlisl...  \n",
       "2  The city of Yuma in this state has a record av...  \n",
       "3  In 1963, live on \"The Art Linkletter Show\", th...  \n",
       "4  Signer of the Dec. of Indep., framer of the Co...  \n",
       "5  In the title of an Aesop fable, this insect sh...  \n",
       "6  Built in 312 B.C. to link Rome & the South of ...  \n",
       "7  No. 8: 30 steals for the Birmingham Barons; 2,...  \n",
       "8  In the winter of 1971-72, a record 1,122 inche...  \n",
       "9  This housewares store was named for the packag...  "
      ]
     },
     "execution_count": 103,
     "metadata": {},
     "output_type": "execute_result"
    }
   ],
   "source": [
    "filtered_df['cleaned'] = filtered_df.apply(lambda x: text_cleaner(x[' Question']), axis=1)\n",
    "filtered_df.head(10)"
   ]
  },
  {
   "cell_type": "code",
   "execution_count": 122,
   "metadata": {},
   "outputs": [
    {
     "data": {
      "text/html": [
       "<div>\n",
       "<style scoped>\n",
       "    .dataframe tbody tr th:only-of-type {\n",
       "        vertical-align: middle;\n",
       "    }\n",
       "\n",
       "    .dataframe tbody tr th {\n",
       "        vertical-align: top;\n",
       "    }\n",
       "\n",
       "    .dataframe thead th {\n",
       "        text-align: right;\n",
       "    }\n",
       "</style>\n",
       "<table border=\"1\" class=\"dataframe\">\n",
       "  <thead>\n",
       "    <tr style=\"text-align: right;\">\n",
       "      <th></th>\n",
       "      <th>Round</th>\n",
       "      <th>Category</th>\n",
       "      <th>Value</th>\n",
       "      <th>Question</th>\n",
       "      <th>cleaned</th>\n",
       "      <th>spacy</th>\n",
       "    </tr>\n",
       "  </thead>\n",
       "  <tbody>\n",
       "    <tr>\n",
       "      <th>0</th>\n",
       "      <td>Jeopardy!</td>\n",
       "      <td>HISTORY</td>\n",
       "      <td>$200</td>\n",
       "      <td>For the last 8 years of his life, Galileo was ...</td>\n",
       "      <td>For the last 8 years of his life, Galileo was ...</td>\n",
       "      <td>(For, the, last, 8, years, of, his, life, ,, G...</td>\n",
       "    </tr>\n",
       "    <tr>\n",
       "      <th>1</th>\n",
       "      <td>Jeopardy!</td>\n",
       "      <td>ESPN's TOP 10 ALL-TIME ATHLETES</td>\n",
       "      <td>$200</td>\n",
       "      <td>No. 2: 1912 Olympian; football star at Carlisl...</td>\n",
       "      <td>No. 2: 1912 Olympian; football star at Carlisl...</td>\n",
       "      <td>(No, ., 2, :, 1912, Olympian, ;, football, sta...</td>\n",
       "    </tr>\n",
       "    <tr>\n",
       "      <th>2</th>\n",
       "      <td>Jeopardy!</td>\n",
       "      <td>EVERYBODY TALKS ABOUT IT...</td>\n",
       "      <td>$200</td>\n",
       "      <td>The city of Yuma in this state has a record av...</td>\n",
       "      <td>The city of Yuma in this state has a record av...</td>\n",
       "      <td>(The, city, of, Yuma, in, this, state, has, a,...</td>\n",
       "    </tr>\n",
       "    <tr>\n",
       "      <th>3</th>\n",
       "      <td>Jeopardy!</td>\n",
       "      <td>THE COMPANY LINE</td>\n",
       "      <td>$200</td>\n",
       "      <td>In 1963, live on \"The Art Linkletter Show\", th...</td>\n",
       "      <td>In 1963, live on \"The Art Linkletter Show\", th...</td>\n",
       "      <td>(In, 1963, ,, live, on, \", The, Art, Linklette...</td>\n",
       "    </tr>\n",
       "    <tr>\n",
       "      <th>4</th>\n",
       "      <td>Jeopardy!</td>\n",
       "      <td>EPITAPHS &amp; TRIBUTES</td>\n",
       "      <td>$200</td>\n",
       "      <td>Signer of the Dec. of Indep., framer of the Co...</td>\n",
       "      <td>Signer of the Dec. of Indep., framer of the Co...</td>\n",
       "      <td>(Signer, of, the, Dec., of, Indep, ., ,, frame...</td>\n",
       "    </tr>\n",
       "  </tbody>\n",
       "</table>\n",
       "</div>"
      ],
      "text/plain": [
       "       Round                         Category  Value  \\\n",
       "0  Jeopardy!                          HISTORY   $200   \n",
       "1  Jeopardy!  ESPN's TOP 10 ALL-TIME ATHLETES   $200   \n",
       "2  Jeopardy!      EVERYBODY TALKS ABOUT IT...   $200   \n",
       "3  Jeopardy!                 THE COMPANY LINE   $200   \n",
       "4  Jeopardy!              EPITAPHS & TRIBUTES   $200   \n",
       "\n",
       "                                            Question  \\\n",
       "0  For the last 8 years of his life, Galileo was ...   \n",
       "1  No. 2: 1912 Olympian; football star at Carlisl...   \n",
       "2  The city of Yuma in this state has a record av...   \n",
       "3  In 1963, live on \"The Art Linkletter Show\", th...   \n",
       "4  Signer of the Dec. of Indep., framer of the Co...   \n",
       "\n",
       "                                             cleaned  \\\n",
       "0  For the last 8 years of his life, Galileo was ...   \n",
       "1  No. 2: 1912 Olympian; football star at Carlisl...   \n",
       "2  The city of Yuma in this state has a record av...   \n",
       "3  In 1963, live on \"The Art Linkletter Show\", th...   \n",
       "4  Signer of the Dec. of Indep., framer of the Co...   \n",
       "\n",
       "                                               spacy  \n",
       "0  (For, the, last, 8, years, of, his, life, ,, G...  \n",
       "1  (No, ., 2, :, 1912, Olympian, ;, football, sta...  \n",
       "2  (The, city, of, Yuma, in, this, state, has, a,...  \n",
       "3  (In, 1963, ,, live, on, \", The, Art, Linklette...  \n",
       "4  (Signer, of, the, Dec., of, Indep, ., ,, frame...  "
      ]
     },
     "execution_count": 122,
     "metadata": {},
     "output_type": "execute_result"
    }
   ],
   "source": [
    "# parse with spacy\n",
    "nlp = spacy.load('en')\n",
    "\n",
    "# apply spacy to each question in the table\n",
    "filtered_df['spacy'] = filtered_df.apply(lambda x: nlp(x['cleaned']), axis=1)\n",
    "filtered_df.head()\n"
   ]
  },
  {
   "cell_type": "code",
   "execution_count": 140,
   "metadata": {},
   "outputs": [
    {
     "name": "stdout",
     "output_type": "stream",
     "text": [
      "0    [8, year, life, Galileo, house, arrest, espous...\n",
      "1    [2, 1912, olympian, football, star, Carlisle, ...\n",
      "2    [city, Yuma, state, record, average, 4,055, ho...\n",
      "3    [1963, live, Art, Linkletter, company, serve, ...\n",
      "4    [signer, December, Indep, framer, Constitution...\n",
      "5    [title, Aesop, fable, insect, share, billing, ...\n",
      "6    [build, 312, B.C., link, Rome, South, Italy, u...\n",
      "7    [8, 30, steal, Birmingham, Barons, 2,306, stea...\n",
      "8    [winter, 1971, 72, record, 1,122, inch, snow, ...\n",
      "9    [houseware, store, name, packaging, merchandis...\n",
      "dtype: object\n"
     ]
    }
   ],
   "source": [
    "# extract lemmas minus punctuation and stop words\n",
    "just_lemmas = []\n",
    "\n",
    "def lemma_maker(text):\n",
    "    lm = [token.lemma_ for token in text if not token.is_stop and not token.is_punct]\n",
    "    return lm\n",
    "\n",
    "just_lemmas = filtered_df.apply(lambda x: lemma_maker(x['spacy']), axis=1)\n",
    "print(all_lemmas[:10])\n"
   ]
  },
  {
   "cell_type": "markdown",
   "metadata": {},
   "source": [
    "### Bag of Words"
   ]
  },
  {
   "cell_type": "code",
   "execution_count": 189,
   "metadata": {},
   "outputs": [
    {
     "name": "stdout",
     "output_type": "stream",
     "text": [
      "1684334\n",
      "['city', 'play', 'name', 'country', 'man', 'call', '2', 'know', 'see', 'like', 'type', 'film', 'say', 'state', 'U.S.', 'year', 'title', 'write', 'word', 'mean', 'win', 'come', 'include', 'large', 'bear', 'novel', 'find', 'term', 'New', 'time', 'star', 'work', '3', 'capital', 'president', '1', 'book', 'get', 'woman', 'go', 'old', 'take', 'famous', 'hit', 'song', 'day', 'world', 'John', 'give', 'home', 'begin', 'group', 'character', 'island', 'long', 'author', 'american', 'good', 'company', 'tell', 'people', 'century', 'end', 'tv', 'high', 'lead', 'movie', 'form', 'line', 'french', 'game', 'die', 'love', 'life', 'feature', '4', 'base', 'live', 'use', 'great', 'small', 'king', 'big', 'help', 'place', 'set', 'run', 'british', 'found', 'new', 'serve', 'water', 'hold', 'family', 'head', 'leave', 'body', 'number', 'war', 'animal']\n",
      "True\n"
     ]
    }
   ],
   "source": [
    "# Since each question is a separated into rows, let's first consolidate all the words into one\n",
    "# list as to make it easier get to the most common words\n",
    "bag = []\n",
    "\n",
    "for question in just_lemmas:\n",
    "    for lemma in question:\n",
    "        bag.append(lemma)\n",
    "        \n",
    "print(len(bag))\n",
    "    \n",
    "bag_of_words = [item[0] for item in Counter(bag).most_common(2000)]\n",
    "print(bag_of_words[:100])\n",
    "print(('1912' in bag_of_words)) # simple test for bag_of_words"
   ]
  },
  {
   "cell_type": "code",
   "execution_count": 192,
   "metadata": {},
   "outputs": [
    {
     "name": "stdout",
     "output_type": "stream",
     "text": [
      "done\n"
     ]
    },
    {
     "data": {
      "text/html": [
       "<div>\n",
       "<style scoped>\n",
       "    .dataframe tbody tr th:only-of-type {\n",
       "        vertical-align: middle;\n",
       "    }\n",
       "\n",
       "    .dataframe tbody tr th {\n",
       "        vertical-align: top;\n",
       "    }\n",
       "\n",
       "    .dataframe thead th {\n",
       "        text-align: right;\n",
       "    }\n",
       "</style>\n",
       "<table border=\"1\" class=\"dataframe\">\n",
       "  <thead>\n",
       "    <tr style=\"text-align: right;\">\n",
       "      <th></th>\n",
       "      <th>city</th>\n",
       "      <th>play</th>\n",
       "      <th>name</th>\n",
       "      <th>country</th>\n",
       "      <th>man</th>\n",
       "      <th>call</th>\n",
       "      <th>2</th>\n",
       "      <th>know</th>\n",
       "      <th>see</th>\n",
       "      <th>like</th>\n",
       "      <th>...</th>\n",
       "      <th>district</th>\n",
       "      <th>soap</th>\n",
       "      <th>narrow</th>\n",
       "      <th>rescue</th>\n",
       "      <th>collect</th>\n",
       "      <th>Romans</th>\n",
       "      <th>Warren</th>\n",
       "      <th>Women</th>\n",
       "      <th>ques_text</th>\n",
       "      <th>ques_round</th>\n",
       "    </tr>\n",
       "  </thead>\n",
       "  <tbody>\n",
       "    <tr>\n",
       "      <th>0</th>\n",
       "      <td>0</td>\n",
       "      <td>0</td>\n",
       "      <td>0</td>\n",
       "      <td>0</td>\n",
       "      <td>0</td>\n",
       "      <td>0</td>\n",
       "      <td>0</td>\n",
       "      <td>0</td>\n",
       "      <td>0</td>\n",
       "      <td>0</td>\n",
       "      <td>...</td>\n",
       "      <td>0</td>\n",
       "      <td>0</td>\n",
       "      <td>0</td>\n",
       "      <td>0</td>\n",
       "      <td>0</td>\n",
       "      <td>0</td>\n",
       "      <td>0</td>\n",
       "      <td>0</td>\n",
       "      <td>For the last 8 years of his life, Galileo was ...</td>\n",
       "      <td>Jeopardy!</td>\n",
       "    </tr>\n",
       "    <tr>\n",
       "      <th>1</th>\n",
       "      <td>0</td>\n",
       "      <td>0</td>\n",
       "      <td>0</td>\n",
       "      <td>0</td>\n",
       "      <td>0</td>\n",
       "      <td>0</td>\n",
       "      <td>0</td>\n",
       "      <td>0</td>\n",
       "      <td>0</td>\n",
       "      <td>0</td>\n",
       "      <td>...</td>\n",
       "      <td>0</td>\n",
       "      <td>0</td>\n",
       "      <td>0</td>\n",
       "      <td>0</td>\n",
       "      <td>0</td>\n",
       "      <td>0</td>\n",
       "      <td>0</td>\n",
       "      <td>0</td>\n",
       "      <td>No. 2: 1912 Olympian; football star at Carlisl...</td>\n",
       "      <td>Jeopardy!</td>\n",
       "    </tr>\n",
       "    <tr>\n",
       "      <th>2</th>\n",
       "      <td>0</td>\n",
       "      <td>0</td>\n",
       "      <td>0</td>\n",
       "      <td>0</td>\n",
       "      <td>0</td>\n",
       "      <td>0</td>\n",
       "      <td>0</td>\n",
       "      <td>0</td>\n",
       "      <td>0</td>\n",
       "      <td>0</td>\n",
       "      <td>...</td>\n",
       "      <td>0</td>\n",
       "      <td>0</td>\n",
       "      <td>0</td>\n",
       "      <td>0</td>\n",
       "      <td>0</td>\n",
       "      <td>0</td>\n",
       "      <td>0</td>\n",
       "      <td>0</td>\n",
       "      <td>The city of Yuma in this state has a record av...</td>\n",
       "      <td>Jeopardy!</td>\n",
       "    </tr>\n",
       "    <tr>\n",
       "      <th>3</th>\n",
       "      <td>0</td>\n",
       "      <td>0</td>\n",
       "      <td>0</td>\n",
       "      <td>0</td>\n",
       "      <td>0</td>\n",
       "      <td>0</td>\n",
       "      <td>0</td>\n",
       "      <td>0</td>\n",
       "      <td>0</td>\n",
       "      <td>0</td>\n",
       "      <td>...</td>\n",
       "      <td>0</td>\n",
       "      <td>0</td>\n",
       "      <td>0</td>\n",
       "      <td>0</td>\n",
       "      <td>0</td>\n",
       "      <td>0</td>\n",
       "      <td>0</td>\n",
       "      <td>0</td>\n",
       "      <td>In 1963, live on \"The Art Linkletter Show\", th...</td>\n",
       "      <td>Jeopardy!</td>\n",
       "    </tr>\n",
       "    <tr>\n",
       "      <th>4</th>\n",
       "      <td>0</td>\n",
       "      <td>0</td>\n",
       "      <td>0</td>\n",
       "      <td>0</td>\n",
       "      <td>0</td>\n",
       "      <td>0</td>\n",
       "      <td>0</td>\n",
       "      <td>0</td>\n",
       "      <td>0</td>\n",
       "      <td>0</td>\n",
       "      <td>...</td>\n",
       "      <td>0</td>\n",
       "      <td>0</td>\n",
       "      <td>0</td>\n",
       "      <td>0</td>\n",
       "      <td>0</td>\n",
       "      <td>0</td>\n",
       "      <td>0</td>\n",
       "      <td>0</td>\n",
       "      <td>Signer of the Dec. of Indep., framer of the Co...</td>\n",
       "      <td>Jeopardy!</td>\n",
       "    </tr>\n",
       "  </tbody>\n",
       "</table>\n",
       "<p>5 rows × 2002 columns</p>\n",
       "</div>"
      ],
      "text/plain": [
       "  city play name country man call  2 know see like  ... district soap narrow  \\\n",
       "0    0    0    0       0   0    0  0    0   0    0  ...        0    0      0   \n",
       "1    0    0    0       0   0    0  0    0   0    0  ...        0    0      0   \n",
       "2    0    0    0       0   0    0  0    0   0    0  ...        0    0      0   \n",
       "3    0    0    0       0   0    0  0    0   0    0  ...        0    0      0   \n",
       "4    0    0    0       0   0    0  0    0   0    0  ...        0    0      0   \n",
       "\n",
       "  rescue collect Romans Warren Women  \\\n",
       "0      0       0      0      0     0   \n",
       "1      0       0      0      0     0   \n",
       "2      0       0      0      0     0   \n",
       "3      0       0      0      0     0   \n",
       "4      0       0      0      0     0   \n",
       "\n",
       "                                           ques_text ques_round  \n",
       "0  For the last 8 years of his life, Galileo was ...  Jeopardy!  \n",
       "1  No. 2: 1912 Olympian; football star at Carlisl...  Jeopardy!  \n",
       "2  The city of Yuma in this state has a record av...  Jeopardy!  \n",
       "3  In 1963, live on \"The Art Linkletter Show\", th...  Jeopardy!  \n",
       "4  Signer of the Dec. of Indep., framer of the Co...  Jeopardy!  \n",
       "\n",
       "[5 rows x 2002 columns]"
      ]
     },
     "execution_count": 192,
     "metadata": {},
     "output_type": "execute_result"
    }
   ],
   "source": [
    "df = pd.DataFrame(columns=bag_of_words)\n",
    "df['ques_text'] = filtered_df['cleaned']\n",
    "df['ques_round'] = filtered_df[' Round']\n",
    "\n",
    "# initialize counts\n",
    "df.loc[:, bag_of_words] = 0\n",
    "print('done')\n",
    "df.head(5)"
   ]
  },
  {
   "cell_type": "code",
   "execution_count": null,
   "metadata": {
    "scrolled": true
   },
   "outputs": [
    {
     "name": "stdout",
     "output_type": "stream",
     "text": [
      "0  done\n",
      "25000  done\n",
      "50000  done\n",
      "75000  done\n",
      "100000  done\n",
      "125000  done\n",
      "150000  done\n",
      "175000  done\n"
     ]
    }
   ],
   "source": [
    "# count word values for each sentence\n",
    "for i, question in enumerate(just_lemmas):\n",
    "    for word in question:\n",
    "        if word in bag_of_words:\n",
    "            df.at[i, word] += 1  #df.at is faster than df.loc\n",
    "    \n",
    "    if i % 25000 == 0:\n",
    "        print(i, ' done')\n",
    "\n",
    "df.head()"
   ]
  },
  {
   "cell_type": "code",
   "execution_count": 178,
   "metadata": {},
   "outputs": [
    {
     "name": "stdout",
     "output_type": "stream",
     "text": [
      "go  is in the list\n"
     ]
    }
   ],
   "source": [
    "test_list = ['home', 'go']\n",
    "test_word = ['just', 'go']\n",
    "for word in test_word:\n",
    "    if word in test_list:\n",
    "        print(word, ' is in the list')"
   ]
  },
  {
   "cell_type": "code",
   "execution_count": null,
   "metadata": {},
   "outputs": [],
   "source": [
    "# create a new dataframe with common words as features(columns) and questions as samples(rows)\n",
    "# questions passed in will be the 'cleaned' column\n",
    "def bow_features(questions, common_words):\n",
    "    \n",
    "    # Scaffold the data frame and initialize counts to zero.\n",
    "    df = pd.DataFrame(columns=common_words)\n",
    "    df['question'] = \n",
    "    df['text_source'] = sentences[1]\n",
    "    df.loc[:, common_words] = 0\n",
    "    \n",
    "    # Process each row, counting the occurrence of words in each sentence.\n",
    "    for i, sentence in enumerate(df['text_sentence']):\n",
    "        \n",
    "        # Convert the sentence to lemmas, then filter out punctuation,\n",
    "        # stop words, and uncommon words.\n",
    "        words = [token.lemma_\n",
    "                 for token in sentence\n",
    "                 if (\n",
    "                     not token.is_punct\n",
    "                     and not token.is_stop\n",
    "                     and token.lemma_ in common_words\n",
    "                 )]\n",
    "        \n",
    "        # Populate the row with word counts.\n",
    "        for word in words:\n",
    "            df.loc[i, word] += 1\n",
    "        \n",
    "        # This counter is just to make sure the kernel didn't hang.\n",
    "        if i % 50 == 0:\n",
    "            print(\"Processing row {}\".format(i))\n",
    "            \n",
    "    return df"
   ]
  }
 ],
 "metadata": {
  "kernelspec": {
   "display_name": "Python 3",
   "language": "python",
   "name": "python3"
  },
  "language_info": {
   "codemirror_mode": {
    "name": "ipython",
    "version": 3
   },
   "file_extension": ".py",
   "mimetype": "text/x-python",
   "name": "python",
   "nbconvert_exporter": "python",
   "pygments_lexer": "ipython3",
   "version": "3.7.3"
  }
 },
 "nbformat": 4,
 "nbformat_minor": 2
}
