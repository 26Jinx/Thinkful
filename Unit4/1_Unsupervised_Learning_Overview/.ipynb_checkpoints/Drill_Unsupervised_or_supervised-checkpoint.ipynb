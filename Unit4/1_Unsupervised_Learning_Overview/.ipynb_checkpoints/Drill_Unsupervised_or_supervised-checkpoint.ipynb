{
 "cells": [
  {
   "cell_type": "markdown",
   "metadata": {},
   "source": [
    "1. Define the likelihood that an individual will contract a specific disease\n",
    "        Since we are after a specific outcome, supervised learning is the way to go.\n",
    "        \n",
    "2. Translate a set of images into variables for modeling\n",
    "        (Maybe) Both supervised and unsupervised learning can be used here for training the model to recognize and classify images into variables.\n",
    "\n",
    "3. An ecommerce company wants to identify power users\n",
    "        Ecommerce company would have more defined set of features and what they are after is classifying its customers, so a supervised model would perform better.\n",
    "\n",
    "4. That same company wants to see shopping patterns in users\n",
    "        Grouping similar patterns between users seems like a job made for unsupervised learning.\n",
    "\n",
    "5. You want to reduce the number of variables inputting into your random forest model\n",
    "        Unsupervised learning can be used here as a means to assign variable importance."
   ]
  },
  {
   "cell_type": "code",
   "execution_count": null,
   "metadata": {},
   "outputs": [],
   "source": []
  }
 ],
 "metadata": {
  "kernelspec": {
   "display_name": "Python 3",
   "language": "python",
   "name": "python3"
  },
  "language_info": {
   "codemirror_mode": {
    "name": "ipython",
    "version": 3
   },
   "file_extension": ".py",
   "mimetype": "text/x-python",
   "name": "python",
   "nbconvert_exporter": "python",
   "pygments_lexer": "ipython3",
   "version": "3.7.3"
  }
 },
 "nbformat": 4,
 "nbformat_minor": 2
}
