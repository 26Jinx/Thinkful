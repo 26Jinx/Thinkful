{
  "nbformat": 4,
  "nbformat_minor": 0,
  "metadata": {
    "colab": {
      "name": "rfc_spark_batch_02_26_19.ipynb",
      "provenance": [],
      "collapsed_sections": [],
      "include_colab_link": true
    },
    "kernelspec": {
      "display_name": "Python 3",
      "language": "python",
      "name": "python3"
    },
    "language_info": {
      "codemirror_mode": {
        "name": "ipython",
        "version": 3
      },
      "file_extension": ".py",
      "mimetype": "text/x-python",
      "name": "python",
      "nbconvert_exporter": "python",
      "pygments_lexer": "ipython3",
      "version": "3.7.0"
    }
  },
  "cells": [
    {
      "cell_type": "markdown",
      "metadata": {
        "id": "view-in-github",
        "colab_type": "text"
      },
      "source": [
        "<a href=\"https://colab.research.google.com/github/PharahMain/Thinkful/blob/master/rfc_spark_batch_02_26_19.ipynb\" target=\"_parent\"><img src=\"https://colab.research.google.com/assets/colab-badge.svg\" alt=\"Open In Colab\"/></a>"
      ]
    },
    {
      "cell_type": "markdown",
      "metadata": {
        "colab_type": "text",
        "id": "rCwqd_Gdlx10"
      },
      "source": [
        "In this notebook, you'll learn the basics of working with Spark in batch mode to build a random forest classifier. Note that this notebook is intended to be run on Google Colaboratory."
      ]
    },
    {
      "cell_type": "markdown",
      "metadata": {
        "id": "ITl1NcjOQ2ya",
        "colab_type": "text"
      },
      "source": [
        "## Spark and Colaboratory setup\n",
        "\n",
        "First, there's some configration specific to running Spark on Colaboratory that we'll need to attend to. Run these cells to set everything up."
      ]
    },
    {
      "cell_type": "code",
      "metadata": {
        "colab_type": "code",
        "id": "ahlaHUHYnGcg",
        "colab": {}
      },
      "source": [
        "!apt-get install openjdk-8-jdk-headless -qq > /dev/null\n",
        "!wget -q http://apache.osuosl.org/spark/spark-2.4.4/spark-2.4.4-bin-hadoop2.7.tgz\n",
        "!tar xf spark-2.4.4-bin-hadoop2.7.tgz"
      ],
      "execution_count": 0,
      "outputs": []
    },
    {
      "cell_type": "code",
      "metadata": {
        "id": "UULHg94TQ2ye",
        "colab_type": "code",
        "outputId": "360beb40-a8f1-460e-d72f-86fad874a97b",
        "colab": {
          "base_uri": "https://localhost:8080/",
          "height": 267
        }
      },
      "source": [
        "# Install spark-related depdencies for Python\n",
        "!pip install -q findspark\n",
        "!pip install pyspark"
      ],
      "execution_count": 2,
      "outputs": [
        {
          "output_type": "stream",
          "text": [
            "Collecting pyspark\n",
            "\u001b[?25l  Downloading https://files.pythonhosted.org/packages/87/21/f05c186f4ddb01d15d0ddc36ef4b7e3cedbeb6412274a41f26b55a650ee5/pyspark-2.4.4.tar.gz (215.7MB)\n",
            "\u001b[K     |████████████████████████████████| 215.7MB 118kB/s \n",
            "\u001b[?25hCollecting py4j==0.10.7 (from pyspark)\n",
            "\u001b[?25l  Downloading https://files.pythonhosted.org/packages/e3/53/c737818eb9a7dc32a7cd4f1396e787bd94200c3997c72c1dbe028587bd76/py4j-0.10.7-py2.py3-none-any.whl (197kB)\n",
            "\u001b[K     |████████████████████████████████| 204kB 54.2MB/s \n",
            "\u001b[?25hBuilding wheels for collected packages: pyspark\n",
            "  Building wheel for pyspark (setup.py) ... \u001b[?25l\u001b[?25hdone\n",
            "  Created wheel for pyspark: filename=pyspark-2.4.4-py2.py3-none-any.whl size=216130387 sha256=40b5cf7f0101711b5c38053c3ee18b7fde66c79bf123992c79c1b0d04c029099\n",
            "  Stored in directory: /root/.cache/pip/wheels/ab/09/4d/0d184230058e654eb1b04467dbc1292f00eaa186544604b471\n",
            "Successfully built pyspark\n",
            "Installing collected packages: py4j, pyspark\n",
            "Successfully installed py4j-0.10.7 pyspark-2.4.4\n"
          ],
          "name": "stdout"
        }
      ]
    },
    {
      "cell_type": "code",
      "metadata": {
        "colab_type": "code",
        "id": "9pxKUb5pnHix",
        "colab": {}
      },
      "source": [
        "# Set up required environment variables\n",
        "\n",
        "import os\n",
        "os.environ[\"JAVA_HOME\"] = \"/usr/lib/jvm/java-8-openjdk-amd64\"\n",
        "os.environ[\"SPARK_HOME\"] = \"/content/spark-2.4.4-bin-hadoop2.7\""
      ],
      "execution_count": 0,
      "outputs": []
    },
    {
      "cell_type": "code",
      "metadata": {
        "id": "yJQNideFQ2yi",
        "colab_type": "code",
        "outputId": "370311ea-592a-4a8a-cf14-c3cb8817740f",
        "colab": {
          "base_uri": "https://localhost:8080/",
          "height": 125
        }
      },
      "source": [
        "# Point Colaboratory to Google Drive\n",
        "\n",
        "from google.colab import drive\n",
        "drive.mount('/content/gdrive')"
      ],
      "execution_count": 4,
      "outputs": [
        {
          "output_type": "stream",
          "text": [
            "Go to this URL in a browser: https://accounts.google.com/o/oauth2/auth?client_id=947318989803-6bn6qk8qdgf4n4g3pfee6491hc0brc4i.apps.googleusercontent.com&redirect_uri=urn%3Aietf%3Awg%3Aoauth%3A2.0%3Aoob&scope=email%20https%3A%2F%2Fwww.googleapis.com%2Fauth%2Fdocs.test%20https%3A%2F%2Fwww.googleapis.com%2Fauth%2Fdrive%20https%3A%2F%2Fwww.googleapis.com%2Fauth%2Fdrive.photos.readonly%20https%3A%2F%2Fwww.googleapis.com%2Fauth%2Fpeopleapi.readonly&response_type=code\n",
            "\n",
            "Enter your authorization code:\n",
            "··········\n",
            "Mounted at /content/gdrive\n"
          ],
          "name": "stdout"
        }
      ]
    },
    {
      "cell_type": "markdown",
      "metadata": {
        "colab_type": "text",
        "id": "cTDxREFdlx11"
      },
      "source": [
        "##  Import dependencies\n",
        "\n",
        "Next, we need to import the tools we'll need from PySpark. The imports below allow us to connect to the Spark server, load our data, clean it, and prepare, execute, and evaluate a model."
      ]
    },
    {
      "cell_type": "code",
      "metadata": {
        "colab_type": "code",
        "id": "UBIeh7Eblx12",
        "colab": {}
      },
      "source": [
        "from pyspark import SparkContext\n",
        "from pyspark.sql import SparkSession\n",
        "\n",
        "from pyspark.ml import Pipeline\n",
        "from pyspark.ml.classification import RandomForestClassifier\n",
        "from pyspark.ml.feature import IndexToString, StringIndexer, VectorIndexer, VectorAssembler\n",
        "from pyspark.ml.evaluation import MulticlassClassificationEvaluator\n",
        "\n",
        "from pyspark.sql.functions import isnan, when, count, col"
      ],
      "execution_count": 0,
      "outputs": []
    },
    {
      "cell_type": "markdown",
      "metadata": {
        "colab_type": "text",
        "id": "5PLkpx0slx15"
      },
      "source": [
        "## Set our constants\n",
        "\n",
        "Next, we create a set of constants that we can refer to throughout the notebook. These are values that the rest of our code needs to run, but that we might need to change at some point (for instance, if the location of our data changes). \n",
        "\n",
        "If you saved the relevant datasets in the folders suggested in the previous checkpoint (link), you can use the below code chunk as is. If you saved the datasets elsewhere on your Google Drive, modify the file path after the `My Drive` folder. \n",
        "\n",
        "Regardless of the exact file path, these datasets **must** be stored on Google Drive!"
      ]
    },
    {
      "cell_type": "code",
      "metadata": {
        "colab_type": "code",
        "id": "Mqs6LIRelx16",
        "colab": {}
      },
      "source": [
        "CSV_PATH = \"/content/gdrive/My Drive/Colab Datasets/UCI_HAR/allData.csv\" \n",
        "CSV_ACTIVITY_LABEL_PATH = \"/content/gdrive/My Drive/Colab Datasets/UCI_HAR/activity_labels.csv\"\n",
        "APP_NAME = \"UCI HAR Random Forest Example\"\n",
        "SPARK_URL = \"local[*]\"\n",
        "RANDOM_SEED = 141107\n",
        "TRAINING_DATA_RATIO = 0.8\n",
        "RF_NUM_TREES = 10\n",
        "RF_MAX_DEPTH = 4\n",
        "RF_NUM_BINS = 32"
      ],
      "execution_count": 0,
      "outputs": []
    },
    {
      "cell_type": "markdown",
      "metadata": {
        "colab_type": "text",
        "id": "hh1r-3Ialx19"
      },
      "source": [
        "## Connect to the server and load data\n",
        "\n",
        "Now we're ready to connect to the Spark server. We do that (relying on the constants set above) and then load our labels (loaded into `activity_labels`) and activity data (loaded into `df`). "
      ]
    },
    {
      "cell_type": "code",
      "metadata": {
        "colab_type": "code",
        "id": "e3daglotlx19",
        "colab": {}
      },
      "source": [
        "spark = SparkSession.builder.appName(APP_NAME).master(SPARK_URL).getOrCreate()\n",
        "activity_labels = spark.read.options(inferschema = \"true\").csv(CSV_ACTIVITY_LABEL_PATH)\n",
        "df = spark.read.options(inferschema = \"true\").csv(CSV_PATH)"
      ],
      "execution_count": 0,
      "outputs": []
    },
    {
      "cell_type": "markdown",
      "metadata": {
        "colab_type": "text",
        "id": "c-r3VQzLlx2A"
      },
      "source": [
        "## Validate the data\n",
        "\n",
        "If our data has been properly cleaned and prepared, it will meet the following criteria, which we'll verify in just a moment:\n",
        "\n",
        "* The dataframe shape should be 10,299 rows by 562 columns\n",
        "* All feature columns should be doubles. Note that one of the columns is for our labels and it will not be double.\n",
        "* There should be no nulls. This point is crucial because Spark will fail to build our vector variables for our classifier if there are any null values.\n",
        "\n",
        "Let's confirm these points."
      ]
    },
    {
      "cell_type": "code",
      "metadata": {
        "colab_type": "code",
        "id": "iokDZIFRlx2A",
        "outputId": "6de35fa4-fde0-4b23-c8b5-f907c1d5167b",
        "colab": {
          "base_uri": "https://localhost:8080/",
          "height": 34
        }
      },
      "source": [
        "# Confirm the dataframe shape is 10,299 rows by 562 columns\n",
        "print(f\"Dataset shape is {df.count():d} rows by {len(df.columns):d} columns.\")"
      ],
      "execution_count": 8,
      "outputs": [
        {
          "output_type": "stream",
          "text": [
            "Dataset shape is 10299 rows by 562 columns.\n"
          ],
          "name": "stdout"
        }
      ]
    },
    {
      "cell_type": "code",
      "metadata": {
        "colab_type": "code",
        "id": "Zh9sVIqtlx2E",
        "outputId": "61d48e69-3897-4246-ff6c-3055719e08ec",
        "colab": {
          "base_uri": "https://localhost:8080/",
          "height": 34
        }
      },
      "source": [
        "# Confirm that all feature columns are doubles via a list comprehension\n",
        "# We're expecting 561 of 562 here, accounting for the labels column\n",
        "double_cols = [col[0] for col in df.dtypes if col[1] == 'double']\n",
        "print(f\"{len(double_cols):d} columns out of {len(df.columns):d} total are type double.\")"
      ],
      "execution_count": 9,
      "outputs": [
        {
          "output_type": "stream",
          "text": [
            "561 columns out of 562 total are type double.\n"
          ],
          "name": "stdout"
        }
      ]
    },
    {
      "cell_type": "code",
      "metadata": {
        "colab_type": "code",
        "id": "YEA2XsDtlx2I",
        "outputId": "d6fdad54-a626-4c9e-d143-e5c6c5cbe192",
        "colab": {
          "base_uri": "https://localhost:8080/",
          "height": 34
        }
      },
      "source": [
        "# Confirm there are no null values. We use the dataframe select method to build a \n",
        "# list that is then converted to a Python dict. This way it's easy to sum up the nulls.\n",
        "null_counts = df.select([count(when(isnan(c) | col(c).isNull(), c)).alias(c) \n",
        "                         for c in df.columns]).toPandas().to_dict(orient='records')\n",
        "\n",
        "print(f\"There are {sum(null_counts[0].values()):d} null values in the dataset.\")"
      ],
      "execution_count": 10,
      "outputs": [
        {
          "output_type": "stream",
          "text": [
            "There are 0 null values in the dataset.\n"
          ],
          "name": "stdout"
        }
      ]
    },
    {
      "cell_type": "markdown",
      "metadata": {
        "colab_type": "text",
        "id": "vxdcUvn7lx2L"
      },
      "source": [
        "## Set up and run our classifier in Spark\n",
        "\n",
        "After confirming our data is clean, we're ready to reshape the data and run the random forest model.\n",
        "\n",
        "In Spark, we manipulate the data to work in a Spark pipeline, define each of the steps in the pipeline, chain them together, and finally run the pipeline.\n",
        "\n",
        "Apache Spark classifiers expect 2 columns of input:\n",
        "\n",
        "1. __labels__: an indexed set of numeric variables that represent the classification from the set of features we provide.\n",
        "2. __features__: an indexed, vector variable that contains all of the feature values in each row. \n",
        "\n",
        "In order to do this, we need to create these 2 columns from our dataset - the data is there, but not yet in a format we can use for the classifier.\n",
        "\n",
        "To create the indexed labels column, we'll create a column called `indexedLabel` using the `StringIndexer` method. We use the column `_c0` as the source for our label index since that contains our labels. The column contains only one value per index.\n",
        "    \n",
        "To create the indexed features column, we'll need to do two things. First, we'll create the vector of features using the `VectorAssembler` method. To create this vector, we'll need to use all 561 numeric columns from our data frame. The vector assembler will create a new column called `features`, and each row of this column will contain a 561-element vector that is built from the 561 features in the dataset.\n",
        "\n",
        "Finally, we'll complete the data preparation by creating an indexed vector from the `features` column. We'll call this vector `indexedFeatures`.\n",
        "    \n",
        "Since the classifier expects indexed labels and an indexed vector column of data, we'll use the `indexedLabel` and `indexedFeatures` as inputs to our random forest classifier."
      ]
    },
    {
      "cell_type": "code",
      "metadata": {
        "colab_type": "code",
        "id": "LlRqCnRslx2M",
        "colab": {}
      },
      "source": [
        "# Generate our feature vector.\n",
        "# Note that we're doing the work on the `df` object - we don't create new dataframes, \n",
        "# just add columns to the one we already are using.\n",
        "\n",
        "# the transform method creates the column.\n",
        "\n",
        "df = VectorAssembler(inputCols=double_cols, outputCol=\"features\").transform(df)"
      ],
      "execution_count": 0,
      "outputs": []
    },
    {
      "cell_type": "markdown",
      "metadata": {
        "colab_type": "text",
        "id": "GHNhdDitlx2O"
      },
      "source": [
        "Let's confirm that the features are there. It's easy to do this in Apache Spark using the `select` and `show` methods on the dataframe.  "
      ]
    },
    {
      "cell_type": "code",
      "metadata": {
        "colab_type": "code",
        "id": "cFL8zXBDlx2P",
        "outputId": "0ed51fe2-867d-4401-e380-5120275cf743",
        "colab": {
          "base_uri": "https://localhost:8080/",
          "height": 212
        }
      },
      "source": [
        "df.select(\"_c0\", \"features\").show(5)"
      ],
      "execution_count": 12,
      "outputs": [
        {
          "output_type": "stream",
          "text": [
            "+---+--------------------+\n",
            "|_c0|            features|\n",
            "+---+--------------------+\n",
            "|  5|[0.289,-0.0203,-0...|\n",
            "|  5|[0.278,-0.0164,-0...|\n",
            "|  5|[0.28,-0.0195,-0....|\n",
            "|  5|[0.279,-0.0262,-0...|\n",
            "|  5|[0.277,-0.0166,-0...|\n",
            "+---+--------------------+\n",
            "only showing top 5 rows\n",
            "\n"
          ],
          "name": "stdout"
        }
      ]
    },
    {
      "cell_type": "markdown",
      "metadata": {
        "colab_type": "text",
        "id": "7JuLglvQlx2S"
      },
      "source": [
        "Now we're ready to build the indexers, split our data for training and testing, define our model, and finally chain everything together into a pipeline.\n",
        "\n",
        "__It's important to note that when we execute this cell, we're not actually running our model. At this point, we're only defining its parameters__."
      ]
    },
    {
      "cell_type": "code",
      "metadata": {
        "colab_type": "code",
        "id": "0tMHGAVylx2U",
        "colab": {}
      },
      "source": [
        "# Build the training indexers / split data / classifier\n",
        "# first we'll generate a labelIndexer\n",
        "labelIndexer = StringIndexer(inputCol=\"_c0\", outputCol=\"indexedLabel\").fit(df)\n",
        "\n",
        "# now generate the indexed feature vector\n",
        "featureIndexer = VectorIndexer(inputCol=\"features\", outputCol=\"indexedFeatures\", maxCategories=4).fit(df)\n",
        "    \n",
        "# Split the data into training and validation sets (30% held out for testing)\n",
        "(trainingData, testData) = df.randomSplit([TRAINING_DATA_RATIO, 1 - TRAINING_DATA_RATIO])\n",
        "\n",
        "# Train a RandomForest model.\n",
        "rf = RandomForestClassifier(labelCol=\"indexedLabel\", featuresCol=\"indexedFeatures\", numTrees=RF_NUM_TREES)\n",
        "\n",
        "# Chain indexers and forest in a Pipeline\n",
        "pipeline = Pipeline(stages=[labelIndexer, featureIndexer, rf])"
      ],
      "execution_count": 0,
      "outputs": []
    },
    {
      "cell_type": "markdown",
      "metadata": {
        "colab_type": "text",
        "id": "xBr2bivRlx2W"
      },
      "source": [
        "This next cell runs the pipeline, delivering a trained model at the end of the process."
      ]
    },
    {
      "cell_type": "code",
      "metadata": {
        "colab_type": "code",
        "id": "PVl2IQMolx2X",
        "scrolled": true,
        "colab": {}
      },
      "source": [
        "# Train model.  This also runs the indexers.\n",
        "model = pipeline.fit(trainingData)"
      ],
      "execution_count": 0,
      "outputs": []
    },
    {
      "cell_type": "markdown",
      "metadata": {
        "colab_type": "text",
        "id": "yBOhNbXPlx2Y"
      },
      "source": [
        "It is now easy to test our model and make predictions simply by using the model's `transform` method on the `testData` dataset."
      ]
    },
    {
      "cell_type": "code",
      "metadata": {
        "colab_type": "code",
        "id": "AOpXWFSPlx2Z",
        "colab": {}
      },
      "source": [
        "# Make predictions.\n",
        "predictions = model.transform(testData)"
      ],
      "execution_count": 0,
      "outputs": []
    },
    {
      "cell_type": "markdown",
      "metadata": {
        "colab_type": "text",
        "id": "4ipzFtKllx2c"
      },
      "source": [
        "## Evaluate the model\n",
        "\n",
        "Now we can use the MulticlassClassificationEvaluator to test the model's accuracy."
      ]
    },
    {
      "cell_type": "code",
      "metadata": {
        "colab_type": "code",
        "id": "mBGcd3x_lx2d",
        "outputId": "1d326c18-ee99-4d14-df2d-c5890e0c3616",
        "colab": {
          "base_uri": "https://localhost:8080/",
          "height": 52
        }
      },
      "source": [
        "# Select (prediction, true label) and compute test error\n",
        "evaluator = MulticlassClassificationEvaluator(\n",
        "    labelCol=\"indexedLabel\", predictionCol=\"prediction\", metricName=\"accuracy\")\n",
        "accuracy = evaluator.evaluate(predictions)\n",
        "\n",
        "print(f\"Test Error = {(1.0 - accuracy):g}\")\n",
        "print(f\"Accuracy = {accuracy:g}\")"
      ],
      "execution_count": 16,
      "outputs": [
        {
          "output_type": "stream",
          "text": [
            "Test Error = 0.0778415\n",
            "Accuracy = 0.922159\n"
          ],
          "name": "stdout"
        }
      ]
    },
    {
      "cell_type": "markdown",
      "metadata": {
        "colab_type": "text",
        "id": "pDrdglv-lx2h"
      },
      "source": [
        "## Next Steps\n",
        "\n",
        "We've seen how to prepare data and build a classifier in Spark. You might want to play around with this notebook and learn more about how Spark works. Here are some ideas:\n",
        "\n",
        "- Look at the set of labels, and see if there are any features that would make sense to combine. Spark allows you to map values into a new column.\n",
        "- Identify the most important features among the 561 source features (using PCA or something similar), then reduce the feature set and see if the model performs better.\n",
        "- Modify the settings of the random forest to see if the performance improves.\n",
        "- Use Spark's tools to find other techniques to evaluate the performance of your model. See if you can figure out how to generate an ROC plot, find the AUC value, or plot a confusion matrix."
      ]
    },
    {
      "cell_type": "code",
      "metadata": {
        "id": "qQnICPPL0c5m",
        "colab_type": "code",
        "outputId": "0686d8e0-3ed4-47ad-d15f-053c9ebcfa40",
        "colab": {
          "base_uri": "https://localhost:8080/",
          "height": 212
        }
      },
      "source": [
        "activity_labels.show(5)"
      ],
      "execution_count": 17,
      "outputs": [
        {
          "output_type": "stream",
          "text": [
            "+---+------------------+\n",
            "|_c0|               _c1|\n",
            "+---+------------------+\n",
            "|  1|           WALKING|\n",
            "|  2|  WALKING_UPSTAIRS|\n",
            "|  3|WALKING_DOWNSTAIRS|\n",
            "|  4|           SITTING|\n",
            "|  5|          STANDING|\n",
            "+---+------------------+\n",
            "only showing top 5 rows\n",
            "\n"
          ],
          "name": "stdout"
        }
      ]
    },
    {
      "cell_type": "code",
      "metadata": {
        "id": "a26BoPE006F0",
        "colab_type": "code",
        "colab": {}
      },
      "source": [
        "# let's attempt to reduce the feature set using pca\n",
        "from pyspark.ml.feature import PCA\n",
        "\n",
        "# let's reduce to 100 features and see how the model performs\n",
        "pca = PCA(k=100, inputCol=\"features\", outputCol=\"pcaFeatures\")\n",
        "model = pca.fit(df)\n",
        "df = model.transform(df)\n",
        "\n"
      ],
      "execution_count": 0,
      "outputs": []
    },
    {
      "cell_type": "code",
      "metadata": {
        "id": "wT6DmlvWy4nK",
        "colab_type": "code",
        "colab": {}
      },
      "source": [
        "#df.show(5)\n",
        "#df.select(\"_c0\", \"pcaFeatures\").show(5)"
      ],
      "execution_count": 0,
      "outputs": []
    },
    {
      "cell_type": "code",
      "metadata": {
        "id": "SHg911Jy2PqA",
        "colab_type": "code",
        "colab": {}
      },
      "source": [
        "# Split the data into training and validation sets (30% held out for testing)\n",
        "(trainingData, testData) = df.randomSplit([TRAINING_DATA_RATIO, 1 - TRAINING_DATA_RATIO])"
      ],
      "execution_count": 0,
      "outputs": []
    },
    {
      "cell_type": "code",
      "metadata": {
        "id": "jdmJdG_3oDs4",
        "colab_type": "code",
        "colab": {}
      },
      "source": [
        "# we need to generate the indexed feature vector for the new pca features\n",
        "pcaFeatureIndexer = VectorIndexer(inputCol=\"pcaFeatures\", outputCol=\"indexedPcaFeatures\", maxCategories=4).fit(df)\n",
        "\n",
        "# Train a RandomForest model for pca features\n",
        "rf_pca = RandomForestClassifier(labelCol=\"indexedLabel\", featuresCol=\"indexedPcaFeatures\", numTrees=RF_NUM_TREES)\n",
        "\n",
        "# Chain indexers and forest in a Pipeline\n",
        "pipeline_pca = Pipeline(stages=[labelIndexer, pcaFeatureIndexer, rf_pca])"
      ],
      "execution_count": 0,
      "outputs": []
    },
    {
      "cell_type": "code",
      "metadata": {
        "id": "a7d6bwpmmqXW",
        "colab_type": "code",
        "colab": {}
      },
      "source": [
        "# Train model.  This also runs the indexers.\n",
        "pca_model = pipeline_pca.fit(trainingData)"
      ],
      "execution_count": 0,
      "outputs": []
    },
    {
      "cell_type": "code",
      "metadata": {
        "id": "hk3YPXE0mw7_",
        "colab_type": "code",
        "colab": {}
      },
      "source": [
        "# Make predictions.\n",
        "pca_predictions = pca_model.transform(testData)"
      ],
      "execution_count": 0,
      "outputs": []
    },
    {
      "cell_type": "code",
      "metadata": {
        "id": "MzzVg26pm4Ud",
        "colab_type": "code",
        "outputId": "195258c1-84cc-4a10-ad31-6fadcde40a3d",
        "colab": {
          "base_uri": "https://localhost:8080/",
          "height": 52
        }
      },
      "source": [
        "# Select (prediction, true label) and compute test error\n",
        "evaluator = MulticlassClassificationEvaluator(\n",
        "    labelCol=\"indexedLabel\", predictionCol=\"prediction\", metricName=\"accuracy\")\n",
        "accuracy = evaluator.evaluate(pca_predictions)\n",
        "\n",
        "print(f\"Test Error = {(1.0 - accuracy):g}\")\n",
        "print(f\"Accuracy = {accuracy:g}\")"
      ],
      "execution_count": 24,
      "outputs": [
        {
          "output_type": "stream",
          "text": [
            "Test Error = 0.167736\n",
            "Accuracy = 0.832264\n"
          ],
          "name": "stdout"
        }
      ]
    },
    {
      "cell_type": "markdown",
      "metadata": {
        "id": "JFLSaG5s3pxm",
        "colab_type": "text"
      },
      "source": [
        "Lost about 7% in accuracy but was able to reduce the features set to 100 columns. Worthwhile trade off in most cases, I think."
      ]
    },
    {
      "cell_type": "code",
      "metadata": {
        "id": "53lrcsLp33MO",
        "colab_type": "code",
        "colab": {}
      },
      "source": [
        "RF_NUM_TREES = 100\n",
        "RF_MAX_DEPTH = 7\n",
        "RF_NUM_BINS = 32"
      ],
      "execution_count": 0,
      "outputs": []
    },
    {
      "cell_type": "code",
      "metadata": {
        "id": "O5T-55ef4HiS",
        "colab_type": "code",
        "outputId": "96a24e5f-66b1-4e0e-e628-35f98ef8f0af",
        "colab": {
          "base_uri": "https://localhost:8080/",
          "height": 52
        }
      },
      "source": [
        "# let's play with the rf params to see if we can improve our accuracy\n",
        "rf_pca2 = RandomForestClassifier(labelCol=\"indexedLabel\", featuresCol=\"indexedPcaFeatures\", numTrees=RF_NUM_TREES,\n",
        "                                 maxDepth=RF_MAX_DEPTH)\n",
        "\n",
        "pipeline_pca = Pipeline(stages=[labelIndexer, pcaFeatureIndexer, rf_pca2])\n",
        "\n",
        "pca_model = pipeline_pca.fit(trainingData)\n",
        "\n",
        "pca_predictions = pca_model.transform(testData)\n",
        "\n",
        "evaluator = MulticlassClassificationEvaluator(\n",
        "    labelCol=\"indexedLabel\", predictionCol=\"prediction\", metricName=\"accuracy\")\n",
        "accuracy = evaluator.evaluate(pca_predictions)\n",
        "\n",
        "print(f\"Test Error = {(1.0 - accuracy):g}\")\n",
        "print(f\"Accuracy = {accuracy:g}\")"
      ],
      "execution_count": 26,
      "outputs": [
        {
          "output_type": "stream",
          "text": [
            "Test Error = 0.106561\n",
            "Accuracy = 0.893439\n"
          ],
          "name": "stdout"
        }
      ]
    },
    {
      "cell_type": "code",
      "metadata": {
        "id": "R-eXb3yk7aiN",
        "colab_type": "code",
        "colab": {
          "base_uri": "https://localhost:8080/",
          "height": 52
        },
        "outputId": "2c1dd4e0-1e13-4c91-8a33-f737b9cc504d"
      },
      "source": [
        "# correlation matrix\n",
        "from pyspark.ml.stat import Correlation\n",
        "\n",
        "df_sample = df.sample(0.01)\n",
        "print(df_sample.count())\n",
        "print(len(df_sample.columns))"
      ],
      "execution_count": 31,
      "outputs": [
        {
          "output_type": "stream",
          "text": [
            "93\n",
            "564\n"
          ],
          "name": "stdout"
        }
      ]
    },
    {
      "cell_type": "code",
      "metadata": {
        "id": "gIigbUMcsicF",
        "colab_type": "code",
        "colab": {
          "base_uri": "https://localhost:8080/",
          "height": 232
        },
        "outputId": "35df9c48-0ada-4af9-af30-049caa6b39a5"
      },
      "source": [
        "df_sample.show(5)"
      ],
      "execution_count": 28,
      "outputs": [
        {
          "output_type": "stream",
          "text": [
            "+---+-----+--------+------+------+-------+------+------+-------+-------+------+------+------+------+-------+-----+------+------+------+------+------+------+-------+------+------+-------+------+------+-----+------+------+-------+--------+-------+------+--------+-------+------+------+-------+------+-----+------+-------+------+------+------+------+------+------+-----+------+--------+-----+------+--------+------+-----+------+------+------+------+------+------+------+------+-------+------+-------+------+-------+-------+------+-------+------+-----+------+-----+------+------+-----+-------+-------+--------+------+-------+------+------+-------+------+------+------+------+------+------+-----+------+------+------+------+-------+------+------+------+------+------+------+------+-------+-------+-------+-------+-------+-----+-------+-------+------+------+------+------+-------+-------+-------+------+------+------+------+------+------+------+------+------+------+-----+-----+-----+------+------+------+------+------+------+------+------+-------+------+------+------+-----+------+------+-------+-------+-------+------+------+------+------+-------+------+-------+-------+-------+-------+------+------+------+------+------+------+------+------+------+-----+-----+-----+------+------+------+------+------+------+------+------+------+------+------+-------+-----+-------+------+------+------+-------+------+-------+------+------+-----+-------+------+------+------+------+------+------+------+------+------+------+-------+-------+-------+--------+------+------+------+------+------+------+------+------+------+-------+-------+-------+--------+------+------+------+------+------+------+------+------+------+--------+-------+------+-------+------+------+-------+------+------+------+------+------+------+--------+-------+------+-------+------+------+------+------+------+------+------+------+------+------+--------+-------+------+------+-------+------+------+-------+-------+------+------+------+------+------+-------+------+------+------+------+------+------+------+------+------+------+-----+------+------+------+------+------+-------+-------+------+------+------+------+------+-------+------+------+------+------+------+------+------+------+------+------+------+------+------+------+------+------+------+------+------+------+------+------+------+------+------+------+------+------+------+------+-----+------+------+------+------+------+------+------+------+------+------+------+------+------+------+------+------+-------+------+-------+------+------+------+------+------+------+------+------+------+------+------+------+------+------+------+-----+-----+-----+-----+-----+-----+------+-------+-------+-------+------+-------+------+------+------+------+------+------+------+------+------+------+------+------+------+------+------+------+------+------+------+------+------+------+------+------+------+------+------+------+------+------+------+------+------+------+------+------+------+------+------+------+------+------+------+------+------+------+------+------+------+-------+------+------+------+------+------+------+------+------+------+------+------+------+------+------+------+------+------+------+------+------+------+------+------+-------+------+-------+------+------+------+------+------+------+------+------+------+------+------+------+------+-----+------+------+------+------+------+------+------+------+------+------+------+------+------+------+------+------+------+------+------+------+-----+------+------+------+------+------+------+------+------+------+------+------+------+------+------+------+------+------+------+------+------+------+------+------+------+------+------+------+------+-------+------+------+------+------+------+-----+------+-------+------+------+------+------+------+------+------+------+------+------+------+------+-------+------+------+------+------+------+------+------+------+------+------+------+------+-------+-------+------+-------+------+------+------+------+------+------+--------------------+--------------------+\n",
            "|_c0|  _c1|     _c2|   _c3|   _c4|    _c5|   _c6|   _c7|    _c8|    _c9|  _c10|  _c11|  _c12|  _c13|   _c14| _c15|  _c16|  _c17|  _c18|  _c19|  _c20|  _c21|   _c22|  _c23|  _c24|   _c25|  _c26|  _c27| _c28|  _c29|  _c30|   _c31|    _c32|   _c33|  _c34|    _c35|   _c36|  _c37|  _c38|   _c39|  _c40| _c41|  _c42|   _c43|  _c44|  _c45|  _c46|  _c47|  _c48|  _c49| _c50|  _c51|    _c52| _c53|  _c54|    _c55|  _c56| _c57|  _c58|  _c59|  _c60|  _c61|  _c62|  _c63|  _c64|  _c65|   _c66|  _c67|   _c68|  _c69|   _c70|   _c71|  _c72|   _c73|  _c74| _c75|  _c76| _c77|  _c78|  _c79| _c80|   _c81|   _c82|    _c83|  _c84|   _c85|  _c86|  _c87|   _c88|  _c89|  _c90|  _c91|  _c92|  _c93|  _c94| _c95|  _c96|  _c97|  _c98|  _c99|  _c100| _c101| _c102| _c103| _c104| _c105| _c106| _c107|  _c108|  _c109|  _c110|  _c111|  _c112|_c113|  _c114|  _c115| _c116| _c117| _c118| _c119|  _c120|  _c121|  _c122| _c123| _c124| _c125| _c126| _c127| _c128| _c129| _c130| _c131| _c132|_c133|_c134|_c135| _c136| _c137| _c138| _c139| _c140| _c141| _c142| _c143|  _c144| _c145| _c146| _c147|_c148| _c149| _c150|  _c151|  _c152|  _c153| _c154| _c155| _c156| _c157|  _c158| _c159|  _c160|  _c161|  _c162|  _c163| _c164| _c165| _c166| _c167| _c168| _c169| _c170| _c171| _c172|_c173|_c174|_c175| _c176| _c177| _c178| _c179| _c180| _c181| _c182| _c183| _c184| _c185| _c186|  _c187|_c188|  _c189| _c190| _c191| _c192|  _c193| _c194|  _c195| _c196| _c197|_c198|  _c199| _c200| _c201| _c202| _c203| _c204| _c205| _c206| _c207| _c208| _c209|  _c210|  _c211|  _c212|   _c213| _c214| _c215| _c216| _c217| _c218| _c219| _c220| _c221| _c222|  _c223|  _c224|  _c225|   _c226| _c227| _c228| _c229| _c230| _c231| _c232| _c233| _c234| _c235|   _c236|  _c237| _c238|  _c239| _c240| _c241|  _c242| _c243| _c244| _c245| _c246| _c247| _c248|   _c249|  _c250| _c251|  _c252| _c253| _c254| _c255| _c256| _c257| _c258| _c259| _c260| _c261| _c262|   _c263|  _c264| _c265| _c266|  _c267| _c268| _c269|  _c270|  _c271| _c272| _c273| _c274| _c275| _c276|  _c277| _c278| _c279| _c280| _c281| _c282| _c283| _c284| _c285| _c286| _c287|_c288| _c289| _c290| _c291| _c292| _c293|  _c294|  _c295| _c296| _c297| _c298| _c299| _c300|  _c301| _c302| _c303| _c304| _c305| _c306| _c307| _c308| _c309| _c310| _c311| _c312| _c313| _c314| _c315| _c316| _c317| _c318| _c319| _c320| _c321| _c322| _c323| _c324| _c325| _c326| _c327| _c328| _c329| _c330| _c331|_c332| _c333| _c334| _c335| _c336| _c337| _c338| _c339| _c340| _c341| _c342| _c343| _c344| _c345| _c346| _c347| _c348|  _c349| _c350|  _c351| _c352| _c353| _c354| _c355| _c356| _c357| _c358| _c359| _c360| _c361| _c362| _c363| _c364| _c365| _c366|_c367|_c368|_c369|_c370|_c371|_c372| _c373|  _c374|  _c375|  _c376| _c377|  _c378| _c379| _c380| _c381| _c382| _c383| _c384| _c385| _c386| _c387| _c388| _c389| _c390| _c391| _c392| _c393| _c394| _c395| _c396| _c397| _c398| _c399| _c400| _c401| _c402| _c403| _c404| _c405| _c406| _c407| _c408| _c409| _c410| _c411| _c412| _c413| _c414| _c415| _c416| _c417| _c418| _c419| _c420| _c421| _c422| _c423| _c424| _c425| _c426| _c427|  _c428| _c429| _c430| _c431| _c432| _c433| _c434| _c435| _c436| _c437| _c438| _c439| _c440| _c441| _c442| _c443| _c444| _c445| _c446| _c447| _c448| _c449| _c450| _c451|  _c452| _c453|  _c454| _c455| _c456| _c457| _c458| _c459| _c460| _c461| _c462| _c463| _c464| _c465| _c466| _c467|_c468| _c469| _c470| _c471| _c472| _c473| _c474| _c475| _c476| _c477| _c478| _c479| _c480| _c481| _c482| _c483| _c484| _c485| _c486| _c487| _c488|_c489| _c490| _c491| _c492| _c493| _c494| _c495| _c496| _c497| _c498| _c499| _c500| _c501| _c502| _c503| _c504| _c505| _c506| _c507| _c508| _c509| _c510| _c511| _c512| _c513| _c514| _c515| _c516| _c517|  _c518| _c519| _c520| _c521| _c522| _c523|_c524| _c525|  _c526| _c527| _c528| _c529| _c530| _c531| _c532| _c533| _c534| _c535| _c536| _c537| _c538|  _c539| _c540| _c541| _c542| _c543| _c544| _c545| _c546| _c547| _c548| _c549| _c550| _c551|  _c552|  _c553| _c554|  _c555| _c556| _c557| _c558| _c559| _c560| _c561|            features|         pcaFeatures|\n",
            "+---+-----+--------+------+------+-------+------+------+-------+-------+------+------+------+------+-------+-----+------+------+------+------+------+------+-------+------+------+-------+------+------+-----+------+------+-------+--------+-------+------+--------+-------+------+------+-------+------+-----+------+-------+------+------+------+------+------+------+-----+------+--------+-----+------+--------+------+-----+------+------+------+------+------+------+------+------+-------+------+-------+------+-------+-------+------+-------+------+-----+------+-----+------+------+-----+-------+-------+--------+------+-------+------+------+-------+------+------+------+------+------+------+-----+------+------+------+------+-------+------+------+------+------+------+------+------+-------+-------+-------+-------+-------+-----+-------+-------+------+------+------+------+-------+-------+-------+------+------+------+------+------+------+------+------+------+------+-----+-----+-----+------+------+------+------+------+------+------+------+-------+------+------+------+-----+------+------+-------+-------+-------+------+------+------+------+-------+------+-------+-------+-------+-------+------+------+------+------+------+------+------+------+------+-----+-----+-----+------+------+------+------+------+------+------+------+------+------+------+-------+-----+-------+------+------+------+-------+------+-------+------+------+-----+-------+------+------+------+------+------+------+------+------+------+------+-------+-------+-------+--------+------+------+------+------+------+------+------+------+------+-------+-------+-------+--------+------+------+------+------+------+------+------+------+------+--------+-------+------+-------+------+------+-------+------+------+------+------+------+------+--------+-------+------+-------+------+------+------+------+------+------+------+------+------+------+--------+-------+------+------+-------+------+------+-------+-------+------+------+------+------+------+-------+------+------+------+------+------+------+------+------+------+------+-----+------+------+------+------+------+-------+-------+------+------+------+------+------+-------+------+------+------+------+------+------+------+------+------+------+------+------+------+------+------+------+------+------+------+------+------+------+------+------+------+------+------+------+------+------+-----+------+------+------+------+------+------+------+------+------+------+------+------+------+------+------+------+-------+------+-------+------+------+------+------+------+------+------+------+------+------+------+------+------+------+------+-----+-----+-----+-----+-----+-----+------+-------+-------+-------+------+-------+------+------+------+------+------+------+------+------+------+------+------+------+------+------+------+------+------+------+------+------+------+------+------+------+------+------+------+------+------+------+------+------+------+------+------+------+------+------+------+------+------+------+------+------+------+------+------+------+------+-------+------+------+------+------+------+------+------+------+------+------+------+------+------+------+------+------+------+------+------+------+------+------+------+-------+------+-------+------+------+------+------+------+------+------+------+------+------+------+------+------+-----+------+------+------+------+------+------+------+------+------+------+------+------+------+------+------+------+------+------+------+------+-----+------+------+------+------+------+------+------+------+------+------+------+------+------+------+------+------+------+------+------+------+------+------+------+------+------+------+------+------+-------+------+------+------+------+------+-----+------+-------+------+------+------+------+------+------+------+------+------+------+------+------+-------+------+------+------+------+------+------+------+------+------+------+------+------+-------+-------+------+-------+------+------+------+------+------+------+--------------------+--------------------+\n",
            "|  5|0.278| -0.0143|-0.108|-0.998| -0.994|-0.996|-0.998| -0.994| -0.996|-0.941|-0.573| -0.82| 0.852|  0.695|0.848|-0.998|  -1.0|  -1.0|  -1.0|-0.998|-0.993| -0.994|-0.742|-0.608| -0.625| 0.405|-0.218|0.176| 0.255| 0.294| -0.252|   0.357|-0.0802| 0.405| -0.0904| 0.0351| 0.133|0.0671|-0.0394| 0.206|0.953|-0.263|-0.0125|-0.999|-0.995|-0.997|-0.999|-0.995|-0.997|0.879|-0.282| -0.0201|0.973|-0.234| -0.0104|-0.307|0.872|-0.884|-0.999|-0.999|-0.995|-0.997|  -1.0|  -1.0|  -1.0| -0.304| 0.356| -0.407|  0.46|-0.0625|-0.0216| 0.046|-0.0431|-0.123|0.157|-0.192|0.224|-0.358| 0.878|0.103| 0.0753| 0.0181|-0.00497|-0.996| -0.993|-0.994|-0.996| -0.992|-0.992|-0.996|-0.997|-0.993| 0.997| 0.993|0.995|-0.996|  -1.0|  -1.0|  -1.0| -0.994|-0.992|-0.989|-0.839|-0.871| -0.76| 0.292| 0.033|  0.252|  0.214|  0.257|-0.0641|  0.236|0.738|  0.224|  0.132|0.0576| 0.236|-0.159|  0.24| 0.0995|-0.0298|-0.0787|0.0938|-0.997|-0.998|-0.998|-0.997|-0.998|-0.998|-0.887|-0.958|-0.757|0.845|0.915|0.832|-0.997|  -1.0|  -1.0|  -1.0|-0.998|-0.998|-0.998|-0.744| -0.817|-0.478| 0.262| -0.24|0.392|-0.142|  0.17| -0.171|   0.29| -0.145|  0.47|-0.318| 0.231|-0.139|  0.173|-0.286|-0.0203| -0.097|-0.0394|-0.0552|-0.997|-0.999|-0.996|-0.997|-0.999|-0.996|-0.996|-0.999|-0.996|0.996|0.999|0.998|-0.998|  -1.0|  -1.0|  -1.0|-0.997|-0.999|-0.995|-0.801|-0.866|-0.696| 0.362| -0.174|0.392|  0.228| 0.284|0.0333| 0.413|  0.264| 0.614|-0.0406| 0.483|0.0865|0.176|-0.0452|-0.168|-0.998|-0.998|-0.998|-0.995|-0.996|-0.998|  -1.0|-0.996|-0.893|  0.379| -0.411|  0.842|  -0.881|-0.998|-0.998|-0.998|-0.995|-0.996|-0.998|  -1.0|-0.996|-0.893|  0.379| -0.411|  0.842|  -0.881|-0.995|-0.998|-0.998|-0.997|-0.991|-0.995|  -1.0|-0.999|-0.926|    0.28| -0.346| 0.203| -0.234|-0.997|-0.999| -0.999|-0.999|-0.993|-0.997|  -1.0|-0.999|-0.837|   0.443| -0.428| 0.257| -0.225|-0.998|-0.999|-0.999|-0.999|-0.994|-0.998|  -1.0|-0.999|-0.923| 0.695|  -0.343|-0.0888|-0.439|-0.997| -0.993|-0.994|-0.998| -0.995| -0.997|-0.998|-0.995|-0.995|-0.999|-0.995| -0.998|-0.998|-0.992|-0.997|-0.998|  -1.0|  -1.0|  -1.0|-0.995|-0.997|-0.987| -1.0|  -1.0|  -1.0| -0.29|  -1.0|  -1.0| 0.0903|  0.358| 0.408|-0.599|-0.896| -0.49|-0.821| -0.874|-0.963|  -1.0|  -1.0|  -1.0|  -1.0|  -1.0|  -1.0|  -1.0|  -1.0|  -1.0|  -1.0|  -1.0|  -1.0|  -1.0|  -1.0|  -1.0|  -1.0|  -1.0|  -1.0|  -1.0|  -1.0|  -1.0|  -1.0|  -1.0|  -1.0|  -1.0|  -1.0|  -1.0|  -1.0|  -1.0| -1.0|  -1.0|  -1.0|  -1.0|  -1.0|  -1.0|  -1.0|  -1.0|  -1.0|  -1.0|  -1.0|  -1.0|  -1.0|-0.996|-0.994|-0.992|-0.996| -0.994|-0.994| -0.995|-0.994|-0.993|-0.998|-0.994|-0.997|-0.998|-0.995|-0.997|-0.995|  -1.0|  -1.0|  -1.0|-0.995|-0.997|-0.988| -1.0| -1.0| -1.0|-0.56|-0.44|-0.28| 0.303|  0.146| 0.0878| -0.617|-0.904| -0.478|-0.867|-0.818|-0.973|  -1.0|  -1.0|  -1.0|  -1.0|  -1.0|  -1.0|  -1.0|  -1.0|  -1.0|  -1.0|  -1.0|  -1.0|  -1.0|  -1.0|  -1.0|  -1.0|  -1.0|  -1.0|  -1.0|  -1.0|  -1.0|  -1.0|  -1.0|  -1.0|  -1.0|  -1.0|  -1.0|  -1.0|  -1.0|  -1.0|  -1.0|  -1.0|  -1.0|  -1.0|  -1.0|  -1.0|  -1.0|  -1.0|  -1.0|  -1.0|  -1.0|  -1.0|-0.997|-0.998|-0.997|-0.998| -0.998|-0.999|-0.997|-0.998|-0.998|-0.997|-0.997|-0.999|-0.997|  -1.0|-0.997|-0.998|  -1.0|  -1.0|  -1.0|-0.996|-0.998|-0.996|-0.954|-0.955|  -1.0|  -0.8|  -1.0|-0.172|  0.245| 0.041|  0.538|-0.246|-0.535|-0.244| -0.57|-0.842|-0.974|  -1.0|  -1.0|  -1.0|  -1.0|  -1.0|  -1.0|  -1.0| -1.0|  -1.0|  -1.0|  -1.0|  -1.0|  -1.0|  -1.0|  -1.0|  -1.0|  -1.0|  -1.0|  -1.0|  -1.0|  -1.0|  -1.0|  -1.0|  -1.0|  -1.0|  -1.0|  -1.0|  -1.0| -1.0|  -1.0|  -1.0|  -1.0|  -1.0|  -1.0|  -1.0|  -1.0|  -1.0|  -1.0|  -1.0|  -1.0|  -1.0|  -1.0|-0.997|-0.998|-0.997|-0.999|-0.989|-0.997|  -1.0|-0.998|  -1.0|-0.241| 0.665|-0.833|-0.965|-0.998|-0.995| -0.994|-0.996|-0.988|-0.998|  -1.0|-0.996| -1.0| -0.81|  0.285|-0.485| -0.84|-0.999|-0.999|-0.999|-0.999|-0.999|-0.999|  -1.0|-0.999|  -1.0|-0.897|   0.48|-0.628|-0.853|-0.999|-0.999|-0.999|  -1.0|-0.996|-0.999|  -1.0|-0.998|  -1.0| -0.81|  0.601| -0.834|-0.969|  0.161| 0.198| 0.258|-0.381|-0.761| 0.263|0.0303|[0.278,-0.0143,-0...|[-15.625811560662...|\n",
            "|  4|0.274| -0.0131|-0.105|-0.996| -0.988|-0.988|-0.997| -0.987| -0.988|-0.939| -0.57| -0.82| 0.847|  0.693|0.843|-0.992|  -1.0|  -1.0|  -1.0|-0.997|-0.987| -0.986|-0.734|-0.516| -0.508| 0.246|-0.113|0.255|-0.293|0.0314|  0.045|-0.00869| -0.062|  0.13|-0.00763| -0.101| 0.208|-0.289| -0.206|-0.174|0.874| 0.146|  0.322|-0.996|-0.991| -0.99|-0.996|-0.991| -0.99|0.801| 0.118|   0.312|0.894| 0.168|   0.322| 0.116|0.671|-0.948|-0.803|-0.996|-0.992|-0.989|  -1.0|-0.608|-0.717| -0.238|  0.25| -0.261| 0.273| -0.093|0.00378|0.0282|-0.0337| -0.36| 0.37|-0.379|0.385|-0.954|-0.835|0.654| 0.0782|0.00542| 0.00136|-0.993| -0.994|-0.993|-0.993| -0.992|-0.994|-0.991|-0.998|-0.993| 0.989| 0.994|0.985|-0.995|  -1.0|  -1.0|  -1.0| -0.992|-0.993|-0.996|-0.748|-0.837|-0.854| 0.354| 0.203|  0.516|  0.213| 0.0534|  0.301|   0.11|0.379|-0.0331|  0.175|-0.275| 0.439|0.0239| 0.145| -0.295|-0.0287|-0.0756|0.0849|-0.999|-0.996|-0.989|-0.999|-0.996|-0.989|-0.888|-0.956| -0.75|0.846|0.913|0.824|-0.995|  -1.0|  -1.0|  -1.0|-0.999|-0.995| -0.99| -0.84| -0.599|-0.506| 0.426|-0.328|0.494| -0.24|0.0427| 0.0217| 0.0577|-0.0668| 0.257|-0.238| 0.287|-0.252| -0.344| 0.398| -0.364|-0.0964|-0.0437|-0.0466|-0.998|-0.997|-0.994|-0.998|-0.997|-0.994|-0.998|-0.996|-0.995|0.999|0.999|0.996|-0.998|  -1.0|  -1.0|  -1.0|-0.998|-0.998|-0.992|-0.818|-0.752|-0.612|  0.52| -0.191|0.551|  0.301| 0.123| 0.281| 0.246|  0.344| 0.406|-0.0488| 0.354| 0.335|0.056| 0.0304|-0.287|-0.993|-0.995|-0.995|-0.994|-0.994|-0.993|  -1.0|-0.992|-0.808|   0.32| -0.289| 0.0785|  0.0968|-0.993|-0.995|-0.995|-0.994|-0.994|-0.993|  -1.0|-0.992|-0.808|   0.32| -0.289| 0.0785|  0.0968|-0.995|-0.993|-0.994|-0.993|-0.993|-0.995|  -1.0|-0.994|-0.813|   0.317| -0.323|-0.439|  0.455|-0.995|-0.996| -0.996|-0.997|-0.992|-0.995|  -1.0|-0.996|-0.634|   0.262| -0.289| 0.216| -0.178|-0.997|-0.998|-0.998|-0.997|-0.996|-0.997|  -1.0|-0.998|-0.836| 0.543|  -0.336|  -0.39|  0.11|-0.995| -0.991|-0.991|-0.996| -0.986| -0.987|-0.995|-0.992|-0.989|-0.998|-0.982| -0.985|-0.996|-0.997|-0.998|-0.995|  -1.0|  -1.0|  -1.0|-0.991|-0.996|-0.992| -1.0|-0.945|-0.869|-0.935|  -1.0|  -1.0|0.00398| 0.0843| 0.089|-0.653|-0.944| 0.317| 0.091| -0.442|-0.721|  -1.0|  -1.0|  -1.0|  -1.0|  -1.0|  -1.0|  -1.0|  -1.0|  -1.0|  -1.0|  -1.0|  -1.0|  -1.0|  -1.0|  -1.0|  -1.0|  -1.0|  -1.0|  -1.0|  -1.0|  -1.0|  -1.0|  -1.0|  -1.0|  -1.0|  -1.0|  -1.0|  -1.0|  -1.0| -1.0|  -1.0|  -1.0|  -1.0|  -1.0|  -1.0|  -1.0|  -1.0|  -1.0|  -1.0|  -1.0|  -1.0|  -1.0|-0.994|-0.994|-0.993|-0.992| -0.994|-0.992| -0.991|-0.993|-0.992|-0.992|-0.995|-0.993|-0.997|-0.989|-0.991|-0.995|  -1.0|  -1.0|  -1.0|-0.991|-0.992|-0.988| -1.0| -1.0| -1.0|-0.08| -0.2| -0.4| 0.245|0.00636|-0.0185| -0.167|-0.618| -0.587|-0.952|-0.547|-0.868|  -1.0|  -1.0|  -1.0|  -1.0|  -1.0|  -1.0|  -1.0|  -1.0|  -1.0|  -1.0|  -1.0|  -1.0|  -1.0|  -1.0|  -1.0|  -1.0|  -1.0|  -1.0|  -1.0|  -1.0|  -1.0|  -1.0|  -1.0|  -1.0|  -1.0|  -1.0|  -1.0|  -1.0|  -1.0|  -1.0|  -1.0|  -1.0|  -1.0|  -1.0|  -1.0|  -1.0|  -1.0|  -1.0|  -1.0|  -1.0|  -1.0|  -1.0|-0.998|-0.996|-0.989|-0.999| -0.996| -0.99|-0.998|-0.996|-0.991|-0.999|-0.997|-0.988|-0.998|-0.994|-0.996|-0.996|  -1.0|  -1.0|  -1.0|-0.997|-0.997|-0.991|  -1.0| -0.87|-0.906|-0.933|-0.935|  -1.0|  0.424| 0.151|  0.245|-0.598|-0.868|-0.376|-0.782| 0.294|0.0487|  -1.0|  -1.0|  -1.0|  -1.0|  -1.0|  -1.0|  -1.0| -1.0|  -1.0|  -1.0|  -1.0|  -1.0|  -1.0|  -1.0|  -1.0|  -1.0|  -1.0|  -1.0|  -1.0|  -1.0|  -1.0|  -1.0|  -1.0|  -1.0|  -1.0|  -1.0|  -1.0|  -1.0| -1.0|  -1.0|  -1.0|  -1.0|  -1.0|  -1.0|  -1.0|  -1.0|  -1.0|  -1.0|  -1.0|  -1.0|  -1.0|  -1.0|-0.995|-0.995|-0.994|-0.996|-0.988|-0.995|  -1.0|-0.994|  -1.0|  -1.0| 0.374|-0.558| -0.81|-0.994|-0.991|  -0.99|-0.992|-0.998|-0.994|  -1.0|-0.995| -1.0|-0.937|  0.433|-0.434|-0.777|-0.996|-0.997|-0.996|-0.997|-0.992|-0.996|  -1.0|-0.995|-0.956|-0.744|  0.269|-0.606|-0.852|-0.998|-0.998|-0.997|-0.998|-0.995|-0.998|  -1.0|-0.996|  -1.0|-0.841|   0.52| -0.462| -0.73| 0.0265|-0.287| 0.786|-0.301|-0.645|-0.017|-0.208|[0.274,-0.0131,-0...|[-15.553152387237...|\n",
            "|  1|0.313| -0.0264|-0.131|-0.353|-0.0174|-0.128|-0.395|-0.0544|-0.0958| -0.29|-0.146|-0.193| 0.281|-0.0231|0.399|-0.149|-0.789|-0.813|-0.657|-0.466|-0.354|-0.0769| 0.363| 0.382| 0.0182|-0.354| 0.195|0.184|-0.112|-0.258|  0.313| -0.0604|  0.158|-0.379|   0.289|-0.0651|-0.196|-0.204|-0.0331| 0.347|0.947|-0.262|-0.0202|-0.985|-0.947|-0.837|-0.987|-0.958|-0.842|0.877|-0.274| 0.00891|0.958|-0.265| -0.0661|-0.293|0.856|-0.885|-0.997| -0.99|-0.981|-0.848|  -1.0|  -1.0|-0.698| -0.492| 0.568| -0.643| 0.716| -0.233|  0.249|-0.319|   0.41|-0.687|0.699|-0.711|0.719| 0.712| 0.727|0.645|-0.0944|  0.013|  -0.306|-0.307|-0.0689|-0.606|-0.262|-0.0823|-0.574|-0.623|-0.435|-0.814| 0.164|0.0857|0.437| -0.28|-0.757|-0.562|-0.918| -0.197|-0.331|-0.509| 0.724| 0.651| 0.416|-0.324|0.0711|  0.307|-0.0792| -0.413|  0.377|-0.0753|0.387| -0.324|  0.141|0.0612|-0.237|-0.283|-0.207|  0.667| -0.239| 0.0782|0.0431|-0.465|-0.167|-0.432|-0.475|-0.186|-0.465|-0.528|-0.476|-0.222|0.292|0.581|0.402|-0.215|-0.841|-0.654|-0.849|-0.453| -0.28|-0.631|-0.139| 0.0622| 0.243|-0.462| 0.259|0.425|-0.568|-0.457|  0.463| -0.418|  0.338|-0.326| 0.398|-0.537| 0.665| -0.145| 0.082| 0.0454| 0.0345| -0.346|  0.191|-0.289|-0.498|-0.549|-0.322|-0.521|-0.541|-0.262|-0.481|-0.584|0.313|0.536|0.646|-0.469|-0.745|-0.873|-0.896|-0.455| -0.55|-0.506| 0.644| 0.536| 0.676|-0.225| 0.0269|0.318|  0.325|-0.444| 0.461|-0.172| 0.0664|-0.435|  0.477|-0.461| 0.134|0.584| -0.235|-0.144| -0.17|-0.321|-0.378|-0.277|-0.636| -0.17|-0.649|-0.438| 0.762|-0.0973| 0.0252|  0.031|  0.0432| -0.17|-0.321|-0.378|-0.277|-0.636| -0.17|-0.649|-0.438| 0.762|-0.0973| 0.0252|  0.031|  0.0432|-0.288|-0.274|-0.332|-0.275|-0.343|-0.288|-0.731|-0.416|  0.69| 0.00875|1.22E-4|-0.202|  0.145|-0.215|-0.228| -0.117|-0.398|-0.492|-0.215| -0.66|  -0.1| 0.528|-0.00159|-0.0288|0.0386|-0.0802|-0.464|-0.463|-0.514| -0.44|-0.515|-0.464|-0.849|-0.586| 0.929|-0.065|   0.279| -0.354|-0.176|-0.275|-0.0623|-0.319|-0.387|-0.0559|-0.0984|-0.261|-0.076|-0.186|-0.561|-0.354|-0.0652|-0.398|-0.921|-0.902|-0.115|-0.789|-0.512|-0.611|-0.277|-0.368|-0.593| 0.53| 0.531| 0.382|-0.806|-0.333|-0.923| -0.249|0.00134|-0.227|-0.338|-0.755|-0.355|-0.734|-0.0782|-0.381|-0.837|-0.736|-0.761| -0.76|-0.924|-0.816|-0.915| -0.92|-0.792|-0.723|-0.884|-0.917| -0.79|-0.773|-0.735|-0.445|-0.806| -0.75|-0.789|-0.879|-0.885|-0.998|-0.511| -0.74|  -0.8|-0.929|-0.519|-0.752| -0.58|-0.85|-0.903|-0.964|-0.979|-0.934|-0.906|-0.882|-0.616|-0.925|-0.965|-0.898|-0.609|-0.964|-0.325|-0.158|-0.563|-0.349|-0.0328|-0.648| -0.184|-0.112|-0.589| -0.42|-0.108|-0.751|-0.661|-0.773|-0.883| -0.24|-0.756|-0.562|-0.918|-0.147|-0.359|-0.526|0.572|0.593|0.272|-0.52| -0.6|-0.44|-0.333| -0.401| -0.419| -0.239|-0.665|-0.0895|-0.596|-0.633|-0.946|-0.865|-0.744|-0.801|-0.816|-0.953| -0.82|-0.927|-0.961|-0.776|-0.761|-0.895| -0.92|-0.744|-0.794|-0.814|-0.481|-0.755|-0.732|-0.803|-0.847|-0.864| -0.99|-0.486|-0.695|-0.774| -0.88|-0.518|-0.745|-0.854| -0.87|-0.925|-0.952|-0.975|-0.941|-0.944|-0.991|-0.837|-0.938|-0.963|-0.946|-0.876|-0.956|-0.328|-0.258|-0.356|-0.509| -0.122| -0.51|-0.349|-0.311|-0.384|-0.543|-0.159|-0.704|-0.933|-0.459|-0.441|-0.259|-0.856|-0.652|-0.837|-0.334| -0.41|-0.538| 0.587| 0.651| 0.374|-0.333|-0.935|-0.586|-0.0703|-0.113|-0.0205|-0.342|-0.684|0.0391|-0.343|-0.411|-0.781|-0.942|-0.433|-0.869|-0.951|-0.965|-0.908|-0.958|-0.96|-0.862|-0.875|-0.939|-0.959|-0.858|-0.947| -0.51|-0.949| -0.93|-0.917|-0.931|-0.928|-0.888| -0.88|-0.637|-0.909| -0.93|-0.869|-0.629|-0.914|-0.87|-0.913|-0.956|-0.957|-0.946|-0.912|-0.896|-0.908|-0.847|-0.938|-0.937|-0.901|-0.842|-0.951|-0.259|-0.464|-0.262|-0.662| -0.92|-0.259|-0.765|  -0.4| 0.445|-0.931|0.0241|-0.642|-0.884|-0.216| -0.36| -0.241| -0.51|-0.018|-0.216|-0.731|-0.294|0.336|-0.905| 0.0157|-0.366|-0.737|-0.309|-0.305|-0.222| -0.38|-0.892|-0.309|  -0.7|-0.223| 0.643|-0.846|-0.0389|-0.344|-0.674|-0.473|-0.488| -0.43|-0.536|-0.403|-0.473|-0.855|-0.408| 0.484|-0.905|-0.0209| -0.201|-0.595| -0.516| 0.462| 0.922|-0.367| -0.76| 0.263|0.0357|[0.313,-0.0264,-0...|[-3.6432431112789...|\n",
            "|  1| 0.24|-0.00971|-0.122|-0.371| -0.072|-0.302|-0.439|  -0.14| -0.312|-0.193| -0.17|-0.237|0.0946|  0.145|0.374|-0.248|  -0.8|-0.833|-0.778|-0.537| -0.53| -0.356| 0.236| 0.465|-0.0845|-0.438|  0.45|-0.18|0.0451|0.0221|-0.0697|   0.443| -0.176| -0.64|   0.694| -0.773|  0.34|-0.222| -0.133| 0.276|0.952|-0.248|-0.0176|-0.993|-0.975|-0.972|-0.994|-0.974|-0.973| 0.88| -0.26| -0.0193|0.969|-0.222| -0.0228|-0.338|0.869|-0.898|-0.999|-0.995|-0.972|-0.978|  -1.0|  -1.0|  -1.0|-0.0615| 0.156| -0.242| 0.319|-0.0162|  0.071|-0.194|   0.34| -0.36|0.383|-0.403|0.419|-0.444|-0.371|0.226|  0.218|  0.213| -0.0286|-0.206| -0.136|-0.618|-0.196| -0.139|  -0.6|-0.381|-0.443|-0.801|-0.104| 0.379|0.627|-0.275|-0.682|-0.622|-0.923|-0.0945|-0.337|-0.627| 0.779|  0.69| 0.403| -0.42| 0.415|0.00192|  0.121|-0.0657| -0.111|   0.27|0.565| -0.691|  0.689|-0.581|0.0499|-0.263|-0.088|  0.314|-0.0214| -0.125| 0.113|-0.563|-0.098|-0.354|  -0.6|-0.146|-0.354|-0.554| -0.36|-0.401|0.405| 0.49|0.315|-0.233|-0.913|-0.598|-0.806|-0.632|-0.287|-0.372| 0.336|-0.0688|  0.45|-0.302| 0.178|0.437|-0.423|-0.297|  0.265|-0.0757| 0.0771|-0.241| 0.233| -0.15|  0.27|-0.0374|0.0287| 0.0337| -0.151|  0.165| 0.0441|-0.359|-0.399|-0.463|-0.398|-0.428|-0.456|-0.348|-0.288|-0.486|0.497|0.659|0.673|-0.425|-0.793|-0.819|-0.853|-0.555|-0.456|-0.466| 0.653| 0.508|  0.58|-0.159|-0.0491|0.479|  0.182|-0.243| 0.254| 0.124|-0.0263|-0.212| 0.0722| 0.183|-0.328|0.536| -0.381|-0.189| -0.25|-0.307|-0.363|-0.338|-0.669| -0.25|-0.701|-0.376| 0.776|-0.0381|-0.0147|-0.0298|   0.173| -0.25|-0.307|-0.363|-0.338|-0.669| -0.25|-0.701|-0.376| 0.776|-0.0381|-0.0147|-0.0298|   0.173|-0.276|-0.208|-0.254| -0.14|-0.686|-0.276| -0.71|-0.437| 0.741|-0.00206| 1.4E-4|-0.142| 0.0818|-0.246|-0.199|-0.0955|-0.356|-0.488|-0.246|-0.674|-0.108| 0.596|  0.0512|-0.0371|-0.019|-0.0323|-0.412|-0.405| -0.46|-0.304|-0.589|-0.412|-0.817|-0.406| 0.915| 0.251|-0.00483| -0.124|-0.363|-0.281|-0.0795|-0.421| -0.41| -0.127| -0.293|-0.238|-0.083|-0.325|-0.662|-0.452| -0.337|-0.814|-0.443|-0.959|-0.158|  -0.8|-0.564|-0.749|-0.178|-0.184|-0.531|0.692| 0.413|   0.3|-0.742|-0.333|-0.923|  -0.31|  0.126|-0.326|-0.487|-0.872|-0.406|-0.783| -0.276|-0.584|-0.857|-0.804| -0.41|-0.893|-0.853|-0.911|-0.955|-0.988|-0.828|-0.461|-0.875|-0.966|-0.798|-0.863|-0.735|-0.536|-0.831|-0.904|-0.765|-0.735|-0.724|-0.867|-0.559|-0.809|-0.726|-0.775|-0.567|-0.844|-0.748|-0.87|-0.933|-0.939|-0.979|-0.982| -0.98|-0.998|-0.757|-0.935|-0.978|-0.985|-0.751| -0.95|-0.265|-0.196|  -0.6|-0.215| -0.126|-0.634|-0.0984|-0.217|-0.579|-0.256|-0.224|  -0.7| -0.72|-0.871| -0.95|-0.238|-0.682|-0.622|-0.923|-0.282|-0.385|-0.532|0.593| 0.55|0.259|-0.32| -0.4|-0.52|-0.323| -0.287| -0.609|-0.0273|-0.485| -0.105|-0.606|-0.529|-0.884|-0.882|-0.772|-0.478|-0.876|-0.847|-0.902|-0.926|-0.986|-0.801|-0.532|-0.857|-0.925| -0.64|-0.812|  -0.8|-0.542|-0.786|-0.909|-0.782|-0.692|-0.783|-0.924|-0.537|-0.801|-0.691|-0.801|-0.569|-0.824| -0.89|-0.872|-0.934|-0.937|-0.978|-0.983|-0.971|-0.999|-0.851|-0.936|-0.978|-0.972|-0.889|-0.953|-0.464|-0.172|-0.299|-0.595|-0.0613|-0.432|-0.475|-0.216|-0.301|-0.624|-0.235|-0.582|-0.993| -0.84|-0.936|-0.256|-0.904|-0.592|-0.789|-0.412|-0.367|-0.418| 0.573| 0.713| 0.493|-0.333|-0.935|-0.586| -0.112|-0.107|-0.0907|-0.289| -0.64|-0.106|-0.523|-0.343|-0.692|-0.967|-0.598|-0.864|-0.978|-0.956|-0.979|-0.948| -1.0| -0.91|-0.882|-0.961|-0.971|-0.905|-0.973|-0.467|-0.938|-0.865|-0.904|-0.952|-0.873|-0.824|-0.858|-0.601|-0.844|-0.935|-0.815|-0.564|-0.907|-0.83|-0.898|-0.934|-0.918|-0.963|-0.941|-0.915|-0.977|-0.804|-0.897|-0.957|-0.942|-0.796| -0.93|-0.241|-0.455|-0.313|-0.648|-0.792|-0.241|-0.755| -0.46| 0.503|-0.931| 0.127|-0.552|-0.837|-0.216|-0.202|-0.0992|-0.407|-0.899|-0.216| -0.68|-0.254|0.389|-0.905|-0.0562|-0.229| -0.65|-0.224|-0.321|-0.223|-0.438|-0.561|-0.224|-0.678|-0.196| 0.649|-0.795|  0.106|-0.418|-0.721|-0.413|-0.438|-0.371|-0.535|-0.488|-0.413|-0.822|  -0.4| 0.525|-0.905| 0.0782| -0.285|-0.696|  0.659|-0.367|-0.275| 0.293|-0.775| 0.253|0.0339|[0.24,-0.00971,-0...|[-3.7945467039602...|\n",
            "|  5|0.278| -0.0171|-0.125|-0.994| -0.987|-0.982|-0.996| -0.988| -0.981|-0.935| -0.57|-0.825|  0.84|  0.687|0.828|-0.988|  -1.0|  -1.0|-0.999|-0.997|-0.992| -0.982| -0.59|-0.641| -0.813| 0.188|0.0195|0.139|-0.321| 0.346| -0.179|  0.0935|  0.146| 0.218|  -0.201|  0.287|-0.325| 0.163|  0.231| 0.159|0.925|-0.345|0.00302|-0.994|-0.986| -0.97|-0.995|-0.987|-0.969|0.854|-0.355|-9.66E-4|0.945|-0.315|-0.00215|-0.178|0.799|-0.794|  -1.0|-0.996|-0.994|-0.968|-0.743|  -1.0|-0.776|-0.0833|0.0884|-0.0938|0.0995| -0.553|  0.511|-0.496|  0.495|-0.406|0.411|-0.416|0.419| 0.981| 0.625|0.491| 0.0776|  0.025| 0.00163|-0.988| -0.987|-0.989|-0.991| -0.984|-0.989|-0.983|-0.992|-0.993| 0.974| 0.996| 0.98| -0.99|  -1.0|  -1.0|  -1.0| -0.993|-0.983|-0.988|-0.709|-0.706|-0.738| 0.268| 0.352|  0.525|  0.112|  0.264|  0.147|  0.118|0.537|  0.242|-0.0182| 0.109| 0.501|-0.216| 0.355|-0.0538|-0.0315|-0.0757|0.0785| -0.99|-0.986|-0.993|-0.991|-0.988|-0.994|-0.882|-0.947|-0.753|0.834|0.905|0.822|-0.989|  -1.0|  -1.0|  -1.0|-0.993|-0.991|-0.996|-0.624| -0.381|-0.823|-0.119|0.0501|0.216|-0.198|0.0879|-0.0813|  0.204| -0.013| 0.301|-0.328| 0.479|-0.328|  0.179| 0.103| -0.323|-0.0979| -0.029|-0.0577|-0.993| -0.99|-0.994|-0.993|-0.994|-0.994|-0.994|-0.987|-0.991|0.987|0.985|0.995|-0.995|  -1.0|  -1.0|  -1.0|-0.994|-0.997|-0.995|-0.642|-0.569|-0.676|0.0529|-0.0548|0.354|-0.0661| 0.128| 0.146| 0.191|  0.536| 0.474| -0.236| 0.525| 0.239|0.546| 0.0459|0.0638|-0.987|-0.985|-0.986|-0.983|-0.994|-0.987|  -1.0|-0.985|-0.583|  0.128| -0.146|  0.117|-7.15E-4|-0.987|-0.985|-0.986|-0.983|-0.994|-0.987|  -1.0|-0.985|-0.583|  0.128| -0.146|  0.117|-7.15E-4| -0.99|-0.988| -0.99|-0.984| -0.99| -0.99|  -1.0|-0.994|-0.801|    0.34| -0.161|-0.302|0.00882|-0.989|-0.986| -0.985|-0.987|-0.997|-0.989|  -1.0|-0.989|-0.254|   0.594| -0.698| 0.514| -0.246|-0.994|-0.989|-0.992|-0.985|-0.988|-0.994|  -1.0|-0.997|-0.656| 0.391|  -0.374|  0.166| -0.23|-0.992| -0.982|-0.986|-0.995|  -0.99|  -0.98|-0.993|-0.989|-0.982|-0.997| -0.99| -0.977|-0.996|-0.976|-0.998|-0.989|  -1.0|  -1.0|  -1.0|-0.989|-0.986|-0.985| -1.0|-0.945| -0.81|-0.935|-0.933|  -1.0| 0.0609|  0.497|0.0214|-0.666|-0.946|-0.487|-0.765| -0.352|-0.615|  -1.0|  -1.0|  -1.0|  -1.0|  -1.0|  -1.0|  -1.0|  -1.0|  -1.0|  -1.0|  -1.0|  -1.0|  -1.0|  -1.0|  -1.0|  -1.0|  -1.0|  -1.0|-0.999|-0.999|-0.999|  -1.0|  -1.0|  -1.0|-0.999|  -1.0|  -1.0|  -1.0|  -1.0| -1.0|  -1.0|  -1.0|  -1.0|  -1.0|  -1.0|  -1.0|  -1.0|  -1.0|  -1.0|  -1.0|  -1.0|  -1.0| -0.99|-0.986|-0.989|-0.988| -0.989|-0.988| -0.987|-0.989|-0.987| -0.99|-0.991|-0.988|-0.997|-0.995|-0.996|-0.989|  -1.0|  -1.0|  -1.0| -0.99|-0.992| -0.99| -1.0| -1.0| -1.0|-0.16|-0.08|-0.24| 0.228|  0.223|-0.0118| -0.225|-0.713| -0.637|-0.934|-0.445|-0.832|  -1.0|  -1.0|  -1.0|  -1.0|  -1.0|  -1.0|  -1.0|  -1.0|  -1.0|  -1.0|  -1.0|  -1.0|  -1.0|  -1.0|  -1.0|  -1.0|  -1.0|  -1.0|-0.999|-0.999|  -1.0|  -1.0|  -1.0|  -1.0|-0.999|  -1.0|  -1.0|  -1.0|  -1.0|  -1.0|  -1.0|  -1.0|  -1.0|  -1.0|-0.999|  -1.0|  -1.0|  -1.0|  -1.0|-0.999|  -1.0|  -1.0|-0.989|-0.984|-0.992| -0.99| -0.988|-0.994| -0.99|-0.988|-0.993|-0.987|-0.989|-0.995|  -1.0|-0.976| -0.99|-0.988|  -1.0|  -1.0|  -1.0| -0.99|-0.985|-0.992|-0.777|-0.616|-0.889|-0.933|  -1.0|-0.862| -0.218| 0.221|  0.267| 0.125|-0.145|-0.379| -0.72|-0.384|-0.692|  -1.0|  -1.0|  -1.0|  -1.0|  -1.0|  -1.0|  -1.0| -1.0|  -1.0|  -1.0|  -1.0|  -1.0|  -1.0|  -1.0|  -1.0|  -1.0|  -1.0|  -1.0|  -1.0|  -1.0|  -1.0|  -1.0|  -1.0|  -1.0|  -1.0|  -1.0|  -1.0|  -1.0| -1.0|  -1.0|  -1.0|  -1.0|  -1.0|  -1.0|  -1.0|  -1.0|  -1.0|  -1.0|  -1.0|  -1.0|  -1.0|  -1.0|-0.985|-0.986|-0.984| -0.99| -0.99|-0.985|  -1.0|-0.993|-0.844|  -1.0| 0.187|-0.504|-0.811|-0.987|-0.987| -0.985|-0.987|-0.992|-0.987|  -1.0|-0.987| -1.0|  -1.0|  0.287|-0.322|-0.661|-0.988|-0.986|-0.989|-0.984|-0.984|-0.988|  -1.0|-0.994|-0.822|  -1.0|  0.131|0.0841| -0.28| -0.99|-0.988|-0.988|-0.988|-0.987| -0.99|  -1.0|-0.991|-0.871|  -1.0|  -0.11|-0.0103|-0.467|-0.0134|  0.09| 0.464| 0.178| -0.68| 0.319|0.0196|[0.278,-0.0171,-0...|[-15.094997671037...|\n",
            "+---+-----+--------+------+------+-------+------+------+-------+-------+------+------+------+------+-------+-----+------+------+------+------+------+------+-------+------+------+-------+------+------+-----+------+------+-------+--------+-------+------+--------+-------+------+------+-------+------+-----+------+-------+------+------+------+------+------+------+-----+------+--------+-----+------+--------+------+-----+------+------+------+------+------+------+------+------+-------+------+-------+------+-------+-------+------+-------+------+-----+------+-----+------+------+-----+-------+-------+--------+------+-------+------+------+-------+------+------+------+------+------+------+-----+------+------+------+------+-------+------+------+------+------+------+------+------+-------+-------+-------+-------+-------+-----+-------+-------+------+------+------+------+-------+-------+-------+------+------+------+------+------+------+------+------+------+------+-----+-----+-----+------+------+------+------+------+------+------+------+-------+------+------+------+-----+------+------+-------+-------+-------+------+------+------+------+-------+------+-------+-------+-------+-------+------+------+------+------+------+------+------+------+------+-----+-----+-----+------+------+------+------+------+------+------+------+------+------+------+-------+-----+-------+------+------+------+-------+------+-------+------+------+-----+-------+------+------+------+------+------+------+------+------+------+------+-------+-------+-------+--------+------+------+------+------+------+------+------+------+------+-------+-------+-------+--------+------+------+------+------+------+------+------+------+------+--------+-------+------+-------+------+------+-------+------+------+------+------+------+------+--------+-------+------+-------+------+------+------+------+------+------+------+------+------+------+--------+-------+------+------+-------+------+------+-------+-------+------+------+------+------+------+-------+------+------+------+------+------+------+------+------+------+------+-----+------+------+------+------+------+-------+-------+------+------+------+------+------+-------+------+------+------+------+------+------+------+------+------+------+------+------+------+------+------+------+------+------+------+------+------+------+------+------+------+------+------+------+------+------+-----+------+------+------+------+------+------+------+------+------+------+------+------+------+------+------+------+-------+------+-------+------+------+------+------+------+------+------+------+------+------+------+------+------+------+------+-----+-----+-----+-----+-----+-----+------+-------+-------+-------+------+-------+------+------+------+------+------+------+------+------+------+------+------+------+------+------+------+------+------+------+------+------+------+------+------+------+------+------+------+------+------+------+------+------+------+------+------+------+------+------+------+------+------+------+------+------+------+------+------+------+------+-------+------+------+------+------+------+------+------+------+------+------+------+------+------+------+------+------+------+------+------+------+------+------+------+-------+------+-------+------+------+------+------+------+------+------+------+------+------+------+------+------+-----+------+------+------+------+------+------+------+------+------+------+------+------+------+------+------+------+------+------+------+------+-----+------+------+------+------+------+------+------+------+------+------+------+------+------+------+------+------+------+------+------+------+------+------+------+------+------+------+------+------+-------+------+------+------+------+------+-----+------+-------+------+------+------+------+------+------+------+------+------+------+------+------+-------+------+------+------+------+------+------+------+------+------+------+------+------+-------+-------+------+-------+------+------+------+------+------+------+--------------------+--------------------+\n",
            "only showing top 5 rows\n",
            "\n"
          ],
          "name": "stdout"
        }
      ]
    },
    {
      "cell_type": "code",
      "metadata": {
        "id": "iOQs2WdkslYu",
        "colab_type": "code",
        "colab": {}
      },
      "source": [
        ""
      ],
      "execution_count": 0,
      "outputs": []
    }
  ]
}